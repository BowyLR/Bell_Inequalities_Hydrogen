{
 "cells": [
  {
   "cell_type": "code",
   "execution_count": 4,
   "metadata": {},
   "outputs": [],
   "source": [
    "# Importing packages\r\n",
    "import numpy as np\r\n",
    "import sympy\r\n",
    "from matplotlib import pyplot as plt\r\n",
    "import random \r\n",
    "\r\n",
    "# Defining sympy printing\r\n",
    "sympy.init_printing( True )\r\n"
   ]
  },
  {
   "cell_type": "code",
   "execution_count": 42,
   "metadata": {},
   "outputs": [],
   "source": [
    "# Defining the variables x_i, y_i, u_i and v_i\r\n",
    "x_0, y_0, v_0, u_0 = sympy.symbols(('x_0', 'y_0', 'v_0', 'u_0'))\r\n",
    "x_1, y_1, v_1, u_1 = sympy.symbols(('x_1', 'y_1', 'v_1', 'u_1'))\r\n",
    "\r\n",
    "# Defining coefficients C_ij\r\n",
    "C_00, C_01, C_10, C_11 = sympy.symbols(('C_00', 'C_01', 'C_10', 'C_11'))\r\n",
    "\r\n",
    "# Defining equations\r\n",
    "eq1 = sympy.Eq(C_00*x_0*u_0 + C_01*x_0*u_1 + C_10*x_1*u_0 + C_11*x_1*u_1, 1)\r\n",
    "eq2 = sympy.Eq(C_00*y_0*u_0 + C_01*y_0*u_1 + C_10*y_1*u_0 + C_11*y_1*u_1, 0)\r\n",
    "eq3 = sympy.Eq(C_00*x_0*v_0 + C_01*x_0*v_1 + C_10*x_1*v_0 + C_11*x_1*v_1, 0)\r\n",
    "eq4 = sympy.Eq(C_00*y_0*v_0 + C_01*y_0*v_1 + C_10*y_1*v_0 + C_11*y_1*v_1, 1)\r\n",
    "\r\n",
    "# Adding constraints for the variables x_i, y_i, u_i, v-i\r\n",
    "con_xy_0 = sympy.Eq(x_0**2 + y_0**2, 1)\r\n",
    "con_xy_1 = sympy.Eq(x_1**2 + y_1**2, 1)\r\n",
    "con_uv_0 = sympy.Eq(u_0**2 + v_0**2, 1)\r\n",
    "con_uv_1 = sympy.Eq(u_1**2 + v_1**2, 1)\r\n",
    "\r\n",
    "# Creating arrays of the equations, constraints and hyperplanes\r\n",
    "eqs = [eq1, eq2, eq3, eq4]\r\n",
    "constraints = [con_xy_0, con_xy_1, con_uv_0, con_uv_1]\r\n",
    "variables = [C_00, C_01, C_10, C_11, x_0, y_0, u_0, v_0, x_1, y_1, u_1, v_1]\r\n",
    "\r\n",
    "# Initializing empty array\r\n",
    "h_plane = []\r\n",
    "\r\n",
    "# creating N amount of hyperplanes, where N is te number of variables\r\n",
    "for i in range(len(variables)):\r\n",
    "    # Initializing random array\r\n",
    "    rand_array = np.random.rand(len(variables)+1)\r\n",
    "\r\n",
    "    # Creating summation of the variables\r\n",
    "    summation = 0\r\n",
    "    indices = [j for j in range(len(variables))]\r\n",
    "    random.shuffle(indices)\r\n",
    "    for j in indices[:-1]:\r\n",
    "        summation += rand_array[j]*variables[j]\r\n",
    "\r\n",
    "    # Adding hyperplane to the h_plane array\r\n",
    "    h_plane.append(sympy.Eq(summation, rand_array[-1]))\r\n",
    "\r\n"
   ]
  },
  {
   "cell_type": "code",
   "execution_count": 58,
   "metadata": {},
   "outputs": [],
   "source": [
    "# Solving set of equations\r\n",
    "# ans = sympy.solve([*eqs, *cons, *h_plane], [*variables])\r\n",
    "ans = sympy.solve([eqs[0], *constraints], *[x_0, u_0, x_1, u_1])"
   ]
  },
  {
   "cell_type": "code",
   "execution_count": 60,
   "metadata": {},
   "outputs": [],
   "source": [
    "# calculating the Groebner basis\r\n",
    "G = sympy.groebner([*eqs, *constraints], *variables)"
   ]
  },
  {
   "cell_type": "code",
   "execution_count": 71,
   "metadata": {},
   "outputs": [
    {
     "data": {
      "image/png": "[encoded data removed]",
      "text/latex": [
       "$\\displaystyle C_{00} + C_{01} u_{0} u_{1} + C_{01} v_{0} v_{1} + C_{10} x_{0} x_{1} + C_{10} y_{0} y_{1} + C_{11} u_{0} u_{1} x_{0} x_{1} + C_{11} u_{0} u_{1} y_{0} y_{1} + C_{11} v_{0} v_{1} x_{0} x_{1} + C_{11} v_{0} v_{1} y_{0} y_{1} - u_{0} x_{0} - v_{0} y_{0}$"
      ],
      "text/plain": [
       "C₀₀ + C₀₁⋅u₀⋅u₁ + C₀₁⋅v₀⋅v₁ + C₁₀⋅x₀⋅x₁ + C₁₀⋅y₀⋅y₁ + C₁₁⋅u₀⋅u₁⋅x₀⋅x₁ + C₁₁⋅u₀\n",
       "⋅u₁⋅y₀⋅y₁ + C₁₁⋅v₀⋅v₁⋅x₀⋅x₁ + C₁₁⋅v₀⋅v₁⋅y₀⋅y₁ - u₀⋅x₀ - v₀⋅y₀"
      ]
     },
     "execution_count": 71,
     "metadata": {},
     "output_type": "execute_result"
    }
   ],
   "source": [
    "# Printing parts of the Groebner basis to see if we can solve it for one of the variables\r\n",
    "# print(G[0], '\\n')\r\n",
    "# print(G[2])\r\n"
   ]
  },
  {
   "cell_type": "code",
   "execution_count": 86,
   "metadata": {},
   "outputs": [],
   "source": [
    "S = sympy.solve([*eqs, *constraints], [C_00, C_01, C_10, C_11, x_0, y_0])"
   ]
  },
  {
   "cell_type": "code",
   "execution_count": 91,
   "metadata": {},
   "outputs": [],
   "source": [
    "S = sympy.solve([*G, h_plane[0]], [x_0])"
   ]
  },
  {
   "cell_type": "code",
   "execution_count": 90,
   "metadata": {},
   "outputs": [
    {
     "data": {
      "image/png": "[encoded data removed]",
      "text/latex": [
       "$\\displaystyle \\left[ \\right]$"
      ],
      "text/plain": [
       "[]"
      ]
     },
     "execution_count": 90,
     "metadata": {},
     "output_type": "execute_result"
    }
   ],
   "source": [
    "S"
   ]
  }
 ],
 "metadata": {
  "interpreter": {
   "hash": "1b723dd016906aac291855993aa72a6783f7b35f6642170f34231be1a212bf8d"
  },
  "kernelspec": {
   "display_name": "Python 3.7.4 64-bit ('base': conda)",
   "name": "python3"
  },
  "language_info": {
   "codemirror_mode": {
    "name": "ipython",
    "version": 3
   },
   "file_extension": ".py",
   "mimetype": "text/x-python",
   "name": "python",
   "nbconvert_exporter": "python",
   "pygments_lexer": "ipython3",
   "version": "3.7.4"
  },
  "orig_nbformat": 4
 },
 "nbformat": 4,
 "nbformat_minor": 2
}