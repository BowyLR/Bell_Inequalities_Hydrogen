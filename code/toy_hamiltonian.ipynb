{
 "cells": [
  {
   "cell_type": "code",
   "execution_count": 2,
   "source": [
    "# Importing packages\r\n",
    "import numpy as np\r\n",
    "from tqdm import tqdm\r\n",
    "import itertools\r\n",
    "import matplotlib.pyplot as plt\r\n",
    "from scipy.optimize import minimize, basinhopping\r\n",
    "\r\n",
    "# Importing Pauli matrices\r\n",
    "from pauli_matrices.pauli_matrices import I, X, Y, Z\r\n",
    "\r\n",
    "# Importing figure properties\r\n",
    "from figure_test_files.figure_properties import *\r\n",
    "\r\n",
    "# Importing functions\r\n",
    "from Bell_operator.Bell_operator import get_Bell_terms\r\n",
    "from Bell_operator.coefficients import get_coefficients\r\n",
    "from classical_optimization.classical_optimization import classical_optimization\r\n",
    "from correlation_matrix.correlation_matrix import get_correlation_matrix\r\n",
    "\r\n",
    "# Defining saving directory\r\n",
    "save_dir = '../data/figures/'\r\n"
   ],
   "outputs": [],
   "metadata": {}
  },
  {
   "cell_type": "code",
   "execution_count": 3,
   "source": [
    "def calc_classical_bound(theta, H, N, m, basis, extra_Z_gate):\r\n",
    "\r\n",
    "    # Obtaining the general correlation matrix\r\n",
    "    M = get_correlation_matrix(theta, N, m, basis=basis, extra_Z_gate=extra_Z_gate)\r\n",
    "\r\n",
    "    # Calcuating a list containing all the possible matrices from kronecker products of the observables in the correlation matrix\r\n",
    "    Bell_terms, indices = get_Bell_terms(M, N, m)\r\n",
    "\r\n",
    "    # Calculating the coefficients\r\n",
    "    coeffs = get_coefficients(Bell_terms, H, N)\r\n",
    "\r\n",
    "    # Calculating and returning the classical bound \r\n",
    "    return classical_optimization(coeffs, indices, N, m)\r\n"
   ],
   "outputs": [],
   "metadata": {}
  },
  {
   "cell_type": "code",
   "execution_count": 4,
   "source": [
    "# Defining the number of qubits\r\n",
    "N = 2\r\n",
    "\r\n",
    "# Defining the Hamiltonian\r\n",
    "H = np.sqrt(2)*(np.kron(Z, Z) + np.kron(X, X))\r\n",
    "\r\n",
    "# Calculating the eigenvalues and eigenstates\r\n",
    "eig_vals, eig_vecs = np.linalg.eigh(H)\r\n",
    "\r\n",
    "# extracting the ground state energy and the respective eigenstate\r\n",
    "psi_G = eig_vecs[:,0]\r\n",
    "psi_G_dagger = np.conjugate(np.transpose(psi_G))"
   ],
   "outputs": [],
   "metadata": {}
  },
  {
   "cell_type": "code",
   "execution_count": 5,
   "source": [
    "# Defining number of measurements and the angle between the two parties\r\n",
    "m = 2\r\n",
    "theta = np.pi/2\r\n",
    "\r\n",
    "# Obtaining the general correlation matrix\r\n",
    "M = get_correlation_matrix(theta, N, m, basis='XZ', extra_Z_gate=False)\r\n",
    "\r\n",
    "# Calcuating a list containing all the possible matrices from kronecker products of the observables in the correlation matrix\r\n",
    "Bell_terms, indices = get_Bell_terms(M, N, m)\r\n",
    "\r\n",
    "# Calculating the coefficients\r\n",
    "coeffs = get_coefficients(Bell_terms, H, N)\r\n",
    "\r\n",
    "# Calculating the classical bound\r\n",
    "beta_C = classical_optimization(coeffs, indices, N, m)\r\n",
    "beta_C\r\n"
   ],
   "outputs": [
    {
     "output_type": "execute_result",
     "data": {
      "text/plain": [
       "-2.8284271247461903"
      ]
     },
     "metadata": {},
     "execution_count": 5
    }
   ],
   "metadata": {}
  },
  {
   "cell_type": "code",
   "execution_count": 6,
   "source": [
    "# Initializing the Bell operator\r\n",
    "B = np.zeros((2**N, 2**N), dtype='complex128')\r\n",
    "\r\n",
    "# Adding terms to the Bell operator\r\n",
    "for j in range(len(coeffs)):\r\n",
    "    B += coeffs[j]*Bell_terms[j]\r\n",
    "\r\n",
    "# Calculating the difference between the Bell operator and the Hamiltonian\r\n",
    "# print(np.sum(np.abs(B-H), axis=(0,1)))\r\n",
    "\r\n",
    "# Calculting the quantum value\r\n",
    "beta_Q = np.matmul(psi_G_dagger, np.matmul(B, psi_G))\r\n",
    "np.real(beta_Q)"
   ],
   "outputs": [
    {
     "output_type": "execute_result",
     "data": {
      "text/plain": [
       "-2.82842712474619"
      ]
     },
     "metadata": {},
     "execution_count": 6
    }
   ],
   "metadata": {}
  },
  {
   "cell_type": "code",
   "execution_count": 7,
   "source": [
    "# Defining the number of measurements\r\n",
    "m = 2\r\n",
    "\r\n",
    "# Defining angles\r\n",
    "angles = np.linspace(0, 2*np.pi, 1000)\r\n",
    "\r\n",
    "# Initializing classical bound\r\n",
    "beta_C = []\r\n",
    "\r\n",
    "# Calculating classical bounds\r\n",
    "for theta in tqdm(angles):\r\n",
    "\r\n",
    "    # Obtaining the classical bound with the recursive algorithm\r\n",
    "    beta_C.append( calc_classical_bound(theta, H, N, m, 'XZ', False) )\r\n"
   ],
   "outputs": [
    {
     "output_type": "stream",
     "name": "stderr",
     "text": [
      "100%|██████████| 1000/1000 [00:08<00:00, 111.66it/s]\n"
     ]
    }
   ],
   "metadata": {}
  },
  {
   "cell_type": "code",
   "execution_count": 8,
   "source": [
    "fig, ax = plt.subplots()\r\n",
    "ax.plot(angles, beta_C)\r\n",
    "ax.set_xlabel(r'$\\theta$')\r\n",
    "ax.set_ylabel(r'$\\beta_C$')\r\n",
    "ax.set_xticks([0, np.pi/2, np.pi, 3*np.pi/2, 2*np.pi])\r\n",
    "ax.set_xticklabels(['0', r'$\\frac{\\pi}{2}$', r'$\\pi$', r'$\\frac{3 \\pi}{2}$', r'$2\\pi$'])\r\n",
    "# fig.savefig(save_dir + 'classical_bound_toy_model_varying_basis.png', dpi = 300, bbox_inches='tight');"
   ],
   "outputs": [
    {
     "output_type": "execute_result",
     "data": {
      "text/plain": [
       "[Text(0.0, 0, '0'),\n",
       " Text(1.5707963267948966, 0, '$\\\\frac{\\\\pi}{2}$'),\n",
       " Text(3.141592653589793, 0, '$\\\\pi$'),\n",
       " Text(4.71238898038469, 0, '$\\\\frac{3 \\\\pi}{2}$'),\n",
       " Text(6.283185307179586, 0, '$2\\\\pi$')]"
      ]
     },
     "metadata": {},
     "execution_count": 8
    },
    {
     "output_type": "display_data",
     "data": {
      "text/plain": [
       "<Figure size 432x288 with 1 Axes>"
      ],
      "image/svg+xml": "<?xml version=\"1.0\" encoding=\"utf-8\" standalone=\"no\"?>\r\n<!DOCTYPE svg PUBLIC \"-//W3C//DTD SVG 1.1//EN\"\r\n  \"http://www.w3.org/Graphics/SVG/1.1/DTD/svg11.dtd\">\r\n<!-- Created with matplotlib (https://matplotlib.org/) -->\r\n<svg height=\"265.761947pt\" version=\"1.1\" viewBox=\"0 0 391.748396 265.761947\" width=\"391.748396pt\" xmlns=\"http://www.w3.org/2000/svg\" xmlns:xlink=\"http://www.w3.org/1999/xlink\">\r\n <metadata>\r\n  <rdf:RDF xmlns:cc=\"http://creativecommons.org/ns#\" xmlns:dc=\"http://purl.org/dc/elements/1.1/\" xmlns:rdf=\"http://www.w3.org/1999/02/22-rdf-syntax-ns#\">\r\n   <cc:Work>\r\n    <dc:type rdf:resource=\"http://purl.org/dc/dcmitype/StillImage\"/>\r\n    <dc:date>2021-08-10T09:59:11.686325</dc:date>\r\n    <dc:format>image/svg+xml</dc:format>\r\n    <dc:creator>\r\n     <cc:Agent>\r\n      <dc:title>Matplotlib v3.3.4, https://matplotlib.org/</dc:title>\r\n     </cc:Agent>\r\n    </dc:creator>\r\n   </cc:Work>\r\n  </rdf:RDF>\r\n </metadata>\r\n <defs>\r\n  <style type=\"text/css\">*{stroke-linecap:butt;stroke-linejoin:round;}</style>\r\n </defs>\r\n <g id=\"figure_1\">\r\n  <g id=\"patch_1\">\r\n   <path d=\"M 0 265.761947 \r\nL 391.748396 265.761947 \r\nL 391.748396 0 \r\nL 0 0 \r\nz\r\n\" style=\"fill:none;\"/>\r\n  </g>\r\n  <g id=\"axes_1\">\r\n   <g id=\"patch_2\">\r\n    <path d=\"M 49.748396 224.64 \r\nL 384.548396 224.64 \r\nL 384.548396 7.2 \r\nL 49.748396 7.2 \r\nz\r\n\" style=\"fill:#ffffff;\"/>\r\n   </g>\r\n   <g id=\"matplotlib.axis_1\">\r\n    <g id=\"xtick_1\">\r\n     <g id=\"line2d_1\">\r\n      <defs>\r\n       <path d=\"M 0 0 \r\nL 0 3.5 \r\n\" id=\"mdef227adef\" style=\"stroke:#000000;stroke-width:0.8;\"/>\r\n      </defs>\r\n      <g>\r\n       <use style=\"stroke:#000000;stroke-width:0.8;\" x=\"64.966578\" xlink:href=\"#mdef227adef\" y=\"224.64\"/>\r\n      </g>\r\n     </g>\r\n     <g id=\"text_1\">\r\n      <!-- 0 -->\r\n      <g transform=\"translate(62.47591 238.558498)scale(0.1 -0.1)\">\r\n       <defs>\r\n        <path d=\"M 43.09375 32.390625 \r\nC 43.09375 38.109375 43 48.75 38.90625 56.984375 \r\nC 34.796875 64.890625 28.203125 67 23.5 67 \r\nC 16.703125 67 10.90625 62.984375 7.90625 56.578125 \r\nC 4.703125 49.859375 3.796875 42.9375 3.796875 32.390625 \r\nC 3.796875 25.171875 4.09375 16.34375 7.703125 8.609375 \r\nC 11.796875 0.09375 18.703125 -2 23.40625 -2 \r\nC 29.59375 -2 35.59375 1.296875 39 8.203125 \r\nC 42.5 15.4375 43.09375 23.359375 43.09375 32.390625 \r\nz\r\nM 23.40625 4.09375 \r\nC 15.796875 4.09375 13.5 12.828125 12.796875 15.734375 \r\nC 11.59375 20.75 11.40625 25.5625 11.40625 33.5 \r\nC 11.40625 39.71875 11.40625 46.75 13.296875 52.265625 \r\nC 15.59375 58.6875 19.59375 60.890625 23.40625 60.890625 \r\nC 30.796875 60.890625 33.203125 53.46875 34 50.859375 \r\nC 35.5 45.546875 35.5 39.3125 35.5 33.5 \r\nC 35.5 24.15625 35.5 4.09375 23.40625 4.09375 \r\nz\r\n\" id=\"CMSS17-48\"/>\r\n       </defs>\r\n       <use transform=\"scale(0.996264)\" xlink:href=\"#CMSS17-48\"/>\r\n      </g>\r\n     </g>\r\n    </g>\r\n    <g id=\"xtick_2\">\r\n     <g id=\"line2d_2\">\r\n      <g>\r\n       <use style=\"stroke:#000000;stroke-width:0.8;\" x=\"141.057487\" xlink:href=\"#mdef227adef\" y=\"224.64\"/>\r\n      </g>\r\n     </g>\r\n     <g id=\"text_2\">\r\n      <!-- $\\frac{\\pi}{2}$ -->\r\n      <g transform=\"translate(138.602954 238.565233)scale(0.1 -0.1)\">\r\n       <defs>\r\n        <path d=\"M 25.90625 37.59375 \r\nL 37.203125 37.59375 \r\nC 34.5 26.421875 32.796875 19.140625 32.796875 11.171875 \r\nC 32.796875 9.765625 32.796875 -1 36.90625 -1 \r\nC 39 -1 40.796875 0.890625 40.796875 2.59375 \r\nC 40.796875 3.09375 40.796875 3.28125 40.09375 4.78125 \r\nC 37.40625 11.65625 37.40625 20.234375 37.40625 20.9375 \r\nC 37.40625 21.53125 37.40625 28.625 39.5 37.59375 \r\nL 50.703125 37.59375 \r\nC 52 37.59375 55.296875 37.59375 55.296875 40.796875 \r\nC 55.296875 43 53.40625 43 51.59375 43 \r\nL 18.703125 43 \r\nC 16.40625 43 13 43 8.40625 38.09375 \r\nC 5.796875 35.203125 2.59375 29.921875 2.59375 29.3125 \r\nC 2.59375 28.71875 3.09375 28.515625 3.703125 28.515625 \r\nC 4.40625 28.515625 4.5 28.8125 5 29.421875 \r\nC 10.203125 37.59375 15.40625 37.59375 17.90625 37.59375 \r\nL 23.59375 37.59375 \r\nC 21.40625 30.109375 18.90625 21.4375 10.703125 3.984375 \r\nC 9.90625 2.390625 9.90625 2.1875 9.90625 1.59375 \r\nC 9.90625 -0.5 11.703125 -1 12.59375 -1 \r\nC 15.5 -1 16.296875 1.59375 17.5 5.78125 \r\nC 19.09375 10.859375 19.09375 11.0625 20.09375 15.0625 \r\nz\r\n\" id=\"CMMI12-25\"/>\r\n        <path d=\"M 41.703125 15.46875 \r\nL 39.90625 15.46875 \r\nC 38.90625 8.390625 38.09375 7.1875 37.703125 6.59375 \r\nC 37.203125 5.796875 30 5.796875 28.59375 5.796875 \r\nL 9.40625 5.796875 \r\nC 13 9.6875 20 16.765625 28.5 24.9375 \r\nC 34.59375 30.71875 41.703125 37.5 41.703125 47.390625 \r\nC 41.703125 59.1875 32.296875 66 21.796875 66 \r\nC 10.796875 66 4.09375 56.296875 4.09375 47.296875 \r\nC 4.09375 43.390625 7 42.890625 8.203125 42.890625 \r\nC 9.203125 42.890625 12.203125 43.484375 12.203125 46.984375 \r\nC 12.203125 50.09375 9.59375 51 8.203125 51 \r\nC 7.59375 51 7 50.890625 6.59375 50.6875 \r\nC 8.5 59.1875 14.296875 63.390625 20.40625 63.390625 \r\nC 29.09375 63.390625 34.796875 56.5 34.796875 47.390625 \r\nC 34.796875 38.703125 29.703125 31.21875 24 24.734375 \r\nL 4.09375 2.296875 \r\nL 4.09375 0 \r\nL 39.296875 0 \r\nz\r\n\" id=\"CMR17-50\"/>\r\n       </defs>\r\n       <use transform=\"translate(0 39.226102)scale(0.697382)\" xlink:href=\"#CMMI12-25\"/>\r\n       <use transform=\"translate(4.627027 -34.355253)scale(0.697382)\" xlink:href=\"#CMR17-50\"/>\r\n       <path d=\"M 0 22.914133 \r\nL 41.237221 22.914133 \r\nL 41.237221 26.899083 \r\nL 0 26.899083 \r\nL 0 22.914133 \r\nz\r\n\"/>\r\n      </g>\r\n     </g>\r\n    </g>\r\n    <g id=\"xtick_3\">\r\n     <g id=\"line2d_3\">\r\n      <g>\r\n       <use style=\"stroke:#000000;stroke-width:0.8;\" x=\"217.148396\" xlink:href=\"#mdef227adef\" y=\"224.64\"/>\r\n      </g>\r\n     </g>\r\n     <g id=\"text_3\">\r\n      <!-- $\\pi$ -->\r\n      <g transform=\"translate(214.308908 238.558498)scale(0.1 -0.1)\">\r\n       <use transform=\"scale(0.996264)\" xlink:href=\"#CMMI12-25\"/>\r\n      </g>\r\n     </g>\r\n    </g>\r\n    <g id=\"xtick_4\">\r\n     <g id=\"line2d_4\">\r\n      <g>\r\n       <use style=\"stroke:#000000;stroke-width:0.8;\" x=\"293.239305\" xlink:href=\"#mdef227adef\" y=\"224.64\"/>\r\n      </g>\r\n     </g>\r\n     <g id=\"text_4\">\r\n      <!-- $\\frac{3 \\pi}{2}$ -->\r\n      <g transform=\"translate(288.799153 240.056862)scale(0.1 -0.1)\">\r\n       <defs>\r\n        <path d=\"M 22.09375 34 \r\nC 31 34 34.90625 26.140625 34.90625 17.09375 \r\nC 34.90625 5.03125 28.5 0.390625 22.703125 0.390625 \r\nC 17.40625 0.390625 8.796875 3.015625 6.09375 10.796875 \r\nC 6.59375 10.59375 7.09375 10.59375 7.59375 10.59375 \r\nC 10 10.59375 11.796875 12.1875 11.796875 14.796875 \r\nC 11.796875 17.6875 9.59375 19 7.59375 19 \r\nC 5.90625 19 3.296875 18.1875 3.296875 14.484375 \r\nC 3.296875 5.234375 12.296875 -2 22.90625 -2 \r\nC 34 -2 42.5 6.75 42.5 16.984375 \r\nC 42.5 26.84375 34.5 34 25 35.09375 \r\nC 32.59375 36.671875 39.90625 43.375 39.90625 52.390625 \r\nC 39.90625 60.25 32 66 23 66 \r\nC 13.90625 66 5.90625 60.34375 5.90625 52.296875 \r\nC 5.90625 48.796875 8.5 48.1875 9.796875 48.1875 \r\nC 11.90625 48.1875 13.703125 49.484375 13.703125 52.09375 \r\nC 13.703125 54.6875 11.90625 56 9.796875 56 \r\nC 9.40625 56 8.90625 56 8.5 55.796875 \r\nC 11.40625 62.484375 19.296875 63.6875 22.796875 63.6875 \r\nC 26.296875 63.6875 32.90625 61.96875 32.90625 52.296875 \r\nC 32.90625 49.484375 32.5 44.546875 29.09375 40.21875 \r\nC 26.09375 36.390625 22.703125 36.1875 19.40625 35.890625 \r\nC 18.90625 35.890625 16.59375 35.6875 16.203125 35.6875 \r\nC 15.5 35.59375 15.09375 35.5 15.09375 34.796875 \r\nC 15.09375 34.09375 15.203125 34 17.203125 34 \r\nz\r\n\" id=\"CMR17-51\"/>\r\n       </defs>\r\n       <use transform=\"translate(0 39.226102)scale(0.697382)\" xlink:href=\"#CMR17-51\"/>\r\n       <use transform=\"translate(31.983182 39.226102)scale(0.697382)\" xlink:href=\"#CMMI12-25\"/>\r\n       <use transform=\"translate(20.618618 -34.355253)scale(0.697382)\" xlink:href=\"#CMR17-50\"/>\r\n       <path d=\"M 0 22.914133 \r\nL 73.220403 22.914133 \r\nL 73.220403 26.899083 \r\nL 0 26.899083 \r\nL 0 22.914133 \r\nz\r\n\"/>\r\n      </g>\r\n     </g>\r\n    </g>\r\n    <g id=\"xtick_5\">\r\n     <g id=\"line2d_5\">\r\n      <g>\r\n       <use style=\"stroke:#000000;stroke-width:0.8;\" x=\"369.330214\" xlink:href=\"#mdef227adef\" y=\"224.64\"/>\r\n      </g>\r\n     </g>\r\n     <g id=\"text_5\">\r\n      <!-- $2\\pi$ -->\r\n      <g transform=\"translate(364.000059 238.558498)scale(0.1 -0.1)\">\r\n       <use transform=\"scale(0.996264)\" xlink:href=\"#CMR17-50\"/>\r\n       <use transform=\"translate(45.690477 0)scale(0.996264)\" xlink:href=\"#CMMI12-25\"/>\r\n      </g>\r\n     </g>\r\n    </g>\r\n    <g id=\"text_6\">\r\n     <!-- $\\theta$ -->\r\n     <g transform=\"translate(214.30716 256.140485)scale(0.125 -0.125)\">\r\n      <defs>\r\n       <path d=\"M 44.296875 50 \r\nC 44.296875 60.140625 41.09375 70 32.90625 70 \r\nC 18.90625 70 4 40.859375 4 18.984375 \r\nC 4 14.40625 5 -1 15.5 -1 \r\nC 29.09375 -1 44.296875 27.421875 44.296875 50 \r\nz\r\nM 14 36 \r\nC 15.5 41.859375 17.59375 50.203125 21.59375 57.265625 \r\nC 24.90625 63.21875 28.40625 67.984375 32.796875 67.984375 \r\nC 36.09375 67.984375 38.296875 65.203125 38.296875 55.671875 \r\nC 38.296875 52.09375 38 47.125 35.09375 36 \r\nz\r\nM 34.40625 33 \r\nC 31.90625 23.25 29.796875 17 26.203125 10.734375 \r\nC 23.296875 5.65625 19.796875 1 15.59375 1 \r\nC 12.5 1 10 3.375 10 13.21875 \r\nC 10 19.671875 11.59375 26.4375 13.203125 33 \r\nz\r\n\" id=\"CMMI12-18\"/>\r\n      </defs>\r\n      <use transform=\"scale(0.996264)\" xlink:href=\"#CMMI12-18\"/>\r\n     </g>\r\n    </g>\r\n   </g>\r\n   <g id=\"matplotlib.axis_2\">\r\n    <g id=\"ytick_1\">\r\n     <g id=\"line2d_6\">\r\n      <defs>\r\n       <path d=\"M 0 0 \r\nL -3.5 0 \r\n\" id=\"m0c64d9c5fb\" style=\"stroke:#000000;stroke-width:0.8;\"/>\r\n      </defs>\r\n      <g>\r\n       <use style=\"stroke:#000000;stroke-width:0.8;\" x=\"49.748396\" xlink:href=\"#m0c64d9c5fb\" y=\"207.960414\"/>\r\n      </g>\r\n     </g>\r\n     <g id=\"text_7\">\r\n      <!-- $\\mathdefault{−2.8}$ -->\r\n      <g transform=\"translate(22.269573 211.419663)scale(0.1 -0.1)\">\r\n       <defs>\r\n        <path d=\"M 65.90625 23 \r\nC 67.59375 23 69.40625 23 69.40625 25 \r\nC 69.40625 27 67.59375 27 65.90625 27 \r\nL 11.796875 27 \r\nC 10.09375 27 8.296875 27 8.296875 25 \r\nC 8.296875 23 10.09375 23 11.796875 23 \r\nz\r\n\" id=\"CMSY10-0\"/>\r\n        <path d=\"M 18.40625 4.796875 \r\nC 18.40625 7.6875 16 9.6875 13.59375 9.6875 \r\nC 10.703125 9.6875 8.703125 7.296875 8.703125 4.890625 \r\nC 8.703125 2 11.09375 0 13.5 0 \r\nC 16.40625 0 18.40625 2.390625 18.40625 4.796875 \r\nz\r\n\" id=\"CMMI12-58\"/>\r\n        <path d=\"M 27.203125 35.765625 \r\nC 33.5 38.96875 39.90625 43.796875 39.90625 51.53125 \r\nC 39.90625 60.6875 31.09375 66 23 66 \r\nC 13.90625 66 5.90625 59.375 5.90625 50.234375 \r\nC 5.90625 47.71875 6.5 43.390625 10.40625 39.578125 \r\nC 11.40625 38.578125 15.59375 35.5625 18.296875 33.65625 \r\nC 13.796875 31.34375 3.296875 25.8125 3.296875 14.765625 \r\nC 3.296875 4.40625 13.09375 -2 22.796875 -2 \r\nC 33.5 -2 42.5 5.71875 42.5 15.96875 \r\nC 42.5 25.109375 36.40625 29.328125 32.40625 32.046875 \r\nz\r\nM 14.09375 44.609375 \r\nC 13.296875 45.109375 9.296875 48.21875 9.296875 52.9375 \r\nC 9.296875 59.078125 15.59375 63.6875 22.796875 63.6875 \r\nC 30.703125 63.6875 36.5 58.0625 36.5 51.53125 \r\nC 36.5 42.1875 26.09375 36.859375 25.59375 36.859375 \r\nC 25.5 36.859375 25.40625 36.859375 24.59375 37.46875 \r\nz\r\nM 32.5 24 \r\nC 34 22.90625 38.796875 19.578125 38.796875 13.453125 \r\nC 38.796875 6.015625 31.40625 0.390625 23 0.390625 \r\nC 13.90625 0.390625 7 6.921875 7 14.859375 \r\nC 7 22.796875 13.09375 29.4375 20 32.546875 \r\nz\r\n\" id=\"CMR17-56\"/>\r\n       </defs>\r\n       <use transform=\"scale(0.996264)\" xlink:href=\"#CMSY10-0\"/>\r\n       <use transform=\"translate(77.487468 0)scale(0.996264)\" xlink:href=\"#CMR17-50\"/>\r\n       <use transform=\"translate(123.177945 0)scale(0.996264)\" xlink:href=\"#CMMI12-58\"/>\r\n       <use transform=\"translate(150.275122 0)scale(0.996264)\" xlink:href=\"#CMR17-56\"/>\r\n      </g>\r\n     </g>\r\n    </g>\r\n    <g id=\"ytick_2\">\r\n     <g id=\"line2d_7\">\r\n      <g>\r\n       <use style=\"stroke:#000000;stroke-width:0.8;\" x=\"49.748396\" xlink:href=\"#m0c64d9c5fb\" y=\"160.147282\"/>\r\n      </g>\r\n     </g>\r\n     <g id=\"text_8\">\r\n      <!-- $\\mathdefault{−2.6}$ -->\r\n      <g transform=\"translate(22.269573 163.606531)scale(0.1 -0.1)\">\r\n       <defs>\r\n        <path d=\"M 10.59375 34.34375 \r\nC 10.59375 58 21.796875 63.6875 28.296875 63.6875 \r\nC 30.40625 63.6875 35.5 63.265625 37.5 59.09375 \r\nC 35.90625 59.09375 32.90625 59.09375 32.90625 55.59375 \r\nC 32.90625 52.890625 35.09375 52 36.5 52 \r\nC 37.40625 52 40.09375 52.390625 40.09375 55.796875 \r\nC 40.09375 62.296875 35.09375 66 28.203125 66 \r\nC 16.296875 66 3.796875 53.296875 3.796875 31.421875 \r\nC 3.796875 4.015625 15.09375 -2 23.09375 -2 \r\nC 32.796875 -2 42 6.734375 42 20.234375 \r\nC 42 32.828125 33.90625 42 23.703125 42 \r\nC 17.59375 42 13.09375 37.96875 10.59375 30.921875 \r\nz\r\nM 23.09375 0.390625 \r\nC 10.796875 0.390625 10.796875 18.9375 10.796875 22.65625 \r\nC 10.796875 29.90625 14.203125 40.390625 23.5 40.390625 \r\nC 25.203125 40.390625 30.09375 40.390625 33.40625 33.4375 \r\nC 35.203125 29.515625 35.203125 25.375 35.203125 20.34375 \r\nC 35.203125 14.90625 35.203125 10.875 33.09375 6.84375 \r\nC 30.90625 2.703125 27.703125 0.390625 23.09375 0.390625 \r\nz\r\n\" id=\"CMR17-54\"/>\r\n       </defs>\r\n       <use transform=\"scale(0.996264)\" xlink:href=\"#CMSY10-0\"/>\r\n       <use transform=\"translate(77.487468 0)scale(0.996264)\" xlink:href=\"#CMR17-50\"/>\r\n       <use transform=\"translate(123.177945 0)scale(0.996264)\" xlink:href=\"#CMMI12-58\"/>\r\n       <use transform=\"translate(150.275122 0)scale(0.996264)\" xlink:href=\"#CMR17-54\"/>\r\n      </g>\r\n     </g>\r\n    </g>\r\n    <g id=\"ytick_3\">\r\n     <g id=\"line2d_8\">\r\n      <g>\r\n       <use style=\"stroke:#000000;stroke-width:0.8;\" x=\"49.748396\" xlink:href=\"#m0c64d9c5fb\" y=\"112.33415\"/>\r\n      </g>\r\n     </g>\r\n     <g id=\"text_9\">\r\n      <!-- $\\mathdefault{−2.4}$ -->\r\n      <g transform=\"translate(22.269573 115.793399)scale(0.1 -0.1)\">\r\n       <defs>\r\n        <path d=\"M 33.59375 64.796875 \r\nC 33.59375 66.890625 33.5 67 31.703125 67 \r\nL 2 19.59375 \r\nL 2 17 \r\nL 27.796875 17 \r\nL 27.796875 7.1875 \r\nC 27.796875 3.59375 27.59375 2.59375 20.59375 2.59375 \r\nL 18.703125 2.59375 \r\nL 18.703125 0 \r\nC 21.90625 0.1875 27.296875 0.1875 30.703125 0.1875 \r\nC 34.09375 0.1875 39.5 0.1875 42.703125 0 \r\nL 42.703125 2.59375 \r\nL 40.796875 2.59375 \r\nC 33.796875 2.59375 33.59375 3.59375 33.59375 7.1875 \r\nL 33.59375 17 \r\nL 43.796875 17 \r\nL 43.796875 19.59375 \r\nL 33.59375 19.59375 \r\nz\r\nM 28.09375 58.171875 \r\nL 28.09375 19.59375 \r\nL 4 19.59375 \r\nz\r\n\" id=\"CMR17-52\"/>\r\n       </defs>\r\n       <use transform=\"scale(0.996264)\" xlink:href=\"#CMSY10-0\"/>\r\n       <use transform=\"translate(77.487468 0)scale(0.996264)\" xlink:href=\"#CMR17-50\"/>\r\n       <use transform=\"translate(123.177945 0)scale(0.996264)\" xlink:href=\"#CMMI12-58\"/>\r\n       <use transform=\"translate(150.275122 0)scale(0.996264)\" xlink:href=\"#CMR17-52\"/>\r\n      </g>\r\n     </g>\r\n    </g>\r\n    <g id=\"ytick_4\">\r\n     <g id=\"line2d_9\">\r\n      <g>\r\n       <use style=\"stroke:#000000;stroke-width:0.8;\" x=\"49.748396\" xlink:href=\"#m0c64d9c5fb\" y=\"64.521017\"/>\r\n      </g>\r\n     </g>\r\n     <g id=\"text_10\">\r\n      <!-- $\\mathdefault{−2.2}$ -->\r\n      <g transform=\"translate(22.269573 67.980266)scale(0.1 -0.1)\">\r\n       <use transform=\"scale(0.996264)\" xlink:href=\"#CMSY10-0\"/>\r\n       <use transform=\"translate(77.487468 0)scale(0.996264)\" xlink:href=\"#CMR17-50\"/>\r\n       <use transform=\"translate(123.177945 0)scale(0.996264)\" xlink:href=\"#CMMI12-58\"/>\r\n       <use transform=\"translate(150.275122 0)scale(0.996264)\" xlink:href=\"#CMR17-50\"/>\r\n      </g>\r\n     </g>\r\n    </g>\r\n    <g id=\"ytick_5\">\r\n     <g id=\"line2d_10\">\r\n      <g>\r\n       <use style=\"stroke:#000000;stroke-width:0.8;\" x=\"49.748396\" xlink:href=\"#m0c64d9c5fb\" y=\"16.707885\"/>\r\n      </g>\r\n     </g>\r\n     <g id=\"text_11\">\r\n      <!-- $\\mathdefault{−2.0}$ -->\r\n      <g transform=\"translate(22.269573 20.167134)scale(0.1 -0.1)\">\r\n       <defs>\r\n        <path d=\"M 42 31.84375 \r\nC 42 37.96875 41.90625 48.421875 37.703125 56.453125 \r\nC 34 63.484375 28.09375 66 22.90625 66 \r\nC 18.09375 66 12 63.78125 8.203125 56.5625 \r\nC 4.203125 49.015625 3.796875 39.671875 3.796875 31.84375 \r\nC 3.796875 26.109375 3.90625 17.375 7 9.734375 \r\nC 11.296875 -0.609375 19 -2 22.90625 -2 \r\nC 27.5 -2 34.5 -0.109375 38.59375 9.4375 \r\nC 41.59375 16.375 42 24.5 42 31.84375 \r\nz\r\nM 22.90625 -0.40625 \r\nC 16.5 -0.40625 12.703125 5.125 11.296875 12.75 \r\nC 10.203125 18.6875 10.203125 27.328125 10.203125 32.953125 \r\nC 10.203125 40.6875 10.203125 47.109375 11.5 53.234375 \r\nC 13.40625 61.78125 19 64.390625 22.90625 64.390625 \r\nC 27 64.390625 32.296875 61.671875 34.203125 53.4375 \r\nC 35.5 47.71875 35.59375 40.984375 35.59375 32.953125 \r\nC 35.59375 26.421875 35.59375 18.375 34.40625 12.453125 \r\nC 32.296875 1.5 26.40625 -0.40625 22.90625 -0.40625 \r\nz\r\n\" id=\"CMR17-48\"/>\r\n       </defs>\r\n       <use transform=\"scale(0.996264)\" xlink:href=\"#CMSY10-0\"/>\r\n       <use transform=\"translate(77.487468 0)scale(0.996264)\" xlink:href=\"#CMR17-50\"/>\r\n       <use transform=\"translate(123.177945 0)scale(0.996264)\" xlink:href=\"#CMMI12-58\"/>\r\n       <use transform=\"translate(150.275122 0)scale(0.996264)\" xlink:href=\"#CMR17-48\"/>\r\n      </g>\r\n     </g>\r\n    </g>\r\n    <g id=\"text_12\">\r\n     <!-- $\\beta_C$ -->\r\n     <g transform=\"translate(15.848112 122.662561)rotate(-90)scale(0.125 -0.125)\">\r\n      <defs>\r\n       <path d=\"M 56.59375 58.421875 \r\nC 56.59375 64.546875 51.5 71 42.40625 71 \r\nC 29.5 71 21.296875 54.84375 18.703125 44.21875 \r\nL 2.90625 -18 \r\nC 2.703125 -18.8125 3.296875 -19 3.796875 -19 \r\nC 4.5 -19 5 -18.90625 5.09375 -18.40625 \r\nL 12.09375 9.25 \r\nC 13.09375 3.609375 18.59375 -1 24.5 -1 \r\nC 38.796875 -1 52.296875 10.265625 52.296875 25.28125 \r\nC 52.296875 29.109375 51.40625 32.9375 49.296875 36.15625 \r\nC 48.09375 38.078125 46.59375 39.484375 45 40.609375 \r\nC 52.203125 44.109375 56.59375 50.34375 56.59375 58.421875 \r\nz\r\nM 39.203125 40.703125 \r\nC 37.59375 40.171875 36 40 34.09375 40 \r\nC 32.703125 40 31.40625 39.890625 29.59375 40.4375 \r\nC 30.59375 41.046875 32.09375 41.234375 34.203125 41.234375 \r\nC 36 41.234375 37.796875 41.046875 39.203125 40.703125 \r\nz\r\nM 51.40625 59.34375 \r\nC 51.40625 53.71875 48.703125 45.546875 42.203125 41.9375 \r\nC 40.296875 42.546875 37.703125 43 35.5 43 \r\nC 33.40625 43 27.40625 43.203125 27.40625 40.34375 \r\nC 27.40625 37.671875 32.90625 37.96875 34.59375 37.96875 \r\nC 37.203125 37.96875 39.5 38.578125 41.90625 39.28125 \r\nC 45.09375 36.671875 46.5 33.234375 46.5 28.203125 \r\nC 46.5 22.359375 44.90625 17.625 43 13.28125 \r\nC 39.703125 5.828125 31.90625 1 25 1 \r\nC 17.703125 1 13.90625 6.84375 13.90625 13.6875 \r\nC 13.90625 14.59375 13.90625 15.90625 14.296875 17.421875 \r\nL 20.796875 43.5 \r\nC 24.09375 56.890625 32.5 68.953125 42.203125 68.953125 \r\nC 49.40625 68.953125 51.40625 63.84375 51.40625 59.34375 \r\nz\r\n\" id=\"CMMI12-12\"/>\r\n       <path d=\"M 74.703125 69.09375 \r\nC 74.703125 70 74 70 73.796875 70 \r\nC 73.59375 70 73.203125 70 72.40625 68.984375 \r\nL 65.5 60.640625 \r\nC 62 66.59375 56.5 70 49 70 \r\nC 27.40625 70 5 48.234375 5 24.90625 \r\nC 5 8.328125 16.703125 -2 31.296875 -2 \r\nC 39.296875 -2 46.296875 1.390625 52.09375 6.25 \r\nC 60.796875 13.5 63.40625 23.125 63.40625 23.921875 \r\nC 63.40625 24.8125 62.59375 24.8125 62.296875 24.8125 \r\nC 61.40625 24.8125 61.296875 24.21875 61.09375 23.8125 \r\nC 56.5 8.328125 43 0.890625 33 0.890625 \r\nC 22.40625 0.890625 13.203125 7.640625 13.203125 21.734375 \r\nC 13.203125 24.90625 14.203125 42.171875 25.5 55.171875 \r\nC 31 61.53125 40.40625 67.09375 49.90625 67.09375 \r\nC 60.90625 67.09375 65.796875 58.0625 65.796875 47.9375 \r\nC 65.796875 45.359375 65.5 43.171875 65.5 42.765625 \r\nC 65.5 41.875 66.5 41.875 66.796875 41.875 \r\nC 67.90625 41.875 68 41.984375 68.40625 43.765625 \r\nz\r\n\" id=\"CMMI12-67\"/>\r\n      </defs>\r\n      <use transform=\"scale(0.996264)\" xlink:href=\"#CMMI12-12\"/>\r\n      <use transform=\"translate(55.070737 -14.943915)scale(0.697382)\" xlink:href=\"#CMMI12-67\"/>\r\n     </g>\r\n    </g>\r\n   </g>\r\n   <g id=\"line2d_11\">\r\n    <path clip-path=\"url(#p6756e90e8c)\" d=\"M 64.966578 214.756364 \r\nL 65.880583 214.636001 \r\nL 66.794587 214.274957 \r\nL 67.708592 213.67336 \r\nL 68.622597 212.831423 \r\nL 69.84127 211.335511 \r\nL 71.059944 209.413818 \r\nL 72.278617 207.067562 \r\nL 73.49729 204.298227 \r\nL 75.020632 200.244298 \r\nL 76.543973 195.536076 \r\nL 78.067315 190.178215 \r\nL 79.895325 182.898765 \r\nL 81.723334 174.701863 \r\nL 83.856012 163.994899 \r\nL 85.988691 152.075871 \r\nL 88.121369 138.967878 \r\nL 90.558715 122.564133 \r\nL 92.996062 104.682229 \r\nL 95.738076 82.854726 \r\nL 98.480091 59.283736 \r\nL 101.526774 31.140933 \r\nL 103.050116 17.083636 \r\nL 106.401467 48.965682 \r\nL 109.44815 75.834076 \r\nL 112.190165 98.201992 \r\nL 114.93218 118.77726 \r\nL 117.369526 135.508032 \r\nL 119.806872 150.727884 \r\nL 121.939551 162.775446 \r\nL 124.072229 173.613309 \r\nL 126.204907 183.220468 \r\nL 128.032917 190.461458 \r\nL 129.860926 196.774228 \r\nL 131.384268 201.319288 \r\nL 132.90761 205.208991 \r\nL 134.430951 208.439491 \r\nL 135.649624 210.547096 \r\nL 136.868298 212.229419 \r\nL 138.086971 213.485397 \r\nL 139.000976 214.147103 \r\nL 139.914981 214.568301 \r\nL 140.828985 214.748841 \r\nL 141.74299 214.688659 \r\nL 142.656995 214.387777 \r\nL 143.571 213.846301 \r\nL 144.485005 213.064424 \r\nL 145.39901 212.042425 \r\nL 146.617683 210.306878 \r\nL 147.836356 208.146201 \r\nL 149.05503 205.561763 \r\nL 150.578371 201.737818 \r\nL 152.101713 197.258102 \r\nL 153.625054 192.127045 \r\nL 155.453064 185.117195 \r\nL 157.281074 177.186736 \r\nL 159.109084 168.346959 \r\nL 161.241762 156.901473 \r\nL 163.37444 144.257671 \r\nL 165.811786 128.371823 \r\nL 168.249133 110.993118 \r\nL 170.991148 89.712557 \r\nL 173.733162 66.666541 \r\nL 176.779845 39.079236 \r\nL 178.912524 18.583683 \r\nL 179.217192 17.834252 \r\nL 182.568543 49.662449 \r\nL 185.615226 76.47899 \r\nL 188.357241 98.798052 \r\nL 191.099256 119.322556 \r\nL 193.536602 136.006733 \r\nL 195.973949 151.178728 \r\nL 198.106627 163.183475 \r\nL 200.239305 173.977732 \r\nL 202.371983 183.540579 \r\nL 204.199993 190.743089 \r\nL 206.028003 197.016979 \r\nL 207.551344 201.529372 \r\nL 209.074686 205.386201 \r\nL 210.598027 208.583652 \r\nL 211.8167 210.664713 \r\nL 213.035374 212.320418 \r\nL 214.254047 213.54972 \r\nL 215.168052 214.191391 \r\nL 216.082057 214.592539 \r\nL 216.996062 214.75302 \r\nL 217.910067 214.672778 \r\nL 218.824071 214.351841 \r\nL 219.738076 213.790323 \r\nL 220.652081 212.988425 \r\nL 221.870755 211.545807 \r\nL 223.089428 209.677276 \r\nL 224.308101 207.384014 \r\nL 225.526774 204.667473 \r\nL 227.050116 200.679205 \r\nL 228.573457 196.036214 \r\nL 230.096799 190.743089 \r\nL 231.924809 183.540579 \r\nL 233.752818 175.419704 \r\nL 235.885497 164.800137 \r\nL 238.018175 152.966946 \r\nL 240.150853 139.943065 \r\nL 242.588199 123.633122 \r\nL 245.025546 105.842316 \r\nL 247.76756 84.113776 \r\nL 250.509575 60.637715 \r\nL 253.556258 32.595291 \r\nL 255.0796 17.834252 \r\nL 255.384268 18.583683 \r\nL 258.735619 50.357953 \r\nL 261.782302 77.122575 \r\nL 264.524317 99.392727 \r\nL 267.266332 119.866416 \r\nL 269.703678 136.503957 \r\nL 272.141025 151.628057 \r\nL 274.273703 163.589959 \r\nL 276.406381 174.340583 \r\nL 278.539059 183.859094 \r\nL 280.367069 191.023108 \r\nL 282.195079 197.258102 \r\nL 283.71842 201.737818 \r\nL 285.241762 205.561763 \r\nL 286.765103 208.726156 \r\nL 287.983777 210.780668 \r\nL 289.20245 212.409751 \r\nL 290.421123 213.612374 \r\nL 291.335128 214.234009 \r\nL 292.249133 214.615106 \r\nL 293.163138 214.755528 \r\nL 294.077143 214.655225 \r\nL 294.991148 214.314234 \r\nL 295.905153 213.732676 \r\nL 296.819157 212.910757 \r\nL 298.037831 211.441491 \r\nL 299.256504 209.546376 \r\nL 300.475177 207.226615 \r\nL 301.69385 204.483673 \r\nL 303.217192 200.46257 \r\nL 304.740533 195.786957 \r\nL 306.263875 190.461458 \r\nL 308.091885 183.220468 \r\nL 309.919895 175.06157 \r\nL 312.052573 164.398291 \r\nL 314.185251 152.522167 \r\nL 316.317929 139.456214 \r\nL 318.755275 123.09935 \r\nL 321.192622 105.262973 \r\nL 323.934637 83.484924 \r\nL 326.676651 59.96137 \r\nL 329.723334 31.868722 \r\nL 331.246676 17.083636 \r\nL 331.856012 22.312998 \r\nL 335.207364 53.816457 \r\nL 338.254047 80.320492 \r\nL 340.996062 102.345273 \r\nL 343.738076 122.564133 \r\nL 346.175423 138.967878 \r\nL 348.612769 153.851946 \r\nL 350.745447 165.599182 \r\nL 352.878126 176.131246 \r\nL 354.706135 184.176014 \r\nL 356.534145 191.301513 \r\nL 358.362155 197.497596 \r\nL 359.885497 201.944624 \r\nL 361.408838 205.735676 \r\nL 362.93218 208.867004 \r\nL 364.150853 210.894962 \r\nL 365.369526 212.497418 \r\nL 366.588199 213.67336 \r\nL 367.502204 214.274957 \r\nL 368.416209 214.636001 \r\nL 369.330214 214.756364 \r\nL 369.330214 214.756364 \r\n\" style=\"fill:none;stroke:#1f77b4;stroke-linecap:square;stroke-width:1.5;\"/>\r\n   </g>\r\n   <g id=\"patch_3\">\r\n    <path d=\"M 49.748396 224.64 \r\nL 49.748396 7.2 \r\n\" style=\"fill:none;stroke:#000000;stroke-linecap:square;stroke-linejoin:miter;stroke-width:0.8;\"/>\r\n   </g>\r\n   <g id=\"patch_4\">\r\n    <path d=\"M 384.548396 224.64 \r\nL 384.548396 7.2 \r\n\" style=\"fill:none;stroke:#000000;stroke-linecap:square;stroke-linejoin:miter;stroke-width:0.8;\"/>\r\n   </g>\r\n   <g id=\"patch_5\">\r\n    <path d=\"M 49.748396 224.64 \r\nL 384.548396 224.64 \r\n\" style=\"fill:none;stroke:#000000;stroke-linecap:square;stroke-linejoin:miter;stroke-width:0.8;\"/>\r\n   </g>\r\n   <g id=\"patch_6\">\r\n    <path d=\"M 49.748396 7.2 \r\nL 384.548396 7.2 \r\n\" style=\"fill:none;stroke:#000000;stroke-linecap:square;stroke-linejoin:miter;stroke-width:0.8;\"/>\r\n   </g>\r\n  </g>\r\n </g>\r\n <defs>\r\n  <clipPath id=\"p6756e90e8c\">\r\n   <rect height=\"217.44\" width=\"334.8\" x=\"49.748396\" y=\"7.2\"/>\r\n  </clipPath>\r\n </defs>\r\n</svg>\r\n",
      "image/png": "[encoded data removed]"
     },
     "metadata": {
      "needs_background": "light"
     }
    }
   ],
   "metadata": {}
  },
  {
   "cell_type": "code",
   "execution_count": 20,
   "source": [
    "# Defining the number of measurements\r\n",
    "m = 2\r\n",
    "\r\n",
    "# Defining angles\r\n",
    "init_guess = np.pi/3\r\n",
    "\r\n",
    "# Defining bounds for the variables\r\n",
    "bnds = ((0, 2*np.pi),)\r\n",
    "\r\n",
    "# Defining arguments\r\n",
    "basis = 'XZ'\r\n",
    "extra_Z_gate = False\r\n",
    "args = (H, N, m, basis, extra_Z_gate)\r\n",
    "\r\n",
    "# Defining minimization options\r\n",
    "options = {\r\n",
    "        'maxiter'  : 2000,\r\n",
    "        'gtol'     : 1e-12\r\n",
    "}\r\n",
    "\r\n",
    "# Creating the basinhopping algorithm\r\n",
    "minimizer_kwargs = {\r\n",
    "                'method'  : \"L-BFGS-B\",\r\n",
    "                'args'    : args,\r\n",
    "                'jac'     : '2-point',\r\n",
    "                'bounds'  : bnds,\r\n",
    "                'options' : options\r\n",
    "}\r\n",
    "\r\n",
    "res = basinhopping(calc_classical_bound, init_guess,\r\n",
    "                minimizer_kwargs = minimizer_kwargs,\r\n",
    "                niter = 10,\r\n",
    "                disp = False\r\n",
    ")\r\n",
    "\r\n"
   ],
   "outputs": [],
   "metadata": {}
  },
  {
   "cell_type": "code",
   "execution_count": 21,
   "source": [
    "res"
   ],
   "outputs": [
    {
     "output_type": "execute_result",
     "data": {
      "text/plain": [
       "                        fun: -2.828427124746193\n",
       " lowest_optimization_result:       fun: -2.828427124746193\n",
       " hess_inv: <1x1 LbfgsInvHessProduct with dtype=float64>\n",
       "      jac: array([5.69182437e-08])\n",
       "  message: 'CONVERGENCE: REL_REDUCTION_OF_F_<=_FACTR*EPSMCH'\n",
       "     nfev: 10\n",
       "      nit: 3\n",
       "     njev: 5\n",
       "   status: 0\n",
       "  success: True\n",
       "        x: array([1.57079631])\n",
       "                    message: ['requested number of basinhopping iterations completed successfully']\n",
       "      minimization_failures: 1\n",
       "                       nfev: 182\n",
       "                        nit: 10\n",
       "                       njev: 91\n",
       "                          x: array([1.57079631])"
      ]
     },
     "metadata": {},
     "execution_count": 21
    }
   ],
   "metadata": {}
  }
 ],
 "metadata": {
  "interpreter": {
   "hash": "547f72bac979aab6cb8efe81a1a6a3f1c43e51a7273e91a5a5bc0125918566b7"
  },
  "kernelspec": {
   "name": "python3",
   "display_name": "Python 3.8.8 64-bit ('base': conda)"
  },
  "language_info": {
   "name": "python",
   "version": "3.8.8",
   "mimetype": "text/x-python",
   "codemirror_mode": {
    "name": "ipython",
    "version": 3
   },
   "pygments_lexer": "ipython3",
   "nbconvert_exporter": "python",
   "file_extension": ".py"
  },
  "orig_nbformat": 4
 },
 "nbformat": 4,
 "nbformat_minor": 2
}