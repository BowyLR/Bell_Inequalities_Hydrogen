{
 "cells": [
  {
   "cell_type": "code",
   "execution_count": 1,
   "source": [
    "# Importing packages\n",
    "import numpy as np\n",
    "from sympy import solve, symbols, Eq\n",
    "import random \n",
    "\n",
    "# Importing openfermion\n",
    "import openfermion as of\n",
    "from openfermionpyscf import generate_molecular_hamiltonian"
   ],
   "outputs": [
    {
     "output_type": "stream",
     "name": "stderr",
     "text": [
      "/home/bowy/.local/lib/python3.8/site-packages/pyscf/lib/misc.py:46: H5pyDeprecationWarning: Setting h5py.default_file_mode is deprecated. 'r' (read-only) is the default from h5py 3.0.\n  h5py.get_config().default_file_mode = 'r'\n"
     ]
    }
   ],
   "metadata": {}
  },
  {
   "cell_type": "code",
   "execution_count": 2,
   "source": [
    "# Defining Pauli matrices and the identity matrix\n",
    "I = np.array([[1, 0], [0, 1]])\n",
    "X = np.array([[0, 1], [1, 0]])\n",
    "Y = np.array([[0, -1j], [1j, 0]])\n",
    "Z = np.array([[1, 0], [0, -1]])\n",
    "\n",
    "# Defining the Hamiltonian\n",
    "H = np.kron(Z, Z) + np.kron(X, X)\n",
    "\n",
    "# Defining the measurement choices for Alice and Bob\n",
    "A_0 = X\n",
    "A_1 = Z\n",
    "B_0 = 1/np.sqrt(2)*(X+Z)\n",
    "B_1 = 1/np.sqrt(2)*(X-Z)\n",
    "\n",
    "# Defining expansion coefficients C_ij\n",
    "coeffs = [C_00, C_01, C_10, C_11] = symbols(('C_00', 'C_01', 'C_10', 'C_11'))\n",
    "\n",
    "# Defining the Bell operator\n",
    "Bell_operator = coeffs[0]*np.kron(A_0, B_0) + coeffs[1]*np.kron(A_0, B_1) + coeffs[2]*np.kron(A_1, B_0) + coeffs[3]*np.kron(A_1, B_1)\n",
    "\n",
    "# Creating the sytsem of equations\n",
    "Ops = [X, Z]\n",
    "eqs = []\n",
    "for i in range(len(Ops)):\n",
    "    for j in range(len(Ops)):\n",
    "        # Defining the projector operator\n",
    "        Projector = np.kron(Ops[i],Ops[j])\n",
    "\n",
    "        # calculating system of equations\n",
    "        eqs.append( \n",
    "            Eq( \n",
    "                np.trace( np.matmul(Bell_operator, Projector) ), \n",
    "                np.trace( np.matmul(H, Projector) )\n",
    "            ) \n",
    "        )\n",
    "\n",
    "# Solving the system of equations\n",
    "ans = solve(eqs, coeffs)\n",
    "\n",
    "# Substituting the results in the Bell operator\n",
    "Bell_operator = float(ans[C_00])*np.kron(A_0, B_0) + float(ans[C_01])*np.kron(A_0, B_1) + float(ans[C_10])*np.kron(A_1, B_0) + float(ans[C_11])*np.kron(A_1, B_1)\n",
    "\n",
    "# Calculating the eigenvalues and the lowest \n",
    "eig_vals, eig_vecs = np.linalg.eigh(H)\n",
    "\n",
    "# extracting the ground state energy and the respective eigenstate\n",
    "E_G = eig_vals[0]\n",
    "psi_G = eig_vecs[:,0]\n",
    "psi_G_dagger = np.conjugate(np.transpose(psi_G))\n",
    "\n",
    "# Adding the ground state energy to the Bell operator \n",
    "# Bell_operator += -E_G * np.kron(I,I)\n",
    "\n",
    "# Calculating the quantum value\n",
    "beta_Q = np.matmul(psi_G_dagger, np.matmul(Bell_operator, psi_G))\n",
    "\n",
    "# Calculating the classical bound\n",
    "m = [-1, 1]\n",
    "I_Bell = []\n",
    "for A_0 in m:\n",
    "    for A_1 in m:\n",
    "        for B_0 in m:\n",
    "            for B_1 in m:\n",
    "                I_Bell.append( \n",
    "                    float(ans[C_00])*A_0*B_0 + float(ans[C_10])*A_1*B_0 + float(ans[C_01])*A_0*B_1 + float(ans[C_11])*A_1*B_1\n",
    "                 )\n",
    "\n",
    "beta_C = -np.min(I_Bell)\n"
   ],
   "outputs": [],
   "metadata": {}
  },
  {
   "cell_type": "code",
   "execution_count": 23,
   "metadata": {},
   "outputs": [],
   "source": [
    "# Set molecule parameters\n",
    "geometry = [('H', (0.0, 0.0, 0.0)), ('H', (0.0, 0.0, 1.401))]\n",
    "basis = 'sto-3g'\n",
    "multiplicity = 1\n",
    "charge = 0\n",
    "\n",
    "# Perform electronic structure calculations and obtain Hamiltonian as an InteractionOperator\n",
    "hamiltonian = generate_molecular_hamiltonian(\n",
    "    geometry, basis, multiplicity, charge)\n",
    "\n",
    "# Convert to a FermionOperator\n",
    "hamiltonian_ferm_op = of.get_fermion_operator(hamiltonian)\n",
    "\n",
    "# Obtaining the Jordan Wigner or Bravyi Kitaev Hamiltonian\n",
    "qubit_hamiltonian = of.jordan_wigner(hamiltonian_ferm_op)"
   ]
  },
  {
   "cell_type": "code",
   "execution_count": 24,
   "source": [
    "# Initializing the pauli matrices and strings\n",
    "pauli_matrices = [I, X, Y, Z]\n",
    "pauli_strings = ['I', 'X', 'Y', 'Z']\n",
    "\n",
    "# Initializing the hamiltonian\n",
    "N = hamiltonian_pauli.many_body_order()\n",
    "H = np.zeros((2**N, 2**N))\n",
    "\n",
    "# Calculating the Hamiltonian\n",
    "for key in qubit_hamiltonian.terms.keys():\n",
    "    # Initializing the indices\n",
    "    idx = [0, 0, 0, 0]\n",
    "\n",
    "    # Updating the possible indices\n",
    "    for i in range(len(key)):\n",
    "        for j in range(len(pauli_strings)):\n",
    "            if key[i][1] == pauli_strings[j]:\n",
    "                idx[key[i][0]] = j\n",
    "\n",
    "    # Defining the Pauli chain\n",
    "    p_chain = np.kron(np.kron(np.kron(pauli_matrices[idx[0]], pauli_matrices[idx[1]]), pauli_matrices[idx[2]]), pauli_matrices[idx[3]])\n",
    "\n",
    "    # Adding terms to the Hamiltonian\n",
    "    H += np.real( qubit_hamiltonian.terms[key] * np.array(p_chain) )\n"
   ],
   "outputs": [],
   "metadata": {}
  },
  {
   "cell_type": "code",
   "execution_count": 25,
   "source": [
    "w, v = np.linalg.eigh(H)"
   ],
   "outputs": [],
   "metadata": {}
  },
  {
   "cell_type": "code",
   "execution_count": 26,
   "source": [
    "w"
   ],
   "outputs": [
    {
     "output_type": "execute_result",
     "data": {
      "text/plain": [
       "array([-1.01528253, -0.87560215, -0.87560215, -0.87560215, -0.68263525,\n",
       "       -0.68263525, -0.56407284, -0.56407284, -0.42942659, -0.36852269,\n",
       "       -0.36852269, -0.2807903 , -0.2807903 , -0.26965961,  0.17141912,\n",
       "        0.37771393])"
      ]
     },
     "metadata": {},
     "execution_count": 26
    }
   ],
   "metadata": {}
  },
  {
   "cell_type": "code",
   "execution_count": 27,
   "metadata": {},
   "outputs": [
    {
     "output_type": "execute_result",
     "data": {
      "text/plain": [
       "(-0.47400526839102486+0j) [] +\n",
       "(-0.055771945840508375+0j) [X0 X1 Y2 Y3] +\n",
       "(0.055771945840508375+0j) [X0 Y1 Y2 X3] +\n",
       "(0.055771945840508375+0j) [Y0 X1 X2 Y3] +\n",
       "(-0.055771945840508375+0j) [Y0 Y1 X2 X3] +\n",
       "(0.10046123753968506+0j) [Z0] +\n",
       "(0.14117274531209834+0j) [Z0 Z1] +\n",
       "(0.08674372699665778+0j) [Z0 Z2] +\n",
       "(0.14251567283716615+0j) [Z0 Z3] +\n",
       "(0.10046123753968506+0j) [Z1] +\n",
       "(0.14251567283716615+0j) [Z1 Z2] +\n",
       "(0.08674372699665778+0j) [Z1 Z3] +\n",
       "(-0.048887536852096236+0j) [Z2] +\n",
       "(0.14888024846008352+0j) [Z2 Z3] +\n",
       "(-0.048887536852096236+0j) [Z3]"
      ]
     },
     "metadata": {},
     "execution_count": 27
    }
   ],
   "source": [
    "qubit_hamiltonian"
   ]
  }
 ],
 "metadata": {
  "interpreter": {
   "hash": "916dbcbb3f70747c44a77c7bcd40155683ae19c65e1c03b4aa3499c5328201f1"
  },
  "kernelspec": {
   "name": "python3",
   "display_name": "Python 3.8.10 64-bit"
  },
  "language_info": {
   "name": "python",
   "version": "3.8.10"
  },
  "orig_nbformat": 4
 },
 "nbformat": 4,
 "nbformat_minor": 2
}