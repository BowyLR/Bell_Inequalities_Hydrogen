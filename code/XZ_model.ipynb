{
 "cells": [
  {
   "cell_type": "code",
   "execution_count": 1,
   "source": [
    "# Importing packages\r\n",
    "import numpy as np\r\n",
    "from tqdm import tqdm\r\n",
    "import itertools\r\n",
    "from sympy import solve, symbols, cos, sin\r\n",
    "\r\n",
    "# Importing Pauli matrices\r\n",
    "from pauli_matrices.pauli_matrices import I, X, Y, Z\r\n",
    "\r\n",
    "# Importing functions\r\n",
    "from hamiltonian.hamiltonian import get_hamiltonian\r\n",
    "from Bell_operator.Bell_operator import get_Bell_operator\r\n",
    "from Bell_operator.coefficients import get_coefficients, get_system_of_equations\r\n",
    "from classical_optimization.classical_optimization import classical_optimization\r\n",
    "from correlation_matrix.correlation_matrix import get_correlation_matrix"
   ],
   "outputs": [],
   "metadata": {}
  },
  {
   "cell_type": "code",
   "execution_count": 3,
   "source": [
    "# Defining the number of qubits\r\n",
    "N = 2\r\n",
    "\r\n",
    "# Defining the Hamiltonian\r\n",
    "H = np.sqrt(2)*(np.kron(Z, Z) + np.kron(X, X))\r\n",
    "\r\n",
    "# Calculating the eigenvalues and eigenstates\r\n",
    "eig_vals, eig_vecs = np.linalg.eigh(H)\r\n",
    "\r\n",
    "# extracting the ground state energy and the respective eigenstate\r\n",
    "psi_G = eig_vecs[:,0]\r\n",
    "psi_G_dagger = np.conjugate(np.transpose(psi_G))"
   ],
   "outputs": [],
   "metadata": {}
  },
  {
   "cell_type": "code",
   "execution_count": 4,
   "source": [
    "# Defining the number of measurements\r\n",
    "m = 2\r\n",
    "\r\n",
    "# We do need to define some constraints on the measurements.\r\n",
    "# Maybe we can make it so we always have each party have an angle of pi/2 between their measurements\r\n",
    "# This makes it so we only have one effective parameter, the relative angle between the two measurements\r\n",
    "\r\n",
    "# Defining meaurement angles\r\n",
    "# theta = [0, np.pi/40, np.pi/100, -np.pi/100]\r\n",
    "theta = [np.pi/4, -np.pi/2, np.pi/2, -np.pi/4]\r\n",
    "theta = np.reshape(theta, (N, m))\r\n",
    "\r\n",
    "# Obtaining the correlation matrix\r\n",
    "M, variables = get_correlation_matrix(N, m)\r\n",
    "\r\n",
    "# Obtaining the Bell operator in its matrix form and the coefficients as sympy objects\r\n",
    "B, var_dict = get_Bell_operator(M, m, N)\r\n",
    "\r\n",
    "# Obtaining the system of equations and solving them\r\n",
    "var_dict = get_coefficients(B, H, var_dict, N)\r\n",
    "\r\n",
    "# Inserting the angles into the coefficients\r\n",
    "for key in var_dict.keys():\r\n",
    "    for var in variables.keys():\r\n",
    "        if var[0] == 'x':\r\n",
    "            var_dict[key] = var_dict[key].subs( variables[var], np.cos( theta[int(var[3]), int(var[4])] ) )\r\n",
    "        elif var[0] == 'y':\r\n",
    "            var_dict[key] = var_dict[key].subs( variables[var], np.sin( theta[int(var[3]), int(var[4])] ) )\r\n",
    "\r\n",
    "# Obtaining the classical bound with the recursive algorithm\r\n",
    "beta_C = classical_optimization(var_dict, N, m)\r\n",
    "beta_C"
   ],
   "outputs": [
    {
     "output_type": "execute_result",
     "data": {
      "text/plain": [
       "-6.82842712474619"
      ],
      "text/latex": [
       "$\\displaystyle -6.82842712474619$"
      ]
     },
     "metadata": {},
     "execution_count": 4
    }
   ],
   "metadata": {}
  },
  {
   "cell_type": "code",
   "execution_count": 348,
   "source": [
    "var_dict"
   ],
   "outputs": [
    {
     "output_type": "execute_result",
     "data": {
      "text/plain": [
       "{'c_{00}': 0.0,\n",
       " 'c_{01}': 0.0,\n",
       " 'c_{02}': 0.0,\n",
       " 'c_{10}': 0.0,\n",
       " 'c_{11}': 7071.30351883998,\n",
       " 'c_{12}': -7071.30351883998,\n",
       " 'c_{20}': 0.0,\n",
       " 'c_{21}': -7070.24281447240,\n",
       " 'c_{22}': 7071.65709874840}"
      ]
     },
     "metadata": {},
     "execution_count": 348
    }
   ],
   "metadata": {}
  },
  {
   "cell_type": "code",
   "execution_count": 315,
   "source": [
    "# Defining the number of measurements\r\n",
    "m = 2\r\n",
    "\r\n",
    "# Defining meaurement angles\r\n",
    "theta = [0, np.pi/2, np.pi/6, -np.pi/8]\r\n",
    "theta = np.reshape(theta, (N, m))\r\n",
    "\r\n",
    "# Defining measurement angles\r\n",
    "indices = list(itertools.product([i for i in range(m)], repeat=N))\r\n",
    "\r\n",
    "# Obtaining variables in front of the coefficients\r\n",
    "variables = {}\r\n",
    "for idx in indices:\r\n",
    "\r\n",
    "    # Obtaining the variable indices\r\n",
    "    lower_string = ''\r\n",
    "\r\n",
    "    for j in idx:\r\n",
    "        lower_string += str(j)\r\n",
    "\r\n",
    "    # Finilizing the variable\r\n",
    "    var_name = 'theta_{' + lower_string + '}'\r\n",
    "    variables[var_name] = symbols(var_name)\r\n",
    "\r\n",
    "# Initializing the correlation matrix\r\n",
    "M = [ [ [] for _ in range(m+1) ] for _ in range(N) ]\r\n",
    "\r\n",
    "# Computing its elements\r\n",
    "for i in range(N):\r\n",
    "    for j in range(m+1):\r\n",
    "        if j == 0:\r\n",
    "            M[i][j] = I\r\n",
    "        else:\r\n",
    "            M[i][j] = cos(variables['theta_{'+str(i)+str(j-1)+'}'])*X + sin(variables['theta_{'+str(i)+str(j-1)+'}'])*Z\r\n",
    "\r\n",
    "# Converting the correlation matrix to a numpy array\r\n",
    "M = np.array(M)\r\n",
    "\r\n",
    "# Obtaining the Bell operator in its matrix form and the coefficients as sympy objects\r\n",
    "B, var_dict = get_Bell_operator(M, m, N)\r\n",
    "\r\n",
    "# Obtaining the system of equations and solving them\r\n",
    "var_dict = get_coefficients(B, H, var_dict, N)\r\n",
    "\r\n",
    "# Inserting the angles into the coefficients\r\n",
    "for key in var_dict.keys():\r\n",
    "    for var in variables.keys():\r\n",
    "        var_dict[key] = var_dict[key].subs( variables[var], theta[int(var[-3]), int(var[-2])] ) \r\n",
    "\r\n",
    "# Obtaining the classical bound with the recursive algorithm\r\n",
    "beta_C = classical_optimization(var_dict, N, m)\r\n",
    "beta_C"
   ],
   "outputs": [
    {
     "output_type": "execute_result",
     "data": {
      "text/plain": [
       "-3.39976953562480"
      ],
      "text/latex": [
       "$\\displaystyle -3.3997695356248$"
      ]
     },
     "metadata": {},
     "execution_count": 315
    }
   ],
   "metadata": {}
  },
  {
   "cell_type": "code",
   "execution_count": 316,
   "source": [
    "var_dict"
   ],
   "outputs": [
    {
     "output_type": "execute_result",
     "data": {
      "text/plain": [
       "{'c_{00}': 0.0,\n",
       " 'c_{01}': 0.0,\n",
       " 'c_{02}': 0.0,\n",
       " 'c_{10}': 0.0,\n",
       " 'c_{11}': 0.682162754804218,\n",
       " 'c_{12}': 0.891288591445235,\n",
       " 'c_{20}': 0.0,\n",
       " 'c_{21}': 1.64688657439413,\n",
       " 'c_{22}': -1.54375712458965}"
      ]
     },
     "metadata": {},
     "execution_count": 316
    }
   ],
   "metadata": {}
  },
  {
   "cell_type": "code",
   "execution_count": 276,
   "source": [
    "np.sqrt(2)*np.sin(np.pi/8)/(np.sin(np.pi/8)*np.cos(np.pi/8)+np.cos(np.pi/8)*np.sin(np.pi/6))"
   ],
   "outputs": [
    {
     "output_type": "execute_result",
     "data": {
      "text/plain": [
       "0.6636427241614022"
      ]
     },
     "metadata": {},
     "execution_count": 276
    }
   ],
   "metadata": {}
  },
  {
   "cell_type": "code",
   "execution_count": 10,
   "source": [
    "# Obtaining the Bell operator \r\n",
    "for i in range(2**N):\r\n",
    "    for j in range(2**N):\r\n",
    "        for variable in var:\r\n",
    "            B[i,j] = B[i,j].subs(variable, ans[variable])\r\n",
    "\r\n",
    "# Calculting the quantum value\r\n",
    "beta_Q = np.matmul(psi_G_dagger, np.matmul(B, psi_G))\r\n"
   ],
   "outputs": [],
   "metadata": {}
  },
  {
   "cell_type": "code",
   "execution_count": 7,
   "source": [
    "print(r'beta_Q = %.3f and beta_C = %.3f' %(beta_Q, beta_C))"
   ],
   "outputs": [
    {
     "output_type": "stream",
     "name": "stdout",
     "text": [
      "beta_Q = -2.000 and beta_C = 2.828\n"
     ]
    }
   ],
   "metadata": {}
  }
 ],
 "metadata": {
  "interpreter": {
   "hash": "547f72bac979aab6cb8efe81a1a6a3f1c43e51a7273e91a5a5bc0125918566b7"
  },
  "kernelspec": {
   "name": "python3",
   "display_name": "Python 3.8.8 64-bit ('base': conda)"
  },
  "language_info": {
   "name": "python",
   "version": "3.8.8",
   "mimetype": "text/x-python",
   "codemirror_mode": {
    "name": "ipython",
    "version": 3
   },
   "pygments_lexer": "ipython3",
   "nbconvert_exporter": "python",
   "file_extension": ".py"
  },
  "orig_nbformat": 4
 },
 "nbformat": 4,
 "nbformat_minor": 2
}