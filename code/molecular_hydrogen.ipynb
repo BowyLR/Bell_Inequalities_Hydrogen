{
 "cells": [
  {
   "cell_type": "code",
   "execution_count": 1,
   "source": [
    "# Importing packages\r\n",
    "import numpy as np\r\n",
    "from sympy import solve, symbols, Eq\r\n",
    "from tqdm import tqdm\r\n",
    "\r\n",
    "# Importing Pauli matrices\r\n",
    "from pauli_matrices.pauli_matrices import I, X, Y, Z\r\n",
    "\r\n",
    "# Importing functions\r\n",
    "from pauli_matrices.pauli_chain import get_Pauli_chain\r\n",
    "from hamiltonian.hamiltonian import get_hamiltonian"
   ],
   "outputs": [],
   "metadata": {}
  },
  {
   "cell_type": "code",
   "execution_count": 2,
   "source": [
    "def get_Bell_term(measurement_choices, measurement_indices):\r\n",
    "            \r\n",
    "    # Obtaining Pauli chain\r\n",
    "    Pauli_chain = get_Pauli_chain(measurement_choices)\r\n",
    "\r\n",
    "    # Obtaining the variable indices\r\n",
    "    lower_string = ''\r\n",
    "\r\n",
    "    for j in measurement_indices:\r\n",
    "        lower_string += str(j)\r\n",
    "\r\n",
    "    # Finilizing the variable\r\n",
    "    var = symbols('c_{' + lower_string + '}')\r\n",
    "\r\n",
    "    # Returning the Bell operator term\r\n",
    "    return var * Pauli_chain, var\r\n",
    "\r\n"
   ],
   "outputs": [],
   "metadata": {}
  },
  {
   "cell_type": "code",
   "execution_count": 3,
   "source": [
    "# Defining qubit transform\r\n",
    "qubit_transform = 'JW'\r\n",
    "\r\n",
    "# Obtainig Hamiltonian\r\n",
    "hamiltonian = get_hamiltonian(qubit_transform = qubit_transform)\r\n",
    "H = hamiltonian.matrix_form\r\n",
    "\r\n",
    "# Calculating the eigenvalues and eigenstates\r\n",
    "eig_vals, eig_vecs = np.linalg.eigh(H)\r\n",
    "\r\n",
    "# Extracting the ground state energy and the respective eigenstate\r\n",
    "E_G = eig_vals[0]\r\n",
    "psi_G = eig_vecs[:,0]\r\n",
    "psi_G_dagger = np.conjugate(np.transpose(psi_G))\r\n",
    "\r\n"
   ],
   "outputs": [],
   "metadata": {}
  },
  {
   "cell_type": "code",
   "execution_count": 15,
   "source": [
    "E_G"
   ],
   "outputs": [
    {
     "output_type": "execute_result",
     "data": {
      "text/plain": [
       "(-0.8126100000000002+0j) [] +\n",
       "(-0.04532175+0j) [X0 X1 Y2 Y3] +\n",
       "(0.04532175+0j) [X0 Y1 Y2 X3] +\n",
       "(0.04532175+0j) [Y0 X1 X2 Y3] +\n",
       "(-0.04532175+0j) [Y0 Y1 X2 X3] +\n",
       "(0.17120100000000008+0j) [Z0] +\n",
       "(0.16862325+0j) [Z0 Z1] +\n",
       "(0.12054625+0j) [Z0 Z2] +\n",
       "(0.165868+0j) [Z0 Z3] +\n",
       "(0.17120100000000002+0j) [Z1] +\n",
       "(0.165868+0j) [Z1 Z2] +\n",
       "(0.12054625+0j) [Z1 Z3] +\n",
       "(-0.22279649999999998+0j) [Z2] +\n",
       "(0.17434925+0j) [Z2 Z3] +\n",
       "(-0.22279649999999998+0j) [Z3]"
      ]
     },
     "metadata": {},
     "execution_count": 15
    }
   ],
   "metadata": {}
  },
  {
   "cell_type": "code",
   "execution_count": 8,
   "source": [
    "# Defining measurements of the parties\r\n",
    "M1 = M2 = M3 = M4 = [I, X, Y, Z]\r\n",
    "\r\n",
    "# Consrtucting a measurement matrix\r\n",
    "M = np.array([\r\n",
    "    M1,\r\n",
    "    M2,\r\n",
    "    M3,\r\n",
    "    M4\r\n",
    "])\r\n",
    "\r\n",
    "# Initializing the Bell operator and a string containing the variables\r\n",
    "B = 0\r\n",
    "var = []\r\n",
    "\r\n",
    "for i in tqdm(range(N)):\r\n",
    "\r\n",
    "    for j in range(N):\r\n",
    "\r\n",
    "        for k in range(N):\r\n",
    "\r\n",
    "            for l in range(N):\r\n",
    "\r\n",
    "                # Constructing the measurement choices\r\n",
    "                measurement_indices = [i, j, k, l]\r\n",
    "                measurement_choices = [M[p, measurement_indices[p]] for p in range(N)]\r\n",
    "\r\n",
    "                # Calculating the Bell terms and the corresponding variable\r\n",
    "                B_temp, var_temp = get_Bell_term(measurement_choices, measurement_indices)\r\n",
    "                \r\n",
    "                # Adding these temporaries to the existsing Bell operator and the var list\r\n",
    "                B += B_temp\r\n",
    "                var.append(var_temp)\r\n",
    "# "
   ],
   "outputs": [
    {
     "output_type": "stream",
     "name": "stderr",
     "text": [
      "100%|██████████| 4/4 [00:05<00:00,  1.34s/it]\n"
     ]
    }
   ],
   "metadata": {}
  },
  {
   "cell_type": "code",
   "execution_count": 10,
   "source": [
    "np.trace(np.matmul(B, get_Pauli_chain([X,Y,Z,I]))).simplify()"
   ],
   "outputs": [
    {
     "output_type": "execute_result",
     "data": {
      "text/plain": [
       "16.0*c_{1230}"
      ],
      "text/latex": [
       "$\\displaystyle 16.0 c_{1230}$"
      ]
     },
     "metadata": {},
     "execution_count": 10
    }
   ],
   "metadata": {}
  }
 ],
 "metadata": {
  "orig_nbformat": 4,
  "language_info": {
   "name": "python",
   "version": "3.8.8",
   "mimetype": "text/x-python",
   "codemirror_mode": {
    "name": "ipython",
    "version": 3
   },
   "pygments_lexer": "ipython3",
   "nbconvert_exporter": "python",
   "file_extension": ".py"
  },
  "kernelspec": {
   "name": "python3",
   "display_name": "Python 3.8.8 64-bit ('base': conda)"
  },
  "interpreter": {
   "hash": "547f72bac979aab6cb8efe81a1a6a3f1c43e51a7273e91a5a5bc0125918566b7"
  }
 },
 "nbformat": 4,
 "nbformat_minor": 2
}