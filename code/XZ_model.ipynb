{
 "cells": [
  {
   "cell_type": "code",
   "execution_count": 17,
   "source": [
    "# Importing packages\r\n",
    "import numpy as np\r\n",
    "from tqdm import tqdm\r\n",
    "import itertools\r\n",
    "from sympy import solve, symbols\r\n",
    "\r\n",
    "# Importing matplotlib\r\n",
    "import matplotlib.pyplot as plt\r\n",
    "\r\n",
    "# Importing Pauli matrices\r\n",
    "from pauli_matrices.pauli_matrices import I, X, Y, Z\r\n",
    "\r\n",
    "# Importing figure properties\r\n",
    "from figure_test_files.figure_properties import *\r\n",
    "\r\n",
    "# Importing functions\r\n",
    "from hamiltonian.hamiltonian import get_hamiltonian\r\n",
    "from Bell_operator.Bell_operator import get_Bell_operator\r\n",
    "from Bell_operator.coefficients import get_coefficients, get_system_of_equations\r\n",
    "from classical_optimization.classical_optimization import classical_optimization\r\n",
    "from correlation_matrix.correlation_matrix import get_correlation_matrix, get_correlation_matrix_symbolic"
   ],
   "outputs": [],
   "metadata": {}
  },
  {
   "cell_type": "code",
   "execution_count": 2,
   "source": [
    "# Defining the number of qubits\r\n",
    "N = 2\r\n",
    "\r\n",
    "# Defining the Hamiltonian\r\n",
    "H = np.sqrt(2)*(np.kron(Z, Z) + np.kron(X, X))\r\n",
    "\r\n",
    "# Calculating the eigenvalues and eigenstates\r\n",
    "eig_vals, eig_vecs = np.linalg.eigh(H)\r\n",
    "\r\n",
    "# extracting the ground state energy and the respective eigenstate\r\n",
    "psi_G = eig_vecs[:,0]\r\n",
    "psi_G_dagger = np.conjugate(np.transpose(psi_G))"
   ],
   "outputs": [],
   "metadata": {}
  },
  {
   "cell_type": "code",
   "execution_count": 16,
   "source": [
    "# Defining the number of measurements\r\n",
    "m = 2\r\n",
    "\r\n",
    "# Defining angles\r\n",
    "angles = np.linspace(0, np.pi, 2000)\r\n",
    "\r\n",
    "# Initializing classical bound\r\n",
    "beta_C = []\r\n",
    "\r\n",
    "# Calculating classical bounds\r\n",
    "for theta in tqdm(angles):\r\n",
    "\r\n",
    "    # Initializing the M matrix\r\n",
    "    measurement_angles = np.zeros((N, m))\r\n",
    "\r\n",
    "    # Adding the angle between the different parties\r\n",
    "    if type(theta) == int or type(theta) == float or type(theta) == np.int0 or type(theta) == np.float64:\r\n",
    "        measurement_angles[1,:] = theta\r\n",
    "    else:\r\n",
    "        for i in range(1,N):\r\n",
    "            measurement_angles[i,:] = theta[i-1]\r\n",
    "\r\n",
    "    # Adding angles of the measurements of a respectve party\r\n",
    "    for j in range(m):\r\n",
    "        measurement_angles[:,j] += (j+1)*np.pi/m\r\n",
    "\r\n",
    "    # Obtaining the general correlation matrix\r\n",
    "    M = get_correlation_matrix(measurement_angles, N, m)\r\n",
    "\r\n",
    "    # Obtaining the Bell operator in its matrix form and the coefficients as sympy objects\r\n",
    "    B, var_dict = get_Bell_operator(M, m, N)\r\n",
    "\r\n",
    "    # Obtaining the system of equations and solving them\r\n",
    "    var_dict = get_coefficients(B, H, var_dict, N)\r\n",
    "\r\n",
    "    # Obtaining the classical bound with the recursive algorithm\r\n",
    "    beta_C.append( classical_optimization(var_dict, N, m) )\r\n"
   ],
   "outputs": [
    {
     "output_type": "stream",
     "name": "stderr",
     "text": [
      "100%|██████████| 2000/2000 [17:57<00:00,  1.86it/s]\n"
     ]
    }
   ],
   "metadata": {}
  },
  {
   "cell_type": "code",
   "execution_count": 27,
   "source": [
    "save_dir = '../data/figures/'\r\n",
    "fig, ax = plt.subplots()\r\n",
    "ax.plot(angles, beta_C)\r\n",
    "ax.set_xlabel(r'$\\theta$')\r\n",
    "ax.set_ylabel(r'$\\beta_C$')\r\n",
    "ax.set_xticks([0, np.pi/4, np.pi/2, 3*np.pi/4, np.pi])\r\n",
    "ax.set_xticklabels(['0', r'$\\frac{\\pi}{4}$', r'$\\frac{\\pi}{2}$', r'$\\frac{3 \\pi}{4}$', r'$\\pi$'])\r\n",
    "fig.savefig(save_dir + 'classical_bound_toy_model_varying_basis.png', dpi = 300, bbox_inches='tight');"
   ],
   "outputs": [
    {
     "output_type": "display_data",
     "data": {
      "text/plain": [
       "<Figure size 432x288 with 1 Axes>"
      ],
      "image/png": "[encoded data removed]"
     },
     "metadata": {
      "needs_background": "light"
     }
    }
   ],
   "metadata": {}
  },
  {
   "cell_type": "code",
   "execution_count": 21,
   "source": [
    "# Defining the number of measurements\r\n",
    "m = 2\r\n",
    "\r\n",
    "# Defining angle variable\r\n",
    "theta = np.pi/2        # angle between same measurement of different parties \r\n",
    "\r\n",
    "# # Defining angle constants\r\n",
    "# theta_party = np.pi/2  # angle between measurments of the same party\r\n",
    "# theta_relative = 0     # relative angle the first measurement of the first party\r\n",
    "\r\n",
    "# Still need to automate this one\r\n",
    "# maybe make it so we first initialize the M matrix in a normal matter and later add the Z gates as an m+1 measurement\r\n",
    "# And then finally add 1 extra measurement to the value of m such that it is in line with the rest of the code\r\n",
    "\r\n",
    "# # Defining meaurement angles\r\n",
    "# measurement_angles = np.array([theta_relative + theta_party, theta_relative]*2, dtype='float64')\r\n",
    "# measurement_angles[2:] += np.array([theta]*2)\r\n",
    "# measurement_angles = np.reshape(measurement_angles, (N, m))\r\n",
    "\r\n",
    "# Initializing the M matrix\r\n",
    "measurement_angles = np.zeros((N, m))\r\n",
    "\r\n",
    "# Adding the angle between the different parties\r\n",
    "if type(theta) == int or type(theta) == float:\r\n",
    "    measurement_angles[1,:] = theta\r\n",
    "else:\r\n",
    "    for i in range(1,N):\r\n",
    "        measurement_angles[i,:] = theta[i-1]\r\n",
    "\r\n",
    "# Adding angles of the measurements of a respectve party\r\n",
    "for j in range(m):\r\n",
    "    measurement_angles[:,j] += (j+1)*np.pi/m\r\n",
    "\r\n",
    "# Obtaining the general correlation matrix\r\n",
    "M, variables = get_correlation_matrix(measurement_angles, N, m)\r\n",
    "\r\n",
    "# for i in range(N):\r\n",
    "#     for j in range(1,m+1):\r\n",
    "#         for k in range(2):\r\n",
    "#             for l in range(2):\r\n",
    "#                 for var in variables.keys():\r\n",
    "#                     if var[0] == 'x':\r\n",
    "#                         M[i,j][k,l] = M[i,j][k,l].subs( variables[var], np.cos( measurement_angles[int(var[3]), int(var[4])] ) )\r\n",
    "#                     elif var[0] == 'y':\r\n",
    "#                         M[i,j][k,l] = M[i,j][k,l].subs( variables[var], np.sin( measurement_angles[int(var[3]), int(var[4])] ) )\r\n",
    "\r\n",
    "# Obtaining the Bell operator in its matrix form and the coefficients as sympy objects\r\n",
    "B, var_dict = get_Bell_operator(M, m, N)\r\n",
    "\r\n",
    "# Obtaining the system of equations and solving them\r\n",
    "var_dict = get_coefficients(B, H, var_dict, N)\r\n",
    "\r\n",
    "# Inserting the angles into the coefficients\r\n",
    "# for key in var_dict.keys():\r\n",
    "#     for var in variables.keys():\r\n",
    "#         if var[0] == 'x':\r\n",
    "#             var_dict[key] = var_dict[key].subs( variables[var], np.cos( measurement_angles[int(var[3]), int(var[4])] ) )\r\n",
    "#         elif var[0] == 'y':\r\n",
    "#             var_dict[key] = var_dict[key].subs( variables[var], np.sin( measurement_angles[int(var[3]), int(var[4])] ) )\r\n",
    "\r\n",
    "# Obtaining the classical bound with the recursive algorithm\r\n",
    "beta_C = classical_optimization(var_dict, N, m)\r\n",
    "beta_C"
   ],
   "outputs": [],
   "metadata": {}
  },
  {
   "cell_type": "code",
   "execution_count": 10,
   "source": [
    "# Obtaining the Bell operator \r\n",
    "for i in range(2**N):\r\n",
    "    for j in range(2**N):\r\n",
    "        for variable in var:\r\n",
    "            B[i,j] = B[i,j].subs(variable, ans[variable])\r\n",
    "\r\n",
    "# Calculting the quantum value\r\n",
    "beta_Q = np.matmul(psi_G_dagger, np.matmul(B, psi_G))\r\n"
   ],
   "outputs": [],
   "metadata": {}
  },
  {
   "cell_type": "code",
   "execution_count": 7,
   "source": [
    "print(r'beta_Q = %.3f and beta_C = %.3f' %(beta_Q, beta_C))"
   ],
   "outputs": [
    {
     "output_type": "stream",
     "name": "stdout",
     "text": [
      "beta_Q = -2.000 and beta_C = 2.828\n"
     ]
    }
   ],
   "metadata": {}
  }
 ],
 "metadata": {
  "interpreter": {
   "hash": "547f72bac979aab6cb8efe81a1a6a3f1c43e51a7273e91a5a5bc0125918566b7"
  },
  "kernelspec": {
   "name": "python3",
   "display_name": "Python 3.8.8 64-bit ('base': conda)"
  },
  "language_info": {
   "name": "python",
   "version": "3.8.8",
   "mimetype": "text/x-python",
   "codemirror_mode": {
    "name": "ipython",
    "version": 3
   },
   "pygments_lexer": "ipython3",
   "nbconvert_exporter": "python",
   "file_extension": ".py"
  },
  "orig_nbformat": 4
 },
 "nbformat": 4,
 "nbformat_minor": 2
}