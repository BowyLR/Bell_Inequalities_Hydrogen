{
 "cells": [
  {
   "cell_type": "code",
   "execution_count": 1,
   "source": [
    "# Importing packages\r\n",
    "import numpy as np\r\n",
    "from sympy import solve, symbols, Eq\r\n",
    "from tqdm import tqdm\r\n",
    "import itertools\r\n",
    "\r\n",
    "# Importing Pauli matrices\r\n",
    "from pauli_matrices.pauli_matrices import I, X, Y, Z\r\n",
    "\r\n",
    "# Importing functions\r\n",
    "from pauli_matrices.pauli_chain import get_Pauli_chain\r\n",
    "from hamiltonian.hamiltonian import get_hamiltonian\r\n",
    "from Bell_operator.Bell_operator import get_Bell_term\r\n",
    "from classical_optimization.classical_optimization import classical_optimization"
   ],
   "outputs": [],
   "metadata": {}
  },
  {
   "cell_type": "code",
   "execution_count": 2,
   "source": [
    "# Defining qubit transform\r\n",
    "qubit_transform = 'JW'\r\n",
    "\r\n",
    "# Obtainig Hamiltonian\r\n",
    "hamiltonian = get_hamiltonian(qubit_transform = qubit_transform)\r\n",
    "\r\n",
    "# Extracting parameters\r\n",
    "H = hamiltonian.matrix_form\r\n",
    "N = hamiltonian.N\r\n",
    "\r\n",
    "# Calculating the eigenvalues and eigenstates\r\n",
    "eig_vals, eig_vecs = np.linalg.eigh(H)\r\n",
    "\r\n",
    "# Extracting the ground state energy and the respective eigenstate\r\n",
    "E_G = eig_vals[0]\r\n",
    "psi_G = eig_vecs[:,0]\r\n",
    "psi_G_dagger = np.conjugate(np.transpose(psi_G))\r\n",
    "\r\n",
    "E_G"
   ],
   "outputs": [
    {
     "output_type": "execute_result",
     "data": {
      "text/plain": [
       "-1.8510456784448643"
      ]
     },
     "metadata": {},
     "execution_count": 2
    }
   ],
   "metadata": {}
  },
  {
   "cell_type": "code",
   "execution_count": 3,
   "source": [
    "# Defining measurements of the parties\r\n",
    "M1 = M2 = M3 = M4 = [I, X, Y, Z]\r\n",
    "\r\n",
    "# Consrtucting a measurement matrix\r\n",
    "M = np.array([\r\n",
    "    M1,\r\n",
    "    M2,\r\n",
    "    M3,\r\n",
    "    M4\r\n",
    "])\r\n",
    "\r\n",
    "# Initializing the Bell operator, the Bell inequality and a string containing the variables\r\n",
    "B = 0\r\n",
    "var = []\r\n",
    "var_dict = {}\r\n",
    "\r\n",
    "# Creating indices for all measurements\r\n",
    "temp_indices = list(itertools.product([i for i in range(len(M1))], repeat=(N)))\r\n",
    "\r\n",
    "# Checking for one and two body terms requirement\r\n",
    "indices = []\r\n",
    "one_and_two_body = False\r\n",
    "\r\n",
    "if one_and_two_body:\r\n",
    "    for j in temp_indices:\r\n",
    "        if np.sum([j[i] == 0 for i in range(len(j))]) >= 2:\r\n",
    "            indices.append(j)\r\n",
    "else:\r\n",
    "    indices = temp_indices.copy()\r\n",
    "\r\n",
    "# Calculating the Bell operator\r\n",
    "for measurement_indices in tqdm(indices):\r\n",
    "\r\n",
    "    # Constructing the measurement choices\r\n",
    "    measurement_choices = [M[p, measurement_indices[p]] for p in range(N)]\r\n",
    "\r\n",
    "    # Calculating the Bell terms and the corresponding variable\r\n",
    "    B_temp, var_name, var_temp = get_Bell_term(measurement_choices, measurement_indices)\r\n",
    "    \r\n",
    "    # Adding and storing the values\r\n",
    "    B += B_temp\r\n",
    "    var.append(var_temp)\r\n",
    "    var_dict[var_name] = var_temp "
   ],
   "outputs": [
    {
     "output_type": "stream",
     "name": "stderr",
     "text": [
      "100%|██████████| 256/256 [00:04<00:00, 53.93it/s]\n"
     ]
    }
   ],
   "metadata": {}
  },
  {
   "cell_type": "code",
   "execution_count": 4,
   "source": [
    "# Obtaining the sytsem of equations (this takes ages)\r\n",
    "pauli_matrices = [I, X, Y, Z]\r\n",
    "\r\n",
    "# Initializing the equations list\r\n",
    "eqs = []\r\n",
    "\r\n",
    "# Calculating new set of indices\r\n",
    "indices = list(itertools.product([i for i in range(len(pauli_matrices))], repeat=N))\r\n",
    "\r\n",
    "# Looping over the equations\r\n",
    "for projector_indices in tqdm(indices):\r\n",
    "\r\n",
    "    # Constructing the measurement choices\r\n",
    "    measurement_choices = [pauli_matrices[p] for p in projector_indices]\r\n",
    "    Projector = get_Pauli_chain(measurement_choices)\r\n",
    "\r\n",
    "    # calculating system of equations\r\n",
    "    eqs.append( \r\n",
    "        Eq( \r\n",
    "            np.trace( np.matmul(B, Projector)).simplify(), \r\n",
    "            np.trace( np.matmul(H, Projector))\r\n",
    "        ) \r\n",
    "    )\r\n",
    "   \r\n",
    "# Solving the system of equations\r\n",
    "ans = solve(eqs, var)\r\n",
    "\r\n",
    "# Updating the dictionary\r\n",
    "for key in ans.keys():\r\n",
    "    var_dict[str(key)] = ans[key]"
   ],
   "outputs": [
    {
     "output_type": "stream",
     "name": "stderr",
     "text": [
      "100%|██████████| 256/256 [03:09<00:00,  1.35it/s]\n"
     ]
    }
   ],
   "metadata": {}
  },
  {
   "cell_type": "code",
   "execution_count": 6,
   "source": [
    "# Obtaining the Bell operator \r\n",
    "for i in tqdm(range(2**N)):\r\n",
    "    for j in range(2**N):\r\n",
    "        for variable in var:\r\n",
    "            B[i,j] = B[i,j].subs(variable, ans[variable])\r\n",
    "\r\n",
    "# Calculting the quantum value\r\n",
    "beta_Q = np.matmul(psi_G_dagger, np.matmul(B, psi_G))\r\n",
    "beta_Q"
   ],
   "outputs": [
    {
     "output_type": "stream",
     "name": "stderr",
     "text": [
      "100%|██████████| 16/16 [00:09<00:00,  1.68it/s]\n"
     ]
    },
    {
     "output_type": "execute_result",
     "data": {
      "text/plain": [
       "-1.85104567844486"
      ],
      "text/latex": [
       "$\\displaystyle -1.85104567844486$"
      ]
     },
     "metadata": {},
     "execution_count": 6
    }
   ],
   "metadata": {}
  },
  {
   "cell_type": "code",
   "execution_count": 5,
   "source": [
    "# Defining the number of possible measurements\r\n",
    "m = len(M1)-1\r\n",
    "\r\n",
    "# Obtaining the classical bound with the recursive algorithm\r\n",
    "beta_C_rec = classical_optimization(var_dict, N, m)\r\n",
    "\r\n",
    "# Obtaining the classical bound by comparing all possible configurations\r\n",
    "beta_C = classical_optimization(var_dict, N, m, recursive=False)\r\n",
    "\r\n",
    "# Printing the results\r\n",
    "print(beta_C_rec, beta_C)"
   ],
   "outputs": [
    {
     "output_type": "stream",
     "name": "stderr",
     "text": [
      "100%|██████████| 4/4 [00:00<00:00, 28.78it/s]\n",
      "100%|██████████| 4096/4096 [00:54<00:00, 75.46it/s]"
     ]
    },
    {
     "output_type": "stream",
     "name": "stdout",
     "text": [
      "1.35509750000000 2.01174800000000\n"
     ]
    },
    {
     "output_type": "stream",
     "name": "stderr",
     "text": [
      "\n"
     ]
    }
   ],
   "metadata": {}
  },
  {
   "cell_type": "code",
   "execution_count": 7,
   "source": [
    "def calc_inequality(M, var_dict, indices):\r\n",
    "    # Extracting the coefficients and the matrix products\r\n",
    "    coeffs = []\r\n",
    "    M_elements = []\r\n",
    "\r\n",
    "    for idx in indices:\r\n",
    "        # Initializing coefficients and matrix products\r\n",
    "        name = ''\r\n",
    "        M_prod = 1\r\n",
    "\r\n",
    "        # Looping over the m measurements\r\n",
    "        for j in range(len(idx)):\r\n",
    "            name += str(idx[j])\r\n",
    "            M_prod *= M[idx[j], j]\r\n",
    "\r\n",
    "        # Storing values\r\n",
    "        coeffs.append(var_dict['c_{'+name+'}'])\r\n",
    "        M_elements.append(M_prod)\r\n",
    "    \r\n",
    "    # Calculating the Bell inequality\r\n",
    "    return np.sum([coeffs[j]*M_elements[j] for j in range(len(indices))])"
   ],
   "outputs": [],
   "metadata": {}
  },
  {
   "cell_type": "code",
   "execution_count": 116,
   "source": [
    "# Initializing the matrix M, 0'th row does not correspond to a measurement\r\n",
    "M_c = np.ones((m+1, N))   # DOes this need to be initialized in a random manner?\r\n",
    "# M_c[1:, :] = np.random.randint(2, size=(m, N))*2-1\r\n",
    "\r\n",
    "# Initializing temporary indices\r\n",
    "temp_indices = list(itertools.product([i for i in range(m+1)], repeat=N))\r\n",
    "\r\n",
    "# Initializing E_i\r\n",
    "E_i = 0\r\n",
    "\r\n",
    "# Calculating the possible outcomes for the i'th row of the matrix M\r\n",
    "possible_configurations = list(itertools.product([+1, -1], repeat=m))\r\n",
    "\r\n",
    "# Calculating the i'th indices\r\n",
    "for idx in tqdm(range(N)):\r\n",
    "\r\n",
    "    # This needs to be done for each iteration of idx, the above does not have to be done each iteration\r\n",
    "    indices = []\r\n",
    "\r\n",
    "    # First condition ensures that we do not have any double counting\r\n",
    "    # Second condition ensures that we do not take a constant non measurable value into account\r\n",
    "    # Last condition makes it so we do not capture any measurements from other observables\r\n",
    "    for j in temp_indices:\r\n",
    "\r\n",
    "        if np.sum(j[:idx]) == 0 and np.sum(j) != 0 and j[idx] != 0: \r\n",
    "            indices.append([*[0] * (idx), *j[idx:]])\r\n",
    "\r\n",
    "    # Updating correlation matrix and setting a very high value for h_i such that we always start with a lowest configuration after one iteration\r\n",
    "    M_c_temp = M_c.copy()\r\n",
    "    h_i = 1e6\r\n",
    "\r\n",
    "    # Looping over the different configurations\r\n",
    "    for conf in possible_configurations:\r\n",
    "\r\n",
    "        # Updating the correlation matrix\r\n",
    "        M_c_temp[1:, idx] = conf\r\n",
    "\r\n",
    "\r\n",
    "        # Calculating h_i\r\n",
    "        # Extracting the coefficients and the matrix products\r\n",
    "        coeffs = []\r\n",
    "        M_elements = []\r\n",
    "\r\n",
    "        for idx2 in indices:\r\n",
    "            # Initializing coefficients and matrix products\r\n",
    "            name = ''\r\n",
    "            M_prod = 1\r\n",
    "\r\n",
    "            # Looping over the m measurements\r\n",
    "            for j in range(len(idx2)):\r\n",
    "                name += str(idx2[j])\r\n",
    "                M_prod *= M_c_temp[idx2[j], j]\r\n",
    "\r\n",
    "            # Storing values\r\n",
    "            coeffs.append(var_dict['c_{'+name+'}'])\r\n",
    "            M_elements.append(M_prod)\r\n",
    "\r\n",
    "        h_i_temp = np.sum([coeffs[j]*M_elements[j] for j in range(len(indices))])\r\n",
    "        \r\n",
    "        # Checking if the new h_i is smaller than the old one, if yes, then we adapt the new value\r\n",
    "        if h_i_temp < h_i:\r\n",
    "            M_c = M_c_temp.copy()\r\n",
    "            h_i = h_i_temp\r\n",
    "\r\n",
    "\r\n",
    "    # Adding the last configuration of h_i to E_i\r\n",
    "    E_i += h_i\r\n",
    "\r\n",
    "# Obtaining the classical bound\r\n",
    "beta_C_rec = -E_i\r\n",
    "print(beta_C_rec)"
   ],
   "outputs": [
    {
     "output_type": "stream",
     "name": "stderr",
     "text": [
      "100%|██████████| 4/4 [00:00<00:00, 32.52it/s]"
     ]
    },
    {
     "output_type": "stream",
     "name": "stdout",
     "text": [
      "1.35509750000000\n"
     ]
    },
    {
     "output_type": "stream",
     "name": "stderr",
     "text": [
      "\n"
     ]
    }
   ],
   "metadata": {}
  },
  {
   "cell_type": "code",
   "execution_count": 120,
   "source": [
    "idx2"
   ],
   "outputs": [
    {
     "output_type": "execute_result",
     "data": {
      "text/plain": [
       "[0, 0, 0, 3]"
      ]
     },
     "metadata": {},
     "execution_count": 120
    }
   ],
   "metadata": {}
  },
  {
   "cell_type": "code",
   "execution_count": 119,
   "source": [
    "# This needs to be done for each iteration of idx, the above does not have to be done each iteration\r\n",
    "indices = []\r\n",
    "idx = 3\r\n",
    "# First condition ensures that we do not have any double counting\r\n",
    "# Second condition ensures that we do not take a constant non measurable value into account\r\n",
    "# Last condition makes it so we do not capture any measurements from other observables\r\n",
    "for j in temp_indices:\r\n",
    "\r\n",
    "    if np.sum(j[:idx]) == 0 and np.sum(j) != 0 and j[idx] != 0: \r\n",
    "        indices.append([*[0] * (idx), *j[idx:]])\r\n",
    "indices"
   ],
   "outputs": [
    {
     "output_type": "execute_result",
     "data": {
      "text/plain": [
       "[[0, 0, 0, 1], [0, 0, 0, 2], [0, 0, 0, 3]]"
      ]
     },
     "metadata": {},
     "execution_count": 119
    }
   ],
   "metadata": {}
  },
  {
   "cell_type": "code",
   "execution_count": 110,
   "source": [
    "# Initializing the matrix M, 0'th row does not correspond to a measurement\r\n",
    "M_c = np.ones((m+1, N))   # DOes this need to be initialized in a random manner?\r\n",
    "\r\n",
    "# Initializing temporary indices\r\n",
    "temp_indices = list(itertools.product([i for i in range(m+1)], repeat=N))\r\n",
    "\r\n",
    "# Obtaining all possible indices and configurations\r\n",
    "indices = temp_indices[1:] # exlcuduing the identity term\r\n",
    "possible_configurations = list(itertools.product([-1, +1], repeat=m*N))\r\n",
    "\r\n",
    "# Initializing Bell inequality\r\n",
    "I = 1e6\r\n",
    "\r\n",
    "for conf in tqdm(possible_configurations):\r\n",
    "    # Updating correlation matrix\r\n",
    "    M_c[1:, :] = np.reshape(conf, (m, N))\r\n",
    "\r\n",
    "    # Calculating the Bell inequality\r\n",
    "    I_new = calc_inequality(M_c, var_dict, indices)\r\n",
    "\r\n",
    "    # Checking if we have a new minimum\r\n",
    "    if I_new < I:\r\n",
    "        I = I_new\r\n",
    "        M_c2 = M_c.copy()\r\n",
    "\r\n",
    "beta_C_all = -I"
   ],
   "outputs": [
    {
     "output_type": "stream",
     "name": "stderr",
     "text": [
      "100%|██████████| 4096/4096 [00:46<00:00, 87.50it/s]\n"
     ]
    }
   ],
   "metadata": {}
  },
  {
   "cell_type": "code",
   "execution_count": 112,
   "source": [
    "indices"
   ],
   "outputs": [
    {
     "output_type": "execute_result",
     "data": {
      "text/plain": [
       "[(0, 0, 0, 1),\n",
       " (0, 0, 0, 2),\n",
       " (0, 0, 0, 3),\n",
       " (0, 0, 1, 0),\n",
       " (0, 0, 1, 1),\n",
       " (0, 0, 1, 2),\n",
       " (0, 0, 1, 3),\n",
       " (0, 0, 2, 0),\n",
       " (0, 0, 2, 1),\n",
       " (0, 0, 2, 2),\n",
       " (0, 0, 2, 3),\n",
       " (0, 0, 3, 0),\n",
       " (0, 0, 3, 1),\n",
       " (0, 0, 3, 2),\n",
       " (0, 0, 3, 3),\n",
       " (0, 1, 0, 0),\n",
       " (0, 1, 0, 1),\n",
       " (0, 1, 0, 2),\n",
       " (0, 1, 0, 3),\n",
       " (0, 1, 1, 0),\n",
       " (0, 1, 1, 1),\n",
       " (0, 1, 1, 2),\n",
       " (0, 1, 1, 3),\n",
       " (0, 1, 2, 0),\n",
       " (0, 1, 2, 1),\n",
       " (0, 1, 2, 2),\n",
       " (0, 1, 2, 3),\n",
       " (0, 1, 3, 0),\n",
       " (0, 1, 3, 1),\n",
       " (0, 1, 3, 2),\n",
       " (0, 1, 3, 3),\n",
       " (0, 2, 0, 0),\n",
       " (0, 2, 0, 1),\n",
       " (0, 2, 0, 2),\n",
       " (0, 2, 0, 3),\n",
       " (0, 2, 1, 0),\n",
       " (0, 2, 1, 1),\n",
       " (0, 2, 1, 2),\n",
       " (0, 2, 1, 3),\n",
       " (0, 2, 2, 0),\n",
       " (0, 2, 2, 1),\n",
       " (0, 2, 2, 2),\n",
       " (0, 2, 2, 3),\n",
       " (0, 2, 3, 0),\n",
       " (0, 2, 3, 1),\n",
       " (0, 2, 3, 2),\n",
       " (0, 2, 3, 3),\n",
       " (0, 3, 0, 0),\n",
       " (0, 3, 0, 1),\n",
       " (0, 3, 0, 2),\n",
       " (0, 3, 0, 3),\n",
       " (0, 3, 1, 0),\n",
       " (0, 3, 1, 1),\n",
       " (0, 3, 1, 2),\n",
       " (0, 3, 1, 3),\n",
       " (0, 3, 2, 0),\n",
       " (0, 3, 2, 1),\n",
       " (0, 3, 2, 2),\n",
       " (0, 3, 2, 3),\n",
       " (0, 3, 3, 0),\n",
       " (0, 3, 3, 1),\n",
       " (0, 3, 3, 2),\n",
       " (0, 3, 3, 3),\n",
       " (1, 0, 0, 0),\n",
       " (1, 0, 0, 1),\n",
       " (1, 0, 0, 2),\n",
       " (1, 0, 0, 3),\n",
       " (1, 0, 1, 0),\n",
       " (1, 0, 1, 1),\n",
       " (1, 0, 1, 2),\n",
       " (1, 0, 1, 3),\n",
       " (1, 0, 2, 0),\n",
       " (1, 0, 2, 1),\n",
       " (1, 0, 2, 2),\n",
       " (1, 0, 2, 3),\n",
       " (1, 0, 3, 0),\n",
       " (1, 0, 3, 1),\n",
       " (1, 0, 3, 2),\n",
       " (1, 0, 3, 3),\n",
       " (1, 1, 0, 0),\n",
       " (1, 1, 0, 1),\n",
       " (1, 1, 0, 2),\n",
       " (1, 1, 0, 3),\n",
       " (1, 1, 1, 0),\n",
       " (1, 1, 1, 1),\n",
       " (1, 1, 1, 2),\n",
       " (1, 1, 1, 3),\n",
       " (1, 1, 2, 0),\n",
       " (1, 1, 2, 1),\n",
       " (1, 1, 2, 2),\n",
       " (1, 1, 2, 3),\n",
       " (1, 1, 3, 0),\n",
       " (1, 1, 3, 1),\n",
       " (1, 1, 3, 2),\n",
       " (1, 1, 3, 3),\n",
       " (1, 2, 0, 0),\n",
       " (1, 2, 0, 1),\n",
       " (1, 2, 0, 2),\n",
       " (1, 2, 0, 3),\n",
       " (1, 2, 1, 0),\n",
       " (1, 2, 1, 1),\n",
       " (1, 2, 1, 2),\n",
       " (1, 2, 1, 3),\n",
       " (1, 2, 2, 0),\n",
       " (1, 2, 2, 1),\n",
       " (1, 2, 2, 2),\n",
       " (1, 2, 2, 3),\n",
       " (1, 2, 3, 0),\n",
       " (1, 2, 3, 1),\n",
       " (1, 2, 3, 2),\n",
       " (1, 2, 3, 3),\n",
       " (1, 3, 0, 0),\n",
       " (1, 3, 0, 1),\n",
       " (1, 3, 0, 2),\n",
       " (1, 3, 0, 3),\n",
       " (1, 3, 1, 0),\n",
       " (1, 3, 1, 1),\n",
       " (1, 3, 1, 2),\n",
       " (1, 3, 1, 3),\n",
       " (1, 3, 2, 0),\n",
       " (1, 3, 2, 1),\n",
       " (1, 3, 2, 2),\n",
       " (1, 3, 2, 3),\n",
       " (1, 3, 3, 0),\n",
       " (1, 3, 3, 1),\n",
       " (1, 3, 3, 2),\n",
       " (1, 3, 3, 3),\n",
       " (2, 0, 0, 0),\n",
       " (2, 0, 0, 1),\n",
       " (2, 0, 0, 2),\n",
       " (2, 0, 0, 3),\n",
       " (2, 0, 1, 0),\n",
       " (2, 0, 1, 1),\n",
       " (2, 0, 1, 2),\n",
       " (2, 0, 1, 3),\n",
       " (2, 0, 2, 0),\n",
       " (2, 0, 2, 1),\n",
       " (2, 0, 2, 2),\n",
       " (2, 0, 2, 3),\n",
       " (2, 0, 3, 0),\n",
       " (2, 0, 3, 1),\n",
       " (2, 0, 3, 2),\n",
       " (2, 0, 3, 3),\n",
       " (2, 1, 0, 0),\n",
       " (2, 1, 0, 1),\n",
       " (2, 1, 0, 2),\n",
       " (2, 1, 0, 3),\n",
       " (2, 1, 1, 0),\n",
       " (2, 1, 1, 1),\n",
       " (2, 1, 1, 2),\n",
       " (2, 1, 1, 3),\n",
       " (2, 1, 2, 0),\n",
       " (2, 1, 2, 1),\n",
       " (2, 1, 2, 2),\n",
       " (2, 1, 2, 3),\n",
       " (2, 1, 3, 0),\n",
       " (2, 1, 3, 1),\n",
       " (2, 1, 3, 2),\n",
       " (2, 1, 3, 3),\n",
       " (2, 2, 0, 0),\n",
       " (2, 2, 0, 1),\n",
       " (2, 2, 0, 2),\n",
       " (2, 2, 0, 3),\n",
       " (2, 2, 1, 0),\n",
       " (2, 2, 1, 1),\n",
       " (2, 2, 1, 2),\n",
       " (2, 2, 1, 3),\n",
       " (2, 2, 2, 0),\n",
       " (2, 2, 2, 1),\n",
       " (2, 2, 2, 2),\n",
       " (2, 2, 2, 3),\n",
       " (2, 2, 3, 0),\n",
       " (2, 2, 3, 1),\n",
       " (2, 2, 3, 2),\n",
       " (2, 2, 3, 3),\n",
       " (2, 3, 0, 0),\n",
       " (2, 3, 0, 1),\n",
       " (2, 3, 0, 2),\n",
       " (2, 3, 0, 3),\n",
       " (2, 3, 1, 0),\n",
       " (2, 3, 1, 1),\n",
       " (2, 3, 1, 2),\n",
       " (2, 3, 1, 3),\n",
       " (2, 3, 2, 0),\n",
       " (2, 3, 2, 1),\n",
       " (2, 3, 2, 2),\n",
       " (2, 3, 2, 3),\n",
       " (2, 3, 3, 0),\n",
       " (2, 3, 3, 1),\n",
       " (2, 3, 3, 2),\n",
       " (2, 3, 3, 3),\n",
       " (3, 0, 0, 0),\n",
       " (3, 0, 0, 1),\n",
       " (3, 0, 0, 2),\n",
       " (3, 0, 0, 3),\n",
       " (3, 0, 1, 0),\n",
       " (3, 0, 1, 1),\n",
       " (3, 0, 1, 2),\n",
       " (3, 0, 1, 3),\n",
       " (3, 0, 2, 0),\n",
       " (3, 0, 2, 1),\n",
       " (3, 0, 2, 2),\n",
       " (3, 0, 2, 3),\n",
       " (3, 0, 3, 0),\n",
       " (3, 0, 3, 1),\n",
       " (3, 0, 3, 2),\n",
       " (3, 0, 3, 3),\n",
       " (3, 1, 0, 0),\n",
       " (3, 1, 0, 1),\n",
       " (3, 1, 0, 2),\n",
       " (3, 1, 0, 3),\n",
       " (3, 1, 1, 0),\n",
       " (3, 1, 1, 1),\n",
       " (3, 1, 1, 2),\n",
       " (3, 1, 1, 3),\n",
       " (3, 1, 2, 0),\n",
       " (3, 1, 2, 1),\n",
       " (3, 1, 2, 2),\n",
       " (3, 1, 2, 3),\n",
       " (3, 1, 3, 0),\n",
       " (3, 1, 3, 1),\n",
       " (3, 1, 3, 2),\n",
       " (3, 1, 3, 3),\n",
       " (3, 2, 0, 0),\n",
       " (3, 2, 0, 1),\n",
       " (3, 2, 0, 2),\n",
       " (3, 2, 0, 3),\n",
       " (3, 2, 1, 0),\n",
       " (3, 2, 1, 1),\n",
       " (3, 2, 1, 2),\n",
       " (3, 2, 1, 3),\n",
       " (3, 2, 2, 0),\n",
       " (3, 2, 2, 1),\n",
       " (3, 2, 2, 2),\n",
       " (3, 2, 2, 3),\n",
       " (3, 2, 3, 0),\n",
       " (3, 2, 3, 1),\n",
       " (3, 2, 3, 2),\n",
       " (3, 2, 3, 3),\n",
       " (3, 3, 0, 0),\n",
       " (3, 3, 0, 1),\n",
       " (3, 3, 0, 2),\n",
       " (3, 3, 0, 3),\n",
       " (3, 3, 1, 0),\n",
       " (3, 3, 1, 1),\n",
       " (3, 3, 1, 2),\n",
       " (3, 3, 1, 3),\n",
       " (3, 3, 2, 0),\n",
       " (3, 3, 2, 1),\n",
       " (3, 3, 2, 2),\n",
       " (3, 3, 2, 3),\n",
       " (3, 3, 3, 0),\n",
       " (3, 3, 3, 1),\n",
       " (3, 3, 3, 2),\n",
       " (3, 3, 3, 3)]"
      ]
     },
     "metadata": {},
     "execution_count": 112
    }
   ],
   "metadata": {}
  }
 ],
 "metadata": {
  "orig_nbformat": 4,
  "language_info": {
   "name": "python",
   "version": "3.8.8",
   "mimetype": "text/x-python",
   "codemirror_mode": {
    "name": "ipython",
    "version": 3
   },
   "pygments_lexer": "ipython3",
   "nbconvert_exporter": "python",
   "file_extension": ".py"
  },
  "kernelspec": {
   "name": "python3",
   "display_name": "Python 3.8.8 64-bit ('base': conda)"
  },
  "interpreter": {
   "hash": "547f72bac979aab6cb8efe81a1a6a3f1c43e51a7273e91a5a5bc0125918566b7"
  }
 },
 "nbformat": 4,
 "nbformat_minor": 2
}