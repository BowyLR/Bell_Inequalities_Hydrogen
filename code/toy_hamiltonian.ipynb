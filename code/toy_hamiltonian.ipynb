{
 "cells": [
  {
   "cell_type": "code",
   "execution_count": 1,
   "source": [
    "# Importing packages\n",
    "import numpy as np\n",
    "from tqdm import tqdm\n",
    "import itertools\n",
    "import matplotlib.pyplot as plt\n",
    "from scipy.optimize import minimize, basinhopping\n",
    "\n",
    "# Importing Pauli matrices\n",
    "from pauli_matrices.pauli_matrices import I, X, Y, Z\n",
    "\n",
    "# Importing figure properties\n",
    "from figure_test_files.figure_properties import *\n",
    "\n",
    "# Importing functions\n",
    "from Bell_operator.Bell_operator import get_Bell_terms\n",
    "from Bell_operator.coefficients import get_coefficients\n",
    "from classical_optimization.classical_optimization import classical_optimization\n",
    "from correlation_matrix.correlation_matrix import get_correlation_matrix\n",
    "\n",
    "# Defining saving directory\n",
    "save_dir = '../data/figures/'\n"
   ],
   "outputs": [],
   "metadata": {}
  },
  {
   "cell_type": "code",
   "execution_count": 2,
   "source": [
    "def calc_classical_bound(theta, H, N, m, basis, extra_Z_gate):\n",
    "\n",
    "    # Obtaining the general correlation matrix\n",
    "    M = get_correlation_matrix(theta, N, m, basis=basis, extra_Z_gate=extra_Z_gate)\n",
    "\n",
    "    # Calcuating a list containing all the possible matrices from kronecker products of the observables in the correlation matrix\n",
    "    Bell_terms, indices = get_Bell_terms(M, N, m)\n",
    "\n",
    "    # Calculating the coefficients\n",
    "    coeffs = get_coefficients(Bell_terms, H, N)\n",
    "\n",
    "    # Calculating and returning the classical bound \n",
    "    return classical_optimization(coeffs, indices, N, m)\n"
   ],
   "outputs": [],
   "metadata": {}
  },
  {
   "cell_type": "code",
   "execution_count": 3,
   "source": [
    "# Defining the number of qubits\n",
    "N = 2\n",
    "\n",
    "# Defining the Hamiltonian\n",
    "H = np.sqrt(2)*(np.kron(Z, Z) + np.kron(X, X))\n",
    "\n",
    "# Calculating the eigenvalues and eigenstates\n",
    "eig_vals, eig_vecs = np.linalg.eigh(H)\n",
    "\n",
    "# extracting the ground state energy and the respective eigenstate\n",
    "psi_G = eig_vecs[:,0]\n",
    "psi_G_dagger = np.conjugate(np.transpose(psi_G))"
   ],
   "outputs": [],
   "metadata": {}
  },
  {
   "cell_type": "code",
   "execution_count": 4,
   "source": [
    "# Defining number of measurements and the angle between the two parties\n",
    "m = 2\n",
    "theta = np.pi/4\n",
    "\n",
    "# Obtaining the general correlation matrix\n",
    "M = get_correlation_matrix(theta, N, m, basis='XZ', extra_Z_gate=False)\n",
    "\n",
    "# Calcuating a list containing all the possible matrices from kronecker products of the observables in the correlation matrix\n",
    "Bell_terms, indices = get_Bell_terms(M, N, m)\n",
    "\n",
    "# Calculating the coefficients\n",
    "coeffs = get_coefficients(Bell_terms, H, N)\n",
    "\n",
    "# Calculating the classical bound\n",
    "beta_C = classical_optimization(coeffs, indices, N, m)\n",
    "beta_C\n"
   ],
   "outputs": [
    {
     "output_type": "execute_result",
     "data": {
      "text/plain": [
       "-2.000000000000001"
      ]
     },
     "metadata": {},
     "execution_count": 4
    }
   ],
   "metadata": {}
  },
  {
   "cell_type": "code",
   "execution_count": 5,
   "source": [
    "# Initializing the Bell operator\n",
    "B = np.zeros((2**N, 2**N), dtype='complex128')\n",
    "\n",
    "# Adding terms to the Bell operator\n",
    "for j in range(len(coeffs)):\n",
    "    B += coeffs[j]*Bell_terms[j]\n",
    "\n",
    "# Calculating the difference between the Bell operator and the Hamiltonian\n",
    "# print(np.sum(np.abs(B-H), axis=(0,1)))\n",
    "\n",
    "# Calculting the quantum value\n",
    "beta_Q = np.matmul(psi_G_dagger, np.matmul(B, psi_G))\n",
    "np.real(beta_Q)"
   ],
   "outputs": [
    {
     "output_type": "execute_result",
     "data": {
      "text/plain": [
       "-2.8284271247461894"
      ]
     },
     "metadata": {},
     "execution_count": 5
    }
   ],
   "metadata": {}
  },
  {
   "cell_type": "code",
   "execution_count": 6,
   "source": [
    "# Defining the number of measurements\n",
    "m = 2\n",
    "\n",
    "# Defining angles\n",
    "angles = np.linspace(0, 2*np.pi, 1000)\n",
    "\n",
    "# Initializing classical bound\n",
    "beta_C = []\n",
    "\n",
    "# Calculating classical bounds\n",
    "for theta in tqdm(angles):\n",
    "\n",
    "    # Obtaining the classical bound with the recursive algorithm\n",
    "    beta_C.append( calc_classical_bound(theta, H, N, m, 'XZ', False) )\n"
   ],
   "outputs": [
    {
     "output_type": "stream",
     "name": "stderr",
     "text": [
      "100%|██████████| 1000/1000 [00:02<00:00, 439.90it/s]\n"
     ]
    }
   ],
   "metadata": {}
  },
  {
   "cell_type": "code",
   "execution_count": 10,
   "source": [
    "fig, ax = plt.subplots()\n",
    "ax.plot(angles, beta_C)\n",
    "ax.set_xlabel(r'$\\theta$')\n",
    "ax.set_ylabel(r'$\\beta_C$')\n",
    "ax.set_xticks([0, np.pi/2, np.pi, 3*np.pi/2, 2*np.pi])\n",
    "ax.set_xticklabels(['0', r'$\\frac{\\pi}{2}$', r'$\\pi$', r'$\\frac{3 \\pi}{2}$', r'$2\\pi$']);\n",
    "fig.savefig(save_dir + 'classical_bound_toy_model_m_%0f.png' %(m), dpi = 300, bbox_inches='tight');"
   ],
   "outputs": [
    {
     "output_type": "display_data",
     "data": {
      "text/plain": [
       "<Figure size 432x288 with 1 Axes>"
      ],
      "image/svg+xml": "<?xml version=\"1.0\" encoding=\"utf-8\" standalone=\"no\"?>\n<!DOCTYPE svg PUBLIC \"-//W3C//DTD SVG 1.1//EN\"\n  \"http://www.w3.org/Graphics/SVG/1.1/DTD/svg11.dtd\">\n<svg height=\"265.761947pt\" version=\"1.1\" viewBox=\"0 0 391.748396 265.761947\" width=\"391.748396pt\" xmlns=\"http://www.w3.org/2000/svg\" xmlns:xlink=\"http://www.w3.org/1999/xlink\">\n <metadata>\n  <rdf:RDF xmlns:cc=\"http://creativecommons.org/ns#\" xmlns:dc=\"http://purl.org/dc/elements/1.1/\" xmlns:rdf=\"http://www.w3.org/1999/02/22-rdf-syntax-ns#\">\n   <cc:Work>\n    <dc:type rdf:resource=\"http://purl.org/dc/dcmitype/StillImage\"/>\n    <dc:date>2021-08-15T21:17:34.025906</dc:date>\n    <dc:format>image/svg+xml</dc:format>\n    <dc:creator>\n     <cc:Agent>\n      <dc:title>Matplotlib v3.4.3, https://matplotlib.org/</dc:title>\n     </cc:Agent>\n    </dc:creator>\n   </cc:Work>\n  </rdf:RDF>\n </metadata>\n <defs>\n  <style type=\"text/css\">*{stroke-linecap:butt;stroke-linejoin:round;}</style>\n </defs>\n <g id=\"figure_1\">\n  <g id=\"patch_1\">\n   <path d=\"M 0 265.761947 \nL 391.748396 265.761947 \nL 391.748396 0 \nL 0 0 \nz\n\" style=\"fill:none;\"/>\n  </g>\n  <g id=\"axes_1\">\n   <g id=\"patch_2\">\n    <path d=\"M 49.748396 224.64 \nL 384.548396 224.64 \nL 384.548396 7.2 \nL 49.748396 7.2 \nz\n\" style=\"fill:#ffffff;\"/>\n   </g>\n   <g id=\"matplotlib.axis_1\">\n    <g id=\"xtick_1\">\n     <g id=\"line2d_1\">\n      <defs>\n       <path d=\"M 0 0 \nL 0 3.5 \n\" id=\"m009cadcfa6\" style=\"stroke:#000000;stroke-width:0.8;\"/>\n      </defs>\n      <g>\n       <use style=\"stroke:#000000;stroke-width:0.8;\" x=\"64.966578\" xlink:href=\"#m009cadcfa6\" y=\"224.64\"/>\n      </g>\n     </g>\n     <g id=\"text_1\">\n      <!-- 0 -->\n      <g transform=\"translate(62.47591 238.558498)scale(0.1 -0.1)\">\n       <defs>\n        <path d=\"M 2758 2044 \nC 2758 2405 2752 3077 2490 3596 \nC 2227 4096 1805 4229 1504 4229 \nC 1069 4229 698 3975 506 3570 \nC 301 3146 243 2709 243 2044 \nC 243 1589 262 1031 493 543 \nC 755 5 1197 -128 1498 -128 \nC 1894 -128 2278 81 2496 518 \nC 2720 974 2758 1474 2758 2044 \nz\nM 1498 261 \nC 1011 261 864 811 819 995 \nC 742 1310 730 1614 730 2114 \nC 730 2506 730 2948 851 3297 \nC 998 3701 1254 3840 1498 3840 \nC 1971 3840 2125 3372 2176 3208 \nC 2272 2873 2272 2481 2272 2114 \nC 2272 1526 2272 261 1498 261 \nz\n\" id=\"CMSS17-30\" transform=\"scale(0.015625)\"/>\n       </defs>\n       <use transform=\"scale(0.996264)\" xlink:href=\"#CMSS17-30\"/>\n      </g>\n     </g>\n    </g>\n    <g id=\"xtick_2\">\n     <g id=\"line2d_2\">\n      <g>\n       <use style=\"stroke:#000000;stroke-width:0.8;\" x=\"141.057487\" xlink:href=\"#m009cadcfa6\" y=\"224.64\"/>\n      </g>\n     </g>\n     <g id=\"text_2\">\n      <!-- $\\frac{\\pi}{2}$ -->\n      <g transform=\"translate(138.602954 238.565233)scale(0.1 -0.1)\">\n       <defs>\n        <path d=\"M 1658 2408 \nL 2381 2408 \nC 2208 1692 2099 1226 2099 716 \nC 2099 626 2099 -64 2362 -64 \nC 2496 -64 2611 57 2611 166 \nC 2611 197 2611 210 2566 306 \nC 2394 747 2394 1296 2394 1341 \nC 2394 1379 2394 1832 2528 2408 \nL 3245 2408 \nC 3328 2408 3539 2408 3539 2612 \nC 3539 2752 3418 2752 3302 2752 \nL 1197 2752 \nC 1050 2752 832 2752 538 2440 \nC 371 2254 166 1916 166 1878 \nC 166 1840 198 1827 237 1827 \nC 282 1827 288 1846 320 1884 \nC 653 2408 986 2408 1146 2408 \nL 1510 2408 \nC 1370 1929 1210 1373 685 256 \nC 634 154 634 140 634 102 \nC 634 -32 749 -64 806 -64 \nC 992 -64 1043 102 1120 370 \nC 1222 696 1222 709 1286 964 \nL 1658 2408 \nz\n\" id=\"CMMI12-19\" transform=\"scale(0.015625)\"/>\n        <path d=\"M 2669 989 \nL 2554 989 \nC 2490 536 2438 459 2413 420 \nC 2381 369 1920 369 1830 369 \nL 602 369 \nC 832 619 1280 1072 1824 1597 \nC 2214 1967 2669 2402 2669 3035 \nC 2669 3790 2067 4224 1395 4224 \nC 691 4224 262 3604 262 3030 \nC 262 2780 448 2748 525 2748 \nC 589 2748 781 2787 781 3010 \nC 781 3207 614 3264 525 3264 \nC 486 3264 448 3258 422 3245 \nC 544 3790 915 4058 1306 4058 \nC 1862 4058 2227 3617 2227 3035 \nC 2227 2479 1901 2000 1536 1584 \nL 262 146 \nL 262 0 \nL 2515 0 \nL 2669 989 \nz\n\" id=\"CMR17-32\" transform=\"scale(0.015625)\"/>\n       </defs>\n       <use transform=\"translate(0 39.226102)scale(0.697382)\" xlink:href=\"#CMMI12-19\"/>\n       <use transform=\"translate(4.627027 -34.355253)scale(0.697382)\" xlink:href=\"#CMR17-32\"/>\n       <path d=\"M 0 22.914133 \nL 41.237221 22.914133 \nL 41.237221 26.899083 \nL 0 26.899083 \nL 0 22.914133 \nz\n\"/>\n      </g>\n     </g>\n    </g>\n    <g id=\"xtick_3\">\n     <g id=\"line2d_3\">\n      <g>\n       <use style=\"stroke:#000000;stroke-width:0.8;\" x=\"217.148396\" xlink:href=\"#m009cadcfa6\" y=\"224.64\"/>\n      </g>\n     </g>\n     <g id=\"text_3\">\n      <!-- $\\pi$ -->\n      <g transform=\"translate(214.308908 238.558498)scale(0.1 -0.1)\">\n       <use transform=\"scale(0.996264)\" xlink:href=\"#CMMI12-19\"/>\n      </g>\n     </g>\n    </g>\n    <g id=\"xtick_4\">\n     <g id=\"line2d_4\">\n      <g>\n       <use style=\"stroke:#000000;stroke-width:0.8;\" x=\"293.239305\" xlink:href=\"#m009cadcfa6\" y=\"224.64\"/>\n      </g>\n     </g>\n     <g id=\"text_4\">\n      <!-- $\\frac{3 \\pi}{2}$ -->\n      <g transform=\"translate(288.799153 240.056862)scale(0.1 -0.1)\">\n       <defs>\n        <path d=\"M 1414 2157 \nC 1984 2157 2234 1662 2234 1090 \nC 2234 320 1824 25 1453 25 \nC 1114 25 563 194 390 693 \nC 422 680 454 680 486 680 \nC 640 680 755 782 755 948 \nC 755 1133 614 1216 486 1216 \nC 378 1216 211 1165 211 926 \nC 211 335 787 -128 1466 -128 \nC 2176 -128 2720 430 2720 1085 \nC 2720 1707 2208 2157 1600 2227 \nC 2086 2328 2554 2756 2554 3329 \nC 2554 3820 2048 4179 1472 4179 \nC 890 4179 378 3829 378 3329 \nC 378 3110 544 3072 627 3072 \nC 762 3072 877 3155 877 3321 \nC 877 3486 762 3569 627 3569 \nC 602 3569 570 3569 544 3557 \nC 730 3959 1235 4032 1459 4032 \nC 1683 4032 2106 3925 2106 3320 \nC 2106 3143 2080 2828 1862 2550 \nC 1670 2304 1453 2304 1242 2284 \nC 1210 2284 1062 2269 1037 2269 \nC 992 2263 966 2257 966 2208 \nC 966 2163 973 2157 1101 2157 \nL 1414 2157 \nz\n\" id=\"CMR17-33\" transform=\"scale(0.015625)\"/>\n       </defs>\n       <use transform=\"translate(0 39.226102)scale(0.697382)\" xlink:href=\"#CMR17-33\"/>\n       <use transform=\"translate(31.983182 39.226102)scale(0.697382)\" xlink:href=\"#CMMI12-19\"/>\n       <use transform=\"translate(20.618618 -34.355253)scale(0.697382)\" xlink:href=\"#CMR17-32\"/>\n       <path d=\"M 0 22.914133 \nL 73.220403 22.914133 \nL 73.220403 26.899083 \nL 0 26.899083 \nL 0 22.914133 \nz\n\"/>\n      </g>\n     </g>\n    </g>\n    <g id=\"xtick_5\">\n     <g id=\"line2d_5\">\n      <g>\n       <use style=\"stroke:#000000;stroke-width:0.8;\" x=\"369.330214\" xlink:href=\"#m009cadcfa6\" y=\"224.64\"/>\n      </g>\n     </g>\n     <g id=\"text_5\">\n      <!-- $2\\pi$ -->\n      <g transform=\"translate(364.000059 238.558498)scale(0.1 -0.1)\">\n       <use transform=\"scale(0.996264)\" xlink:href=\"#CMR17-32\"/>\n       <use transform=\"translate(45.690477 0)scale(0.996264)\" xlink:href=\"#CMMI12-19\"/>\n      </g>\n     </g>\n    </g>\n    <g id=\"text_6\">\n     <!-- $\\theta$ -->\n     <g transform=\"translate(214.30716 256.140485)scale(0.125 -0.125)\">\n      <defs>\n       <path d=\"M 2835 3200 \nC 2835 3850 2630 4480 2106 4480 \nC 1210 4480 256 2615 256 1216 \nC 256 923 320 -64 992 -64 \nC 1862 -64 2835 1756 2835 3200 \nz\nM 896 2304 \nC 992 2679 1126 3214 1382 3665 \nC 1594 4047 1818 4352 2099 4352 \nC 2310 4352 2451 4174 2451 3564 \nC 2451 3334 2432 3017 2246 2304 \nL 896 2304 \nz\nM 2202 2113 \nC 2042 1490 1907 1088 1677 687 \nC 1491 363 1267 64 998 64 \nC 800 64 640 217 640 846 \nC 640 1260 742 1693 845 2113 \nL 2202 2113 \nz\n\" id=\"CMMI12-12\" transform=\"scale(0.015625)\"/>\n      </defs>\n      <use transform=\"scale(0.996264)\" xlink:href=\"#CMMI12-12\"/>\n     </g>\n    </g>\n   </g>\n   <g id=\"matplotlib.axis_2\">\n    <g id=\"ytick_1\">\n     <g id=\"line2d_6\">\n      <defs>\n       <path d=\"M 0 0 \nL -3.5 0 \n\" id=\"m71e1e55b4e\" style=\"stroke:#000000;stroke-width:0.8;\"/>\n      </defs>\n      <g>\n       <use style=\"stroke:#000000;stroke-width:0.8;\" x=\"49.748396\" xlink:href=\"#m71e1e55b4e\" y=\"207.960414\"/>\n      </g>\n     </g>\n     <g id=\"text_7\">\n      <!-- $\\mathdefault{−2.8}$ -->\n      <g transform=\"translate(22.269573 211.419663)scale(0.1 -0.1)\">\n       <defs>\n        <path d=\"M 4218 1472 \nC 4326 1472 4442 1472 4442 1600 \nC 4442 1728 4326 1728 4218 1728 \nL 755 1728 \nC 646 1728 531 1728 531 1600 \nC 531 1472 646 1472 755 1472 \nL 4218 1472 \nz\n\" id=\"CMSY10-0\" transform=\"scale(0.015625)\"/>\n        <path d=\"M 1178 307 \nC 1178 492 1024 619 870 619 \nC 685 619 557 466 557 313 \nC 557 128 710 0 864 0 \nC 1050 0 1178 153 1178 307 \nz\n\" id=\"CMMI12-3a\" transform=\"scale(0.015625)\"/>\n        <path d=\"M 1741 2264 \nC 2144 2467 2554 2773 2554 3263 \nC 2554 3841 1990 4179 1472 4179 \nC 890 4179 378 3759 378 3180 \nC 378 3021 416 2747 666 2505 \nC 730 2442 998 2251 1171 2130 \nC 883 1983 211 1634 211 934 \nC 211 279 838 -128 1459 -128 \nC 2144 -128 2720 362 2720 1010 \nC 2720 1590 2330 1857 2074 2029 \nL 1741 2264 \nz\nM 902 2822 \nC 851 2854 595 3051 595 3351 \nC 595 3739 998 4032 1459 4032 \nC 1965 4032 2336 3676 2336 3262 \nC 2336 2669 1670 2331 1638 2331 \nC 1632 2331 1626 2331 1574 2370 \nL 902 2822 \nz\nM 2080 1519 \nC 2176 1449 2483 1240 2483 851 \nC 2483 381 2010 25 1472 25 \nC 890 25 448 438 448 940 \nC 448 1443 838 1862 1280 2060 \nL 2080 1519 \nz\n\" id=\"CMR17-38\" transform=\"scale(0.015625)\"/>\n       </defs>\n       <use transform=\"scale(0.996264)\" xlink:href=\"#CMSY10-0\"/>\n       <use transform=\"translate(77.487468 0)scale(0.996264)\" xlink:href=\"#CMR17-32\"/>\n       <use transform=\"translate(123.177945 0)scale(0.996264)\" xlink:href=\"#CMMI12-3a\"/>\n       <use transform=\"translate(150.275122 0)scale(0.996264)\" xlink:href=\"#CMR17-38\"/>\n      </g>\n     </g>\n    </g>\n    <g id=\"ytick_2\">\n     <g id=\"line2d_7\">\n      <g>\n       <use style=\"stroke:#000000;stroke-width:0.8;\" x=\"49.748396\" xlink:href=\"#m71e1e55b4e\" y=\"160.147282\"/>\n      </g>\n     </g>\n     <g id=\"text_8\">\n      <!-- $\\mathdefault{−2.6}$ -->\n      <g transform=\"translate(22.269573 163.606531)scale(0.1 -0.1)\">\n       <defs>\n        <path d=\"M 678 2176 \nC 678 3690 1395 4032 1811 4032 \nC 1946 4032 2272 4009 2400 3776 \nC 2298 3776 2106 3776 2106 3553 \nC 2106 3381 2246 3323 2336 3323 \nC 2394 3323 2566 3348 2566 3560 \nC 2566 3954 2246 4179 1805 4179 \nC 1043 4179 243 3390 243 1984 \nC 243 253 966 -128 1478 -128 \nC 2099 -128 2688 427 2688 1283 \nC 2688 2081 2170 2662 1517 2662 \nC 1126 2662 838 2407 678 1960 \nL 678 2176 \nz\nM 1478 25 \nC 691 25 691 1200 691 1436 \nC 691 1896 909 2560 1504 2560 \nC 1613 2560 1926 2560 2138 2120 \nC 2253 1870 2253 1609 2253 1289 \nC 2253 944 2253 690 2118 434 \nC 1978 171 1773 25 1478 25 \nz\n\" id=\"CMR17-36\" transform=\"scale(0.015625)\"/>\n       </defs>\n       <use transform=\"scale(0.996264)\" xlink:href=\"#CMSY10-0\"/>\n       <use transform=\"translate(77.487468 0)scale(0.996264)\" xlink:href=\"#CMR17-32\"/>\n       <use transform=\"translate(123.177945 0)scale(0.996264)\" xlink:href=\"#CMMI12-3a\"/>\n       <use transform=\"translate(150.275122 0)scale(0.996264)\" xlink:href=\"#CMR17-36\"/>\n      </g>\n     </g>\n    </g>\n    <g id=\"ytick_3\">\n     <g id=\"line2d_8\">\n      <g>\n       <use style=\"stroke:#000000;stroke-width:0.8;\" x=\"49.748396\" xlink:href=\"#m71e1e55b4e\" y=\"112.33415\"/>\n      </g>\n     </g>\n     <g id=\"text_9\">\n      <!-- $\\mathdefault{−2.4}$ -->\n      <g transform=\"translate(22.269573 115.793399)scale(0.1 -0.1)\">\n       <defs>\n        <path d=\"M 2150 4122 \nC 2150 4256 2144 4256 2029 4256 \nL 128 1254 \nL 128 1088 \nL 1779 1088 \nL 1779 457 \nC 1779 224 1766 160 1318 160 \nL 1197 160 \nL 1197 0 \nC 1402 0 1747 0 1965 0 \nC 2182 0 2528 0 2733 0 \nL 2733 160 \nL 2611 160 \nC 2163 160 2150 224 2150 457 \nL 2150 1088 \nL 2803 1088 \nL 2803 1254 \nL 2150 1254 \nL 2150 4122 \nz\nM 1798 3703 \nL 1798 1254 \nL 256 1254 \nL 1798 3703 \nz\n\" id=\"CMR17-34\" transform=\"scale(0.015625)\"/>\n       </defs>\n       <use transform=\"scale(0.996264)\" xlink:href=\"#CMSY10-0\"/>\n       <use transform=\"translate(77.487468 0)scale(0.996264)\" xlink:href=\"#CMR17-32\"/>\n       <use transform=\"translate(123.177945 0)scale(0.996264)\" xlink:href=\"#CMMI12-3a\"/>\n       <use transform=\"translate(150.275122 0)scale(0.996264)\" xlink:href=\"#CMR17-34\"/>\n      </g>\n     </g>\n    </g>\n    <g id=\"ytick_4\">\n     <g id=\"line2d_9\">\n      <g>\n       <use style=\"stroke:#000000;stroke-width:0.8;\" x=\"49.748396\" xlink:href=\"#m71e1e55b4e\" y=\"64.521017\"/>\n      </g>\n     </g>\n     <g id=\"text_10\">\n      <!-- $\\mathdefault{−2.2}$ -->\n      <g transform=\"translate(22.269573 67.980266)scale(0.1 -0.1)\">\n       <use transform=\"scale(0.996264)\" xlink:href=\"#CMSY10-0\"/>\n       <use transform=\"translate(77.487468 0)scale(0.996264)\" xlink:href=\"#CMR17-32\"/>\n       <use transform=\"translate(123.177945 0)scale(0.996264)\" xlink:href=\"#CMMI12-3a\"/>\n       <use transform=\"translate(150.275122 0)scale(0.996264)\" xlink:href=\"#CMR17-32\"/>\n      </g>\n     </g>\n    </g>\n    <g id=\"ytick_5\">\n     <g id=\"line2d_10\">\n      <g>\n       <use style=\"stroke:#000000;stroke-width:0.8;\" x=\"49.748396\" xlink:href=\"#m71e1e55b4e\" y=\"16.707885\"/>\n      </g>\n     </g>\n     <g id=\"text_11\">\n      <!-- $\\mathdefault{−2.0}$ -->\n      <g transform=\"translate(22.269573 20.167134)scale(0.1 -0.1)\">\n       <defs>\n        <path d=\"M 2688 2025 \nC 2688 2416 2682 3080 2413 3591 \nC 2176 4039 1798 4198 1466 4198 \nC 1158 4198 768 4058 525 3597 \nC 269 3118 243 2524 243 2025 \nC 243 1661 250 1106 448 619 \nC 723 -39 1216 -128 1466 -128 \nC 1760 -128 2208 -7 2470 600 \nC 2662 1042 2688 1559 2688 2025 \nz\nM 1466 -26 \nC 1056 -26 813 325 723 812 \nC 653 1188 653 1738 653 2096 \nC 653 2588 653 2997 736 3387 \nC 858 3929 1216 4096 1466 4096 \nC 1728 4096 2067 3923 2189 3400 \nC 2272 3036 2278 2607 2278 2096 \nC 2278 1680 2278 1169 2202 792 \nC 2067 95 1690 -26 1466 -26 \nz\n\" id=\"CMR17-30\" transform=\"scale(0.015625)\"/>\n       </defs>\n       <use transform=\"scale(0.996264)\" xlink:href=\"#CMSY10-0\"/>\n       <use transform=\"translate(77.487468 0)scale(0.996264)\" xlink:href=\"#CMR17-32\"/>\n       <use transform=\"translate(123.177945 0)scale(0.996264)\" xlink:href=\"#CMMI12-3a\"/>\n       <use transform=\"translate(150.275122 0)scale(0.996264)\" xlink:href=\"#CMR17-30\"/>\n      </g>\n     </g>\n    </g>\n    <g id=\"text_12\">\n     <!-- $\\beta_C$ -->\n     <g transform=\"translate(15.848112 122.662561)rotate(-90)scale(0.125 -0.125)\">\n      <defs>\n       <path d=\"M 3622 3701 \nC 3622 4081 3296 4480 2714 4480 \nC 1888 4480 1363 3477 1197 2816 \nL 186 -1172 \nC 173 -1223 211 -1236 243 -1236 \nC 288 -1236 320 -1230 326 -1198 \nL 774 586 \nC 838 229 1190 -64 1568 -64 \nC 2483 -64 3347 650 3347 1599 \nC 3347 1841 3290 2083 3155 2287 \nC 3078 2408 2982 2497 2880 2574 \nC 3341 2815 3622 3200 3622 3701 \nz\nM 2509 2580 \nC 2406 2542 2304 2529 2182 2529 \nC 2093 2529 2010 2523 1894 2561 \nC 1958 2606 2054 2618 2189 2618 \nC 2304 2618 2419 2606 2509 2580 \nz\nM 3290 3758 \nC 3290 3410 3117 2903 2701 2669 \nC 2579 2718 2413 2752 2272 2752 \nC 2138 2752 1754 2752 1754 2555 \nC 1754 2389 2106 2389 2214 2389 \nC 2381 2389 2528 2432 2682 2484 \nC 2886 2318 2976 2101 2976 1783 \nC 2976 1413 2874 1115 2752 841 \nC 2541 369 2042 64 1600 64 \nC 1133 64 890 432 890 864 \nC 890 922 890 1005 915 1099 \nL 1331 2771 \nC 1542 3603 2080 4353 2701 4353 \nC 3162 4353 3290 4036 3290 3758 \nz\n\" id=\"CMMI12-c\" transform=\"scale(0.015625)\"/>\n       <path d=\"M 4781 4423 \nC 4781 4480 4736 4480 4723 4480 \nC 4710 4480 4685 4480 4634 4416 \nL 4192 3882 \nC 3968 4264 3616 4480 3136 4480 \nC 1754 4480 320 3088 320 1595 \nC 320 533 1069 -128 2003 -128 \nC 2515 -128 2963 88 3334 400 \nC 3891 863 4058 1481 4058 1531 \nC 4058 1588 4006 1588 3987 1588 \nC 3930 1588 3923 1550 3910 1524 \nC 3616 534 2752 57 2112 57 \nC 1434 57 845 489 845 1391 \nC 845 1595 909 2700 1632 3532 \nC 1984 3939 2586 4295 3194 4295 \nC 3898 4295 4211 3717 4211 3068 \nC 4211 2903 4192 2764 4192 2738 \nC 4192 2681 4256 2681 4275 2681 \nC 4346 2681 4352 2687 4378 2801 \nL 4781 4423 \nz\n\" id=\"CMMI12-43\" transform=\"scale(0.015625)\"/>\n      </defs>\n      <use transform=\"scale(0.996264)\" xlink:href=\"#CMMI12-c\"/>\n      <use transform=\"translate(55.070737 -14.943915)scale(0.697382)\" xlink:href=\"#CMMI12-43\"/>\n     </g>\n    </g>\n   </g>\n   <g id=\"line2d_11\">\n    <path clip-path=\"url(#peb8e73f98c)\" d=\"M 64.966578 214.756364 \nL 65.880583 214.636001 \nL 66.794587 214.274957 \nL 67.708592 213.67336 \nL 68.622597 212.831423 \nL 69.84127 211.335511 \nL 71.059944 209.413818 \nL 72.278617 207.067562 \nL 73.49729 204.298227 \nL 75.020632 200.244298 \nL 76.543973 195.536076 \nL 78.067315 190.178215 \nL 79.895325 182.898765 \nL 81.723334 174.701863 \nL 83.856012 163.994899 \nL 85.988691 152.075871 \nL 88.121369 138.967878 \nL 90.558715 122.564133 \nL 92.996062 104.682229 \nL 95.738076 82.854726 \nL 98.480091 59.283736 \nL 101.526774 31.140933 \nL 103.050116 17.083636 \nL 106.401467 48.965682 \nL 109.44815 75.834076 \nL 112.190165 98.201992 \nL 114.93218 118.77726 \nL 117.369526 135.508032 \nL 119.806872 150.727884 \nL 121.939551 162.775446 \nL 124.072229 173.613309 \nL 126.204907 183.220468 \nL 128.032917 190.461458 \nL 129.860926 196.774228 \nL 131.384268 201.319288 \nL 132.90761 205.208991 \nL 134.430951 208.439491 \nL 135.649624 210.547096 \nL 136.868298 212.229419 \nL 138.086971 213.485397 \nL 139.000976 214.147103 \nL 139.914981 214.568301 \nL 140.828985 214.748841 \nL 141.74299 214.688659 \nL 142.656995 214.387777 \nL 143.571 213.846301 \nL 144.485005 213.064424 \nL 145.39901 212.042425 \nL 146.617683 210.306878 \nL 147.836356 208.146201 \nL 149.05503 205.561763 \nL 150.578371 201.737818 \nL 152.101713 197.258102 \nL 153.625054 192.127045 \nL 155.453064 185.117195 \nL 157.281074 177.186736 \nL 159.109084 168.346959 \nL 161.241762 156.901473 \nL 163.37444 144.257671 \nL 165.811786 128.371823 \nL 168.249133 110.993118 \nL 170.991148 89.712557 \nL 173.733162 66.666541 \nL 176.779845 39.079236 \nL 178.912524 18.583683 \nL 179.217192 17.834252 \nL 182.568543 49.662449 \nL 185.615226 76.47899 \nL 188.357241 98.798052 \nL 191.099256 119.322556 \nL 193.536602 136.006733 \nL 195.973949 151.178728 \nL 198.106627 163.183475 \nL 200.239305 173.977732 \nL 202.371983 183.540579 \nL 204.199993 190.743089 \nL 206.028003 197.016979 \nL 207.551344 201.529372 \nL 209.074686 205.386201 \nL 210.598027 208.583652 \nL 211.8167 210.664713 \nL 213.035374 212.320418 \nL 214.254047 213.54972 \nL 215.168052 214.191391 \nL 216.082057 214.592539 \nL 216.996062 214.75302 \nL 217.910067 214.672778 \nL 218.824071 214.351841 \nL 219.738076 213.790323 \nL 220.652081 212.988425 \nL 221.870755 211.545807 \nL 223.089428 209.677276 \nL 224.308101 207.384014 \nL 225.526774 204.667473 \nL 227.050116 200.679205 \nL 228.573457 196.036214 \nL 230.096799 190.743089 \nL 231.924809 183.540579 \nL 233.752818 175.419704 \nL 235.885497 164.800137 \nL 238.018175 152.966946 \nL 240.150853 139.943065 \nL 242.588199 123.633122 \nL 245.025546 105.842316 \nL 247.76756 84.113776 \nL 250.509575 60.637715 \nL 253.556258 32.595291 \nL 255.0796 17.834252 \nL 255.384268 18.583683 \nL 258.735619 50.357953 \nL 261.782302 77.122575 \nL 264.524317 99.392727 \nL 267.266332 119.866416 \nL 269.703678 136.503957 \nL 272.141025 151.628057 \nL 274.273703 163.589959 \nL 276.406381 174.340583 \nL 278.539059 183.859094 \nL 280.367069 191.023108 \nL 282.195079 197.258102 \nL 283.71842 201.737818 \nL 285.241762 205.561763 \nL 286.765103 208.726156 \nL 287.983777 210.780668 \nL 289.20245 212.409751 \nL 290.421123 213.612374 \nL 291.335128 214.234009 \nL 292.249133 214.615106 \nL 293.163138 214.755528 \nL 294.077143 214.655225 \nL 294.991148 214.314234 \nL 295.905153 213.732676 \nL 296.819157 212.910757 \nL 298.037831 211.441491 \nL 299.256504 209.546376 \nL 300.475177 207.226615 \nL 301.69385 204.483673 \nL 303.217192 200.46257 \nL 304.740533 195.786957 \nL 306.263875 190.461458 \nL 308.091885 183.220468 \nL 309.919895 175.06157 \nL 312.052573 164.398291 \nL 314.185251 152.522167 \nL 316.317929 139.456214 \nL 318.755275 123.09935 \nL 321.192622 105.262973 \nL 323.934637 83.484924 \nL 326.676651 59.96137 \nL 329.723334 31.868722 \nL 331.246676 17.083636 \nL 331.856012 22.312998 \nL 335.207364 53.816457 \nL 338.254047 80.320492 \nL 340.996062 102.345273 \nL 343.738076 122.564133 \nL 346.175423 138.967878 \nL 348.612769 153.851946 \nL 350.745447 165.599182 \nL 352.878126 176.131246 \nL 354.706135 184.176014 \nL 356.534145 191.301513 \nL 358.362155 197.497596 \nL 359.885497 201.944624 \nL 361.408838 205.735676 \nL 362.93218 208.867004 \nL 364.150853 210.894962 \nL 365.369526 212.497418 \nL 366.588199 213.67336 \nL 367.502204 214.274957 \nL 368.416209 214.636001 \nL 369.330214 214.756364 \nL 369.330214 214.756364 \n\" style=\"fill:none;stroke:#1f77b4;stroke-linecap:square;stroke-width:1.5;\"/>\n   </g>\n   <g id=\"patch_3\">\n    <path d=\"M 49.748396 224.64 \nL 49.748396 7.2 \n\" style=\"fill:none;stroke:#000000;stroke-linecap:square;stroke-linejoin:miter;stroke-width:0.8;\"/>\n   </g>\n   <g id=\"patch_4\">\n    <path d=\"M 384.548396 224.64 \nL 384.548396 7.2 \n\" style=\"fill:none;stroke:#000000;stroke-linecap:square;stroke-linejoin:miter;stroke-width:0.8;\"/>\n   </g>\n   <g id=\"patch_5\">\n    <path d=\"M 49.748396 224.64 \nL 384.548396 224.64 \n\" style=\"fill:none;stroke:#000000;stroke-linecap:square;stroke-linejoin:miter;stroke-width:0.8;\"/>\n   </g>\n   <g id=\"patch_6\">\n    <path d=\"M 49.748396 7.2 \nL 384.548396 7.2 \n\" style=\"fill:none;stroke:#000000;stroke-linecap:square;stroke-linejoin:miter;stroke-width:0.8;\"/>\n   </g>\n  </g>\n </g>\n <defs>\n  <clipPath id=\"peb8e73f98c\">\n   <rect height=\"217.44\" width=\"334.8\" x=\"49.748396\" y=\"7.2\"/>\n  </clipPath>\n </defs>\n</svg>\n",
      "image/png": "[encoded data removed]"
     },
     "metadata": {
      "needs_background": "light"
     }
    }
   ],
   "metadata": {}
  },
  {
   "cell_type": "code",
   "execution_count": 20,
   "source": [
    "# Defining the number of measurements\n",
    "m = 2\n",
    "\n",
    "# Defining angles\n",
    "init_guess = np.pi/3\n",
    "\n",
    "# Defining bounds for the variables\n",
    "bnds = ((0, 2*np.pi),)\n",
    "\n",
    "# Defining arguments\n",
    "basis = 'XZ'\n",
    "extra_Z_gate = False\n",
    "args = (H, N, m, basis, extra_Z_gate)\n",
    "\n",
    "# Defining minimization options\n",
    "options = {\n",
    "        'maxiter'  : 2000,\n",
    "        'gtol'     : 1e-12\n",
    "}\n",
    "\n",
    "# Creating the basinhopping algorithm\n",
    "minimizer_kwargs = {\n",
    "                'method'  : \"L-BFGS-B\",\n",
    "                'args'    : args,\n",
    "                'jac'     : '2-point',\n",
    "                'bounds'  : bnds,\n",
    "                'options' : options\n",
    "}\n",
    "\n",
    "res = basinhopping(calc_classical_bound, init_guess,\n",
    "                minimizer_kwargs = minimizer_kwargs,\n",
    "                niter = 10,\n",
    "                disp = False\n",
    ")\n",
    "\n"
   ],
   "outputs": [],
   "metadata": {}
  },
  {
   "cell_type": "code",
   "execution_count": 21,
   "source": [
    "res"
   ],
   "outputs": [
    {
     "output_type": "execute_result",
     "data": {
      "text/plain": [
       "                        fun: -2.828427124746193\n",
       " lowest_optimization_result:       fun: -2.828427124746193\n",
       " hess_inv: <1x1 LbfgsInvHessProduct with dtype=float64>\n",
       "      jac: array([5.69182437e-08])\n",
       "  message: 'CONVERGENCE: REL_REDUCTION_OF_F_<=_FACTR*EPSMCH'\n",
       "     nfev: 10\n",
       "      nit: 3\n",
       "     njev: 5\n",
       "   status: 0\n",
       "  success: True\n",
       "        x: array([1.57079631])\n",
       "                    message: ['requested number of basinhopping iterations completed successfully']\n",
       "      minimization_failures: 1\n",
       "                       nfev: 182\n",
       "                        nit: 10\n",
       "                       njev: 91\n",
       "                          x: array([1.57079631])"
      ]
     },
     "metadata": {},
     "execution_count": 21
    }
   ],
   "metadata": {}
  },
  {
   "cell_type": "code",
   "execution_count": null,
   "source": [],
   "outputs": [],
   "metadata": {}
  }
 ],
 "metadata": {
  "interpreter": {
   "hash": "916dbcbb3f70747c44a77c7bcd40155683ae19c65e1c03b4aa3499c5328201f1"
  },
  "kernelspec": {
   "name": "python3",
   "display_name": "Python 3.8.10 64-bit"
  },
  "language_info": {
   "name": "python",
   "version": "3.8.10",
   "mimetype": "text/x-python",
   "codemirror_mode": {
    "name": "ipython",
    "version": 3
   },
   "pygments_lexer": "ipython3",
   "nbconvert_exporter": "python",
   "file_extension": ".py"
  },
  "orig_nbformat": 4
 },
 "nbformat": 4,
 "nbformat_minor": 2
}