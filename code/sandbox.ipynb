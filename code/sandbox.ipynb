{
 "cells": [
  {
   "cell_type": "code",
   "execution_count": 1,
   "source": [
    "# Loading packages\n",
    "import numpy as np\n",
    "from pennylane import qchem"
   ],
   "outputs": [],
   "metadata": {}
  },
  {
   "cell_type": "code",
   "execution_count": 2,
   "source": [
    "symbols = [\"H\", \"H\"]\n",
    "coordinates = np.array([0, 0, 0, 0, 0, 0.714])"
   ],
   "outputs": [],
   "metadata": {}
  },
  {
   "cell_type": "code",
   "execution_count": 3,
   "source": [
    "H, qubits = qchem.molecular_hamiltonian(symbols, coordinates)"
   ],
   "outputs": [
    {
     "output_type": "stream",
     "name": "stderr",
     "text": [
      "/home/bowy/.local/lib/python3.8/site-packages/pyscf/lib/misc.py:46: H5pyDeprecationWarning: Setting h5py.default_file_mode is deprecated. 'r' (read-only) is the default from h5py 3.0.\n",
      "  h5py.get_config().default_file_mode = 'r'\n"
     ]
    }
   ],
   "metadata": {}
  },
  {
   "cell_type": "code",
   "execution_count": 14,
   "source": [
    "charge = 0\n",
    "multiplicity = 1\n",
    "basis_set = '3-31G'\n",
    "electrons = 2\n",
    "orbitals = 2\n",
    "\n"
   ],
   "outputs": [],
   "metadata": {}
  },
  {
   "cell_type": "code",
   "execution_count": 15,
   "source": [
    "H, qubits = qchem.molecular_hamiltonian(\n",
    "    symbols,\n",
    "    coordinates,\n",
    "    charge=charge,\n",
    "    mult=multiplicity,\n",
    "    basis=basis_set,\n",
    "    active_electrons=electrons,\n",
    "    active_orbitals=orbitals,\n",
    ")\n",
    "\n",
    "print(\"Number of qubits required to perform quantum simulations: {:}\".format(qubits))\n",
    "print(\"Hamiltonian of the water molecule\")\n",
    "print(H)"
   ],
   "outputs": [
    {
     "output_type": "error",
     "ename": "SyntaxError",
     "evalue": "unexpected EOF while parsing (<string>, line 1)",
     "traceback": [
      "Traceback \u001b[0;36m(most recent call last)\u001b[0m:\n",
      "  File \u001b[1;32m\"/home/bowy/.local/lib/python3.8/site-packages/pyscf/gto/basis/__init__.py\"\u001b[0m, line \u001b[1;32m478\u001b[0m, in \u001b[1;35mload\u001b[0m\n    return parse_nwchem.parse(filename_or_basisname, symb)\n",
      "\u001b[0;36m  File \u001b[0;32m\"/home/bowy/.local/lib/python3.8/site-packages/pyscf/gto/basis/parse_nwchem.py\"\u001b[0;36m, line \u001b[0;32m99\u001b[0;36m, in \u001b[0;35mparse\u001b[0;36m\u001b[0m\n\u001b[0;31m    raise BasisNotFoundError('Basis not found for %s' % symb)\u001b[0m\n",
      "\u001b[0;31mBasisNotFoundError\u001b[0m\u001b[0;31m:\u001b[0m Basis not found for H\n",
      "\nDuring handling of the above exception, another exception occurred:\n",
      "Traceback \u001b[0;36m(most recent call last)\u001b[0m:\n",
      "  File \u001b[1;32m\"/home/bowy/.local/lib/python3.8/site-packages/pyscf/gto/basis/parse_nwchem.py\"\u001b[0m, line \u001b[1;32m129\u001b[0m, in \u001b[1;35m_parse\u001b[0m\n    dat = [float(x) for x in dat]\n",
      "\u001b[0;36m  File \u001b[0;32m\"/home/bowy/.local/lib/python3.8/site-packages/pyscf/gto/basis/parse_nwchem.py\"\u001b[0;36m, line \u001b[0;32m129\u001b[0;36m, in \u001b[0;35m<listcomp>\u001b[0;36m\u001b[0m\n\u001b[0;31m    dat = [float(x) for x in dat]\u001b[0m\n",
      "\u001b[0;31mValueError\u001b[0m\u001b[0;31m:\u001b[0m could not convert string to float: '3-31G'\n",
      "\nDuring handling of the above exception, another exception occurred:\n",
      "Traceback \u001b[0;36m(most recent call last)\u001b[0m:\n",
      "  File \u001b[1;32m\"/home/bowy/.local/lib/python3.8/site-packages/IPython/core/interactiveshell.py\"\u001b[0m, line \u001b[1;32m3441\u001b[0m, in \u001b[1;35mrun_code\u001b[0m\n    exec(code_obj, self.user_global_ns, self.user_ns)\n",
      "  File \u001b[1;32m\"/tmp/ipykernel_27190/527479531.py\"\u001b[0m, line \u001b[1;32m1\u001b[0m, in \u001b[1;35m<module>\u001b[0m\n    H, qubits = qchem.molecular_hamiltonian(\n",
      "  File \u001b[1;32m\"/home/bowy/.local/lib/python3.8/site-packages/pennylane_qchem/qchem/structure.py\"\u001b[0m, line \u001b[1;32m831\u001b[0m, in \u001b[1;35mmolecular_hamiltonian\u001b[0m\n    hf_file = meanfield(symbols, coordinates, name, charge, mult, basis, package, outpath)\n",
      "  File \u001b[1;32m\"/home/bowy/.local/lib/python3.8/site-packages/pennylane_qchem/qchem/structure.py\"\u001b[0m, line \u001b[1;32m337\u001b[0m, in \u001b[1;35mmeanfield\u001b[0m\n    run_pyscf(molecule, run_scf=1, verbose=0)\n",
      "  File \u001b[1;32m\"/home/bowy/.local/lib/python3.8/site-packages/openfermionpyscf/_run_pyscf.py\"\u001b[0m, line \u001b[1;32m124\u001b[0m, in \u001b[1;35mrun_pyscf\u001b[0m\n    pyscf_molecule = prepare_pyscf_molecule(molecule)\n",
      "  File \u001b[1;32m\"/home/bowy/.local/lib/python3.8/site-packages/openfermionpyscf/_run_pyscf.py\"\u001b[0m, line \u001b[1;32m42\u001b[0m, in \u001b[1;35mprepare_pyscf_molecule\u001b[0m\n    pyscf_molecule.build()\n",
      "  File \u001b[1;32m\"/home/bowy/.local/lib/python3.8/site-packages/pyscf/gto/mole.py\"\u001b[0m, line \u001b[1;32m2346\u001b[0m, in \u001b[1;35mbuild\u001b[0m\n    self._basis = self.format_basis(_basis)\n",
      "  File \u001b[1;32m\"/home/bowy/.local/lib/python3.8/site-packages/pyscf/gto/mole.py\"\u001b[0m, line \u001b[1;32m2437\u001b[0m, in \u001b[1;35mformat_basis\u001b[0m\n    return format_basis(basis_tab)\n",
      "  File \u001b[1;32m\"/home/bowy/.local/lib/python3.8/site-packages/pyscf/gto/mole.py\"\u001b[0m, line \u001b[1;32m419\u001b[0m, in \u001b[1;35mformat_basis\u001b[0m\n    fmt_basis[symb] = basis_converter(symb, atom_basis)\n",
      "  File \u001b[1;32m\"/home/bowy/.local/lib/python3.8/site-packages/pyscf/gto/mole.py\"\u001b[0m, line \u001b[1;32m445\u001b[0m, in \u001b[1;35mconverter\u001b[0m\n    bset = load(str(raw_basis), _std_symbol_without_ghost(symb))\n",
      "  File \u001b[1;32m\"/home/bowy/.local/lib/python3.8/site-packages/pyscf/gto/mole.py\"\u001b[0m, line \u001b[1;32m441\u001b[0m, in \u001b[1;35mload\u001b[0m\n    return basis.load(basis_name, symb)\n",
      "  File \u001b[1;32m\"/home/bowy/.local/lib/python3.8/site-packages/pyscf/gto/basis/__init__.py\"\u001b[0m, line \u001b[1;32m481\u001b[0m, in \u001b[1;35mload\u001b[0m\n    return parse_nwchem.parse(filename_or_basisname)\n",
      "  File \u001b[1;32m\"/home/bowy/.local/lib/python3.8/site-packages/pyscf/gto/basis/parse_nwchem.py\"\u001b[0m, line \u001b[1;32m107\u001b[0m, in \u001b[1;35mparse\u001b[0m\n    return _parse(raw_basis, optimize)\n",
      "\u001b[0;36m  File \u001b[0;32m\"/home/bowy/.local/lib/python3.8/site-packages/pyscf/gto/basis/parse_nwchem.py\"\u001b[0;36m, line \u001b[0;32m134\u001b[0;36m, in \u001b[0;35m_parse\u001b[0;36m\u001b[0m\n\u001b[0;31m    dat = list(eval(','.join(dat)))\u001b[0m\n",
      "\u001b[0;36m  File \u001b[0;32m\"<string>\"\u001b[0;36m, line \u001b[0;32m1\u001b[0m\n\u001b[0;31m    3-31G\u001b[0m\n\u001b[0m        ^\u001b[0m\n\u001b[0;31mSyntaxError\u001b[0m\u001b[0;31m:\u001b[0m unexpected EOF while parsing\n"
     ]
    }
   ],
   "metadata": {}
  },
  {
   "cell_type": "code",
   "execution_count": null,
   "source": [],
   "outputs": [],
   "metadata": {}
  }
 ],
 "metadata": {
  "orig_nbformat": 4,
  "language_info": {
   "name": "python",
   "version": "3.8.10",
   "mimetype": "text/x-python",
   "codemirror_mode": {
    "name": "ipython",
    "version": 3
   },
   "pygments_lexer": "ipython3",
   "nbconvert_exporter": "python",
   "file_extension": ".py"
  },
  "kernelspec": {
   "name": "python3",
   "display_name": "Python 3.8.10 64-bit"
  },
  "interpreter": {
   "hash": "916dbcbb3f70747c44a77c7bcd40155683ae19c65e1c03b4aa3499c5328201f1"
  }
 },
 "nbformat": 4,
 "nbformat_minor": 2
}