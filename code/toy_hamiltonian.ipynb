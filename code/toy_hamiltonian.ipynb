{
 "cells": [
  {
   "cell_type": "code",
   "execution_count": 1,
   "source": [
    "# Importing packages\n",
    "import numpy as np\n",
    "from tqdm import tqdm\n",
    "import itertools\n",
    "import matplotlib.pyplot as plt\n",
    "from scipy.optimize import minimize, basinhopping\n",
    "\n",
    "# Importing Pauli matrices\n",
    "from pauli_matrices.pauli_matrices import I, X, Y, Z\n",
    "\n",
    "# Importing figure properties\n",
    "from figure_test_files.figure_properties import *\n",
    "\n",
    "# Importing functions\n",
    "from Bell_operator.Bell_operator import get_Bell_terms\n",
    "from Bell_operator.coefficients import get_coefficients\n",
    "from classical_optimization.classical_optimization import classical_optimization\n",
    "from correlation_matrix.correlation_matrix import get_correlation_matrix\n",
    "\n",
    "# Defining saving directory\n",
    "save_dir = '../data/figures/'\n"
   ],
   "outputs": [],
   "metadata": {}
  },
  {
   "cell_type": "code",
   "execution_count": 2,
   "source": [
    "def calc_classical_bound(theta, H, N, m, basis, extra_Z_gate):\n",
    "\n",
    "    # Obtaining the general correlation matrix\n",
    "    M = get_correlation_matrix(theta, N, m, basis=basis, extra_Z_gate=extra_Z_gate)\n",
    "\n",
    "    # Calcuating a list containing all the possible matrices from kronecker products of the observables in the correlation matrix\n",
    "    Bell_terms, indices = get_Bell_terms(M, N, m)\n",
    "\n",
    "    # Calculating the coefficients\n",
    "    coeffs = get_coefficients(Bell_terms, H, N)\n",
    "\n",
    "    # Calculating and returning the classical bound \n",
    "    return classical_optimization(coeffs, indices, N, m)\n"
   ],
   "outputs": [],
   "metadata": {}
  },
  {
   "cell_type": "code",
   "execution_count": 1,
   "source": [
    "# Importing packages\n",
    "import numpy as np\n",
    "from tqdm import tqdm\n",
    "import itertools\n",
    "import matplotlib.pyplot as plt\n",
    "from scipy.optimize import minimize, basinhopping\n",
    "\n",
    "# Importing Pauli matrices\n",
    "from pauli_matrices.pauli_matrices import I, X, Y, Z\n",
    "\n",
    "# Importing figure properties\n",
    "from figure_test_files.figure_properties import *\n",
    "\n",
    "# Importing functions\n",
    "from Bell_operator.Bell_operator import get_Bell_terms\n",
    "from Bell_operator.coefficients import get_coefficients\n",
    "from classical_optimization.classical_optimization import classical_optimization\n",
    "from classical_optimization.classical_bound import calc_classical_bound\n",
    "from correlation_matrix.correlation_matrix import get_correlation_matrix\n",
    "\n",
    "# Defining saving directory\n",
    "save_dir = '../data/figures/'"
   ],
   "outputs": [],
   "metadata": {}
  },
  {
   "cell_type": "code",
   "execution_count": 3,
   "source": [
    "# Defining the number of qubits\n",
    "N = 2\n",
    "\n",
    "# Defining the Hamiltonian\n",
    "H = np.sqrt(2)*(np.kron(Z, Z) + np.kron(X, X))\n",
    "\n",
    "# Calculating the eigenvalues and eigenstates\n",
    "eig_vals, eig_vecs = np.linalg.eigh(H)\n",
    "\n",
    "# extracting the ground state energy and the respective eigenstate\n",
    "psi_G = eig_vecs[:,0]\n",
    "psi_G_dagger = np.conjugate(np.transpose(psi_G))"
   ],
   "outputs": [],
   "metadata": {}
  },
  {
   "cell_type": "code",
   "execution_count": 118,
   "source": [
    "# Defining number of measurements and the angles of the N*m-1 measurements\n",
    "m = 2\n",
    "alpha = np.pi-1e-10\n",
    "theta = [alpha, np.pi/4, alpha]\n",
    "\n",
    "# Initializing basis and extra Z gate\n",
    "basis = 'XZ'\n",
    "extra_Z_gate = False\n",
    "\n",
    "# Obtaining the general correlation matrix\n",
    "M = get_correlation_matrix(theta, N, m, basis=basis, extra_Z_gate=True)\n",
    "\n",
    "# Adding one to number of measurements to account for the extra z_gate\n",
    "if extra_Z_gate:\n",
    "    m += 1\n",
    "\n",
    "# Calcuating a list containing all the possible matrices from kronecker products of the observables in the correlation matrix\n",
    "Bell_terms, indices = get_Bell_terms(M, N, m)\n",
    "\n",
    "# Calculating the coefficients\n",
    "coeffs = get_coefficients(Bell_terms, H, N)\n",
    "\n",
    "# Calculating the classical bound\n",
    "beta_C = classical_optimization(coeffs, indices, N, m)\n",
    "beta_C\n"
   ],
   "outputs": [
    {
     "output_type": "execute_result",
     "data": {
      "text/plain": [
       "-68284181965.35585"
      ]
     },
     "metadata": {},
     "execution_count": 118
    }
   ],
   "metadata": {}
  },
  {
   "cell_type": "code",
   "execution_count": 119,
   "source": [
    "# Initializing the Bell operator\n",
    "B = np.zeros((2**N, 2**N), dtype='complex128')\n",
    "\n",
    "# Adding terms to the Bell operator\n",
    "for j in range(len(coeffs)):\n",
    "    B += coeffs[j]*Bell_terms[j]\n",
    "\n",
    "# Calculating the difference between the Bell operator and the Hamiltonian\n",
    "# print(np.sum(np.abs(B-H), axis=(0,1)))\n",
    "\n",
    "# Calculting the quantum value\n",
    "beta_Q = np.matmul(psi_G_dagger, np.matmul(B, psi_G))\n",
    "np.real(beta_Q)"
   ],
   "outputs": [
    {
     "output_type": "execute_result",
     "data": {
      "text/plain": [
       "-2.8284420017041496"
      ]
     },
     "metadata": {},
     "execution_count": 119
    }
   ],
   "metadata": {}
  },
  {
   "cell_type": "code",
   "execution_count": 9,
   "source": [
    "# # Defining the number of measurements\n",
    "# m = 2\n",
    "\n",
    "# # Defining angles\n",
    "# angles = np.linspace(0, 2*np.pi, 1000)\n",
    "\n",
    "# # Initializing classical bound\n",
    "# beta_C = []\n",
    "\n",
    "# # Calculating classical bounds\n",
    "# for theta in tqdm(angles):\n",
    "\n",
    "#     # Obtaining the classical bound with the recursive algorithm\n",
    "#     beta_C.append( calc_classical_bound(theta, H, N, m, 'XZ', False) )\n",
    "\n",
    "\n",
    "# fig, ax = plt.subplots()\n",
    "# ax.plot(angles, beta_C)\n",
    "# ax.set_xlabel(r'$\\theta$')\n",
    "# ax.set_ylabel(r'$\\beta_C$')\n",
    "# ax.set_xticks([0, np.pi/2, np.pi, 3*np.pi/2, 2*np.pi])\n",
    "# ax.set_xticklabels(['0', r'$\\frac{\\pi}{2}$', r'$\\pi$', r'$\\frac{3 \\pi}{2}$', r'$2\\pi$']);\n",
    "# fig.savefig(save_dir + 'classical_bound_toy_model_m_%0f.png' %(m), dpi = 300, bbox_inches='tight');\n"
   ],
   "outputs": [],
   "metadata": {}
  },
  {
   "cell_type": "code",
   "execution_count": 120,
   "source": [
    "# Defining the number of measurements\n",
    "m = 2\n",
    "\n",
    "# Initializing empty list beta_C for call_back function\n",
    "beta_C = []\n",
    "\n",
    "# Defining angles\n",
    "eps = 1e-2\n",
    "init_guess = np.random.rand(N*m-1)*(np.pi-2*eps)+eps\n",
    "\n",
    "# Defining arguments\n",
    "basis = 'XZ'\n",
    "extra_Z_gate = False\n",
    "args = (H, N, m, basis, extra_Z_gate)\n",
    "\n",
    "# Defining minimization options\n",
    "options = {\n",
    "        'maxiter'  : 2000,\n",
    "}\n",
    "\n",
    "# Defining a fitting function and a callback function\n",
    "def fitting_func(theta, H, N, m, basis, extra_Z_gate):\n",
    "\n",
    "    return -calc_classical_bound(theta, H, N, m, basis, extra_Z_gate)\n",
    "\n",
    "def callback_function(theta):\n",
    "\n",
    "    beta_C.append( calc_classical_bound(theta, H, N, m, basis, extra_Z_gate) )\n",
    "\n",
    "\n",
    "# Defining the minimizer keyword arguments\n",
    "minimizer_kwargs = {\n",
    "                'method'  : \"Nelder-Mead\",\n",
    "                'args'    : args,\n",
    "                'options' : options,\n",
    "                'callback': callback_function\n",
    "}\n",
    "\n",
    "res = basinhopping(fitting_func, init_guess,\n",
    "                minimizer_kwargs = minimizer_kwargs,\n",
    "                niter = 10,\n",
    "                # disp = True\n",
    ")\n",
    "\n"
   ],
   "outputs": [],
   "metadata": {}
  },
  {
   "cell_type": "code",
   "execution_count": 121,
   "source": [
    "fig, ax = plt.subplots()\n",
    "ax.plot( np.linspace(1, len(beta_C), len(beta_C)), np.array(beta_C) )\n",
    "ax.set_ylim((-5, -1.9));"
   ],
   "outputs": [
    {
     "output_type": "display_data",
     "data": {
      "text/plain": [
       "<Figure size 432x288 with 1 Axes>"
      ],
      "image/svg+xml": "<?xml version=\"1.0\" encoding=\"utf-8\" standalone=\"no\"?>\n<!DOCTYPE svg PUBLIC \"-//W3C//DTD SVG 1.1//EN\"\n  \"http://www.w3.org/Graphics/SVG/1.1/DTD/svg11.dtd\">\n<svg height=\"247.695677pt\" version=\"1.1\" viewBox=\"0 0 376.678823 247.695677\" width=\"376.678823pt\" xmlns=\"http://www.w3.org/2000/svg\" xmlns:xlink=\"http://www.w3.org/1999/xlink\">\n <metadata>\n  <rdf:RDF xmlns:cc=\"http://creativecommons.org/ns#\" xmlns:dc=\"http://purl.org/dc/elements/1.1/\" xmlns:rdf=\"http://www.w3.org/1999/02/22-rdf-syntax-ns#\">\n   <cc:Work>\n    <dc:type rdf:resource=\"http://purl.org/dc/dcmitype/StillImage\"/>\n    <dc:date>2021-08-17T14:39:00.480737</dc:date>\n    <dc:format>image/svg+xml</dc:format>\n    <dc:creator>\n     <cc:Agent>\n      <dc:title>Matplotlib v3.4.3, https://matplotlib.org/</dc:title>\n     </cc:Agent>\n    </dc:creator>\n   </cc:Work>\n  </rdf:RDF>\n </metadata>\n <defs>\n  <style type=\"text/css\">*{stroke-linecap:butt;stroke-linejoin:round;}</style>\n </defs>\n <g id=\"figure_1\">\n  <g id=\"patch_1\">\n   <path d=\"M 0 247.695677 \nL 376.678823 247.695677 \nL 376.678823 0 \nL 0 0 \nz\n\" style=\"fill:none;\"/>\n  </g>\n  <g id=\"axes_1\">\n   <g id=\"patch_2\">\n    <path d=\"M 34.678823 224.64 \nL 369.478823 224.64 \nL 369.478823 7.2 \nL 34.678823 7.2 \nz\n\" style=\"fill:#ffffff;\"/>\n   </g>\n   <g id=\"matplotlib.axis_1\">\n    <g id=\"xtick_1\">\n     <g id=\"line2d_1\">\n      <defs>\n       <path d=\"M 0 0 \nL 0 3.5 \n\" id=\"m646ec552b5\" style=\"stroke:#000000;stroke-width:0.8;\"/>\n      </defs>\n      <g>\n       <use style=\"stroke:#000000;stroke-width:0.8;\" x=\"49.563272\" xlink:href=\"#m646ec552b5\" y=\"224.64\"/>\n      </g>\n     </g>\n     <g id=\"text_1\">\n      <!-- $\\mathdefault{0}$ -->\n      <g transform=\"translate(47.072605 238.558498)scale(0.1 -0.1)\">\n       <defs>\n        <path d=\"M 2688 2025 \nC 2688 2416 2682 3080 2413 3591 \nC 2176 4039 1798 4198 1466 4198 \nC 1158 4198 768 4058 525 3597 \nC 269 3118 243 2524 243 2025 \nC 243 1661 250 1106 448 619 \nC 723 -39 1216 -128 1466 -128 \nC 1760 -128 2208 -7 2470 600 \nC 2662 1042 2688 1559 2688 2025 \nz\nM 1466 -26 \nC 1056 -26 813 325 723 812 \nC 653 1188 653 1738 653 2096 \nC 653 2588 653 2997 736 3387 \nC 858 3929 1216 4096 1466 4096 \nC 1728 4096 2067 3923 2189 3400 \nC 2272 3036 2278 2607 2278 2096 \nC 2278 1680 2278 1169 2202 792 \nC 2067 95 1690 -26 1466 -26 \nz\n\" id=\"CMR17-30\" transform=\"scale(0.015625)\"/>\n       </defs>\n       <use transform=\"scale(0.996264)\" xlink:href=\"#CMR17-30\"/>\n      </g>\n     </g>\n    </g>\n    <g id=\"xtick_2\">\n     <g id=\"line2d_2\">\n      <g>\n       <use style=\"stroke:#000000;stroke-width:0.8;\" x=\"116.309684\" xlink:href=\"#m646ec552b5\" y=\"224.64\"/>\n      </g>\n     </g>\n     <g id=\"text_2\">\n      <!-- $\\mathdefault{200}$ -->\n      <g transform=\"translate(108.837681 238.558498)scale(0.1 -0.1)\">\n       <defs>\n        <path d=\"M 2669 989 \nL 2554 989 \nC 2490 536 2438 459 2413 420 \nC 2381 369 1920 369 1830 369 \nL 602 369 \nC 832 619 1280 1072 1824 1597 \nC 2214 1967 2669 2402 2669 3035 \nC 2669 3790 2067 4224 1395 4224 \nC 691 4224 262 3604 262 3030 \nC 262 2780 448 2748 525 2748 \nC 589 2748 781 2787 781 3010 \nC 781 3207 614 3264 525 3264 \nC 486 3264 448 3258 422 3245 \nC 544 3790 915 4058 1306 4058 \nC 1862 4058 2227 3617 2227 3035 \nC 2227 2479 1901 2000 1536 1584 \nL 262 146 \nL 262 0 \nL 2515 0 \nL 2669 989 \nz\n\" id=\"CMR17-32\" transform=\"scale(0.015625)\"/>\n       </defs>\n       <use transform=\"scale(0.996264)\" xlink:href=\"#CMR17-32\"/>\n       <use transform=\"translate(45.690477 0)scale(0.996264)\" xlink:href=\"#CMR17-30\"/>\n       <use transform=\"translate(91.380954 0)scale(0.996264)\" xlink:href=\"#CMR17-30\"/>\n      </g>\n     </g>\n    </g>\n    <g id=\"xtick_3\">\n     <g id=\"line2d_3\">\n      <g>\n       <use style=\"stroke:#000000;stroke-width:0.8;\" x=\"183.056095\" xlink:href=\"#m646ec552b5\" y=\"224.64\"/>\n      </g>\n     </g>\n     <g id=\"text_3\">\n      <!-- $\\mathdefault{400}$ -->\n      <g transform=\"translate(175.584093 238.558498)scale(0.1 -0.1)\">\n       <defs>\n        <path d=\"M 2150 4122 \nC 2150 4256 2144 4256 2029 4256 \nL 128 1254 \nL 128 1088 \nL 1779 1088 \nL 1779 457 \nC 1779 224 1766 160 1318 160 \nL 1197 160 \nL 1197 0 \nC 1402 0 1747 0 1965 0 \nC 2182 0 2528 0 2733 0 \nL 2733 160 \nL 2611 160 \nC 2163 160 2150 224 2150 457 \nL 2150 1088 \nL 2803 1088 \nL 2803 1254 \nL 2150 1254 \nL 2150 4122 \nz\nM 1798 3703 \nL 1798 1254 \nL 256 1254 \nL 1798 3703 \nz\n\" id=\"CMR17-34\" transform=\"scale(0.015625)\"/>\n       </defs>\n       <use transform=\"scale(0.996264)\" xlink:href=\"#CMR17-34\"/>\n       <use transform=\"translate(45.690477 0)scale(0.996264)\" xlink:href=\"#CMR17-30\"/>\n       <use transform=\"translate(91.380954 0)scale(0.996264)\" xlink:href=\"#CMR17-30\"/>\n      </g>\n     </g>\n    </g>\n    <g id=\"xtick_4\">\n     <g id=\"line2d_4\">\n      <g>\n       <use style=\"stroke:#000000;stroke-width:0.8;\" x=\"249.802507\" xlink:href=\"#m646ec552b5\" y=\"224.64\"/>\n      </g>\n     </g>\n     <g id=\"text_4\">\n      <!-- $\\mathdefault{600}$ -->\n      <g transform=\"translate(242.330504 238.558498)scale(0.1 -0.1)\">\n       <defs>\n        <path d=\"M 678 2176 \nC 678 3690 1395 4032 1811 4032 \nC 1946 4032 2272 4009 2400 3776 \nC 2298 3776 2106 3776 2106 3553 \nC 2106 3381 2246 3323 2336 3323 \nC 2394 3323 2566 3348 2566 3560 \nC 2566 3954 2246 4179 1805 4179 \nC 1043 4179 243 3390 243 1984 \nC 243 253 966 -128 1478 -128 \nC 2099 -128 2688 427 2688 1283 \nC 2688 2081 2170 2662 1517 2662 \nC 1126 2662 838 2407 678 1960 \nL 678 2176 \nz\nM 1478 25 \nC 691 25 691 1200 691 1436 \nC 691 1896 909 2560 1504 2560 \nC 1613 2560 1926 2560 2138 2120 \nC 2253 1870 2253 1609 2253 1289 \nC 2253 944 2253 690 2118 434 \nC 1978 171 1773 25 1478 25 \nz\n\" id=\"CMR17-36\" transform=\"scale(0.015625)\"/>\n       </defs>\n       <use transform=\"scale(0.996264)\" xlink:href=\"#CMR17-36\"/>\n       <use transform=\"translate(45.690477 0)scale(0.996264)\" xlink:href=\"#CMR17-30\"/>\n       <use transform=\"translate(91.380954 0)scale(0.996264)\" xlink:href=\"#CMR17-30\"/>\n      </g>\n     </g>\n    </g>\n    <g id=\"xtick_5\">\n     <g id=\"line2d_5\">\n      <g>\n       <use style=\"stroke:#000000;stroke-width:0.8;\" x=\"316.548918\" xlink:href=\"#m646ec552b5\" y=\"224.64\"/>\n      </g>\n     </g>\n     <g id=\"text_5\">\n      <!-- $\\mathdefault{800}$ -->\n      <g transform=\"translate(309.076916 238.558498)scale(0.1 -0.1)\">\n       <defs>\n        <path d=\"M 1741 2264 \nC 2144 2467 2554 2773 2554 3263 \nC 2554 3841 1990 4179 1472 4179 \nC 890 4179 378 3759 378 3180 \nC 378 3021 416 2747 666 2505 \nC 730 2442 998 2251 1171 2130 \nC 883 1983 211 1634 211 934 \nC 211 279 838 -128 1459 -128 \nC 2144 -128 2720 362 2720 1010 \nC 2720 1590 2330 1857 2074 2029 \nL 1741 2264 \nz\nM 902 2822 \nC 851 2854 595 3051 595 3351 \nC 595 3739 998 4032 1459 4032 \nC 1965 4032 2336 3676 2336 3262 \nC 2336 2669 1670 2331 1638 2331 \nC 1632 2331 1626 2331 1574 2370 \nL 902 2822 \nz\nM 2080 1519 \nC 2176 1449 2483 1240 2483 851 \nC 2483 381 2010 25 1472 25 \nC 890 25 448 438 448 940 \nC 448 1443 838 1862 1280 2060 \nL 2080 1519 \nz\n\" id=\"CMR17-38\" transform=\"scale(0.015625)\"/>\n       </defs>\n       <use transform=\"scale(0.996264)\" xlink:href=\"#CMR17-38\"/>\n       <use transform=\"translate(45.690477 0)scale(0.996264)\" xlink:href=\"#CMR17-30\"/>\n       <use transform=\"translate(91.380954 0)scale(0.996264)\" xlink:href=\"#CMR17-30\"/>\n      </g>\n     </g>\n    </g>\n   </g>\n   <g id=\"matplotlib.axis_2\">\n    <g id=\"ytick_1\">\n     <g id=\"line2d_6\">\n      <defs>\n       <path d=\"M 0 0 \nL -3.5 0 \n\" id=\"mbd9f4f6c4a\" style=\"stroke:#000000;stroke-width:0.8;\"/>\n      </defs>\n      <g>\n       <use style=\"stroke:#000000;stroke-width:0.8;\" x=\"34.678823\" xlink:href=\"#mbd9f4f6c4a\" y=\"224.64\"/>\n      </g>\n     </g>\n     <g id=\"text_6\">\n      <!-- $\\mathdefault{−5.0}$ -->\n      <g transform=\"translate(7.2 228.099249)scale(0.1 -0.1)\">\n       <defs>\n        <path d=\"M 4218 1472 \nC 4326 1472 4442 1472 4442 1600 \nC 4442 1728 4326 1728 4218 1728 \nL 755 1728 \nC 646 1728 531 1728 531 1600 \nC 531 1472 646 1472 755 1472 \nL 4218 1472 \nz\n\" id=\"CMSY10-0\" transform=\"scale(0.015625)\"/>\n        <path d=\"M 730 3692 \nC 794 3666 1056 3584 1325 3584 \nC 1920 3584 2246 3911 2432 4100 \nC 2432 4157 2432 4192 2394 4192 \nC 2387 4192 2374 4192 2323 4163 \nC 2099 4058 1837 3973 1517 3973 \nC 1325 3973 1037 3999 723 4139 \nC 653 4171 640 4171 634 4171 \nC 602 4171 595 4164 595 4037 \nL 595 2203 \nC 595 2089 595 2057 659 2057 \nC 691 2057 704 2070 736 2114 \nC 941 2401 1222 2522 1542 2522 \nC 1766 2522 2246 2382 2246 1289 \nC 2246 1085 2246 715 2054 421 \nC 1894 159 1645 25 1370 25 \nC 947 25 518 320 403 814 \nC 429 807 480 795 506 795 \nC 589 795 749 840 749 1038 \nC 749 1210 627 1280 506 1280 \nC 358 1280 262 1190 262 1011 \nC 262 454 704 -128 1382 -128 \nC 2042 -128 2669 440 2669 1264 \nC 2669 2030 2170 2624 1549 2624 \nC 1222 2624 947 2503 730 2274 \nL 730 3692 \nz\n\" id=\"CMR17-35\" transform=\"scale(0.015625)\"/>\n        <path d=\"M 1178 307 \nC 1178 492 1024 619 870 619 \nC 685 619 557 466 557 313 \nC 557 128 710 0 864 0 \nC 1050 0 1178 153 1178 307 \nz\n\" id=\"CMMI12-3a\" transform=\"scale(0.015625)\"/>\n       </defs>\n       <use transform=\"scale(0.996264)\" xlink:href=\"#CMSY10-0\"/>\n       <use transform=\"translate(77.487468 0)scale(0.996264)\" xlink:href=\"#CMR17-35\"/>\n       <use transform=\"translate(123.177945 0)scale(0.996264)\" xlink:href=\"#CMMI12-3a\"/>\n       <use transform=\"translate(150.275122 0)scale(0.996264)\" xlink:href=\"#CMR17-30\"/>\n      </g>\n     </g>\n    </g>\n    <g id=\"ytick_2\">\n     <g id=\"line2d_7\">\n      <g>\n       <use style=\"stroke:#000000;stroke-width:0.8;\" x=\"34.678823\" xlink:href=\"#mbd9f4f6c4a\" y=\"189.569032\"/>\n      </g>\n     </g>\n     <g id=\"text_7\">\n      <!-- $\\mathdefault{−4.5}$ -->\n      <g transform=\"translate(7.2 193.028281)scale(0.1 -0.1)\">\n       <use transform=\"scale(0.996264)\" xlink:href=\"#CMSY10-0\"/>\n       <use transform=\"translate(77.487468 0)scale(0.996264)\" xlink:href=\"#CMR17-34\"/>\n       <use transform=\"translate(123.177945 0)scale(0.996264)\" xlink:href=\"#CMMI12-3a\"/>\n       <use transform=\"translate(150.275122 0)scale(0.996264)\" xlink:href=\"#CMR17-35\"/>\n      </g>\n     </g>\n    </g>\n    <g id=\"ytick_3\">\n     <g id=\"line2d_8\">\n      <g>\n       <use style=\"stroke:#000000;stroke-width:0.8;\" x=\"34.678823\" xlink:href=\"#mbd9f4f6c4a\" y=\"154.498065\"/>\n      </g>\n     </g>\n     <g id=\"text_8\">\n      <!-- $\\mathdefault{−4.0}$ -->\n      <g transform=\"translate(7.2 157.957314)scale(0.1 -0.1)\">\n       <use transform=\"scale(0.996264)\" xlink:href=\"#CMSY10-0\"/>\n       <use transform=\"translate(77.487468 0)scale(0.996264)\" xlink:href=\"#CMR17-34\"/>\n       <use transform=\"translate(123.177945 0)scale(0.996264)\" xlink:href=\"#CMMI12-3a\"/>\n       <use transform=\"translate(150.275122 0)scale(0.996264)\" xlink:href=\"#CMR17-30\"/>\n      </g>\n     </g>\n    </g>\n    <g id=\"ytick_4\">\n     <g id=\"line2d_9\">\n      <g>\n       <use style=\"stroke:#000000;stroke-width:0.8;\" x=\"34.678823\" xlink:href=\"#mbd9f4f6c4a\" y=\"119.427097\"/>\n      </g>\n     </g>\n     <g id=\"text_9\">\n      <!-- $\\mathdefault{−3.5}$ -->\n      <g transform=\"translate(7.2 122.886346)scale(0.1 -0.1)\">\n       <defs>\n        <path d=\"M 1414 2157 \nC 1984 2157 2234 1662 2234 1090 \nC 2234 320 1824 25 1453 25 \nC 1114 25 563 194 390 693 \nC 422 680 454 680 486 680 \nC 640 680 755 782 755 948 \nC 755 1133 614 1216 486 1216 \nC 378 1216 211 1165 211 926 \nC 211 335 787 -128 1466 -128 \nC 2176 -128 2720 430 2720 1085 \nC 2720 1707 2208 2157 1600 2227 \nC 2086 2328 2554 2756 2554 3329 \nC 2554 3820 2048 4179 1472 4179 \nC 890 4179 378 3829 378 3329 \nC 378 3110 544 3072 627 3072 \nC 762 3072 877 3155 877 3321 \nC 877 3486 762 3569 627 3569 \nC 602 3569 570 3569 544 3557 \nC 730 3959 1235 4032 1459 4032 \nC 1683 4032 2106 3925 2106 3320 \nC 2106 3143 2080 2828 1862 2550 \nC 1670 2304 1453 2304 1242 2284 \nC 1210 2284 1062 2269 1037 2269 \nC 992 2263 966 2257 966 2208 \nC 966 2163 973 2157 1101 2157 \nL 1414 2157 \nz\n\" id=\"CMR17-33\" transform=\"scale(0.015625)\"/>\n       </defs>\n       <use transform=\"scale(0.996264)\" xlink:href=\"#CMSY10-0\"/>\n       <use transform=\"translate(77.487468 0)scale(0.996264)\" xlink:href=\"#CMR17-33\"/>\n       <use transform=\"translate(123.177945 0)scale(0.996264)\" xlink:href=\"#CMMI12-3a\"/>\n       <use transform=\"translate(150.275122 0)scale(0.996264)\" xlink:href=\"#CMR17-35\"/>\n      </g>\n     </g>\n    </g>\n    <g id=\"ytick_5\">\n     <g id=\"line2d_10\">\n      <g>\n       <use style=\"stroke:#000000;stroke-width:0.8;\" x=\"34.678823\" xlink:href=\"#mbd9f4f6c4a\" y=\"84.356129\"/>\n      </g>\n     </g>\n     <g id=\"text_10\">\n      <!-- $\\mathdefault{−3.0}$ -->\n      <g transform=\"translate(7.2 87.815378)scale(0.1 -0.1)\">\n       <use transform=\"scale(0.996264)\" xlink:href=\"#CMSY10-0\"/>\n       <use transform=\"translate(77.487468 0)scale(0.996264)\" xlink:href=\"#CMR17-33\"/>\n       <use transform=\"translate(123.177945 0)scale(0.996264)\" xlink:href=\"#CMMI12-3a\"/>\n       <use transform=\"translate(150.275122 0)scale(0.996264)\" xlink:href=\"#CMR17-30\"/>\n      </g>\n     </g>\n    </g>\n    <g id=\"ytick_6\">\n     <g id=\"line2d_11\">\n      <g>\n       <use style=\"stroke:#000000;stroke-width:0.8;\" x=\"34.678823\" xlink:href=\"#mbd9f4f6c4a\" y=\"49.285161\"/>\n      </g>\n     </g>\n     <g id=\"text_11\">\n      <!-- $\\mathdefault{−2.5}$ -->\n      <g transform=\"translate(7.2 52.74441)scale(0.1 -0.1)\">\n       <use transform=\"scale(0.996264)\" xlink:href=\"#CMSY10-0\"/>\n       <use transform=\"translate(77.487468 0)scale(0.996264)\" xlink:href=\"#CMR17-32\"/>\n       <use transform=\"translate(123.177945 0)scale(0.996264)\" xlink:href=\"#CMMI12-3a\"/>\n       <use transform=\"translate(150.275122 0)scale(0.996264)\" xlink:href=\"#CMR17-35\"/>\n      </g>\n     </g>\n    </g>\n    <g id=\"ytick_7\">\n     <g id=\"line2d_12\">\n      <g>\n       <use style=\"stroke:#000000;stroke-width:0.8;\" x=\"34.678823\" xlink:href=\"#mbd9f4f6c4a\" y=\"14.214194\"/>\n      </g>\n     </g>\n     <g id=\"text_12\">\n      <!-- $\\mathdefault{−2.0}$ -->\n      <g transform=\"translate(7.2 17.673443)scale(0.1 -0.1)\">\n       <use transform=\"scale(0.996264)\" xlink:href=\"#CMSY10-0\"/>\n       <use transform=\"translate(77.487468 0)scale(0.996264)\" xlink:href=\"#CMR17-32\"/>\n       <use transform=\"translate(123.177945 0)scale(0.996264)\" xlink:href=\"#CMMI12-3a\"/>\n       <use transform=\"translate(150.275122 0)scale(0.996264)\" xlink:href=\"#CMR17-30\"/>\n      </g>\n     </g>\n    </g>\n   </g>\n   <g id=\"line2d_13\">\n    <path clip-path=\"url(#p283c65bc2d)\" d=\"M 49.897005 80.371851 \nL 50.564469 80.371851 \nL 50.898201 80.03706 \nL 51.565665 78.932771 \nL 51.899397 74.717219 \nL 52.900593 74.717219 \nL 53.568057 66.474862 \nL 53.901789 66.474862 \nL 54.235521 53.620674 \nL 54.569253 53.620674 \nL 54.902985 40.274814 \nL 55.236717 31.967859 \nL 55.570449 31.116444 \nL 55.904182 31.116444 \nL 56.237914 29.150049 \nL 57.906574 29.150049 \nL 58.240306 27.217836 \nL 58.574038 27.217836 \nL 58.90777 24.46626 \nL 59.908966 24.46626 \nL 60.242698 22.583546 \nL 60.57643 19.638458 \nL 61.577627 19.638458 \nL 61.911359 17.346411 \nL 62.912555 17.346411 \nL 63.246287 15.872609 \nL 63.580019 15.872609 \nL 63.913751 15.523453 \nL 64.581215 15.523453 \nL 64.914947 15.259371 \nL 66.249875 15.209682 \nL 66.917339 15.096408 \nL 67.918536 15.05728 \nL 73.258249 14.950033 \nL 74.593177 14.781123 \nL 75.928105 14.403108 \nL 76.595569 14.39294 \nL 76.929301 14.255341 \nL 81.935282 14.233345 \nL 82.269014 75.67959 \nL 82.602746 75.67959 \nL 82.936478 40.70503 \nL 83.937674 40.70503 \nL 84.605138 33.696201 \nL 85.606335 33.696201 \nL 85.940067 30.790907 \nL 86.941263 30.790907 \nL 87.274995 29.312038 \nL 87.942459 29.312038 \nL 88.276191 28.982656 \nL 88.609923 28.908229 \nL 88.943655 28.589198 \nL 89.277387 28.56781 \nL 89.611119 28.31931 \nL 89.944851 28.31931 \nL 90.278583 28.1848 \nL 92.280976 28.102351 \nL 92.94844 28.017848 \nL 95.284564 27.934395 \nL 96.285761 27.64592 \nL 96.953225 27.128647 \nL 97.286957 26.677727 \nL 97.620689 25.989718 \nL 97.954421 25.828716 \nL 98.288153 25.828716 \nL 98.621885 25.630258 \nL 103.294134 25.525455 \nL 104.29533 25.330969 \nL 105.296526 24.857947 \nL 108.967579 24.747304 \nL 113.639827 24.731538 \nL 113.97356 111.335449 \nL 114.307292 111.335449 \nL 114.641024 76.775671 \nL 115.308488 76.775671 \nL 115.64222 72.467638 \nL 115.975952 72.467638 \nL 116.309684 68.656746 \nL 116.643416 68.656746 \nL 117.31088 52.961334 \nL 118.645808 52.961334 \nL 118.97954 48.637194 \nL 119.313272 48.637194 \nL 119.647005 48.348362 \nL 119.980737 47.78644 \nL 120.314469 44.864471 \nL 121.315665 44.864471 \nL 121.649397 43.668404 \nL 122.650593 43.668404 \nL 122.984325 43.54422 \nL 124.319253 43.54422 \nL 124.652985 42.805662 \nL 124.986717 42.583938 \nL 125.320449 41.955842 \nL 127.656574 41.93873 \nL 127.990306 41.639308 \nL 128.65777 41.639308 \nL 128.991502 41.459226 \nL 129.658966 41.407089 \nL 129.992698 41.190354 \nL 130.32643 41.190354 \nL 130.660162 41.06918 \nL 130.993894 41.06918 \nL 131.661359 40.574454 \nL 131.995091 39.617504 \nL 132.328823 39.617504 \nL 132.662555 38.94398 \nL 132.996287 36.868813 \nL 133.330019 36.868813 \nL 133.997483 30.405219 \nL 134.331215 26.803874 \nL 134.664947 19.741108 \nL 134.998679 18.016592 \nL 135.666143 18.016592 \nL 135.999875 16.651682 \nL 136.667339 16.651682 \nL 137.001072 16.091934 \nL 137.668536 16.091934 \nL 138.002268 15.462589 \nL 139.003464 15.462589 \nL 139.337196 15.330888 \nL 142.674516 15.2827 \nL 143.008249 15.132861 \nL 147.680497 15.026172 \nL 149.349158 14.996382 \nL 151.35155 14.986741 \nL 151.685282 66.151121 \nL 152.019014 37.553168 \nL 153.02021 37.553168 \nL 153.353942 25.179502 \nL 155.356335 25.179502 \nL 155.690067 23.528732 \nL 156.691263 23.528732 \nL 157.024995 22.182366 \nL 159.027387 22.182366 \nL 159.361119 21.607307 \nL 159.694851 21.607307 \nL 160.028583 21.327957 \nL 160.696048 21.327957 \nL 161.02978 20.07397 \nL 161.697244 20.07397 \nL 162.364708 18.60026 \nL 162.69844 15.857713 \nL 163.032172 15.168333 \nL 164.700832 15.168333 \nL 165.034564 14.897752 \nL 165.368296 14.897752 \nL 165.702028 14.542217 \nL 167.036957 14.491717 \nL 167.370689 14.255582 \nL 177.38265 14.21853 \nL 177.716383 45.601265 \nL 178.050115 45.601265 \nL 178.383847 36.770485 \nL 181.387435 36.770485 \nL 181.721167 32.955449 \nL 182.054899 26.737622 \nL 182.388631 26.737622 \nL 182.722363 19.847152 \nL 184.724756 19.847152 \nL 185.058488 19.344869 \nL 187.06088 19.287075 \nL 187.394612 18.398845 \nL 188.062076 18.398845 \nL 188.395808 18.219208 \nL 188.72954 17.065425 \nL 189.063272 17.065425 \nL 189.397005 16.908395 \nL 189.730737 16.216546 \nL 190.398201 16.216546 \nL 190.731933 15.442756 \nL 191.065665 15.442756 \nL 191.399397 14.973058 \nL 192.734325 14.973058 \nL 193.068057 14.463831 \nL 196.071646 14.372513 \nL 197.072842 14.288886 \nL 203.747483 14.239215 \nL 204.081215 30.12386 \nL 205.416143 30.12386 \nL 205.749875 25.572306 \nL 206.083607 23.969302 \nL 206.417339 23.969302 \nL 206.751072 19.032762 \nL 207.084804 18.688828 \nL 207.418536 16.949679 \nL 207.752268 16.949679 \nL 208.086 14.802444 \nL 210.422124 14.79503 \nL 210.755856 14.511933 \nL 215.428105 14.31199 \nL 219.766622 14.273471 \nL 220.100354 43.896683 \nL 220.434086 26.415795 \nL 221.435282 26.415795 \nL 221.769014 21.345103 \nL 222.102746 18.813882 \nL 223.437674 18.737842 \nL 223.771406 17.752835 \nL 224.105138 17.511083 \nL 224.438871 15.613402 \nL 225.106335 15.613402 \nL 225.440067 15.199666 \nL 226.441263 15.194861 \nL 226.774995 15.021859 \nL 227.108727 14.999202 \nL 227.442459 14.668093 \nL 229.111119 14.668093 \nL 229.444851 14.44821 \nL 231.447244 14.356249 \nL 233.115904 14.251134 \nL 240.458009 14.217947 \nL 240.791741 44.683388 \nL 241.125473 43.792784 \nL 241.459205 43.792784 \nL 241.792938 32.67032 \nL 242.460402 32.67032 \nL 242.794134 27.14995 \nL 243.461598 27.14995 \nL 243.79533 23.031299 \nL 244.129062 23.031299 \nL 244.462794 18.24652 \nL 246.131454 18.24652 \nL 246.465186 15.56125 \nL 247.466383 15.56125 \nL 248.467579 14.930679 \nL 248.801311 14.748566 \nL 249.802507 14.664299 \nL 250.136239 14.442887 \nL 251.137435 14.440884 \nL 251.471167 14.316699 \nL 263.151789 14.218589 \nL 263.485521 56.790986 \nL 263.819253 56.790986 \nL 264.152985 55.711833 \nL 264.486717 49.185839 \nL 265.154182 49.185839 \nL 265.487914 45.881914 \nL 266.48911 45.881914 \nL 266.822842 44.756813 \nL 267.156574 41.816945 \nL 267.490306 41.816945 \nL 267.824038 33.067802 \nL 268.825234 33.067802 \nL 269.158966 28.893081 \nL 270.493894 28.831203 \nL 270.827627 26.1122 \nL 272.830019 26.1122 \nL 273.163751 25.868153 \nL 273.831215 25.868153 \nL 274.164947 25.443696 \nL 275.833607 25.344025 \nL 277.836 25.2656 \nL 278.503464 25.226621 \nL 278.837196 25.097753 \nL 279.50466 25.073573 \nL 279.838392 24.907848 \nL 280.172124 24.907848 \nL 280.839588 24.322322 \nL 281.17332 24.322322 \nL 281.840784 22.960077 \nL 282.174516 22.349166 \nL 282.841981 18.444736 \nL 283.175713 17.924748 \nL 283.843177 17.924748 \nL 284.176909 16.818277 \nL 285.178105 16.818277 \nL 285.511837 16.51749 \nL 285.845569 16.51749 \nL 286.179301 16.131349 \nL 287.514229 16.131349 \nL 287.847961 15.853862 \nL 289.850354 15.769237 \nL 290.184086 15.739183 \nL 290.85155 15.288852 \nL 291.185282 15.288852 \nL 291.519014 14.527356 \nL 294.188871 14.47146 \nL 294.856335 14.354632 \nL 297.192459 14.274927 \nL 298.527387 14.24066 \nL 301.530976 14.218528 \nL 301.864708 49.528553 \nL 302.19844 30.431074 \nL 302.532172 30.431074 \nL 302.865904 26.862268 \nL 303.199636 26.862268 \nL 303.533368 23.960408 \nL 304.200832 23.960408 \nL 304.534564 21.347708 \nL 305.535761 21.347708 \nL 305.869493 20.712768 \nL 307.204421 20.712768 \nL 307.538153 19.348832 \nL 307.871885 18.661557 \nL 308.539349 18.661557 \nL 308.873081 18.531835 \nL 309.206813 18.531835 \nL 309.874277 17.679327 \nL 312.544134 17.654394 \nL 313.211598 17.539842 \nL 315.547722 17.522724 \nL 317.216383 17.428516 \nL 318.551311 17.078823 \nL 318.885043 16.893724 \nL 319.552507 16.02335 \nL 319.886239 15.235026 \nL 320.219971 14.958628 \nL 320.553703 14.400106 \nL 325.225952 14.325407 \nL 326.227148 14.263813 \nL 330.899397 14.243001 \nL 331.233129 29.529849 \nL 332.234325 29.529849 \nL 332.568057 24.274656 \nL 333.235521 24.274656 \nL 333.569253 24.059928 \nL 334.236717 24.059928 \nL 334.570449 23.708364 \nL 334.904182 22.859734 \nL 335.237914 21.691807 \nL 336.23911 21.691807 \nL 336.572842 19.705014 \nL 336.906574 19.705014 \nL 337.574038 18.214302 \nL 337.90777 15.549879 \nL 339.57643 15.549879 \nL 340.243894 15.4386 \nL 340.577627 15.4386 \nL 340.911359 14.86458 \nL 341.578823 14.858437 \nL 341.912555 14.585276 \nL 342.246287 14.585276 \nL 342.580019 14.380982 \nL 345.917339 14.283353 \nL 347.919732 14.232018 \nL 354.260641 14.21898 \nL 354.260641 14.21898 \n\" style=\"fill:none;stroke:#1f77b4;stroke-linecap:square;stroke-width:1.5;\"/>\n   </g>\n   <g id=\"patch_3\">\n    <path d=\"M 34.678823 224.64 \nL 34.678823 7.2 \n\" style=\"fill:none;stroke:#000000;stroke-linecap:square;stroke-linejoin:miter;stroke-width:0.8;\"/>\n   </g>\n   <g id=\"patch_4\">\n    <path d=\"M 369.478823 224.64 \nL 369.478823 7.2 \n\" style=\"fill:none;stroke:#000000;stroke-linecap:square;stroke-linejoin:miter;stroke-width:0.8;\"/>\n   </g>\n   <g id=\"patch_5\">\n    <path d=\"M 34.678823 224.64 \nL 369.478823 224.64 \n\" style=\"fill:none;stroke:#000000;stroke-linecap:square;stroke-linejoin:miter;stroke-width:0.8;\"/>\n   </g>\n   <g id=\"patch_6\">\n    <path d=\"M 34.678823 7.2 \nL 369.478823 7.2 \n\" style=\"fill:none;stroke:#000000;stroke-linecap:square;stroke-linejoin:miter;stroke-width:0.8;\"/>\n   </g>\n  </g>\n </g>\n <defs>\n  <clipPath id=\"p283c65bc2d\">\n   <rect height=\"217.44\" width=\"334.8\" x=\"34.678823\" y=\"7.2\"/>\n  </clipPath>\n </defs>\n</svg>\n",
      "image/png": "[encoded data removed]"
     },
     "metadata": {
      "needs_background": "light"
     }
    }
   ],
   "metadata": {}
  },
  {
   "cell_type": "code",
   "execution_count": 110,
   "source": [
    "np.max(beta_C)"
   ],
   "outputs": [
    {
     "output_type": "execute_result",
     "data": {
      "text/plain": [
       "-2.00002045726312"
      ]
     },
     "metadata": {},
     "execution_count": 110
    }
   ],
   "metadata": {}
  }
 ],
 "metadata": {
  "interpreter": {
   "hash": "916dbcbb3f70747c44a77c7bcd40155683ae19c65e1c03b4aa3499c5328201f1"
  },
  "kernelspec": {
   "name": "python3",
   "display_name": "Python 3.8.10 64-bit"
  },
  "language_info": {
   "name": "python",
   "version": "3.8.10",
   "mimetype": "text/x-python",
   "codemirror_mode": {
    "name": "ipython",
    "version": 3
   },
   "pygments_lexer": "ipython3",
   "nbconvert_exporter": "python",
   "file_extension": ".py"
  },
  "orig_nbformat": 4
 },
 "nbformat": 4,
 "nbformat_minor": 2
}