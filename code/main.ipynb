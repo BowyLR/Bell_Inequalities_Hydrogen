{
 "cells": [
  {
   "cell_type": "code",
   "execution_count": 44,
   "source": [
    "# Importing packages\r\n",
    "import numpy as np\r\n",
    "from sympy import solve, symbols, Eq\r\n",
    "import random "
   ],
   "outputs": [],
   "metadata": {}
  },
  {
   "cell_type": "code",
   "execution_count": 106,
   "source": [
    "# Defining Pauli matrices and the identity matrix\r\n",
    "I = np.array([[1, 0], [0, 1]])\r\n",
    "X = np.array([[0, 1], [1, 0]])\r\n",
    "Y = np.array([[0, -1j], [1j, 0]])\r\n",
    "Z = np.array([[1, 0], [0, -1]])\r\n",
    "\r\n",
    "# Defining the Hamiltonian\r\n",
    "H = np.kron(Z, Z) + np.kron(X, X)\r\n",
    "\r\n",
    "# Defining the measurement choices for Alice and Bob\r\n",
    "A_0 = X\r\n",
    "A_1 = Z\r\n",
    "B_0 = 1/np.sqrt(2)*(X+Z)\r\n",
    "B_1 = 1/np.sqrt(2)*(X-Z)\r\n",
    "\r\n",
    "# Defining expansion coefficients C_ij\r\n",
    "coeffs = [C_00, C_01, C_10, C_11] = symbols(('C_00', 'C_01', 'C_10', 'C_11'))\r\n",
    "\r\n",
    "# Defining the Bell operator\r\n",
    "Bell_operator = coeffs[0]*np.kron(A_0, B_0) + coeffs[1]*np.kron(A_0, B_1) + coeffs[2]*np.kron(A_1, B_0) + coeffs[3]*np.kron(A_1, B_1)\r\n",
    "\r\n",
    "# Creating the sytsem of equations\r\n",
    "Ops = [X, Z]\r\n",
    "eqs = []\r\n",
    "for i in range(len(Ops)):\r\n",
    "    for j in range(len(Ops)):\r\n",
    "        # Defining the projector operator\r\n",
    "        Projector = np.kron(Ops[i],Ops[j])\r\n",
    "\r\n",
    "        # calculating system of equations\r\n",
    "        eqs.append( \r\n",
    "            Eq( \r\n",
    "                np.trace( np.matmul(Bell_operator, Projector) ), \r\n",
    "                np.trace( np.matmul(H, Projector) )\r\n",
    "            ) \r\n",
    "        )\r\n",
    "\r\n",
    "# Solving the system of equations\r\n",
    "ans = solve(eqs, coeffs)\r\n",
    "\r\n",
    "# Substituting the results in the Bell operator\r\n",
    "Bell_operator = float(ans[C_00])*np.kron(A_0, B_0) + float(ans[C_01])*np.kron(A_0, B_1) + float(ans[C_10])*np.kron(A_1, B_0) + float(ans[C_11])*np.kron(A_1, B_1)\r\n",
    "\r\n",
    "# Calculating the eigenvalues and the lowest \r\n",
    "eig_vals, eig_vecs = np.linalg.eigh(H)\r\n",
    "\r\n",
    "# extracting the ground state energy and the respective eigenstate\r\n",
    "E_G = eig_vals[0]\r\n",
    "psi_G = eig_vecs[:,0]\r\n",
    "psi_G_dagger = np.conjugate(np.transpose(psi_G))\r\n",
    "\r\n",
    "# Adding the ground state energy to the Bell operator \r\n",
    "# Bell_operator += -E_G * np.kron(I,I)\r\n",
    "\r\n",
    "# Calculating the quantum value\r\n",
    "beta_Q = np.matmul(psi_G_dagger, np.matmul(Bell_operator, psi_G))\r\n",
    "\r\n",
    "# Calculating the classical bound\r\n",
    "m = [-1, 1]\r\n",
    "I_Bell = []\r\n",
    "for A_0 in m:\r\n",
    "    for A_1 in m:\r\n",
    "        for B_0 in m:\r\n",
    "            for B_1 in m:\r\n",
    "                I_Bell.append( \r\n",
    "                    float(ans[C_00])*A_0*B_0 + float(ans[C_10])*A_1*B_0 + float(ans[C_01])*A_0*B_1 + float(ans[C_11])*A_1*B_1\r\n",
    "                 )\r\n",
    "\r\n",
    "beta_C = -np.min(I_Bell)\r\n"
   ],
   "outputs": [],
   "metadata": {}
  },
  {
   "cell_type": "code",
   "execution_count": 1,
   "source": [
    "# Importing the required packages\r\n",
    "import openfermion as of\r\n",
    "import openfermionpyscf as ofpyscf"
   ],
   "outputs": [],
   "metadata": {}
  },
  {
   "cell_type": "code",
   "execution_count": 120,
   "source": [
    "# Initializing the pauli matrices and strings\r\n",
    "pauli_matrices = [I, X, Y, Z]\r\n",
    "pauli_strings = ['I', 'X', 'Y', 'Z']\r\n",
    "\r\n",
    "# Initializing the hamiltonian\r\n",
    "hamiltonian = np.zeros((2**N, 2**N))\r\n",
    "\r\n",
    "# Calculating the Hamiltonian\r\n",
    "for key in qubit_hamiltonian.terms.keys():\r\n",
    "    # Initializing the indices\r\n",
    "    idx = [0, 0, 0, 0]\r\n",
    "\r\n",
    "    # Updating the possible indices\r\n",
    "    for i in range(len(key)):\r\n",
    "        for j in range(len(pauli_strings)):\r\n",
    "            if key[i][1] == pauli_strings[j]:\r\n",
    "                idx[key[i][0]] = j\r\n",
    "\r\n",
    "    # Defining the Pauli chain\r\n",
    "    p_chain = np.kron(np.kron(np.kron(pauli_matrices[idx[0]], pauli_matrices[idx[1]]), pauli_matrices[idx[2]]), pauli_matrices[idx[3]])\r\n",
    "\r\n",
    "    # Adding terms to the Hamiltonian\r\n",
    "    hamiltonian += qubit_hamiltonian.terms[key] * np.real( np.array(p_chain) )\r\n"
   ],
   "outputs": [],
   "metadata": {}
  },
  {
   "cell_type": "code",
   "execution_count": 112,
   "source": [
    "w, v = np.linalg.eigh(hamiltonian)"
   ],
   "outputs": [],
   "metadata": {}
  },
  {
   "cell_type": "code",
   "execution_count": 113,
   "source": [
    "w"
   ],
   "outputs": [
    {
     "output_type": "execute_result",
     "data": {
      "text/plain": [
       "array([-1.13727017, -0.53870958, -0.53870958, -0.53247901, -0.53247901,\n",
       "       -0.53247901, -0.44698572, -0.44698572, -0.16990139,  0.23780527,\n",
       "        0.23780527,  0.35243413,  0.35243413,  0.47983611,  0.71375399,\n",
       "        0.92010671])"
      ]
     },
     "metadata": {},
     "execution_count": 113
    }
   ],
   "metadata": {}
  }
 ],
 "metadata": {
  "interpreter": {
   "hash": "1b723dd016906aac291855993aa72a6783f7b35f6642170f34231be1a212bf8d"
  },
  "kernelspec": {
   "display_name": "Python 3.7.4 64-bit ('base': conda)",
   "name": "python3"
  },
  "language_info": {
   "name": "python",
   "version": ""
  },
  "orig_nbformat": 4
 },
 "nbformat": 4,
 "nbformat_minor": 2
}