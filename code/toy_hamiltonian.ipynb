{
 "cells": [
  {
   "cell_type": "code",
   "execution_count": 1,
   "source": [
    "# Importing packages\n",
    "import numpy as np\n",
    "from tqdm import tqdm\n",
    "import itertools\n",
    "import matplotlib.pyplot as plt\n",
    "from scipy.optimize import minimize, basinhopping\n",
    "\n",
    "# Importing Pauli matrices\n",
    "from pauli_matrices.pauli_matrices import I, X, Y, Z\n",
    "\n",
    "# Importing figure properties\n",
    "from figure_test_files.figure_properties import *\n",
    "\n",
    "# Importing functions\n",
    "from Bell_operator.Bell_operator import get_Bell_terms\n",
    "from Bell_operator.coefficients import get_coefficients\n",
    "from classical_optimization.classical_optimization import classical_optimization\n",
    "from correlation_matrix.correlation_matrix import get_correlation_matrix\n",
    "\n",
    "# Defining saving directory\n",
    "save_dir = '../data/figures/'\n"
   ],
   "outputs": [],
   "metadata": {}
  },
  {
   "cell_type": "code",
   "execution_count": 2,
   "source": [
    "def calc_classical_bound(theta, H, N, m, basis, extra_Z_gate):\n",
    "\n",
    "    # Obtaining the general correlation matrix\n",
    "    M = get_correlation_matrix(theta, N, m, basis=basis, extra_Z_gate=extra_Z_gate)\n",
    "\n",
    "    # Calcuating a list containing all the possible matrices from kronecker products of the observables in the correlation matrix\n",
    "    Bell_terms, indices = get_Bell_terms(M, N, m)\n",
    "\n",
    "    # Calculating the coefficients\n",
    "    coeffs = get_coefficients(Bell_terms, H, N)\n",
    "\n",
    "    # Calculating and returning the classical bound \n",
    "    return classical_optimization(coeffs, indices, N, m)\n"
   ],
   "outputs": [],
   "metadata": {}
  },
  {
   "cell_type": "code",
   "execution_count": 1,
   "source": [
    "# Importing packages\n",
    "import numpy as np\n",
    "from tqdm import tqdm\n",
    "import numba as nb\n",
    "import itertools\n",
    "import matplotlib.pyplot as plt\n",
    "from scipy.optimize import minimize, basinhopping\n",
    "\n",
    "# Importing Pauli matrices\n",
    "from pauli_matrices.pauli_matrices import I, X, Y, Z\n",
    "\n",
    "# Importing figure properties\n",
    "from figure_test_files.figure_properties import *\n",
    "\n",
    "# Importing functions\n",
    "from Bell_operator.Bell_operator import get_Bell_terms\n",
    "from Bell_operator.coefficients import get_coefficients\n",
    "from classical_optimization.classical_optimization import classical_optimization\n",
    "from classical_optimization.classical_bound import calc_classical_bound\n",
    "from correlation_matrix.correlation_matrix import get_correlation_matrix\n",
    "\n",
    "# Defining saving directory\n",
    "save_dir = '../data/figures/'"
   ],
   "outputs": [],
   "metadata": {}
  },
  {
   "cell_type": "code",
   "execution_count": 2,
   "source": [
    "# Defining the number of qubits\n",
    "N = 2\n",
    "\n",
    "# Defining the Hamiltonian\n",
    "H = np.sqrt(2)*(np.kron(Z, Z) + np.kron(X, X)) \n",
    "\n",
    "# Calculating the eigenvalues and eigenstates\n",
    "eig_vals, eig_vecs = np.linalg.eigh(H)\n",
    "\n",
    "# extracting the ground state energy and the respective eigenstate\n",
    "psi_G = eig_vecs[:,0]\n",
    "psi_G_dagger = np.conjugate(np.transpose(psi_G))"
   ],
   "outputs": [],
   "metadata": {}
  },
  {
   "cell_type": "code",
   "execution_count": 4,
   "source": [
    "# Defining number of measurements and the angles of the N*m-1 measurements\n",
    "m = 2\n",
    "\n",
    "# theta = [np.pi/2, np.pi/4, 3*np.pi/4]\n",
    "theta = np.random.rand(N*m-1)\n",
    "\n",
    "# Initializing basis and extra Z gate\n",
    "basis = 'XZ'\n",
    "extra_Z_gate = False\n",
    "\n",
    "# Obtaining the general correlation matrix\n",
    "M = get_correlation_matrix(theta, N, m, basis=basis, extra_Z_gate=True)\n",
    "\n",
    "# Adding one to number of measurements to account for the extra z_gate\n",
    "if extra_Z_gate:\n",
    "    m += 1\n",
    "\n",
    "# Calcuating a list containing all the possible matrices from kronecker products of the observables in the correlation matrix\n",
    "Bell_terms, indices = get_Bell_terms(M, N, m)\n",
    "\n",
    "# Calculating the coefficients\n",
    "coeffs = get_coefficients(Bell_terms, H, N)\n",
    "\n",
    "# Obtaining all possible configurations of the correlation matrix\n",
    "possible_configurations = nb.typed.List(itertools.product([1, -1], repeat=m*N))\n",
    "\n",
    "# Calculating the classical bound\n",
    "beta_C = classical_optimization(coeffs, nb.typed.List(indices), possible_configurations, N, m)\n",
    "beta_C"
   ],
   "outputs": [
    {
     "output_type": "execute_result",
     "data": {
      "text/plain": [
       "-13.786945562465721"
      ]
     },
     "metadata": {},
     "execution_count": 4
    }
   ],
   "metadata": {}
  },
  {
   "cell_type": "code",
   "execution_count": 5,
   "source": [
    "# Initializing the Bell operator\n",
    "B = np.zeros((2**N, 2**N), dtype='complex128')\n",
    "\n",
    "# Adding terms to the Bell operator\n",
    "for j in range(len(coeffs)):\n",
    "    B += coeffs[j]*Bell_terms[j]\n",
    "\n",
    "# Calculating the difference between the Bell operator and the Hamiltonian\n",
    "# print(np.sum(np.abs(B-H), axis=(0,1)))\n",
    "\n",
    "# Calculting the quantum value\n",
    "beta_Q = np.matmul(psi_G_dagger, np.matmul(B, psi_G))\n",
    "np.real(beta_Q)"
   ],
   "outputs": [
    {
     "output_type": "execute_result",
     "data": {
      "text/plain": [
       "-2.82842712474619"
      ]
     },
     "metadata": {},
     "execution_count": 5
    }
   ],
   "metadata": {}
  },
  {
   "cell_type": "code",
   "execution_count": 9,
   "source": [
    "# Defining the number of measurements\n",
    "m = 2\n",
    "\n",
    "# Initializing empty list beta_C for call_back function\n",
    "beta_C = []\n",
    "\n",
    "# Defining angles\n",
    "eps = 1e-2\n",
    "init_guess = np.random.rand(N*m-1)*(np.pi-2*eps)+eps\n",
    "\n",
    "# Defining arguments\n",
    "basis = 'XZ'\n",
    "extra_Z_gate = False\n",
    "args = (H, N, m, basis, extra_Z_gate)\n",
    "\n",
    "# Defining minimization options\n",
    "options = {\n",
    "        'maxiter'  : 2000,\n",
    "}\n",
    "\n",
    "# Defining a fitting function and a callback function\n",
    "def fitting_func(theta, H, N, m, basis, extra_Z_gate):\n",
    "\n",
    "    return -calc_classical_bound(theta, H, N, m, basis, extra_Z_gate)\n",
    "\n",
    "def callback_function(theta):\n",
    "\n",
    "    beta_C.append( calc_classical_bound(theta, H, N, m, basis, extra_Z_gate) )\n",
    "\n",
    "\n",
    "# Defining the minimizer keyword arguments\n",
    "minimizer_kwargs = {\n",
    "                'method'  : \"Nelder-Mead\",\n",
    "                'args'    : args,\n",
    "                'options' : options,\n",
    "                'callback': callback_function\n",
    "}\n",
    "\n",
    "res = basinhopping(fitting_func, init_guess,\n",
    "                minimizer_kwargs = minimizer_kwargs,\n",
    "                niter = 50,\n",
    "                # disp = True\n",
    ")\n",
    "\n",
    "res"
   ],
   "outputs": [
    {
     "output_type": "execute_result",
     "data": {
      "text/plain": [
       "                        fun: 2.1003616942497954\n",
       " lowest_optimization_result:  final_simplex: (array([[1.62363878, 0.06290634, 2.33883237, 0.81819997, 0.75305261],\n",
       "       [1.62372157, 0.06289299, 2.33885594, 0.81820135, 0.75306301],\n",
       "       [1.6236595 , 0.06289051, 2.33890545, 0.81821124, 0.75306366],\n",
       "       [1.62370757, 0.0628538 , 2.33887171, 0.81821377, 0.75298915],\n",
       "       [1.62373606, 0.06291726, 2.33888553, 0.8181991 , 0.75312916],\n",
       "       [1.6236704 , 0.06291841, 2.33888639, 0.81820752, 0.75310445]]), array([2.10036169, 2.10036584, 2.10040197, 2.10040928, 2.10040992,\n",
       "       2.10041574]))\n",
       "           fun: 2.1003616942497954\n",
       "       message: 'Optimization terminated successfully.'\n",
       "          nfev: 298\n",
       "           nit: 174\n",
       "        status: 0\n",
       "       success: True\n",
       "             x: array([1.62363878, 0.06290634, 2.33883237, 0.81819997, 0.75305261])\n",
       "                    message: ['requested number of basinhopping iterations completed successfully']\n",
       "      minimization_failures: 0\n",
       "                       nfev: 21227\n",
       "                        nit: 50\n",
       "                          x: array([1.62363878, 0.06290634, 2.33883237, 0.81819997, 0.75305261])"
      ]
     },
     "metadata": {},
     "execution_count": 9
    }
   ],
   "metadata": {}
  },
  {
   "cell_type": "code",
   "execution_count": 10,
   "source": [
    "fig, ax = plt.subplots()\n",
    "ax.plot( np.linspace(1, len(beta_C), len(beta_C)), np.array(beta_C) )\n",
    "# ax.set_ylim((-5, -1.9));"
   ],
   "outputs": [
    {
     "output_type": "execute_result",
     "data": {
      "text/plain": [
       "[<matplotlib.lines.Line2D at 0x7fb41c5e6a30>]"
      ]
     },
     "metadata": {},
     "execution_count": 10
    },
    {
     "output_type": "display_data",
     "data": {
      "text/plain": [
       "<Figure size 432x288 with 1 Axes>"
      ],
      "image/svg+xml": "<?xml version=\"1.0\" encoding=\"utf-8\" standalone=\"no\"?>\n<!DOCTYPE svg PUBLIC \"-//W3C//DTD SVG 1.1//EN\"\n  \"http://www.w3.org/Graphics/SVG/1.1/DTD/svg11.dtd\">\n<svg height=\"247.753946pt\" version=\"1.1\" viewBox=\"0 0 376.678823 247.753946\" width=\"376.678823pt\" xmlns=\"http://www.w3.org/2000/svg\" xmlns:xlink=\"http://www.w3.org/1999/xlink\">\n <metadata>\n  <rdf:RDF xmlns:cc=\"http://creativecommons.org/ns#\" xmlns:dc=\"http://purl.org/dc/elements/1.1/\" xmlns:rdf=\"http://www.w3.org/1999/02/22-rdf-syntax-ns#\">\n   <cc:Work>\n    <dc:type rdf:resource=\"http://purl.org/dc/dcmitype/StillImage\"/>\n    <dc:date>2021-08-22T10:50:45.454082</dc:date>\n    <dc:format>image/svg+xml</dc:format>\n    <dc:creator>\n     <cc:Agent>\n      <dc:title>Matplotlib v3.4.3, https://matplotlib.org/</dc:title>\n     </cc:Agent>\n    </dc:creator>\n   </cc:Work>\n  </rdf:RDF>\n </metadata>\n <defs>\n  <style type=\"text/css\">*{stroke-linecap:butt;stroke-linejoin:round;}</style>\n </defs>\n <g id=\"figure_1\">\n  <g id=\"patch_1\">\n   <path d=\"M 0 247.753946 \nL 376.678823 247.753946 \nL 376.678823 0 \nL 0 0 \nz\n\" style=\"fill:none;\"/>\n  </g>\n  <g id=\"axes_1\">\n   <g id=\"patch_2\">\n    <path d=\"M 34.678823 224.698269 \nL 369.478823 224.698269 \nL 369.478823 7.258269 \nL 34.678823 7.258269 \nz\n\" style=\"fill:#ffffff;\"/>\n   </g>\n   <g id=\"matplotlib.axis_1\">\n    <g id=\"xtick_1\">\n     <g id=\"line2d_1\">\n      <defs>\n       <path d=\"M 0 0 \nL 0 3.5 \n\" id=\"m96839a702b\" style=\"stroke:#000000;stroke-width:0.8;\"/>\n      </defs>\n      <g>\n       <use style=\"stroke:#000000;stroke-width:0.8;\" x=\"49.873011\" xlink:href=\"#m96839a702b\" y=\"224.698269\"/>\n      </g>\n     </g>\n     <g id=\"text_1\">\n      <!-- $\\mathdefault{0}$ -->\n      <g transform=\"translate(47.382343 238.616768)scale(0.1 -0.1)\">\n       <defs>\n        <path d=\"M 2688 2025 \nC 2688 2416 2682 3080 2413 3591 \nC 2176 4039 1798 4198 1466 4198 \nC 1158 4198 768 4058 525 3597 \nC 269 3118 243 2524 243 2025 \nC 243 1661 250 1106 448 619 \nC 723 -39 1216 -128 1466 -128 \nC 1760 -128 2208 -7 2470 600 \nC 2662 1042 2688 1559 2688 2025 \nz\nM 1466 -26 \nC 1056 -26 813 325 723 812 \nC 653 1188 653 1738 653 2096 \nC 653 2588 653 2997 736 3387 \nC 858 3929 1216 4096 1466 4096 \nC 1728 4096 2067 3923 2189 3400 \nC 2272 3036 2278 2607 2278 2096 \nC 2278 1680 2278 1169 2202 792 \nC 2067 95 1690 -26 1466 -26 \nz\n\" id=\"CMR17-30\" transform=\"scale(0.015625)\"/>\n       </defs>\n       <use transform=\"scale(0.996264)\" xlink:href=\"#CMR17-30\"/>\n      </g>\n     </g>\n    </g>\n    <g id=\"xtick_2\">\n     <g id=\"line2d_2\">\n      <g>\n       <use style=\"stroke:#000000;stroke-width:0.8;\" x=\"97.860971\" xlink:href=\"#m96839a702b\" y=\"224.698269\"/>\n      </g>\n     </g>\n     <g id=\"text_2\">\n      <!-- $\\mathdefault{2000}$ -->\n      <g transform=\"translate(87.8983 238.616768)scale(0.1 -0.1)\">\n       <defs>\n        <path d=\"M 2669 989 \nL 2554 989 \nC 2490 536 2438 459 2413 420 \nC 2381 369 1920 369 1830 369 \nL 602 369 \nC 832 619 1280 1072 1824 1597 \nC 2214 1967 2669 2402 2669 3035 \nC 2669 3790 2067 4224 1395 4224 \nC 691 4224 262 3604 262 3030 \nC 262 2780 448 2748 525 2748 \nC 589 2748 781 2787 781 3010 \nC 781 3207 614 3264 525 3264 \nC 486 3264 448 3258 422 3245 \nC 544 3790 915 4058 1306 4058 \nC 1862 4058 2227 3617 2227 3035 \nC 2227 2479 1901 2000 1536 1584 \nL 262 146 \nL 262 0 \nL 2515 0 \nL 2669 989 \nz\n\" id=\"CMR17-32\" transform=\"scale(0.015625)\"/>\n       </defs>\n       <use transform=\"scale(0.996264)\" xlink:href=\"#CMR17-32\"/>\n       <use transform=\"translate(45.690477 0)scale(0.996264)\" xlink:href=\"#CMR17-30\"/>\n       <use transform=\"translate(91.380954 0)scale(0.996264)\" xlink:href=\"#CMR17-30\"/>\n       <use transform=\"translate(137.071431 0)scale(0.996264)\" xlink:href=\"#CMR17-30\"/>\n      </g>\n     </g>\n    </g>\n    <g id=\"xtick_3\">\n     <g id=\"line2d_3\">\n      <g>\n       <use style=\"stroke:#000000;stroke-width:0.8;\" x=\"145.848931\" xlink:href=\"#m96839a702b\" y=\"224.698269\"/>\n      </g>\n     </g>\n     <g id=\"text_3\">\n      <!-- $\\mathdefault{4000}$ -->\n      <g transform=\"translate(135.88626 238.616768)scale(0.1 -0.1)\">\n       <defs>\n        <path d=\"M 2150 4122 \nC 2150 4256 2144 4256 2029 4256 \nL 128 1254 \nL 128 1088 \nL 1779 1088 \nL 1779 457 \nC 1779 224 1766 160 1318 160 \nL 1197 160 \nL 1197 0 \nC 1402 0 1747 0 1965 0 \nC 2182 0 2528 0 2733 0 \nL 2733 160 \nL 2611 160 \nC 2163 160 2150 224 2150 457 \nL 2150 1088 \nL 2803 1088 \nL 2803 1254 \nL 2150 1254 \nL 2150 4122 \nz\nM 1798 3703 \nL 1798 1254 \nL 256 1254 \nL 1798 3703 \nz\n\" id=\"CMR17-34\" transform=\"scale(0.015625)\"/>\n       </defs>\n       <use transform=\"scale(0.996264)\" xlink:href=\"#CMR17-34\"/>\n       <use transform=\"translate(45.690477 0)scale(0.996264)\" xlink:href=\"#CMR17-30\"/>\n       <use transform=\"translate(91.380954 0)scale(0.996264)\" xlink:href=\"#CMR17-30\"/>\n       <use transform=\"translate(137.071431 0)scale(0.996264)\" xlink:href=\"#CMR17-30\"/>\n      </g>\n     </g>\n    </g>\n    <g id=\"xtick_4\">\n     <g id=\"line2d_4\">\n      <g>\n       <use style=\"stroke:#000000;stroke-width:0.8;\" x=\"193.836891\" xlink:href=\"#m96839a702b\" y=\"224.698269\"/>\n      </g>\n     </g>\n     <g id=\"text_4\">\n      <!-- $\\mathdefault{6000}$ -->\n      <g transform=\"translate(183.87422 238.616768)scale(0.1 -0.1)\">\n       <defs>\n        <path d=\"M 678 2176 \nC 678 3690 1395 4032 1811 4032 \nC 1946 4032 2272 4009 2400 3776 \nC 2298 3776 2106 3776 2106 3553 \nC 2106 3381 2246 3323 2336 3323 \nC 2394 3323 2566 3348 2566 3560 \nC 2566 3954 2246 4179 1805 4179 \nC 1043 4179 243 3390 243 1984 \nC 243 253 966 -128 1478 -128 \nC 2099 -128 2688 427 2688 1283 \nC 2688 2081 2170 2662 1517 2662 \nC 1126 2662 838 2407 678 1960 \nL 678 2176 \nz\nM 1478 25 \nC 691 25 691 1200 691 1436 \nC 691 1896 909 2560 1504 2560 \nC 1613 2560 1926 2560 2138 2120 \nC 2253 1870 2253 1609 2253 1289 \nC 2253 944 2253 690 2118 434 \nC 1978 171 1773 25 1478 25 \nz\n\" id=\"CMR17-36\" transform=\"scale(0.015625)\"/>\n       </defs>\n       <use transform=\"scale(0.996264)\" xlink:href=\"#CMR17-36\"/>\n       <use transform=\"translate(45.690477 0)scale(0.996264)\" xlink:href=\"#CMR17-30\"/>\n       <use transform=\"translate(91.380954 0)scale(0.996264)\" xlink:href=\"#CMR17-30\"/>\n       <use transform=\"translate(137.071431 0)scale(0.996264)\" xlink:href=\"#CMR17-30\"/>\n      </g>\n     </g>\n    </g>\n    <g id=\"xtick_5\">\n     <g id=\"line2d_5\">\n      <g>\n       <use style=\"stroke:#000000;stroke-width:0.8;\" x=\"241.824851\" xlink:href=\"#m96839a702b\" y=\"224.698269\"/>\n      </g>\n     </g>\n     <g id=\"text_5\">\n      <!-- $\\mathdefault{8000}$ -->\n      <g transform=\"translate(231.86218 238.616768)scale(0.1 -0.1)\">\n       <defs>\n        <path d=\"M 1741 2264 \nC 2144 2467 2554 2773 2554 3263 \nC 2554 3841 1990 4179 1472 4179 \nC 890 4179 378 3759 378 3180 \nC 378 3021 416 2747 666 2505 \nC 730 2442 998 2251 1171 2130 \nC 883 1983 211 1634 211 934 \nC 211 279 838 -128 1459 -128 \nC 2144 -128 2720 362 2720 1010 \nC 2720 1590 2330 1857 2074 2029 \nL 1741 2264 \nz\nM 902 2822 \nC 851 2854 595 3051 595 3351 \nC 595 3739 998 4032 1459 4032 \nC 1965 4032 2336 3676 2336 3262 \nC 2336 2669 1670 2331 1638 2331 \nC 1632 2331 1626 2331 1574 2370 \nL 902 2822 \nz\nM 2080 1519 \nC 2176 1449 2483 1240 2483 851 \nC 2483 381 2010 25 1472 25 \nC 890 25 448 438 448 940 \nC 448 1443 838 1862 1280 2060 \nL 2080 1519 \nz\n\" id=\"CMR17-38\" transform=\"scale(0.015625)\"/>\n       </defs>\n       <use transform=\"scale(0.996264)\" xlink:href=\"#CMR17-38\"/>\n       <use transform=\"translate(45.690477 0)scale(0.996264)\" xlink:href=\"#CMR17-30\"/>\n       <use transform=\"translate(91.380954 0)scale(0.996264)\" xlink:href=\"#CMR17-30\"/>\n       <use transform=\"translate(137.071431 0)scale(0.996264)\" xlink:href=\"#CMR17-30\"/>\n      </g>\n     </g>\n    </g>\n    <g id=\"xtick_6\">\n     <g id=\"line2d_6\">\n      <g>\n       <use style=\"stroke:#000000;stroke-width:0.8;\" x=\"289.812811\" xlink:href=\"#m96839a702b\" y=\"224.698269\"/>\n      </g>\n     </g>\n     <g id=\"text_6\">\n      <!-- $\\mathdefault{10000}$ -->\n      <g transform=\"translate(277.359472 238.616768)scale(0.1 -0.1)\">\n       <defs>\n        <path d=\"M 1702 4058 \nC 1702 4192 1696 4192 1606 4192 \nC 1357 3916 979 3827 621 3827 \nC 602 3827 570 3827 563 3808 \nC 557 3795 557 3782 557 3648 \nC 755 3648 1088 3686 1344 3839 \nL 1344 461 \nC 1344 236 1331 160 781 160 \nL 589 160 \nL 589 0 \nC 896 0 1216 0 1523 0 \nC 1830 0 2150 0 2458 0 \nL 2458 160 \nL 2266 160 \nC 1715 160 1702 230 1702 458 \nL 1702 4058 \nz\n\" id=\"CMR17-31\" transform=\"scale(0.015625)\"/>\n       </defs>\n       <use transform=\"scale(0.996264)\" xlink:href=\"#CMR17-31\"/>\n       <use transform=\"translate(45.690477 0)scale(0.996264)\" xlink:href=\"#CMR17-30\"/>\n       <use transform=\"translate(91.380954 0)scale(0.996264)\" xlink:href=\"#CMR17-30\"/>\n       <use transform=\"translate(137.071431 0)scale(0.996264)\" xlink:href=\"#CMR17-30\"/>\n       <use transform=\"translate(182.761908 0)scale(0.996264)\" xlink:href=\"#CMR17-30\"/>\n      </g>\n     </g>\n    </g>\n    <g id=\"xtick_7\">\n     <g id=\"line2d_7\">\n      <g>\n       <use style=\"stroke:#000000;stroke-width:0.8;\" x=\"337.800771\" xlink:href=\"#m96839a702b\" y=\"224.698269\"/>\n      </g>\n     </g>\n     <g id=\"text_7\">\n      <!-- $\\mathdefault{12000}$ -->\n      <g transform=\"translate(325.347432 238.616768)scale(0.1 -0.1)\">\n       <use transform=\"scale(0.996264)\" xlink:href=\"#CMR17-31\"/>\n       <use transform=\"translate(45.690477 0)scale(0.996264)\" xlink:href=\"#CMR17-32\"/>\n       <use transform=\"translate(91.380954 0)scale(0.996264)\" xlink:href=\"#CMR17-30\"/>\n       <use transform=\"translate(137.071431 0)scale(0.996264)\" xlink:href=\"#CMR17-30\"/>\n       <use transform=\"translate(182.761908 0)scale(0.996264)\" xlink:href=\"#CMR17-30\"/>\n      </g>\n     </g>\n    </g>\n   </g>\n   <g id=\"matplotlib.axis_2\">\n    <g id=\"ytick_1\">\n     <g id=\"line2d_8\">\n      <defs>\n       <path d=\"M 0 0 \nL -3.5 0 \n\" id=\"mc138c8c6a2\" style=\"stroke:#000000;stroke-width:0.8;\"/>\n      </defs>\n      <g>\n       <use style=\"stroke:#000000;stroke-width:0.8;\" x=\"34.678823\" xlink:href=\"#mc138c8c6a2\" y=\"204.438053\"/>\n      </g>\n     </g>\n     <g id=\"text_8\">\n      <!-- $\\mathdefault{−5.0}$ -->\n      <g transform=\"translate(7.2 207.897302)scale(0.1 -0.1)\">\n       <defs>\n        <path d=\"M 4218 1472 \nC 4326 1472 4442 1472 4442 1600 \nC 4442 1728 4326 1728 4218 1728 \nL 755 1728 \nC 646 1728 531 1728 531 1600 \nC 531 1472 646 1472 755 1472 \nL 4218 1472 \nz\n\" id=\"CMSY10-0\" transform=\"scale(0.015625)\"/>\n        <path d=\"M 730 3692 \nC 794 3666 1056 3584 1325 3584 \nC 1920 3584 2246 3911 2432 4100 \nC 2432 4157 2432 4192 2394 4192 \nC 2387 4192 2374 4192 2323 4163 \nC 2099 4058 1837 3973 1517 3973 \nC 1325 3973 1037 3999 723 4139 \nC 653 4171 640 4171 634 4171 \nC 602 4171 595 4164 595 4037 \nL 595 2203 \nC 595 2089 595 2057 659 2057 \nC 691 2057 704 2070 736 2114 \nC 941 2401 1222 2522 1542 2522 \nC 1766 2522 2246 2382 2246 1289 \nC 2246 1085 2246 715 2054 421 \nC 1894 159 1645 25 1370 25 \nC 947 25 518 320 403 814 \nC 429 807 480 795 506 795 \nC 589 795 749 840 749 1038 \nC 749 1210 627 1280 506 1280 \nC 358 1280 262 1190 262 1011 \nC 262 454 704 -128 1382 -128 \nC 2042 -128 2669 440 2669 1264 \nC 2669 2030 2170 2624 1549 2624 \nC 1222 2624 947 2503 730 2274 \nL 730 3692 \nz\n\" id=\"CMR17-35\" transform=\"scale(0.015625)\"/>\n        <path d=\"M 1178 307 \nC 1178 492 1024 619 870 619 \nC 685 619 557 466 557 313 \nC 557 128 710 0 864 0 \nC 1050 0 1178 153 1178 307 \nz\n\" id=\"CMMI12-3a\" transform=\"scale(0.015625)\"/>\n       </defs>\n       <use transform=\"scale(0.996264)\" xlink:href=\"#CMSY10-0\"/>\n       <use transform=\"translate(77.487468 0)scale(0.996264)\" xlink:href=\"#CMR17-35\"/>\n       <use transform=\"translate(123.177945 0)scale(0.996264)\" xlink:href=\"#CMMI12-3a\"/>\n       <use transform=\"translate(150.275122 0)scale(0.996264)\" xlink:href=\"#CMR17-30\"/>\n      </g>\n     </g>\n    </g>\n    <g id=\"ytick_2\">\n     <g id=\"line2d_9\">\n      <g>\n       <use style=\"stroke:#000000;stroke-width:0.8;\" x=\"34.678823\" xlink:href=\"#mc138c8c6a2\" y=\"172.141586\"/>\n      </g>\n     </g>\n     <g id=\"text_9\">\n      <!-- $\\mathdefault{−4.5}$ -->\n      <g transform=\"translate(7.2 175.600835)scale(0.1 -0.1)\">\n       <use transform=\"scale(0.996264)\" xlink:href=\"#CMSY10-0\"/>\n       <use transform=\"translate(77.487468 0)scale(0.996264)\" xlink:href=\"#CMR17-34\"/>\n       <use transform=\"translate(123.177945 0)scale(0.996264)\" xlink:href=\"#CMMI12-3a\"/>\n       <use transform=\"translate(150.275122 0)scale(0.996264)\" xlink:href=\"#CMR17-35\"/>\n      </g>\n     </g>\n    </g>\n    <g id=\"ytick_3\">\n     <g id=\"line2d_10\">\n      <g>\n       <use style=\"stroke:#000000;stroke-width:0.8;\" x=\"34.678823\" xlink:href=\"#mc138c8c6a2\" y=\"139.845118\"/>\n      </g>\n     </g>\n     <g id=\"text_10\">\n      <!-- $\\mathdefault{−4.0}$ -->\n      <g transform=\"translate(7.2 143.304368)scale(0.1 -0.1)\">\n       <use transform=\"scale(0.996264)\" xlink:href=\"#CMSY10-0\"/>\n       <use transform=\"translate(77.487468 0)scale(0.996264)\" xlink:href=\"#CMR17-34\"/>\n       <use transform=\"translate(123.177945 0)scale(0.996264)\" xlink:href=\"#CMMI12-3a\"/>\n       <use transform=\"translate(150.275122 0)scale(0.996264)\" xlink:href=\"#CMR17-30\"/>\n      </g>\n     </g>\n    </g>\n    <g id=\"ytick_4\">\n     <g id=\"line2d_11\">\n      <g>\n       <use style=\"stroke:#000000;stroke-width:0.8;\" x=\"34.678823\" xlink:href=\"#mc138c8c6a2\" y=\"107.548651\"/>\n      </g>\n     </g>\n     <g id=\"text_11\">\n      <!-- $\\mathdefault{−3.5}$ -->\n      <g transform=\"translate(7.2 111.0079)scale(0.1 -0.1)\">\n       <defs>\n        <path d=\"M 1414 2157 \nC 1984 2157 2234 1662 2234 1090 \nC 2234 320 1824 25 1453 25 \nC 1114 25 563 194 390 693 \nC 422 680 454 680 486 680 \nC 640 680 755 782 755 948 \nC 755 1133 614 1216 486 1216 \nC 378 1216 211 1165 211 926 \nC 211 335 787 -128 1466 -128 \nC 2176 -128 2720 430 2720 1085 \nC 2720 1707 2208 2157 1600 2227 \nC 2086 2328 2554 2756 2554 3329 \nC 2554 3820 2048 4179 1472 4179 \nC 890 4179 378 3829 378 3329 \nC 378 3110 544 3072 627 3072 \nC 762 3072 877 3155 877 3321 \nC 877 3486 762 3569 627 3569 \nC 602 3569 570 3569 544 3557 \nC 730 3959 1235 4032 1459 4032 \nC 1683 4032 2106 3925 2106 3320 \nC 2106 3143 2080 2828 1862 2550 \nC 1670 2304 1453 2304 1242 2284 \nC 1210 2284 1062 2269 1037 2269 \nC 992 2263 966 2257 966 2208 \nC 966 2163 973 2157 1101 2157 \nL 1414 2157 \nz\n\" id=\"CMR17-33\" transform=\"scale(0.015625)\"/>\n       </defs>\n       <use transform=\"scale(0.996264)\" xlink:href=\"#CMSY10-0\"/>\n       <use transform=\"translate(77.487468 0)scale(0.996264)\" xlink:href=\"#CMR17-33\"/>\n       <use transform=\"translate(123.177945 0)scale(0.996264)\" xlink:href=\"#CMMI12-3a\"/>\n       <use transform=\"translate(150.275122 0)scale(0.996264)\" xlink:href=\"#CMR17-35\"/>\n      </g>\n     </g>\n    </g>\n    <g id=\"ytick_5\">\n     <g id=\"line2d_12\">\n      <g>\n       <use style=\"stroke:#000000;stroke-width:0.8;\" x=\"34.678823\" xlink:href=\"#mc138c8c6a2\" y=\"75.252184\"/>\n      </g>\n     </g>\n     <g id=\"text_12\">\n      <!-- $\\mathdefault{−3.0}$ -->\n      <g transform=\"translate(7.2 78.711433)scale(0.1 -0.1)\">\n       <use transform=\"scale(0.996264)\" xlink:href=\"#CMSY10-0\"/>\n       <use transform=\"translate(77.487468 0)scale(0.996264)\" xlink:href=\"#CMR17-33\"/>\n       <use transform=\"translate(123.177945 0)scale(0.996264)\" xlink:href=\"#CMMI12-3a\"/>\n       <use transform=\"translate(150.275122 0)scale(0.996264)\" xlink:href=\"#CMR17-30\"/>\n      </g>\n     </g>\n    </g>\n    <g id=\"ytick_6\">\n     <g id=\"line2d_13\">\n      <g>\n       <use style=\"stroke:#000000;stroke-width:0.8;\" x=\"34.678823\" xlink:href=\"#mc138c8c6a2\" y=\"42.955717\"/>\n      </g>\n     </g>\n     <g id=\"text_13\">\n      <!-- $\\mathdefault{−2.5}$ -->\n      <g transform=\"translate(7.2 46.414966)scale(0.1 -0.1)\">\n       <use transform=\"scale(0.996264)\" xlink:href=\"#CMSY10-0\"/>\n       <use transform=\"translate(77.487468 0)scale(0.996264)\" xlink:href=\"#CMR17-32\"/>\n       <use transform=\"translate(123.177945 0)scale(0.996264)\" xlink:href=\"#CMMI12-3a\"/>\n       <use transform=\"translate(150.275122 0)scale(0.996264)\" xlink:href=\"#CMR17-35\"/>\n      </g>\n     </g>\n    </g>\n    <g id=\"ytick_7\">\n     <g id=\"line2d_14\">\n      <g>\n       <use style=\"stroke:#000000;stroke-width:0.8;\" x=\"34.678823\" xlink:href=\"#mc138c8c6a2\" y=\"10.659249\"/>\n      </g>\n     </g>\n     <g id=\"text_14\">\n      <!-- $\\mathdefault{−2.0}$ -->\n      <g transform=\"translate(7.2 14.118498)scale(0.1 -0.1)\">\n       <use transform=\"scale(0.996264)\" xlink:href=\"#CMSY10-0\"/>\n       <use transform=\"translate(77.487468 0)scale(0.996264)\" xlink:href=\"#CMR17-32\"/>\n       <use transform=\"translate(123.177945 0)scale(0.996264)\" xlink:href=\"#CMMI12-3a\"/>\n       <use transform=\"translate(150.275122 0)scale(0.996264)\" xlink:href=\"#CMR17-30\"/>\n      </g>\n     </g>\n    </g>\n   </g>\n   <g id=\"line2d_15\">\n    <path clip-path=\"url(#p6dab05b425)\" d=\"M 49.897005 214.814633 \nL 50.040968 66.958976 \nL 50.064962 66.958976 \nL 50.184932 50.546593 \nL 50.304902 50.546593 \nL 50.520848 43.991987 \nL 50.568836 43.991987 \nL 50.7128 37.714744 \nL 50.736794 37.714744 \nL 51.120697 29.517235 \nL 51.672559 25.683637 \nL 51.696553 25.683637 \nL 51.816523 24.983169 \nL 51.840517 24.983169 \nL 51.960487 24.763638 \nL 52.248415 24.664228 \nL 52.368384 24.508456 \nL 52.632318 24.457218 \nL 52.776282 24.34342 \nL 53.160186 24.214501 \nL 53.544089 24.147144 \nL 53.975981 23.271787 \nL 55.703548 23.168787 \nL 56.207421 23.025953 \nL 56.591325 23.017209 \nL 57.623066 22.99302 \nL 57.671054 56.418609 \nL 57.743036 55.639995 \nL 57.791024 55.587597 \nL 57.958982 44.056324 \nL 57.982976 44.056324 \nL 58.102946 40.148808 \nL 58.150934 40.148808 \nL 58.270904 39.862352 \nL 58.294898 39.862352 \nL 58.318892 39.680146 \nL 58.462855 37.348984 \nL 58.534837 37.348984 \nL 58.822765 34.981783 \nL 58.894747 34.981783 \nL 59.014717 31.726262 \nL 59.038711 31.726262 \nL 59.158681 30.59616 \nL 59.278651 30.469445 \nL 59.326639 30.456402 \nL 59.518591 29.808032 \nL 59.686548 29.732797 \nL 59.830512 29.60699 \nL 59.926488 29.587126 \nL 60.046458 29.48889 \nL 60.214416 29.40254 \nL 60.35838 29.170244 \nL 60.574326 28.306882 \nL 60.646308 28.243479 \nL 60.742283 27.70538 \nL 60.934235 25.642593 \nL 60.982223 25.642593 \nL 61.102193 25.41825 \nL 61.390121 25.332811 \nL 61.534085 25.217931 \nL 61.98997 25.115961 \nL 63.285645 25.079287 \nL 63.333633 61.156077 \nL 63.405615 43.789315 \nL 63.741531 43.789315 \nL 64.053453 42.449748 \nL 64.149429 42.449748 \nL 64.317387 40.77157 \nL 64.413362 40.77157 \nL 64.533332 40.121006 \nL 64.58132 40.121006 \nL 64.725284 37.380745 \nL 64.917236 37.380745 \nL 65.037206 36.968526 \nL 65.42111 36.900004 \nL 65.805013 34.618348 \nL 66.020959 29.966708 \nL 66.188917 29.966708 \nL 66.308887 29.234724 \nL 66.380869 29.234724 \nL 66.500839 29.104236 \nL 66.692791 29.092922 \nL 66.81276 28.981122 \nL 66.980718 28.952334 \nL 67.364622 28.866003 \nL 67.628556 28.696742 \nL 68.324381 28.662505 \nL 68.348375 50.636841 \nL 68.444351 42.154731 \nL 68.540327 42.154731 \nL 68.900237 34.10307 \nL 68.924231 34.10307 \nL 69.068195 30.40588 \nL 69.140176 30.40588 \nL 69.28414 28.984346 \nL 69.500086 28.984346 \nL 69.620056 28.638594 \nL 69.64405 28.638594 \nL 69.788014 28.152862 \nL 70.12393 28.083249 \nL 70.267894 27.979 \nL 71.491587 27.870018 \nL 72.019454 27.692871 \nL 72.187412 27.25087 \nL 72.35537 26.716156 \nL 73.267141 26.620686 \nL 73.483087 26.555874 \nL 73.842997 26.553874 \nL 73.890985 54.94032 \nL 73.962966 52.067036 \nL 74.10693 52.067036 \nL 74.370864 47.897236 \nL 74.514828 47.835665 \nL 74.70678 47.109531 \nL 74.802756 47.105811 \nL 75.162665 42.551335 \nL 75.330623 37.685824 \nL 75.402605 37.685824 \nL 75.522575 37.437428 \nL 75.666539 37.436015 \nL 75.882485 34.895858 \nL 76.026449 31.842204 \nL 76.146419 31.595779 \nL 76.218401 31.595779 \nL 76.33837 31.284686 \nL 76.386358 31.205526 \nL 76.602304 30.890165 \nL 76.674286 30.890165 \nL 76.842244 29.110219 \nL 77.010202 25.084298 \nL 77.250142 25.084298 \nL 77.394106 24.404421 \nL 77.514076 24.072019 \nL 79.121672 24.015687 \nL 79.16966 46.032089 \nL 79.241642 43.190888 \nL 79.433594 43.190888 \nL 79.577558 41.733855 \nL 79.793504 41.677803 \nL 79.937467 41.008556 \nL 79.985455 41.008556 \nL 80.249389 36.253057 \nL 80.417347 32.977997 \nL 80.441341 32.977997 \nL 80.609299 30.969009 \nL 80.945215 30.969009 \nL 81.065185 30.775366 \nL 82.048938 30.672714 \nL 82.432841 30.277955 \nL 82.600799 29.614665 \nL 83.896474 29.533275 \nL 83.944462 44.095581 \nL 83.99245 35.27165 \nL 84.208396 27.899137 \nL 84.256384 27.899137 \nL 84.424342 24.669016 \nL 84.568306 24.605357 \nL 84.616294 24.494738 \nL 84.736263 23.921939 \nL 84.856233 23.848239 \nL 85.144161 23.739018 \nL 85.744011 23.498283 \nL 85.887975 23.360889 \nL 87.975451 23.257656 \nL 88.311367 23.246778 \nL 89.199144 23.235967 \nL 89.223138 66.421146 \nL 89.319114 46.507608 \nL 89.463078 34.277657 \nL 89.487072 34.277657 \nL 89.679023 27.492 \nL 89.822987 27.492 \nL 89.942957 26.276196 \nL 90.014939 26.276196 \nL 90.134909 25.655302 \nL 90.350855 25.655302 \nL 90.494819 25.417045 \nL 91.28662 25.32428 \nL 91.670524 24.600227 \nL 91.814488 23.661865 \nL 92.990193 23.620754 \nL 93.038181 45.137233 \nL 93.110163 39.52895 \nL 93.182144 39.52895 \nL 93.206138 39.121264 \nL 93.326108 32.521413 \nL 93.350102 32.521413 \nL 93.686018 27.0742 \nL 93.853976 24.261531 \nL 93.99794 24.227607 \nL 94.141904 22.882155 \nL 94.261874 22.838593 \nL 94.381843 22.688746 \nL 94.597789 22.607039 \nL 94.789741 22.540751 \nL 95.797488 22.527053 \nL 95.893464 42.368672 \nL 95.917458 35.660228 \nL 96.157398 35.660228 \nL 96.253374 34.836431 \nL 96.397338 33.366522 \nL 96.493314 33.366522 \nL 96.661272 32.94492 \nL 96.733253 32.94492 \nL 96.853223 32.767054 \nL 100.212381 32.657672 \nL 100.620278 32.480974 \nL 100.836224 32.180231 \nL 100.860218 32.180231 \nL 101.076164 31.37543 \nL 101.148146 31.37543 \nL 101.29211 31.185876 \nL 102.371839 31.111191 \nL 102.443821 58.163273 \nL 102.491809 50.442863 \nL 102.587785 50.442863 \nL 102.707755 49.601205 \nL 102.731748 49.601205 \nL 102.899706 46.215793 \nL 102.947694 46.215793 \nL 103.331598 32.179661 \nL 103.379586 32.179661 \nL 103.499556 31.067406 \nL 103.52355 31.067406 \nL 103.691508 29.917105 \nL 103.835472 29.516837 \nL 103.907454 29.479022 \nL 104.027423 29.125513 \nL 104.387333 29.01762 \nL 104.867213 28.930611 \nL 105.15514 28.847606 \nL 105.347092 28.754426 \nL 106.042918 28.523092 \nL 106.210876 28.305693 \nL 108.34634 28.216707 \nL 108.394328 47.838377 \nL 108.46631 45.000282 \nL 108.538292 45.000282 \nL 108.754237 41.615736 \nL 108.778231 41.518716 \nL 108.922195 39.911626 \nL 109.090153 39.911626 \nL 109.210123 39.601954 \nL 109.378081 39.513543 \nL 109.522045 39.393596 \nL 109.905949 39.314677 \nL 110.289852 38.853276 \nL 110.361834 38.784972 \nL 110.57778 38.511655 \nL 110.745738 38.431596 \nL 110.889702 38.385363 \nL 111.321593 38.304638 \nL 111.681503 38.0129 \nL 113.265106 37.924809 \nL 113.313094 37.815546 \nL 113.433064 31.784438 \nL 113.649009 31.702389 \nL 113.792973 31.368189 \nL 113.864955 31.359901 \nL 114.032913 30.738353 \nL 114.152883 30.692332 \nL 114.416817 28.781592 \nL 114.440811 28.781592 \nL 114.584775 26.925772 \nL 114.656757 26.925772 \nL 114.80072 25.623226 \nL 114.92069 25.359213 \nL 115.184624 25.321259 \nL 115.40057 24.964728 \nL 115.496546 24.940648 \nL 115.616516 24.746287 \nL 115.832462 24.700337 \nL 115.952431 24.612307 \nL 116.408317 24.509429 \nL 116.648257 24.467859 \nL 118.255854 24.419516 \nL 118.375823 48.599028 \nL 118.519787 40.152454 \nL 118.639757 39.923162 \nL 118.759727 39.923162 \nL 118.951679 39.368012 \nL 119.071649 39.271447 \nL 119.191619 38.924184 \nL 119.287595 38.897684 \nL 119.431559 38.720655 \nL 119.74348 38.636459 \nL 119.911438 38.49384 \nL 121.495041 38.393904 \nL 121.686993 38.231672 \nL 121.854951 38.037994 \nL 123.894439 37.931993 \nL 124.422306 37.919925 \nL 125.765969 37.91935 \nL 125.789963 69.888428 \nL 125.885939 56.127782 \nL 126.029903 56.127782 \nL 126.221855 54.37305 \nL 126.341825 54.37305 \nL 126.557771 50.734947 \nL 126.725728 43.265009 \nL 126.893686 43.265009 \nL 127.03765 42.458034 \nL 127.061644 42.458034 \nL 127.205608 41.657228 \nL 127.253596 41.594322 \nL 127.39756 40.04827 \nL 127.421554 40.04827 \nL 127.565518 38.536776 \nL 127.6375 38.536776 \nL 127.75747 37.553934 \nL 127.829452 37.553934 \nL 127.949421 37.215938 \nL 128.381313 37.110479 \nL 128.597259 37.082264 \nL 129.221102 36.987892 \nL 129.38906 36.717394 \nL 129.629 33.531635 \nL 129.772964 32.459332 \nL 130.612753 32.349457 \nL 131.092633 32.123555 \nL 131.236597 31.842347 \nL 131.836446 31.834791 \nL 131.884434 50.32705 \nL 131.956416 43.561304 \nL 131.98041 43.561304 \nL 132.172362 42.299697 \nL 132.196356 42.299697 \nL 132.316326 41.537697 \nL 132.604254 41.436595 \nL 132.724223 41.178677 \nL 132.892181 41.136214 \nL 133.012151 41.001641 \nL 133.803953 40.90824 \nL 134.139868 40.344607 \nL 134.259838 39.863952 \nL 135.147615 39.763052 \nL 135.771459 39.297352 \nL 135.843441 39.218101 \nL 135.987405 39.169087 \nL 137.235092 39.1261 \nL 137.331068 59.314862 \nL 137.355062 53.332825 \nL 137.451038 53.332825 \nL 137.810947 46.353533 \nL 137.954911 40.721347 \nL 138.290827 40.706264 \nL 138.458785 39.129736 \nL 138.626743 39.129736 \nL 138.962658 37.958144 \nL 139.778454 37.853812 \nL 140.114369 37.830426 \nL 140.618243 37.639096 \nL 140.858183 37.22973 \nL 141.170104 37.128855 \nL 141.314068 37.004328 \nL 143.209593 36.908766 \nL 143.545508 36.58711 \nL 143.713466 35.756642 \nL 143.73746 35.756642 \nL 143.953406 32.52151 \nL 144.049382 32.52151 \nL 144.265328 31.43553 \nL 144.289322 31.43553 \nL 144.433286 30.776297 \nL 144.45728 30.776297 \nL 144.601244 29.963203 \nL 144.865177 29.963203 \nL 144.985147 29.783595 \nL 146.44878 29.690233 \nL 146.56875 37.402896 \nL 146.712714 28.846669 \nL 146.760702 28.846669 \nL 146.880672 28.514393 \nL 146.976648 28.514393 \nL 147.384545 24.55912 \nL 147.480521 24.55912 \nL 147.624485 24.164938 \nL 147.648479 24.164938 \nL 147.792443 23.640066 \nL 148.44028 23.538944 \nL 148.584244 23.423572 \nL 148.632232 23.357936 \nL 148.776196 23.294768 \nL 149.304064 23.204745 \nL 149.472022 23.179522 \nL 150.599739 22.828224 \nL 151.343552 22.73284 \nL 151.823432 22.724473 \nL 151.895414 70.069837 \nL 151.943401 44.704752 \nL 152.063371 40.409938 \nL 152.183341 40.359519 \nL 152.207335 40.290068 \nL 152.399287 37.66301 \nL 152.519257 37.655958 \nL 152.639227 37.018467 \nL 152.759197 37.018467 \nL 152.879167 36.814793 \nL 153.239076 36.703868 \nL 155.062619 36.455823 \nL 155.302559 35.52217 \nL 155.518505 33.252345 \nL 155.686462 33.252345 \nL 155.806432 33.033344 \nL 156.238324 32.933418 \nL 156.478264 32.901657 \nL 157.054119 32.889528 \nL 157.078113 49.417066 \nL 157.174089 42.217463 \nL 157.270065 42.217463 \nL 157.845921 35.051804 \nL 158.229824 35.051804 \nL 158.349794 34.890651 \nL 158.853668 34.784161 \nL 159.04562 34.70839 \nL 159.429523 34.543521 \nL 159.789433 33.862543 \nL 159.861415 33.862543 \nL 159.981385 33.729877 \nL 160.293307 33.6356 \nL 160.43727 33.480876 \nL 160.91715 33.427544 \nL 161.469012 33.380503 \nL 161.708951 33.298783 \nL 161.852915 33.255427 \nL 167.97138 33.192438 \nL 167.995374 71.897547 \nL 168.067356 36.838991 \nL 168.307296 36.838991 \nL 168.547236 31.324471 \nL 168.595224 31.324471 \nL 168.763181 29.411887 \nL 168.787175 29.411887 \nL 168.907145 28.067827 \nL 169.027115 28.067827 \nL 169.171079 26.836736 \nL 169.291049 26.088741 \nL 169.411019 25.981979 \nL 169.530989 25.649683 \nL 169.674953 25.559516 \nL 170.058856 25.360758 \nL 170.754682 25.25923 \nL 170.92264 25.237508 \nL 171.690447 25.149738 \nL 171.906393 24.774411 \nL 172.266303 22.123176 \nL 172.530236 22.020721 \nL 172.746182 21.08372 \nL 172.986122 18.802331 \nL 174.161827 18.737082 \nL 174.185821 117.074149 \nL 174.281797 55.277311 \nL 174.305791 55.277311 \nL 174.545731 43.608108 \nL 174.713689 43.52159 \nL 174.881646 41.707891 \nL 175.001616 41.686622 \nL 175.121586 41.084516 \nL 175.337532 40.808697 \nL 176.369273 40.75656 \nL 176.897141 40.66524 \nL 177.065099 40.634341 \nL 179.440503 40.579842 \nL 179.512485 67.397682 \nL 179.536478 53.01982 \nL 179.656448 48.999652 \nL 179.824406 48.999652 \nL 180.08834 46.876323 \nL 180.232304 43.593197 \nL 180.592214 31.065561 \nL 180.808159 31.065561 \nL 180.976117 30.566238 \nL 181.048099 30.566238 \nL 181.216057 30.079012 \nL 181.312033 30.079012 \nL 181.455997 29.212557 \nL 181.479991 29.212557 \nL 181.647949 26.54226 \nL 181.671943 26.54226 \nL 181.839901 25.259989 \nL 181.911883 25.259989 \nL 182.271792 23.50783 \nL 182.343774 23.408738 \nL 182.415756 23.264538 \nL 182.535726 22.622133 \nL 183.447497 22.511241 \nL 184.479238 22.506507 \nL 184.575214 47.659356 \nL 184.599208 34.660653 \nL 184.743172 34.660653 \nL 184.863142 30.167673 \nL 185.103082 30.167673 \nL 185.223052 25.684752 \nL 185.654943 25.683552 \nL 185.798907 25.089462 \nL 185.894883 25.089462 \nL 186.014853 24.911563 \nL 186.518727 24.817997 \nL 186.638697 24.696118 \nL 186.90263 23.721608 \nL 187.238546 23.623301 \nL 187.406504 23.376762 \nL 189.278034 23.323738 \nL 189.326022 58.74108 \nL 189.398004 46.710011 \nL 189.541968 42.56967 \nL 189.565962 42.56967 \nL 189.709926 32.397491 \nL 189.85389 32.397491 \nL 189.97386 30.453729 \nL 190.117824 30.453729 \nL 190.165812 28.956398 \nL 190.285782 27.183129 \nL 190.357763 27.183129 \nL 190.525721 26.789218 \nL 190.837643 26.737163 \nL 190.981607 26.58004 \nL 191.917372 26.470709 \nL 192.109324 26.443901 \nL 192.901125 26.338178 \nL 193.165059 25.944117 \nL 193.572957 23.436034 \nL 193.788903 23.327561 \nL 193.980854 23.299487 \nL 196.164307 23.194324 \nL 196.500222 23.102281 \nL 197.843885 23.028247 \nL 197.867879 55.556295 \nL 197.963855 51.492857 \nL 198.011843 51.492857 \nL 198.155807 49.329956 \nL 198.227789 49.329956 \nL 198.947608 34.488724 \nL 199.043584 34.399111 \nL 199.403494 32.489296 \nL 199.49947 32.489296 \nL 199.61944 32.242496 \nL 200.027337 32.142058 \nL 200.459229 32.05578 \nL 201.227036 32.021026 \nL 201.466976 31.941674 \nL 201.754904 31.134428 \nL 201.97085 28.904472 \nL 202.258778 28.824005 \nL 202.402741 28.370082 \nL 202.450729 28.370082 \nL 202.618687 27.494783 \nL 202.810639 27.432407 \nL 202.930609 27.322953 \nL 204.514212 27.232002 \nL 204.730157 27.168204 \nL 207.777393 27.116514 \nL 207.849375 48.106205 \nL 207.897363 44.675741 \nL 208.137303 44.675741 \nL 208.353248 39.284458 \nL 208.497212 39.284458 \nL 208.689164 38.597055 \nL 209.049074 38.548461 \nL 209.193038 38.4215 \nL 209.337002 38.359539 \nL 209.648923 37.444862 \nL 209.672917 37.444862 \nL 210.200785 28.995904 \nL 210.368743 28.888268 \nL 210.440725 28.857179 \nL 210.89661 26.933917 \nL 211.064568 24.941664 \nL 211.088562 24.910303 \nL 211.232526 24.473968 \nL 211.25652 24.473968 \nL 211.37649 24.059849 \nL 211.544448 24.036766 \nL 211.976339 23.890028 \nL 212.312255 23.862905 \nL 212.600183 23.858868 \nL 212.624177 52.954894 \nL 212.720153 48.113133 \nL 212.840123 37.473441 \nL 212.936099 37.473441 \nL 213.12805 33.748621 \nL 213.24802 33.748621 \nL 213.36799 32.647027 \nL 213.415978 32.647027 \nL 213.60793 31.008598 \nL 213.799882 30.974213 \nL 213.919852 30.478309 \nL 214.039822 29.926319 \nL 214.20778 28.439085 \nL 214.231774 28.439085 \nL 214.399731 27.158127 \nL 214.831623 27.080657 \nL 214.975587 27.045159 \nL 216.631172 26.951967 \nL 216.751141 49.608634 \nL 216.775135 49.608634 \nL 216.895105 42.553137 \nL 216.967087 42.553137 \nL 217.087057 39.664076 \nL 217.231021 39.650198 \nL 217.374985 37.221198 \nL 217.518949 35.972156 \nL 217.566937 35.972156 \nL 217.758889 33.789566 \nL 217.806877 33.768958 \nL 217.926846 30.951452 \nL 218.166786 27.051847 \nL 218.262762 26.955839 \nL 218.286756 26.916497 \nL 218.454714 25.773613 \nL 218.766636 25.696014 \nL 218.982582 25.123387 \nL 219.198527 24.101116 \nL 219.726395 24.002729 \nL 220.254263 23.824816 \nL 222.365733 23.714129 \nL 222.845612 23.69196 \nL 224.069305 23.686641 \nL 224.189275 42.550713 \nL 224.333239 42.550713 \nL 224.477203 40.998518 \nL 224.549185 40.990929 \nL 224.693149 36.077714 \nL 224.765131 33.750167 \nL 224.909095 30.985522 \nL 224.981077 30.985522 \nL 225.221016 28.485717 \nL 225.316992 28.485717 \nL 225.700896 26.852828 \nL 225.748884 26.852828 \nL 225.96483 26.049135 \nL 226.252758 25.950039 \nL 226.444709 25.777959 \nL 226.612667 25.277899 \nL 226.636661 25.277899 \nL 226.900595 23.565944 \nL 227.020565 23.565944 \nL 227.188523 23.248887 \nL 227.884348 23.105061 \nL 228.820113 23.031724 \nL 228.892095 35.647291 \nL 228.940083 32.252088 \nL 229.012065 32.252088 \nL 229.228011 29.212388 \nL 229.275999 29.212388 \nL 229.395969 26.585099 \nL 229.515939 26.585099 \nL 229.683897 25.977319 \nL 229.803867 25.87608 \nL 230.019812 25.607237 \nL 230.0678 25.594549 \nL 230.18777 25.489564 \nL 231.843355 25.396036 \nL 231.867349 87.945761 \nL 231.963325 59.345919 \nL 232.083295 51.517132 \nL 232.179271 51.517132 \nL 232.467198 38.422689 \nL 232.635156 38.327599 \nL 232.851102 37.447603 \nL 233.067048 37.351369 \nL 233.211012 37.113888 \nL 234.458699 37.005817 \nL 234.77062 36.86003 \nL 235.154524 35.798949 \nL 235.202512 35.759503 \nL 235.586416 33.53135 \nL 235.706386 31.583874 \nL 236.450199 31.485047 \nL 236.762121 31.011062 \nL 236.930079 30.47048 \nL 237.745874 30.374608 \nL 237.96182 30.097951 \nL 239.209507 29.987177 \nL 239.281489 41.451776 \nL 239.305483 32.638545 \nL 239.473441 32.638545 \nL 239.59341 28.661309 \nL 239.689386 28.661309 \nL 239.809356 27.511463 \nL 239.83335 27.511463 \nL 239.977314 26.264968 \nL 240.121278 26.216528 \nL 240.31323 25.842268 \nL 240.409206 25.775116 \nL 240.529176 25.627719 \nL 240.841097 25.557753 \nL 240.985061 25.504571 \nL 242.400706 25.394238 \nL 242.66464 25.325752 \nL 243.792357 25.312423 \nL 243.816351 90.429544 \nL 243.912327 51.266864 \nL 244.128273 39.237756 \nL 244.224249 39.237756 \nL 244.392206 36.809537 \nL 244.560164 36.283886 \nL 244.920074 36.18583 \nL 245.231996 36.09474 \nL 245.519924 36.016 \nL 245.759863 35.621246 \nL 245.783857 35.61697 \nL 245.903827 34.709323 \nL 247.24749 34.616696 \nL 247.559412 34.168223 \nL 247.72737 33.696349 \nL 248.039291 33.530961 \nL 248.663135 33.455569 \nL 248.831093 33.325948 \nL 249.910822 33.229696 \nL 250.150762 33.088233 \nL 250.630641 33.078325 \nL 250.702623 40.202317 \nL 250.726617 35.146557 \nL 250.774605 35.146557 \nL 250.894575 32.268203 \nL 251.110521 32.268203 \nL 251.230491 31.811118 \nL 251.374455 31.811118 \nL 251.494425 31.608017 \nL 251.542412 31.555406 \nL 251.686376 31.452888 \nL 252.022292 31.385745 \nL 252.214244 31.179208 \nL 252.454184 31.07712 \nL 252.622142 30.929961 \nL 252.766105 30.850717 \nL 252.934063 30.683562 \nL 253.653883 30.57375 \nL 253.821841 30.433847 \nL 253.94181 30.351182 \nL 254.085774 30.311988 \nL 255.357455 30.248431 \nL 255.477425 45.527371 \nL 255.501419 45.527371 \nL 255.621389 33.252559 \nL 255.789347 33.252559 \nL 255.909317 30.988062 \nL 256.029287 30.747228 \nL 256.125263 30.653937 \nL 256.293221 30.08432 \nL 256.485172 29.565391 \nL 256.677124 29.565391 \nL 256.941058 28.443696 \nL 257.01304 28.443696 \nL 257.157004 28.16919 \nL 257.37295 27.917038 \nL 257.852829 27.825629 \nL 258.092769 27.75084 \nL 258.476673 27.607082 \nL 258.788594 27.20903 \nL 258.932558 26.637862 \nL 259.148504 26.57354 \nL 259.268474 26.514494 \nL 260.156251 26.416531 \nL 260.444179 26.189419 \nL 270.833572 26.120223 \nL 270.953542 30.699763 \nL 271.049518 30.699763 \nL 271.169488 29.517945 \nL 271.193482 29.517945 \nL 271.24147 28.404094 \nL 271.385434 25.957436 \nL 271.433422 25.957436 \nL 271.553392 24.160991 \nL 271.60138 24.160991 \nL 271.769338 21.786822 \nL 271.84132 21.786822 \nL 271.961289 21.010281 \nL 272.537145 20.900664 \nL 272.753091 20.822802 \nL 273.328946 20.539767 \nL 273.83282 17.359839 \nL 274.120748 17.254362 \nL 274.3127 17.160492 \nL 274.984531 17.141906 \nL 275.056513 48.3492 \nL 275.104501 33.300006 \nL 275.248465 26.365955 \nL 275.344441 26.365955 \nL 275.464411 26.069926 \nL 275.536392 26.01663 \nL 275.656362 25.270031 \nL 277.93579 25.162203 \nL 278.151736 25.101286 \nL 278.53564 24.997099 \nL 278.751586 24.914096 \nL 283.166478 24.80767 \nL 283.190472 56.07277 \nL 283.286448 41.95625 \nL 283.550382 41.95625 \nL 283.862304 32.951714 \nL 284.102243 32.951714 \nL 284.270201 32.343503 \nL 284.438159 32.29128 \nL 284.582123 32.150247 \nL 284.894045 32.060664 \nL 285.062003 32.037877 \nL 285.781822 32.014654 \nL 285.805816 69.910706 \nL 285.901792 49.245151 \nL 285.94978 49.245151 \nL 286.06975 44.073588 \nL 286.093744 44.015899 \nL 286.477647 36.377391 \nL 286.573623 36.377391 \nL 286.741581 34.710249 \nL 286.765575 34.710249 \nL 286.885545 33.899621 \nL 287.005515 32.743916 \nL 287.149479 30.702967 \nL 287.365425 30.702967 \nL 287.509389 30.076856 \nL 287.533382 30.076856 \nL 287.677346 29.256798 \nL 287.749328 29.256798 \nL 287.869298 28.441229 \nL 287.893292 28.441229 \nL 288.037256 27.567648 \nL 288.205214 27.251715 \nL 288.253202 27.177137 \nL 288.565124 26.427659 \nL 288.6611 26.394274 \nL 288.805063 26.233751 \nL 289.045003 26.138111 \nL 290.436654 26.049653 \nL 290.460648 40.606419 \nL 290.556624 34.27673 \nL 290.676594 34.27673 \nL 290.844552 31.690412 \nL 290.940528 31.690412 \nL 291.204461 30.447872 \nL 291.228455 30.447872 \nL 291.348425 29.926802 \nL 291.612359 29.83903 \nL 291.756323 29.773838 \nL 292.284191 29.673069 \nL 292.572118 29.651687 \nL 293.675841 29.645633 \nL 293.747823 66.985925 \nL 293.795811 52.424414 \nL 293.819805 52.424414 \nL 293.867793 52.21611 \nL 294.011757 43.506585 \nL 294.107733 43.506585 \nL 294.299685 40.905522 \nL 294.443649 40.123549 \nL 294.539625 40.123549 \nL 294.707583 39.704807 \nL 294.923528 39.395353 \nL 298.618601 39.28663 \nL 299.218451 39.093423 \nL 299.458391 38.592182 \nL 299.650342 37.303111 \nL 299.93827 37.192484 \nL 299.962264 37.188499 \nL 300.106228 36.714986 \nL 300.130222 36.714986 \nL 300.274186 35.982776 \nL 300.442144 35.982776 \nL 300.562114 35.810348 \nL 300.922023 35.66867 \nL 302.217698 35.6181 \nL 302.337668 40.173957 \nL 302.505626 40.173957 \nL 302.697578 38.56482 \nL 302.793554 38.56482 \nL 302.937518 38.050598 \nL 307.424392 37.95886 \nL 307.448386 50.399899 \nL 307.544362 49.010894 \nL 307.568356 49.010894 \nL 307.688326 47.698627 \nL 307.784302 47.592461 \nL 308.072229 46.081953 \nL 308.336163 41.447061 \nL 308.576103 41.395071 \nL 308.792049 39.236645 \nL 308.816043 39.236645 \nL 308.984001 37.90213 \nL 309.151958 37.90213 \nL 309.319916 37.546859 \nL 309.46388 37.435767 \nL 309.70382 36.349143 \nL 309.82379 35.313461 \nL 310.135712 35.222187 \nL 310.30367 35.142718 \nL 311.551356 35.081463 \nL 311.57535 60.213591 \nL 311.671326 47.657667 \nL 311.719314 47.657667 \nL 311.839284 35.028308 \nL 311.983248 35.028308 \nL 312.103218 30.905084 \nL 312.127212 30.735093 \nL 312.271176 27.678537 \nL 312.391146 27.678537 \nL 312.559104 26.934952 \nL 312.583098 26.934952 \nL 312.751055 26.221007 \nL 312.823037 26.221007 \nL 312.990995 25.091649 \nL 313.158953 24.999469 \nL 313.494869 24.896964 \nL 313.710815 24.840807 \nL 314.862526 24.821867 \nL 314.958502 55.937468 \nL 314.982496 53.127044 \nL 315.150453 49.340414 \nL 315.366399 49.340414 \nL 315.558351 46.004153 \nL 315.582345 46.004153 \nL 315.774297 44.245193 \nL 315.822285 44.245193 \nL 315.942255 43.975798 \nL 315.990243 43.973634 \nL 316.134207 43.557405 \nL 316.182195 43.557405 \nL 316.302165 43.436129 \nL 316.470122 43.366403 \nL 316.662074 43.098729 \nL 316.854026 43.000205 \nL 317.165948 42.792321 \nL 317.309912 42.736562 \nL 317.525857 41.658578 \nL 317.717809 33.955347 \nL 317.861773 27.937501 \nL 317.957749 27.937501 \nL 318.077719 27.598993 \nL 318.221683 27.507113 \nL 318.581593 27.271973 \nL 318.821532 27.186167 \nL 319.181442 26.503274 \nL 319.58934 26.396831 \nL 319.757298 26.274814 \nL 319.973243 26.172712 \nL 320.405135 24.680018 \nL 320.549099 24.606794 \nL 320.980991 24.559796 \nL 321.388888 24.552851 \nL 321.484864 168.19407 \nL 321.508858 122.603922 \nL 321.628828 85.725342 \nL 321.676816 85.725342 \nL 321.844774 82.882495 \nL 322.012732 64.330618 \nL 322.06072 64.330618 \nL 322.204684 47.206197 \nL 322.276666 47.206197 \nL 322.444623 45.514605 \nL 322.612581 42.705359 \nL 322.684563 42.705359 \nL 322.708557 42.524449 \nL 322.900509 38.344937 \nL 323.284413 35.288769 \nL 323.308407 35.288769 \nL 323.476365 33.517374 \nL 323.620328 32.663911 \nL 323.69231 32.663911 \nL 323.836274 32.287549 \nL 323.93225 32.248503 \nL 324.05222 32.100603 \nL 324.268166 32.02659 \nL 324.41213 31.986075 \nL 326.619576 31.924733 \nL 326.64357 103.522815 \nL 326.739546 72.868598 \nL 326.88351 45.684045 \nL 327.051468 45.684045 \nL 327.195431 44.701851 \nL 327.219425 44.701851 \nL 327.459365 44.07129 \nL 327.531347 44.024577 \nL 327.675311 43.891743 \nL 328.155191 43.801719 \nL 328.419124 43.602242 \nL 328.707052 43.507964 \nL 328.87501 43.476403 \nL 330.242667 43.460249 \nL 330.290655 80.574398 \nL 330.362637 67.048966 \nL 330.386631 67.048966 \nL 330.506601 54.732768 \nL 330.554589 54.643715 \nL 330.698553 51.498272 \nL 330.74654 51.498272 \nL 331.034468 48.672166 \nL 331.082456 48.672166 \nL 331.202426 48.112522 \nL 331.274408 48.095058 \nL 331.394378 47.527697 \nL 331.970233 47.42562 \nL 332.378131 47.211981 \nL 332.762035 45.270344 \nL 332.882005 45.200151 \nL 334.105698 45.142329 \nL 334.249662 41.074103 \nL 334.417619 41.007853 \nL 334.537589 40.773181 \nL 334.585577 40.773181 \nL 334.729541 40.524562 \nL 334.897499 40.417119 \nL 335.257409 40.306533 \nL 335.857258 40.248406 \nL 338.424614 40.151819 \nL 338.712542 39.664349 \nL 338.928488 38.462292 \nL 339.00047 38.462292 \nL 339.120439 38.237238 \nL 340.464102 38.217827 \nL 340.488096 135.408557 \nL 340.584072 101.129857 \nL 340.75203 46.813367 \nL 340.895994 46.813367 \nL 341.063952 44.6889 \nL 341.135934 44.663526 \nL 341.279898 42.701275 \nL 341.35188 42.701275 \nL 341.519838 42.102632 \nL 341.831759 41.431364 \nL 341.903741 41.431364 \nL 342.047705 40.774097 \nL 342.911488 40.681463 \nL 343.295392 40.260735 \nL 344.639055 40.076786 \nL 344.998965 39.98429 \nL 346.246652 38.210395 \nL 346.750525 38.104675 \nL 346.918483 38.077285 \nL 350.63755 37.967353 \nL 352.053195 37.634743 \nL 352.197159 37.481514 \nL 352.221153 37.481514 \nL 352.365116 37.207583 \nL 352.38911 37.165797 \nL 352.605056 35.524593 \nL 352.773014 35.483655 \nL 352.892984 35.153516 \nL 354.260641 35.118229 \nL 354.260641 35.118229 \n\" style=\"fill:none;stroke:#1f77b4;stroke-linecap:square;stroke-width:1.5;\"/>\n   </g>\n   <g id=\"patch_3\">\n    <path d=\"M 34.678823 224.698269 \nL 34.678823 7.258269 \n\" style=\"fill:none;stroke:#000000;stroke-linecap:square;stroke-linejoin:miter;stroke-width:0.8;\"/>\n   </g>\n   <g id=\"patch_4\">\n    <path d=\"M 369.478823 224.698269 \nL 369.478823 7.258269 \n\" style=\"fill:none;stroke:#000000;stroke-linecap:square;stroke-linejoin:miter;stroke-width:0.8;\"/>\n   </g>\n   <g id=\"patch_5\">\n    <path d=\"M 34.678823 224.698269 \nL 369.478823 224.698269 \n\" style=\"fill:none;stroke:#000000;stroke-linecap:square;stroke-linejoin:miter;stroke-width:0.8;\"/>\n   </g>\n   <g id=\"patch_6\">\n    <path d=\"M 34.678823 7.258269 \nL 369.478823 7.258269 \n\" style=\"fill:none;stroke:#000000;stroke-linecap:square;stroke-linejoin:miter;stroke-width:0.8;\"/>\n   </g>\n  </g>\n </g>\n <defs>\n  <clipPath id=\"p6dab05b425\">\n   <rect height=\"217.44\" width=\"334.8\" x=\"34.678823\" y=\"7.258269\"/>\n  </clipPath>\n </defs>\n</svg>\n",
      "image/png": "[encoded data removed]"
     },
     "metadata": {
      "needs_background": "light"
     }
    }
   ],
   "metadata": {}
  },
  {
   "cell_type": "code",
   "execution_count": 8,
   "source": [
    "res"
   ],
   "outputs": [
    {
     "output_type": "execute_result",
     "data": {
      "text/plain": [
       "                        fun: 2.0458644344747055\n",
       " lowest_optimization_result:  final_simplex: (array([[1.63832257, 3.18675841, 2.35648873, 0.81601812, 0.84368379],\n",
       "       [1.6383093 , 3.18671161, 2.35645642, 0.81597984, 0.84367956],\n",
       "       [1.6383138 , 3.18678915, 2.35651641, 0.81605626, 0.8436918 ],\n",
       "       [1.63826238, 3.18679343, 2.35650551, 0.81606112, 0.84370012],\n",
       "       [1.63834529, 3.18676816, 2.3565382 , 0.81603508, 0.84370343],\n",
       "       [1.63829678, 3.1867649 , 2.35652618, 0.81603408, 0.84370533]]), array([2.04586443, 2.04587681, 2.04588118, 2.04589089, 2.04589334,\n",
       "       2.04589781]))\n",
       "           fun: 2.0458644344747055\n",
       "       message: 'Optimization terminated successfully.'\n",
       "          nfev: 294\n",
       "           nit: 180\n",
       "        status: 0\n",
       "       success: True\n",
       "             x: array([1.63832257, 3.18675841, 2.35648873, 0.81601812, 0.84368379])\n",
       "                    message: ['requested number of basinhopping iterations completed successfully']\n",
       "      minimization_failures: 0\n",
       "                       nfev: 3985\n",
       "                        nit: 10\n",
       "                          x: array([1.63832257, 3.18675841, 2.35648873, 0.81601812, 0.84368379])"
      ]
     },
     "metadata": {},
     "execution_count": 8
    }
   ],
   "metadata": {}
  },
  {
   "cell_type": "code",
   "execution_count": 20,
   "source": [
    "Bell_terms"
   ],
   "outputs": [
    {
     "output_type": "execute_result",
     "data": {
      "text/plain": [
       "[array([[1., 0., 0., 0.],\n",
       "        [0., 1., 0., 0.],\n",
       "        [0., 0., 1., 0.],\n",
       "        [0., 0., 0., 1.]]),\n",
       " array([[0., 1., 0., 0.],\n",
       "        [1., 0., 0., 0.],\n",
       "        [0., 0., 0., 1.],\n",
       "        [0., 0., 1., 0.]]),\n",
       " array([[ 1.000000e+00,  6.123234e-17,  0.000000e+00,  0.000000e+00],\n",
       "        [ 6.123234e-17, -1.000000e+00,  0.000000e+00, -0.000000e+00],\n",
       "        [ 0.000000e+00,  0.000000e+00,  1.000000e+00,  6.123234e-17],\n",
       "        [ 0.000000e+00, -0.000000e+00,  6.123234e-17, -1.000000e+00]]),\n",
       " array([[0., 0., 1., 0.],\n",
       "        [0., 0., 0., 1.],\n",
       "        [1., 0., 0., 0.],\n",
       "        [0., 1., 0., 0.]]),\n",
       " array([[0., 0., 0., 1.],\n",
       "        [0., 0., 1., 0.],\n",
       "        [0., 1., 0., 0.],\n",
       "        [1., 0., 0., 0.]]),\n",
       " array([[ 0.000000e+00,  0.000000e+00,  1.000000e+00,  6.123234e-17],\n",
       "        [ 0.000000e+00, -0.000000e+00,  6.123234e-17, -1.000000e+00],\n",
       "        [ 1.000000e+00,  6.123234e-17,  0.000000e+00,  0.000000e+00],\n",
       "        [ 6.123234e-17, -1.000000e+00,  0.000000e+00, -0.000000e+00]]),\n",
       " array([[ 1.000000e+00,  0.000000e+00,  6.123234e-17,  0.000000e+00],\n",
       "        [ 0.000000e+00,  1.000000e+00,  0.000000e+00,  6.123234e-17],\n",
       "        [ 6.123234e-17,  0.000000e+00, -1.000000e+00, -0.000000e+00],\n",
       "        [ 0.000000e+00,  6.123234e-17, -0.000000e+00, -1.000000e+00]]),\n",
       " array([[ 0.000000e+00,  1.000000e+00,  0.000000e+00,  6.123234e-17],\n",
       "        [ 1.000000e+00,  0.000000e+00,  6.123234e-17,  0.000000e+00],\n",
       "        [ 0.000000e+00,  6.123234e-17, -0.000000e+00, -1.000000e+00],\n",
       "        [ 6.123234e-17,  0.000000e+00, -1.000000e+00, -0.000000e+00]]),\n",
       " array([[ 1.00000000e+00,  6.12323400e-17,  6.12323400e-17,\n",
       "          3.74939946e-33],\n",
       "        [ 6.12323400e-17, -1.00000000e+00,  3.74939946e-33,\n",
       "         -6.12323400e-17],\n",
       "        [ 6.12323400e-17,  3.74939946e-33, -1.00000000e+00,\n",
       "         -6.12323400e-17],\n",
       "        [ 3.74939946e-33, -6.12323400e-17, -6.12323400e-17,\n",
       "          1.00000000e+00]])]"
      ]
     },
     "metadata": {},
     "execution_count": 20
    }
   ],
   "metadata": {}
  }
 ],
 "metadata": {
  "interpreter": {
   "hash": "916dbcbb3f70747c44a77c7bcd40155683ae19c65e1c03b4aa3499c5328201f1"
  },
  "kernelspec": {
   "name": "python3",
   "display_name": "Python 3.8.10 64-bit"
  },
  "language_info": {
   "name": "python",
   "version": "3.8.10",
   "mimetype": "text/x-python",
   "codemirror_mode": {
    "name": "ipython",
    "version": 3
   },
   "pygments_lexer": "ipython3",
   "nbconvert_exporter": "python",
   "file_extension": ".py"
  },
  "orig_nbformat": 4
 },
 "nbformat": 4,
 "nbformat_minor": 2
}