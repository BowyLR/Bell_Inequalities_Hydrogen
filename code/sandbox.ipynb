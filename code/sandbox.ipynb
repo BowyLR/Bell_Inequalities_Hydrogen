{
 "cells": [
  {
   "cell_type": "code",
   "execution_count": 19,
   "source": [
    "from openfermion.chem import MolecularData\n",
    "from openfermion import FermionOperator\n",
    "from openfermion.transforms import get_fermion_operator, jordan_wigner, bravyi_kitaev\n",
    "from openfermionpyscf import run_pyscf\n",
    "from hamiltonian.matrix_hamiltonian import get_matrix_form\n",
    "import numpy as np\n",
    "\n",
    "\n",
    "# Set parameters to make a simple molecule.\n",
    "diatomic_bond_length = .7414  # in Angstrom\n",
    "geometry = [\n",
    "    ('H', (0., 0., 0.)), \n",
    "    ('H', (0., 0., diatomic_bond_length))\n",
    "]\n",
    "basis = '3-21G'\n",
    "# basis = 'sto-3G'\n",
    "multiplicity = 1\n",
    "charge = 0\n",
    "description = str(diatomic_bond_length)\n",
    "\n",
    "molecule = MolecularData(geometry, basis, multiplicity,\n",
    "                         charge, description)\n",
    "\n",
    "# Initializing the openfermionpyscf software\n",
    "run_scf = 1\n",
    "run_mp2 = 0\n",
    "run_cisd = 0\n",
    "run_ccsd = 0\n",
    "run_fci = 1\n",
    "delete_input = True\n",
    "delete_output = True\n",
    "\n",
    "# Run pyscf.\n",
    "molecule = run_pyscf(molecule,\n",
    "                    run_scf=run_scf,\n",
    "                    run_mp2=run_mp2,\n",
    "                    run_cisd=run_cisd,\n",
    "                    run_ccsd=run_ccsd,\n",
    "                    run_fci=run_fci\n",
    ")"
   ],
   "outputs": [],
   "metadata": {}
  },
  {
   "cell_type": "code",
   "execution_count": 23,
   "source": [
    "# Obtaining the fermionic Hamiltonian\n",
    "molecular_hamiltonian = molecule.get_molecular_hamiltonian()\n",
    "fermionic_hamiltonian = get_fermion_operator(molecular_hamiltonian)\n",
    "\n",
    "# Removing the nuclear repuslion \n",
    "fermionic_hamiltonian += -FermionOperator('', fermionic_hamiltonian.terms[()])\n",
    "\n",
    "# Obtaiing the Jordan-Wigner Hamiltonian\n",
    "qubit_hamiltonian = jordan_wigner(fermionic_hamiltonian)\n",
    "# bravyi_kitaev(fermionic_hamiltonian)\n"
   ],
   "outputs": [
    {
     "output_type": "execute_result",
     "data": {
      "text/plain": [
       "12"
      ]
     },
     "metadata": {},
     "execution_count": 23
    }
   ],
   "metadata": {}
  },
  {
   "cell_type": "code",
   "execution_count": 4,
   "source": [
    "from openfermion.chem import MolecularData\n",
    "from openfermion import FermionOperator\n",
    "from openfermion.transforms import get_fermion_operator, jordan_wigner, bravyi_kitaev\n",
    "from openfermionpyscf import run_pyscf\n",
    "from hamiltonian.matrix_hamiltonian import get_matrix_form\n",
    "import numpy as np\n",
    "\n",
    "\n",
    "# Set parameters to make a simple molecule.\n",
    "diatomic_bond_length = .7414\n",
    "geometry = [('H', (0., 0., 0.)), ('H', (0., 0., diatomic_bond_length))]\n",
    "# basis = '3-21G'\n",
    "basis = 'sto-3G'\n",
    "multiplicity = 1\n",
    "charge = 0\n",
    "description = str(diatomic_bond_length)\n",
    "\n",
    "molecule = MolecularData(geometry, basis, multiplicity,\n",
    "                         charge, description)\n",
    "\n",
    "# Initializing the openfermionpyscf software\n",
    "run_scf = 1\n",
    "run_mp2 = 0\n",
    "run_cisd = 0\n",
    "run_ccsd = 0\n",
    "run_fci = 0\n",
    "delete_input = True\n",
    "delete_output = True\n",
    "\n",
    "# Run pyscf.\n",
    "molecule = run_pyscf(molecule,\n",
    "                        run_scf=run_scf,\n",
    "                        run_mp2=run_mp2,\n",
    "                        run_cisd=run_cisd,\n",
    "                        run_ccsd=run_ccsd,\n",
    "                        run_fci=run_fci)"
   ],
   "outputs": [],
   "metadata": {}
  },
  {
   "cell_type": "code",
   "execution_count": 5,
   "source": [
    "\n",
    "\n",
    "# Obtaining the fermionic Hamiltonian\n",
    "molecular_hamiltonian = molecule.get_molecular_hamiltonian()\n",
    "fermionic_hamiltonian = get_fermion_operator(molecular_hamiltonian)\n",
    "\n",
    "# Removing the nuclear repuslion \n",
    "fermionic_hamiltonian += -FermionOperator('', fermionic_hamiltonian.terms[()])\n",
    "\n",
    "# Obtaiing the Jordan-Wigner Hamiltonian\n",
    "qubit_hamiltonian = jordan_wigner(fermionic_hamiltonian)\n",
    "# bravyi_kitaev(fermionic_hamiltonian)\n",
    "\n"
   ],
   "outputs": [],
   "metadata": {}
  },
  {
   "cell_type": "code",
   "execution_count": 11,
   "source": [
    "# We can actually optimize it using only one, two, three and four neirest neighbouring parties\n",
    "N = qubit_hamiltonian.many_body_order()\n",
    "H = get_matrix_form(N, qubit_hamiltonian)\n",
    "eig_vals, eig_vecs = np.linalg.eigh(H)\n",
    "eig_vals[0]\n",
    "psi_G = np.zeros((N**2, 1))\n",
    "psi_G[:,0] = eig_vecs[:,0]\n",
    "psi_G_trans = np.transpose(psi_G)"
   ],
   "outputs": [],
   "metadata": {}
  },
  {
   "cell_type": "code",
   "execution_count": 21,
   "source": [
    "rho = np.matmul(psi_G, psi_G_trans)\n",
    "np.trace(np.matmul(rho, rho))\n",
    "\n",
    "\n",
    "# mmmm, weird, the state is pure, what could be wrong?"
   ],
   "outputs": [
    {
     "output_type": "execute_result",
     "data": {
      "text/plain": [
       "1.0000000000000002"
      ]
     },
     "metadata": {},
     "execution_count": 21
    }
   ],
   "metadata": {}
  }
 ],
 "metadata": {
  "orig_nbformat": 4,
  "language_info": {
   "name": "python",
   "version": "3.8.10",
   "mimetype": "text/x-python",
   "codemirror_mode": {
    "name": "ipython",
    "version": 3
   },
   "pygments_lexer": "ipython3",
   "nbconvert_exporter": "python",
   "file_extension": ".py"
  },
  "kernelspec": {
   "name": "python3",
   "display_name": "Python 3.8.10 64-bit"
  },
  "interpreter": {
   "hash": "916dbcbb3f70747c44a77c7bcd40155683ae19c65e1c03b4aa3499c5328201f1"
  }
 },
 "nbformat": 4,
 "nbformat_minor": 2
}