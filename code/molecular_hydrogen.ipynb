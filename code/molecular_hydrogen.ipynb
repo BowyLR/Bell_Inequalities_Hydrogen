{
 "cells": [
  {
   "cell_type": "code",
   "execution_count": 1,
   "source": [
    "# Importing packages\r\n",
    "import numpy as np\r\n",
    "from sympy import solve, symbols, Eq\r\n",
    "from tqdm import tqdm\r\n",
    "\r\n",
    "# Importing Pauli matrices\r\n",
    "from pauli_matrices.pauli_matrices import I, X, Y, Z\r\n",
    "\r\n",
    "# Importing functions\r\n",
    "from pauli_matrices.pauli_chain import get_Pauli_chain\r\n",
    "from hamiltonian.hamiltonian import get_hamiltonian"
   ],
   "outputs": [],
   "metadata": {}
  },
  {
   "cell_type": "code",
   "execution_count": 2,
   "source": [
    "def get_Bell_term(measurement_choices, measurement_indices):\r\n",
    "            \r\n",
    "    # Obtaining Pauli chain\r\n",
    "    Pauli_chain = get_Pauli_chain(measurement_choices)\r\n",
    "\r\n",
    "    # Obtaining the variable indices\r\n",
    "    lower_string = ''\r\n",
    "\r\n",
    "    for j in measurement_indices:\r\n",
    "        lower_string += str(j)\r\n",
    "\r\n",
    "    # Finilizing the variable\r\n",
    "    var = symbols('c_{' + lower_string + '}')\r\n",
    "\r\n",
    "    # Returning the Bell operator term\r\n",
    "    return var * Pauli_chain, var\r\n",
    "\r\n"
   ],
   "outputs": [],
   "metadata": {}
  },
  {
   "cell_type": "code",
   "execution_count": 15,
   "source": [
    "# Defining qubit transform\r\n",
    "qubit_transform = 'JW'\r\n",
    "\r\n",
    "# Obtainig Hamiltonian\r\n",
    "hamiltonian = get_hamiltonian(qubit_transform = qubit_transform)\r\n",
    "\r\n",
    "# Extracting parameters\r\n",
    "H = hamiltonian.matrix_form\r\n",
    "N = hamiltonian.N\r\n",
    "\r\n",
    "# Calculating the eigenvalues and eigenstates\r\n",
    "eig_vals, eig_vecs = np.linalg.eigh(H)\r\n",
    "\r\n",
    "# Extracting the ground state energy and the respective eigenstate\r\n",
    "E_G = eig_vals[0]\r\n",
    "psi_G = eig_vecs[:,0]\r\n",
    "psi_G_dagger = np.conjugate(np.transpose(psi_G))\r\n",
    "\r\n"
   ],
   "outputs": [],
   "metadata": {}
  },
  {
   "cell_type": "code",
   "execution_count": 16,
   "source": [
    "E_G"
   ],
   "outputs": [
    {
     "output_type": "execute_result",
     "data": {
      "text/plain": [
       "-1.8510456784448643"
      ]
     },
     "metadata": {},
     "execution_count": 16
    }
   ],
   "metadata": {}
  },
  {
   "cell_type": "code",
   "execution_count": 65,
   "source": [
    "# Defining measurements of the parties\r\n",
    "M1 = M2 = M3 = M4 = [I, X, Y, Z]\r\n",
    "\r\n",
    "# Consrtucting a measurement matrix\r\n",
    "M = np.array([\r\n",
    "    M1,\r\n",
    "    M2,\r\n",
    "    M3,\r\n",
    "    M4\r\n",
    "])\r\n",
    "\r\n",
    "# Constructing a matrix with variables instead of matrices for the Bell inequality\r\n",
    "ones = [1]*N\r\n",
    "# M_vars = \r\n",
    "\r\n",
    "# Initializing the Bell operator, the Bell inequality and a string containing the variables\r\n",
    "B = 0\r\n",
    "var = []\r\n",
    "\r\n",
    "# Creating indices for all measurements\r\n",
    "temp_indices = [[i, j, k, l] for i in range(len(M1)) for j in range(len(M2)) for k in range(len(M3)) for l in range(len(M4))]\r\n",
    "\r\n",
    "# Checking for one and two body terms requirement\r\n",
    "indices = []\r\n",
    "one_and_two_body = False\r\n",
    "\r\n",
    "if one_and_two_body:\r\n",
    "    for j in temp_indices:\r\n",
    "        if np.sum([j[i] == 0 for i in range(len(j))]) >= 2:\r\n",
    "            indices.append(j)\r\n",
    "else:\r\n",
    "    indices = temp_indices.copy()\r\n",
    "\r\n",
    "# Calculating the Bell operator\r\n",
    "for measurement_indices in tqdm(indices):\r\n",
    "\r\n",
    "    # Constructing the measurement choices\r\n",
    "    measurement_choices = [M[p, measurement_indices[p]] for p in range(N)]\r\n",
    "\r\n",
    "    # Calculating the Bell terms and the corresponding variable\r\n",
    "    B_temp, var_temp = get_Bell_term(measurement_choices, measurement_indices)\r\n",
    "    \r\n",
    "    # Adding these temporaries to the existsing Bell operator and the var list\r\n",
    "    B += B_temp\r\n",
    "    var.append(var_temp)\r\n",
    "# "
   ],
   "outputs": [
    {
     "output_type": "stream",
     "name": "stderr",
     "text": [
      "100%|██████████| 256/256 [00:08<00:00, 30.15it/s]\n"
     ]
    }
   ],
   "metadata": {}
  },
  {
   "cell_type": "code",
   "execution_count": 66,
   "source": [
    "# Obtaining the sytsem of equations (this takes ages)\r\n",
    "pauli_matrices = [I, X, Y, Z]\r\n",
    "\r\n",
    "# Initializing the equations list\r\n",
    "eqs = []\r\n",
    "\r\n",
    "# Looping over the equations\r\n",
    "for measurement_indices in tqdm(indices):\r\n",
    "\r\n",
    "    # Constructing the measurement choices\r\n",
    "    measurement_choices = [pauli_matrices[p] for p in measurement_indices]\r\n",
    "    Projector = get_Pauli_chain(measurement_choices)\r\n",
    "\r\n",
    "    # calculating system of equations\r\n",
    "    eqs.append( \r\n",
    "        Eq( \r\n",
    "            np.trace( np.matmul(B, Projector)).simplify(), \r\n",
    "            np.trace( np.matmul(H, Projector) )\r\n",
    "        ) \r\n",
    "    )\r\n",
    "   "
   ],
   "outputs": [
    {
     "output_type": "stream",
     "name": "stderr",
     "text": [
      "100%|██████████| 256/256 [13:30<00:00,  3.16s/it]\n"
     ]
    }
   ],
   "metadata": {}
  },
  {
   "cell_type": "code",
   "execution_count": 67,
   "source": [
    "# Solving the system for equations\r\n",
    "ans = solve(eqs, var)"
   ],
   "outputs": [],
   "metadata": {}
  },
  {
   "cell_type": "code",
   "execution_count": 70,
   "source": [
    "psi_G"
   ],
   "outputs": [
    {
     "output_type": "execute_result",
     "data": {
      "text/plain": [
       "array([ 0.        ,  0.        ,  0.        ,  0.11282248,  0.        ,\n",
       "        0.        ,  0.        ,  0.        ,  0.        ,  0.        ,\n",
       "        0.        ,  0.        , -0.99361516,  0.        ,  0.        ,\n",
       "        0.        ])"
      ]
     },
     "metadata": {},
     "execution_count": 70
    }
   ],
   "metadata": {}
  },
  {
   "cell_type": "code",
   "execution_count": 82,
   "source": [
    "# Still need to make the Bell inequality \r\n",
    "# Need to implement the faster algorithm in order to calculate the classical bound\r\n",
    "# Still need to add the ground state of the Hamiltonian to the Hamiltonian\r\n",
    "# Let's try to implement the algorithm first, as this does require a different notation and only a subpart of the Bell inequality\r\n",
    "# I think we can simply model more rows in the measurement matrix and set those to zero\r\n",
    "# Let's try it on the very simple XXZZ Hamiltonian first\r\n",
    "# I think it is best to rewrite the Bell inequality in a very simple sum. This allows us to compare it to the Bell inequality given by Jura, et al. 2017"
   ],
   "outputs": [
    {
     "output_type": "execute_result",
     "data": {
      "text/plain": [
       "array([0, 1, 0, 0])"
      ]
     },
     "metadata": {},
     "execution_count": 82
    }
   ],
   "metadata": {}
  }
 ],
 "metadata": {
  "orig_nbformat": 4,
  "language_info": {
   "name": "python",
   "version": "3.8.8",
   "mimetype": "text/x-python",
   "codemirror_mode": {
    "name": "ipython",
    "version": 3
   },
   "pygments_lexer": "ipython3",
   "nbconvert_exporter": "python",
   "file_extension": ".py"
  },
  "kernelspec": {
   "name": "python3",
   "display_name": "Python 3.8.8 64-bit ('base': conda)"
  },
  "interpreter": {
   "hash": "547f72bac979aab6cb8efe81a1a6a3f1c43e51a7273e91a5a5bc0125918566b7"
  }
 },
 "nbformat": 4,
 "nbformat_minor": 2
}