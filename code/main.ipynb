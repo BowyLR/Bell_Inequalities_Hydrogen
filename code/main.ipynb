{
 "cells": [
  {
   "cell_type": "code",
   "execution_count": 1,
   "source": [
    "# Importing packages\r\n",
    "import numpy as np\r\n",
    "from sympy import solve, symbols, Eq\r\n",
    "import random \r\n",
    "from tqdm import tqdm\r\n",
    "\r\n",
    "# Importing openfermion\r\n",
    "from openfermion.ops import FermionOperator\r\n",
    "from openfermion.transforms import jordan_wigner, bravyi_kitaev\r\n"
   ],
   "outputs": [],
   "metadata": {}
  },
  {
   "cell_type": "code",
   "execution_count": 36,
   "source": [
    "# Defining Pauli matrices and the identity matrix\r\n",
    "I = np.array([[1, 0], [0, 1]])\r\n",
    "X = np.array([[0, 1], [1, 0]])\r\n",
    "Y = np.array([[0, -1j], [1j, 0]])\r\n",
    "Z = np.array([[1, 0], [0, -1]])\r\n",
    "\r\n",
    "# Defining the Hamiltonian\r\n",
    "H = np.kron(Z, Z) + np.kron(X, X)\r\n",
    "\r\n",
    "# Defining the measurement choices for Alice and Bob\r\n",
    "A_0 = X\r\n",
    "A_1 = Z\r\n",
    "B_0 = 1/np.sqrt(2)*(X+Z)\r\n",
    "B_1 = 1/np.sqrt(2)*(X-Z)\r\n",
    "\r\n",
    "# Defining expansion coefficients C_ij\r\n",
    "coeffs = [C_00, C_01, C_10, C_11] = symbols(('C_00', 'C_01', 'C_10', 'C_11'))\r\n",
    "\r\n",
    "# Defining the Bell operator\r\n",
    "Bell_operator = coeffs[0]*np.kron(A_0, B_0) + coeffs[1]*np.kron(A_0, B_1) + coeffs[2]*np.kron(A_1, B_0) + coeffs[3]*np.kron(A_1, B_1)\r\n",
    "\r\n",
    "# Creating the sytsem of equations\r\n",
    "Ops = [X, Z]\r\n",
    "eqs = []\r\n",
    "for i in range(len(Ops)):\r\n",
    "    for j in range(len(Ops)):\r\n",
    "        # Defining the projector operator\r\n",
    "        Projector = np.kron(Ops[i],Ops[j])\r\n",
    "\r\n",
    "        # calculating system of equations\r\n",
    "        eqs.append( \r\n",
    "            Eq( \r\n",
    "                np.trace( np.matmul(Bell_operator, Projector) ), \r\n",
    "                np.trace( np.matmul(H, Projector) )\r\n",
    "            ) \r\n",
    "        )\r\n",
    "\r\n",
    "# Solving the system of equations\r\n",
    "ans = solve(eqs, coeffs)\r\n",
    "\r\n",
    "# Substituting the results in the Bell operator\r\n",
    "Bell_operator = float(ans[C_00])*np.kron(A_0, B_0) + float(ans[C_01])*np.kron(A_0, B_1) + float(ans[C_10])*np.kron(A_1, B_0) + float(ans[C_11])*np.kron(A_1, B_1)\r\n",
    "\r\n",
    "# Calculating the eigenvalues and eigenstates\r\n",
    "eig_vals, eig_vecs = np.linalg.eigh(H)\r\n",
    "\r\n",
    "# extracting the ground state energy and the respective eigenstate\r\n",
    "E_G = eig_vals[0]\r\n",
    "psi_G = eig_vecs[:,0]\r\n",
    "psi_G_dagger = np.conjugate(np.transpose(psi_G))\r\n",
    "\r\n",
    "# Adding the ground state energy to the Bell operator \r\n",
    "# Bell_operator += -E_G * np.kron(I,I)\r\n",
    "\r\n",
    "# Calculating the quantum value\r\n",
    "beta_Q = np.matmul(psi_G_dagger, np.matmul(Bell_operator, psi_G))\r\n",
    "\r\n",
    "# Calculating the classical bound\r\n",
    "m = [-1, 1]\r\n",
    "I_Bell = []\r\n",
    "for A_0 in m:\r\n",
    "    for A_1 in m:\r\n",
    "        for B_0 in m:\r\n",
    "            for B_1 in m:\r\n",
    "                I_Bell.append( \r\n",
    "                    float(ans[C_00])*A_0*B_0 + float(ans[C_10])*A_1*B_0 + float(ans[C_01])*A_0*B_1 + float(ans[C_11])*A_1*B_1\r\n",
    "                 )\r\n",
    "\r\n",
    "beta_C = -np.min(I_Bell)\r\n",
    "\r\n",
    "print(r'beta_Q = %.3f and beta_C = %.3f' %(beta_Q, beta_C))\r\n"
   ],
   "outputs": [
    {
     "output_type": "stream",
     "name": "stdout",
     "text": [
      "beta_Q = -2.000 and beta_C = 1.414\n"
     ]
    }
   ],
   "metadata": {}
  },
  {
   "cell_type": "code",
   "execution_count": 519,
   "source": [
    "# Time to obtain the systems of equations and trying to solve it\r\n",
    "\r\n",
    "# Initializing the system of equations\r\n",
    "eqs = []\r\n",
    "\r\n",
    "# Looping over the possible Pauli chains\r\n",
    "# for j in range()\r\n",
    "\r\n",
    "np.trace(np.matmul(B, get_Pauli_chain([X,Z,X,I]))).simplify()"
   ],
   "outputs": [
    {
     "output_type": "execute_result",
     "data": {
      "text/plain": [
       "16.0*c_{1310}"
      ],
      "text/latex": [
       "$\\displaystyle 16.0 c_{1310}$"
      ]
     },
     "metadata": {},
     "execution_count": 519
    }
   ],
   "metadata": {}
  },
  {
   "cell_type": "code",
   "execution_count": 520,
   "source": [
    "# Creating a list of all possible indices\r\n",
    "N_meas = len(M1)\r\n",
    "indices = [[i, j, k, l] for i in range(N_meas)]"
   ],
   "outputs": [],
   "metadata": {}
  }
 ],
 "metadata": {
  "interpreter": {
   "hash": "547f72bac979aab6cb8efe81a1a6a3f1c43e51a7273e91a5a5bc0125918566b7"
  },
  "kernelspec": {
   "name": "python3",
   "display_name": "Python 3.8.8 64-bit ('base': conda)"
  },
  "language_info": {
   "name": "python",
   "version": "3.8.8",
   "mimetype": "text/x-python",
   "codemirror_mode": {
    "name": "ipython",
    "version": 3
   },
   "pygments_lexer": "ipython3",
   "nbconvert_exporter": "python",
   "file_extension": ".py"
  },
  "orig_nbformat": 4
 },
 "nbformat": 4,
 "nbformat_minor": 2
}