{
 "cells": [
  {
   "cell_type": "code",
   "execution_count": 1,
   "source": [
    "# Importing packages\n",
    "import numpy as np\n",
    "import matplotlib.pyplot as plt\n",
    "from scipy.optimize import basinhopping\n",
    "import numba as nb\n",
    "\n",
    "# Importing figure properties\n",
    "from figures_report.figure_properties import *\n",
    "\n",
    "# Importing functions\n",
    "from hamiltonian.hamiltonian import get_hamiltonian\n",
    "from Bell_operator.Bell_operator import calc_Bell_operator\n",
    "from classical_optimization.classical_bound import calc_classical_bound\n",
    "\n",
    "# Defining saving directory\n",
    "save_dir = '../data/figures/hydrogen_mol/'\n",
    "save_fdir = '../data/data_sets/hydrogen_mol/'"
   ],
   "outputs": [
    {
     "output_type": "stream",
     "name": "stderr",
     "text": [
      "/home/bowy/.local/lib/python3.8/site-packages/pyscf/lib/misc.py:46: H5pyDeprecationWarning: Setting h5py.default_file_mode is deprecated. 'r' (read-only) is the default from h5py 3.0.\n",
      "  h5py.get_config().default_file_mode = 'r'\n"
     ]
    }
   ],
   "metadata": {}
  },
  {
   "cell_type": "code",
   "execution_count": 2,
   "source": [
    "# Set parameters to make a simple molecule.\n",
    "geometry = [('H', (0., 0., 0.)), ('H', (0., 0., .7414))] # in Angstroms\n",
    "basis = 'sto-3G'\n",
    "multiplicity = 1\n",
    "charge = 0\n",
    "\n",
    "# Defining qubit transform\n",
    "qubit_transform = 'JW'\n",
    "\n",
    "# Obtainig Hamiltonian\n",
    "hamiltonian = get_hamiltonian(geometry, basis, multiplicity, charge, qubit_transform = qubit_transform)\n",
    "\n",
    "# Extracting parameters\n",
    "H = hamiltonian.matrix_form\n",
    "N = hamiltonian.N\n",
    "\n",
    "# Calculating the eigenvalues and eigenstates\n",
    "eig_vals, eig_vecs = np.linalg.eigh(H)\n",
    "\n",
    "# Extracting the ground state energy and the respective eigenstate\n",
    "psi_G = np.zeros((2**N, 1))\n",
    "psi_G[:,0] = eig_vecs[:,0]\n",
    "rho = np.matmul(psi_G, np.transpose(psi_G))\n"
   ],
   "outputs": [],
   "metadata": {}
  },
  {
   "cell_type": "code",
   "execution_count": 6,
   "source": [
    "# Defining small error\n",
    "eps = 1e-3\n",
    "\n",
    "# Defining number of measurements and the angle between the two parties\n",
    "m = nb.typed.List(\n",
    "    [2,2,2,2]\n",
    ")\n",
    "theta = np.random.rand(N-1)*(np.pi-2*eps)+eps\n",
    "\n",
    "# # Initializing basis and extra Z gate\n",
    "basis = 'XY'\n",
    "extra_gate = True\n",
    "\n",
    "# Calculating the classical bound\n",
    "beta_C = calc_classical_bound(theta, H, N, m, basis, extra_gate)\n",
    "print('Classical bound: %.16f' %(beta_C))\n",
    "\n",
    "# Calculating eigenvalue of the Bell operator\n",
    "beta_Q = calc_Bell_operator(theta, H, rho, N, m, basis, extra_gate)\n",
    "print('Quantum bound: %.16f' %(beta_Q))\n"
   ],
   "outputs": [
    {
     "output_type": "stream",
     "name": "stdout",
     "text": [
      "Classical bound: -1.9579714091862064\n",
      "Quantum bound: -1.8510241683485202\n"
     ]
    }
   ],
   "metadata": {}
  },
  {
   "cell_type": "code",
   "execution_count": 5,
   "source": [
    "# Defining a fitting function and a callback function\n",
    "def fitting_func(theta, H, N, m, basis, extra_Z_gate):\n",
    "\n",
    "    return -calc_classical_bound(theta, H, N, m, basis, extra_Z_gate)\n",
    "\n",
    "def callback_function(theta):\n",
    "\n",
    "    stored_angles.append( theta )\n",
    "    \n",
    "    beta_C.append( calc_classical_bound(theta, H, N, m, basis, extra_Z_gate) )"
   ],
   "outputs": [],
   "metadata": {}
  },
  {
   "cell_type": "code",
   "execution_count": null,
   "source": [
    "# Set parameters to make a simple molecule.\n",
    "diatomic_bond_length = .7414   # Angstroms\n",
    "geometry = [('H', (0., 0., 0.)), ('H', (0., 0., diatomic_bond_length))]\n",
    "basis = 'sto-3G'\n",
    "multiplicity = 1\n",
    "charge = 0\n",
    "\n",
    "# Defining qubit transform\n",
    "qubit_transform = 'BK'\n",
    "\n",
    "# Obtainig Hamiltonian\n",
    "hamiltonian = get_hamiltonian(geometry, basis, multiplicity, charge, qubit_transform = qubit_transform)\n",
    "\n",
    "# Extracting parameters\n",
    "H = hamiltonian.matrix_form\n",
    "N = hamiltonian.N\n",
    "\n",
    "# Calculating the eigenvalues and eigenstates\n",
    "eig_vals, eig_vecs = np.linalg.eigh(H)\n",
    "\n",
    "# Extracting the ground state energy and the respective eigenstate\n",
    "psi_G = np.zeros((2**N, 1))\n",
    "psi_G[:,0] = eig_vecs[:,0]\n",
    "rho = np.matmul(psi_G, np.transpose(psi_G))\n",
    "\n",
    "\n",
    "\n",
    "# Calculting the quantum# Defining the number of measurements\n",
    "m = nb.typed.List(\n",
    "        [4,3,2,2]\n",
    ")\n",
    "\n",
    "# Initializing empty list beta_C for call_back function\n",
    "beta_C = []\n",
    "stored_angles = []\n",
    "\n",
    "# Defining angles\n",
    "eps = 1e-2\n",
    "init_guess = np.random.rand(N-1)*(np.pi-2*eps)+eps\n",
    "\n",
    "# Defining arguments\n",
    "basis = 'XY'\n",
    "extra_Z_gate = True\n",
    "args = (H, N, m, basis, extra_Z_gate)\n",
    "\n",
    "# Defining minimization options\n",
    "options = {\n",
    "        'maxiter'  : 2000,\n",
    "}\n",
    "\n",
    "\n",
    "# Compiling the fitting functions\n",
    "beta_C.append( -fitting_func(init_guess, *args) )\n",
    "\n",
    "# Defining the minimizer keyword arguments\n",
    "minimizer_kwargs = {\n",
    "                'method'  : \"Nelder-Mead\",\n",
    "                'args'    : args,\n",
    "                'options' : options,\n",
    "                'callback': callback_function\n",
    "}\n",
    "\n",
    "res = basinhopping(fitting_func, init_guess,\n",
    "                minimizer_kwargs = minimizer_kwargs,\n",
    "                niter = 4,\n",
    "                disp = True \n",
    ")\n",
    "\n",
    "np.save(save_fdir+'beta_C_'+qubit_transform+'_m_%.0f.npy' %(np.sum(m)), beta_C)\n",
    "np.save(save_fdir+'theta_'+qubit_transform+'_m_%.0f.npy' %(np.sum(m)), stored_angles)"
   ],
   "outputs": [],
   "metadata": {}
  }
 ],
 "metadata": {
  "orig_nbformat": 4,
  "language_info": {
   "name": "python",
   "version": "3.8.10",
   "mimetype": "text/x-python",
   "codemirror_mode": {
    "name": "ipython",
    "version": 3
   },
   "pygments_lexer": "ipython3",
   "nbconvert_exporter": "python",
   "file_extension": ".py"
  },
  "kernelspec": {
   "name": "python3",
   "display_name": "Python 3.8.10 64-bit"
  },
  "interpreter": {
   "hash": "916dbcbb3f70747c44a77c7bcd40155683ae19c65e1c03b4aa3499c5328201f1"
  }
 },
 "nbformat": 4,
 "nbformat_minor": 2
}