{
 "cells": [
  {
   "cell_type": "code",
   "execution_count": 1,
   "source": [
    "# Importing packages\r\n",
    "import numpy as np\r\n",
    "from tqdm import tqdm\r\n",
    "import itertools\r\n",
    "import matplotlib.pyplot as plt\r\n",
    "from scipy.optimize import minimize, basinhopping\r\n",
    "\r\n",
    "# Importing Pauli matrices\r\n",
    "from pauli_matrices.pauli_matrices import I, X, Y, Z\r\n",
    "\r\n",
    "# Importing figure properties\r\n",
    "from figure_test_files.figure_properties import *\r\n",
    "\r\n",
    "# Importing functions\r\n",
    "from hamiltonian.hamiltonian import get_hamiltonian\r\n",
    "from Bell_operator.Bell_operator import get_Bell_terms\r\n",
    "from Bell_operator.coefficients import get_coefficients\r\n",
    "from classical_optimization.classical_optimization import classical_optimization\r\n",
    "from correlation_matrix.correlation_matrix import get_correlation_matrix\r\n",
    "\r\n",
    "# Defining saving directory\r\n",
    "save_dir = '../data/figures/'"
   ],
   "outputs": [],
   "metadata": {}
  },
  {
   "cell_type": "code",
   "execution_count": 2,
   "source": [
    "def calc_classical_bound(theta, H, N, m, basis, extra_Z_gate):\r\n",
    "\r\n",
    "    # Obtaining the general correlation matrix\r\n",
    "    M = get_correlation_matrix(theta, N, m, basis=basis, extra_Z_gate=extra_Z_gate)\r\n",
    "\r\n",
    "    # Adding one to number of measurements to account for the extra z_gate\r\n",
    "    if extra_Z_gate:\r\n",
    "        m += 1\r\n",
    "\r\n",
    "    # Calcuating a list containing all the possible matrices from kronecker products of the observables in the correlation matrix\r\n",
    "    Bell_terms, indices = get_Bell_terms(M, N, m)\r\n",
    "\r\n",
    "    # Calculating the coefficients\r\n",
    "    coeffs = get_coefficients(Bell_terms, H, N)\r\n",
    "\r\n",
    "    # Calculating and returning the classical bound \r\n",
    "    return classical_optimization(coeffs, indices, N, m)\r\n",
    "\r\n",
    "\r\n",
    "def callback_function(theta):\r\n",
    "\r\n",
    "    # Calculating and returning the classical bound \r\n",
    "    beta_C.append( calc_classical_bound(theta, H, N, m, basis, extra_Z_gate) )"
   ],
   "outputs": [],
   "metadata": {}
  },
  {
   "cell_type": "code",
   "execution_count": 3,
   "source": [
    "# Defining qubit transform\r\n",
    "qubit_transform = 'BK'\r\n",
    "\r\n",
    "# Obtainig Hamiltonian\r\n",
    "hamiltonian = get_hamiltonian(qubit_transform = qubit_transform)\r\n",
    "\r\n",
    "# Extracting parameters\r\n",
    "H = hamiltonian.matrix_form\r\n",
    "N = hamiltonian.N\r\n",
    "\r\n",
    "# Calculating the eigenvalues and eigenstates\r\n",
    "eig_vals, eig_vecs = np.linalg.eigh(H)\r\n",
    "\r\n",
    "# Extracting the ground state energy and the respective eigenstate\r\n",
    "E_G = eig_vals[0]\r\n",
    "psi_G = eig_vecs[:,0]\r\n",
    "psi_G_dagger = np.conjugate(np.transpose(psi_G))\r\n"
   ],
   "outputs": [],
   "metadata": {}
  },
  {
   "cell_type": "code",
   "execution_count": 13,
   "source": [
    "# Defining number of measurements and the angle between the two parties\r\n",
    "m = 2\r\n",
    "\r\n",
    "# theta = [np.pi/3, np.pi/7, 3*np.pi/5]\r\n",
    "theta = np.random.rand((N-1))*2*np.pi\r\n",
    "# theta = [0]*3\r\n",
    "\r\n",
    "# Initializing basis and extra Z gate\r\n",
    "basis = 'XY'\r\n",
    "extra_Z_gate = True\r\n",
    "\r\n",
    "# Obtaining the general correlation matrix\r\n",
    "M = get_correlation_matrix(theta, N, m, basis=basis, extra_Z_gate=True)\r\n",
    "\r\n",
    "# Adding one to number of measurements to account for the extra z_gate\r\n",
    "if extra_Z_gate:\r\n",
    "    m += 1\r\n",
    "\r\n",
    "# Calcuating a list containing all the possible matrices from kronecker products of the observables in the correlation matrix\r\n",
    "Bell_terms, indices = get_Bell_terms(M, N, m)\r\n",
    "\r\n",
    "# Calculating the coefficients\r\n",
    "coeffs = get_coefficients(Bell_terms, H, N)\r\n",
    "\r\n",
    "# Calculating the classical bound\r\n",
    "beta_C = classical_optimization(coeffs, indices, N, m)\r\n",
    "beta_C\r\n"
   ],
   "outputs": [
    {
     "output_type": "execute_result",
     "data": {
      "text/plain": [
       "-1.1912524760321619"
      ]
     },
     "metadata": {},
     "execution_count": 13
    }
   ],
   "metadata": {}
  },
  {
   "cell_type": "code",
   "execution_count": 18,
   "source": [
    "M[3,:]"
   ],
   "outputs": [
    {
     "output_type": "execute_result",
     "data": {
      "text/plain": [
       "array([[[ 1.        +0.j        ,  0.        +0.j        ],\n",
       "        [ 0.        +0.j        ,  1.        +0.j        ]],\n",
       "\n",
       "       [[ 0.        +0.j        ,  0.99970873+0.0241343j ],\n",
       "        [ 0.99970873-0.0241343j ,  0.        +0.j        ]],\n",
       "\n",
       "       [[ 0.        +0.j        ,  0.0241343 -0.99970873j],\n",
       "        [ 0.0241343 +0.99970873j,  0.        +0.j        ]],\n",
       "\n",
       "       [[ 1.        +0.j        ,  0.        +0.j        ],\n",
       "        [ 0.        +0.j        , -1.        +0.j        ]]])"
      ]
     },
     "metadata": {},
     "execution_count": 18
    }
   ],
   "metadata": {}
  },
  {
   "cell_type": "code",
   "execution_count": 6,
   "source": [
    "# Initializing the Bell operator\r\n",
    "B = np.zeros((2**N, 2**N), dtype='complex128')\r\n",
    "\r\n",
    "# Adding terms to the Bell operator\r\n",
    "for j in range(len(coeffs)):\r\n",
    "    B += coeffs[j]*Bell_terms[j]\r\n",
    "\r\n",
    "# Calculating the difference between the Bell operator and the Hamiltonian\r\n",
    "# print(np.sum(np.abs(B-H), axis=(0,1)))\r\n",
    "\r\n",
    "# Calculting the quantum value\r\n",
    "beta_Q = np.matmul(psi_G_dagger, np.matmul(B, psi_G))\r\n",
    "np.real(beta_Q)"
   ],
   "outputs": [
    {
     "output_type": "execute_result",
     "data": {
      "text/plain": [
       "-1.8510456784448648"
      ]
     },
     "metadata": {},
     "execution_count": 6
    }
   ],
   "metadata": {}
  },
  {
   "cell_type": "code",
   "execution_count": 9,
   "source": [
    "# Defining the number of measurements\r\n",
    "m = 2\r\n",
    "\r\n",
    "# Defining angles\r\n",
    "init_guess = np.random.rand((N-1))*2*np.pi\r\n",
    "\r\n",
    "# Defining bounds for the variables\r\n",
    "bnds = ((0, 2*np.pi),)*(N-1)\r\n",
    "\r\n",
    "# Defining arguments\r\n",
    "basis = 'XY'\r\n",
    "extra_Z_gate = True\r\n",
    "args = (H, N, m, basis, extra_Z_gate)\r\n",
    "\r\n",
    "# Initializing empty classical bound\r\n",
    "beta_C = []\r\n",
    "\r\n",
    "# Defining minimization options\r\n",
    "options = {\r\n",
    "        'maxiter'  : 2000,\r\n",
    "        # 'gtol'     : 1e-12\r\n",
    "}\r\n",
    "\r\n",
    "# Creating the basinhopping algorithm\r\n",
    "# minimizer_kwargs = {\r\n",
    "#                 'method'  : \"L-BFGS-B\",\r\n",
    "#                 'args'    : args,\r\n",
    "#                 'jac'     : '2-point',\r\n",
    "#                 'bounds'  : bnds,\r\n",
    "#                 'options' : options,\r\n",
    "#                 'callback': callback_function\r\n",
    "# }\r\n",
    "\r\n",
    "minimizer_kwargs = {\r\n",
    "                'method'  : \"Nelder-Mead\",\r\n",
    "                'args'    : args,\r\n",
    "                # 'jac'     : '2-point',\r\n",
    "                # 'bounds'  : bnds,\r\n",
    "                'options' : options,\r\n",
    "                'callback': callback_function\r\n",
    "}\r\n",
    "\r\n",
    "res = basinhopping(calc_classical_bound, init_guess,\r\n",
    "                minimizer_kwargs = minimizer_kwargs,\r\n",
    "                niter = 0,\r\n",
    "                disp = True\r\n",
    ")\r\n",
    "\r\n"
   ],
   "outputs": [
    {
     "output_type": "stream",
     "name": "stdout",
     "text": [
      "basinhopping step 0: f -1.19914\n"
     ]
    }
   ],
   "metadata": {}
  },
  {
   "cell_type": "code",
   "execution_count": 10,
   "source": [
    "fig, ax = plt.subplots()\r\n",
    "ax.plot(np.linspace(1, len(beta_C), len(beta_C)), beta_C)\r\n",
    "ax.set_xlabel(r'iteration number')\r\n",
    "ax.set_ylabel(r'$\\beta_C$')\r\n",
    "# ax.set_xticks([0, np.pi/2, np.pi, 3*np.pi/2, 2*np.pi])\r\n",
    "# ax.set_xticklabels(['0', r'$\\frac{\\pi}{2}$', r'$\\pi$', r'$\\frac{3 \\pi}{2}$', r'$2\\pi$'])\r\n",
    "# fig.savefig(save_dir + 'classical_bound_toy_model_varying_basis.png', dpi = 300, bbox_inches='tight');"
   ],
   "outputs": [
    {
     "output_type": "execute_result",
     "data": {
      "text/plain": [
       "Text(0, 0.5, '$\\\\beta_C$')"
      ]
     },
     "metadata": {},
     "execution_count": 10
    },
    {
     "output_type": "display_data",
     "data": {
      "text/plain": [
       "<Figure size 432x288 with 1 Axes>"
      ],
      "image/svg+xml": "<?xml version=\"1.0\" encoding=\"utf-8\" standalone=\"no\"?>\r\n<!DOCTYPE svg PUBLIC \"-//W3C//DTD SVG 1.1//EN\"\r\n  \"http://www.w3.org/Graphics/SVG/1.1/DTD/svg11.dtd\">\r\n<!-- Created with matplotlib (https://matplotlib.org/) -->\r\n<svg height=\"262.76525pt\" version=\"1.1\" viewBox=\"0 0 401.711066 262.76525\" width=\"401.711066pt\" xmlns=\"http://www.w3.org/2000/svg\" xmlns:xlink=\"http://www.w3.org/1999/xlink\">\r\n <metadata>\r\n  <rdf:RDF xmlns:cc=\"http://creativecommons.org/ns#\" xmlns:dc=\"http://purl.org/dc/elements/1.1/\" xmlns:rdf=\"http://www.w3.org/1999/02/22-rdf-syntax-ns#\">\r\n   <cc:Work>\r\n    <dc:type rdf:resource=\"http://purl.org/dc/dcmitype/StillImage\"/>\r\n    <dc:date>2021-08-12T14:14:35.350340</dc:date>\r\n    <dc:format>image/svg+xml</dc:format>\r\n    <dc:creator>\r\n     <cc:Agent>\r\n      <dc:title>Matplotlib v3.3.4, https://matplotlib.org/</dc:title>\r\n     </cc:Agent>\r\n    </dc:creator>\r\n   </cc:Work>\r\n  </rdf:RDF>\r\n </metadata>\r\n <defs>\r\n  <style type=\"text/css\">*{stroke-linecap:butt;stroke-linejoin:round;}</style>\r\n </defs>\r\n <g id=\"figure_1\">\r\n  <g id=\"patch_1\">\r\n   <path d=\"M 0 262.76525 \r\nL 401.711066 262.76525 \r\nL 401.711066 0 \r\nL 0 0 \r\nz\r\n\" style=\"fill:none;\"/>\r\n  </g>\r\n  <g id=\"axes_1\">\r\n   <g id=\"patch_2\">\r\n    <path d=\"M 59.711066 224.64 \r\nL 394.511066 224.64 \r\nL 394.511066 7.2 \r\nL 59.711066 7.2 \r\nz\r\n\" style=\"fill:#ffffff;\"/>\r\n   </g>\r\n   <g id=\"matplotlib.axis_1\">\r\n    <g id=\"xtick_1\">\r\n     <g id=\"line2d_1\">\r\n      <defs>\r\n       <path d=\"M 0 0 \r\nL 0 3.5 \r\n\" id=\"me98220cff3\" style=\"stroke:#000000;stroke-width:0.8;\"/>\r\n      </defs>\r\n      <g>\r\n       <use style=\"stroke:#000000;stroke-width:0.8;\" x=\"67.125052\" xlink:href=\"#me98220cff3\" y=\"224.64\"/>\r\n      </g>\r\n     </g>\r\n     <g id=\"text_1\">\r\n      <!-- $\\mathdefault{0}$ -->\r\n      <g transform=\"translate(64.634385 238.558498)scale(0.1 -0.1)\">\r\n       <defs>\r\n        <path d=\"M 42 31.84375 \r\nC 42 37.96875 41.90625 48.421875 37.703125 56.453125 \r\nC 34 63.484375 28.09375 66 22.90625 66 \r\nC 18.09375 66 12 63.78125 8.203125 56.5625 \r\nC 4.203125 49.015625 3.796875 39.671875 3.796875 31.84375 \r\nC 3.796875 26.109375 3.90625 17.375 7 9.734375 \r\nC 11.296875 -0.609375 19 -2 22.90625 -2 \r\nC 27.5 -2 34.5 -0.109375 38.59375 9.4375 \r\nC 41.59375 16.375 42 24.5 42 31.84375 \r\nz\r\nM 22.90625 -0.40625 \r\nC 16.5 -0.40625 12.703125 5.125 11.296875 12.75 \r\nC 10.203125 18.6875 10.203125 27.328125 10.203125 32.953125 \r\nC 10.203125 40.6875 10.203125 47.109375 11.5 53.234375 \r\nC 13.40625 61.78125 19 64.390625 22.90625 64.390625 \r\nC 27 64.390625 32.296875 61.671875 34.203125 53.4375 \r\nC 35.5 47.71875 35.59375 40.984375 35.59375 32.953125 \r\nC 35.59375 26.421875 35.59375 18.375 34.40625 12.453125 \r\nC 32.296875 1.5 26.40625 -0.40625 22.90625 -0.40625 \r\nz\r\n\" id=\"CMR17-48\"/>\r\n       </defs>\r\n       <use transform=\"scale(0.996264)\" xlink:href=\"#CMR17-48\"/>\r\n      </g>\r\n     </g>\r\n    </g>\r\n    <g id=\"xtick_2\">\r\n     <g id=\"line2d_2\">\r\n      <g>\r\n       <use style=\"stroke:#000000;stroke-width:0.8;\" x=\"106.146031\" xlink:href=\"#me98220cff3\" y=\"224.64\"/>\r\n      </g>\r\n     </g>\r\n     <g id=\"text_2\">\r\n      <!-- $\\mathdefault{5}$ -->\r\n      <g transform=\"translate(103.655364 238.558498)scale(0.1 -0.1)\">\r\n       <defs>\r\n        <path d=\"M 11.40625 58.59375 \r\nC 12.40625 58.1875 16.5 56.890625 20.703125 56.890625 \r\nC 30 56.890625 35.09375 61.890625 38 64.6875 \r\nC 38 65.484375 38 66 37.40625 66 \r\nC 37.296875 66 37.09375 66 36.296875 65.59375 \r\nC 32.796875 64.09375 28.703125 63 23.703125 63 \r\nC 20.703125 63 16.203125 63.359375 11.296875 65.484375 \r\nC 10.203125 66 10 66 9.90625 66 \r\nC 9.40625 66 9.296875 65.890625 9.296875 63.90625 \r\nL 9.296875 34.859375 \r\nC 9.296875 33.015625 9.296875 32.5 10.296875 32.5 \r\nC 10.796875 32.5 11 32.703125 11.5 33.421875 \r\nC 14.703125 38.046875 19.09375 40 24.09375 40 \r\nC 27.59375 40 35.09375 37.734375 35.09375 20.203125 \r\nC 35.09375 16.984375 35.09375 11.1875 32.09375 6.59375 \r\nC 29.59375 2.484375 25.703125 0.390625 21.40625 0.390625 \r\nC 14.796875 0.390625 8.09375 4.984375 6.296875 12.6875 \r\nC 6.703125 12.59375 7.5 12.390625 7.90625 12.390625 \r\nC 9.203125 12.390625 11.703125 13.09375 11.703125 16.1875 \r\nC 11.703125 18.890625 9.796875 20 7.90625 20 \r\nC 5.59375 20 4.09375 18.59375 4.09375 15.796875 \r\nC 4.09375 7.09375 11 -2 21.59375 -2 \r\nC 31.90625 -2 41.703125 6.890625 41.703125 19.796875 \r\nC 41.703125 32.09375 33.90625 41.59375 24.203125 41.59375 \r\nC 19.09375 41.59375 14.796875 39.6875 11.40625 36 \r\nz\r\n\" id=\"CMR17-53\"/>\r\n       </defs>\r\n       <use transform=\"scale(0.996264)\" xlink:href=\"#CMR17-53\"/>\r\n      </g>\r\n     </g>\r\n    </g>\r\n    <g id=\"xtick_3\">\r\n     <g id=\"line2d_3\">\r\n      <g>\r\n       <use style=\"stroke:#000000;stroke-width:0.8;\" x=\"145.16701\" xlink:href=\"#me98220cff3\" y=\"224.64\"/>\r\n      </g>\r\n     </g>\r\n     <g id=\"text_3\">\r\n      <!-- $\\mathdefault{10}$ -->\r\n      <g transform=\"translate(140.185675 238.558498)scale(0.1 -0.1)\">\r\n       <defs>\r\n        <path d=\"M 26.59375 63.796875 \r\nC 26.59375 65.890625 26.5 66 25.09375 66 \r\nC 21.203125 61.359375 15.296875 59.890625 9.703125 59.6875 \r\nC 9.40625 59.6875 8.90625 59.6875 8.796875 59.5 \r\nC 8.703125 59.296875 8.703125 59.09375 8.703125 57 \r\nC 11.796875 57 17 57.59375 21 59.984375 \r\nL 21 7.296875 \r\nC 21 3.796875 20.796875 2.59375 12.203125 2.59375 \r\nL 9.203125 2.59375 \r\nL 9.203125 0 \r\nC 14 0.09375 19 0.1875 23.796875 0.1875 \r\nC 28.59375 0.1875 33.59375 0.09375 38.40625 0 \r\nL 38.40625 2.59375 \r\nL 35.40625 2.59375 \r\nC 26.796875 2.59375 26.59375 3.6875 26.59375 7.296875 \r\nz\r\n\" id=\"CMR17-49\"/>\r\n       </defs>\r\n       <use transform=\"scale(0.996264)\" xlink:href=\"#CMR17-49\"/>\r\n       <use transform=\"translate(45.690477 0)scale(0.996264)\" xlink:href=\"#CMR17-48\"/>\r\n      </g>\r\n     </g>\r\n    </g>\r\n    <g id=\"xtick_4\">\r\n     <g id=\"line2d_4\">\r\n      <g>\r\n       <use style=\"stroke:#000000;stroke-width:0.8;\" x=\"184.187989\" xlink:href=\"#me98220cff3\" y=\"224.64\"/>\r\n      </g>\r\n     </g>\r\n     <g id=\"text_4\">\r\n      <!-- $\\mathdefault{15}$ -->\r\n      <g transform=\"translate(179.206654 238.558498)scale(0.1 -0.1)\">\r\n       <use transform=\"scale(0.996264)\" xlink:href=\"#CMR17-49\"/>\r\n       <use transform=\"translate(45.690477 0)scale(0.996264)\" xlink:href=\"#CMR17-53\"/>\r\n      </g>\r\n     </g>\r\n    </g>\r\n    <g id=\"xtick_5\">\r\n     <g id=\"line2d_5\">\r\n      <g>\r\n       <use style=\"stroke:#000000;stroke-width:0.8;\" x=\"223.208968\" xlink:href=\"#me98220cff3\" y=\"224.64\"/>\r\n      </g>\r\n     </g>\r\n     <g id=\"text_5\">\r\n      <!-- $\\mathdefault{20}$ -->\r\n      <g transform=\"translate(218.227633 238.558498)scale(0.1 -0.1)\">\r\n       <defs>\r\n        <path d=\"M 41.703125 15.46875 \r\nL 39.90625 15.46875 \r\nC 38.90625 8.390625 38.09375 7.1875 37.703125 6.59375 \r\nC 37.203125 5.796875 30 5.796875 28.59375 5.796875 \r\nL 9.40625 5.796875 \r\nC 13 9.6875 20 16.765625 28.5 24.9375 \r\nC 34.59375 30.71875 41.703125 37.5 41.703125 47.390625 \r\nC 41.703125 59.1875 32.296875 66 21.796875 66 \r\nC 10.796875 66 4.09375 56.296875 4.09375 47.296875 \r\nC 4.09375 43.390625 7 42.890625 8.203125 42.890625 \r\nC 9.203125 42.890625 12.203125 43.484375 12.203125 46.984375 \r\nC 12.203125 50.09375 9.59375 51 8.203125 51 \r\nC 7.59375 51 7 50.890625 6.59375 50.6875 \r\nC 8.5 59.1875 14.296875 63.390625 20.40625 63.390625 \r\nC 29.09375 63.390625 34.796875 56.5 34.796875 47.390625 \r\nC 34.796875 38.703125 29.703125 31.21875 24 24.734375 \r\nL 4.09375 2.296875 \r\nL 4.09375 0 \r\nL 39.296875 0 \r\nz\r\n\" id=\"CMR17-50\"/>\r\n       </defs>\r\n       <use transform=\"scale(0.996264)\" xlink:href=\"#CMR17-50\"/>\r\n       <use transform=\"translate(45.690477 0)scale(0.996264)\" xlink:href=\"#CMR17-48\"/>\r\n      </g>\r\n     </g>\r\n    </g>\r\n    <g id=\"xtick_6\">\r\n     <g id=\"line2d_6\">\r\n      <g>\r\n       <use style=\"stroke:#000000;stroke-width:0.8;\" x=\"262.229947\" xlink:href=\"#me98220cff3\" y=\"224.64\"/>\r\n      </g>\r\n     </g>\r\n     <g id=\"text_6\">\r\n      <!-- $\\mathdefault{25}$ -->\r\n      <g transform=\"translate(257.248612 238.558498)scale(0.1 -0.1)\">\r\n       <use transform=\"scale(0.996264)\" xlink:href=\"#CMR17-50\"/>\r\n       <use transform=\"translate(45.690477 0)scale(0.996264)\" xlink:href=\"#CMR17-53\"/>\r\n      </g>\r\n     </g>\r\n    </g>\r\n    <g id=\"xtick_7\">\r\n     <g id=\"line2d_7\">\r\n      <g>\r\n       <use style=\"stroke:#000000;stroke-width:0.8;\" x=\"301.250926\" xlink:href=\"#me98220cff3\" y=\"224.64\"/>\r\n      </g>\r\n     </g>\r\n     <g id=\"text_7\">\r\n      <!-- $\\mathdefault{30}$ -->\r\n      <g transform=\"translate(296.269591 238.558498)scale(0.1 -0.1)\">\r\n       <defs>\r\n        <path d=\"M 22.09375 34 \r\nC 31 34 34.90625 26.140625 34.90625 17.09375 \r\nC 34.90625 5.03125 28.5 0.390625 22.703125 0.390625 \r\nC 17.40625 0.390625 8.796875 3.015625 6.09375 10.796875 \r\nC 6.59375 10.59375 7.09375 10.59375 7.59375 10.59375 \r\nC 10 10.59375 11.796875 12.1875 11.796875 14.796875 \r\nC 11.796875 17.6875 9.59375 19 7.59375 19 \r\nC 5.90625 19 3.296875 18.1875 3.296875 14.484375 \r\nC 3.296875 5.234375 12.296875 -2 22.90625 -2 \r\nC 34 -2 42.5 6.75 42.5 16.984375 \r\nC 42.5 26.84375 34.5 34 25 35.09375 \r\nC 32.59375 36.671875 39.90625 43.375 39.90625 52.390625 \r\nC 39.90625 60.25 32 66 23 66 \r\nC 13.90625 66 5.90625 60.34375 5.90625 52.296875 \r\nC 5.90625 48.796875 8.5 48.1875 9.796875 48.1875 \r\nC 11.90625 48.1875 13.703125 49.484375 13.703125 52.09375 \r\nC 13.703125 54.6875 11.90625 56 9.796875 56 \r\nC 9.40625 56 8.90625 56 8.5 55.796875 \r\nC 11.40625 62.484375 19.296875 63.6875 22.796875 63.6875 \r\nC 26.296875 63.6875 32.90625 61.96875 32.90625 52.296875 \r\nC 32.90625 49.484375 32.5 44.546875 29.09375 40.21875 \r\nC 26.09375 36.390625 22.703125 36.1875 19.40625 35.890625 \r\nC 18.90625 35.890625 16.59375 35.6875 16.203125 35.6875 \r\nC 15.5 35.59375 15.09375 35.5 15.09375 34.796875 \r\nC 15.09375 34.09375 15.203125 34 17.203125 34 \r\nz\r\n\" id=\"CMR17-51\"/>\r\n       </defs>\r\n       <use transform=\"scale(0.996264)\" xlink:href=\"#CMR17-51\"/>\r\n       <use transform=\"translate(45.690477 0)scale(0.996264)\" xlink:href=\"#CMR17-48\"/>\r\n      </g>\r\n     </g>\r\n    </g>\r\n    <g id=\"xtick_8\">\r\n     <g id=\"line2d_8\">\r\n      <g>\r\n       <use style=\"stroke:#000000;stroke-width:0.8;\" x=\"340.271905\" xlink:href=\"#me98220cff3\" y=\"224.64\"/>\r\n      </g>\r\n     </g>\r\n     <g id=\"text_8\">\r\n      <!-- $\\mathdefault{35}$ -->\r\n      <g transform=\"translate(335.29057 238.558498)scale(0.1 -0.1)\">\r\n       <use transform=\"scale(0.996264)\" xlink:href=\"#CMR17-51\"/>\r\n       <use transform=\"translate(45.690477 0)scale(0.996264)\" xlink:href=\"#CMR17-53\"/>\r\n      </g>\r\n     </g>\r\n    </g>\r\n    <g id=\"xtick_9\">\r\n     <g id=\"line2d_9\">\r\n      <g>\r\n       <use style=\"stroke:#000000;stroke-width:0.8;\" x=\"379.292884\" xlink:href=\"#me98220cff3\" y=\"224.64\"/>\r\n      </g>\r\n     </g>\r\n     <g id=\"text_9\">\r\n      <!-- $\\mathdefault{40}$ -->\r\n      <g transform=\"translate(374.311549 238.558498)scale(0.1 -0.1)\">\r\n       <defs>\r\n        <path d=\"M 33.59375 64.796875 \r\nC 33.59375 66.890625 33.5 67 31.703125 67 \r\nL 2 19.59375 \r\nL 2 17 \r\nL 27.796875 17 \r\nL 27.796875 7.1875 \r\nC 27.796875 3.59375 27.59375 2.59375 20.59375 2.59375 \r\nL 18.703125 2.59375 \r\nL 18.703125 0 \r\nC 21.90625 0.1875 27.296875 0.1875 30.703125 0.1875 \r\nC 34.09375 0.1875 39.5 0.1875 42.703125 0 \r\nL 42.703125 2.59375 \r\nL 40.796875 2.59375 \r\nC 33.796875 2.59375 33.59375 3.59375 33.59375 7.1875 \r\nL 33.59375 17 \r\nL 43.796875 17 \r\nL 43.796875 19.59375 \r\nL 33.59375 19.59375 \r\nz\r\nM 28.09375 58.171875 \r\nL 28.09375 19.59375 \r\nL 4 19.59375 \r\nz\r\n\" id=\"CMR17-52\"/>\r\n       </defs>\r\n       <use transform=\"scale(0.996264)\" xlink:href=\"#CMR17-52\"/>\r\n       <use transform=\"translate(45.690477 0)scale(0.996264)\" xlink:href=\"#CMR17-48\"/>\r\n      </g>\r\n     </g>\r\n    </g>\r\n    <g id=\"text_10\">\r\n     <!-- iteration number -->\r\n     <g transform=\"translate(184.775417 253.143788)scale(0.125 -0.125)\">\r\n      <defs>\r\n       <path d=\"M 15.296875 66 \r\nL 6.90625 66 \r\nL 6.90625 57.59375 \r\nL 15.296875 57.59375 \r\nz\r\nM 14.796875 43 \r\nL 7.40625 43 \r\nL 7.40625 0 \r\nL 14.796875 0 \r\nz\r\n\" id=\"CMSS17-105\"/>\r\n       <path d=\"M 16.703125 37.1875 \r\nL 29.703125 37.1875 \r\nL 29.703125 43 \r\nL 16.703125 43 \r\nL 16.703125 55 \r\nL 9.59375 55 \r\nL 9.59375 43 \r\nL 1.703125 43 \r\nL 1.703125 37.1875 \r\nL 9.40625 37.1875 \r\nL 9.40625 11.734375 \r\nC 9.40625 6 10.703125 -1 17.296875 -1 \r\nC 22.296875 -1 26.90625 0.390625 31.296875 2.6875 \r\nL 29.703125 8.609375 \r\nC 27.296875 6.5 24.40625 5.296875 21.296875 5.296875 \r\nC 16.90625 5.296875 16.703125 10.921875 16.703125 13.4375 \r\nz\r\n\" id=\"CMSS17-116\"/>\r\n       <path d=\"M 39.09375 21.484375 \r\nC 39.09375 24.796875 38.90625 31.265625 35.703125 36.671875 \r\nC 32.203125 42.390625 26.5 44 22.203125 44 \r\nC 11.796875 44 3 34.125 3 21.296875 \r\nC 3 9.046875 12.09375 -1 23.59375 -1 \r\nC 28.09375 -1 33.59375 0.296875 38.59375 3.890625 \r\nC 38.59375 4.296875 38.40625 6.46875 38.296875 6.578125 \r\nC 38.296875 6.765625 38 9.828125 38 10.234375 \r\nC 33.203125 6.375 27.703125 5.09375 23.703125 5.09375 \r\nC 17.296875 5.09375 10.40625 10.421875 10.09375 21.484375 \r\nz\r\nM 10.90625 27 \r\nC 12.203125 32.59375 16.59375 37.890625 22.203125 37.890625 \r\nC 23.703125 37.890625 30.703125 37.6875 32.5 27 \r\nz\r\n\" id=\"CMSS17-101\"/>\r\n       <path d=\"M 14.90625 21.390625 \r\nC 14.90625 30.84375 21.796875 37.171875 30.59375 37.375 \r\nL 30.59375 44 \r\nC 24.203125 43.890625 18.203125 40.6875 14.59375 35.46875 \r\nL 14.59375 43.484375 \r\nL 7.5 43.484375 \r\nL 7.5 0 \r\nL 14.90625 0 \r\nz\r\n\" id=\"CMSS17-114\"/>\r\n       <path d=\"M 37.59375 27.953125 \r\nC 37.59375 37.484375 30.90625 44 21.90625 44 \r\nC 17.5 44 12.703125 43.1875 7.203125 39.984375 \r\nL 7.796875 33.328125 \r\nC 10.296875 35.15625 14.59375 38.09375 21.796875 38.09375 \r\nC 26.90625 38.09375 30 34.140625 30 27.84375 \r\nL 30 24 \r\nC 14 23.5 4 18.890625 4 11.109375 \r\nC 4 7.0625 6.5 -1 14.796875 -1 \r\nC 16.296875 -1 24.40625 -0.8125 30.203125 3.5 \r\nL 30.203125 -0.203125 \r\nL 37.59375 -0.203125 \r\nz\r\nM 30 12.875 \r\nC 30 11.109375 30 8.734375 27 6.96875 \r\nC 24.40625 5.296875 21.09375 5.09375 19.703125 5.09375 \r\nC 14.703125 5.09375 11.296875 7.859375 11.296875 11.296875 \r\nC 11.296875 18.203125 26.90625 18.890625 30 19 \r\nz\r\n\" id=\"CMSS17-97\"/>\r\n       <path d=\"M 44.203125 21.1875 \r\nC 44.203125 33.984375 34.703125 44 23.5 44 \r\nC 12 44 2.703125 33.6875 2.703125 21.1875 \r\nC 2.703125 8.5 12.296875 -1 23.40625 -1 \r\nC 34.796875 -1 44.203125 8.796875 44.203125 21.1875 \r\nz\r\nM 23.5 5.296875 \r\nC 16.40625 5.296875 10.296875 11.09375 10.296875 21.984375 \r\nC 10.296875 33.59375 17.40625 37.890625 23.40625 37.890625 \r\nC 29.90625 37.890625 36.59375 33.1875 36.59375 21.984375 \r\nC 36.59375 10.6875 30.09375 5.296875 23.5 5.296875 \r\nz\r\n\" id=\"CMSS17-111\"/>\r\n       <path d=\"M 40.90625 29.34375 \r\nC 40.90625 35.671875 39.40625 44 28.09375 44 \r\nC 21.703125 44 17.5 40.6875 14.703125 37.28125 \r\nL 14.703125 43.484375 \r\nL 7.40625 43.484375 \r\nL 7.40625 0 \r\nL 15 0 \r\nL 15 24.3125 \r\nC 15 30.65625 17.40625 37.890625 24.203125 37.890625 \r\nC 33 37.890625 33.296875 31.953125 33.296875 28.53125 \r\nL 33.296875 0 \r\nL 40.90625 0 \r\nz\r\n\" id=\"CMSS17-110\"/>\r\n       <path d=\"M 40.90625 43 \r\nL 33.296875 43 \r\nL 33.296875 15.25 \r\nC 33.296875 7.8125 27.90625 4.796875 22.203125 4.796875 \r\nC 15.59375 4.796875 15 7 15 11.125 \r\nL 15 43 \r\nL 7.40625 43 \r\nL 7.40625 10.625 \r\nC 7.40625 2.796875 10.09375 -1 17 -1 \r\nC 20.40625 -1 28.09375 -0.203125 33.5 4.796875 \r\nL 33.5 -0.203125 \r\nL 40.90625 -0.203125 \r\nz\r\n\" id=\"CMSS17-117\"/>\r\n       <path d=\"M 67 29.34375 \r\nC 67 36.078125 65.296875 44 54.09375 44 \r\nC 46.59375 44 42.09375 39.296875 40.09375 36.375 \r\nC 38.296875 41.6875 34.09375 44 28.09375 44 \r\nC 21.296875 44 17 40.09375 14.703125 37.28125 \r\nL 14.703125 43.484375 \r\nL 7.40625 43.484375 \r\nL 7.40625 0 \r\nL 15 0 \r\nL 15 24.3125 \r\nC 15 30.25 17.203125 37.890625 24.296875 37.890625 \r\nC 33.40625 37.890625 33.40625 31.453125 33.40625 28.53125 \r\nL 33.40625 0 \r\nL 41 0 \r\nL 41 24.3125 \r\nC 41 30.25 43.203125 37.890625 50.296875 37.890625 \r\nC 59.40625 37.890625 59.40625 31.453125 59.40625 28.53125 \r\nL 59.40625 0 \r\nL 67 0 \r\nz\r\n\" id=\"CMSS17-109\"/>\r\n       <path d=\"M 14.90625 69 \r\nL 7.5 69 \r\nL 7.5 -0.203125 \r\nL 15.09375 -0.203125 \r\nL 15.09375 4.296875 \r\nC 18.90625 0.59375 23.5 -1 27.59375 -1 \r\nC 37.203125 -1 45 8.734375 45 21.59375 \r\nC 45 33.328125 39 44 30.09375 44 \r\nC 23.796875 44 18.203125 41.390625 14.90625 38.6875 \r\nz\r\nM 15.09375 32.734375 \r\nC 17.296875 35.5625 20.40625 37.890625 24.796875 37.890625 \r\nC 30.703125 37.890625 37.40625 33.53125 37.40625 21.59375 \r\nC 37.40625 8.84375 29.40625 5.09375 23.90625 5.09375 \r\nC 21.90625 5.09375 19.796875 5.59375 17.796875 7.3125 \r\nC 15.09375 9.75 15.09375 11.265625 15.09375 12.6875 \r\nz\r\n\" id=\"CMSS17-98\"/>\r\n      </defs>\r\n      <use transform=\"scale(0.996264)\" xlink:href=\"#CMSS17-105\"/>\r\n      <use transform=\"translate(22.180723 0)scale(0.996264)\" xlink:href=\"#CMSS17-116\"/>\r\n      <use transform=\"translate(56.01229 0)scale(0.996264)\" xlink:href=\"#CMSS17-101\"/>\r\n      <use transform=\"translate(97.651112 0)scale(0.996264)\" xlink:href=\"#CMSS17-114\"/>\r\n      <use transform=\"translate(129.560884 0)scale(0.996264)\" xlink:href=\"#CMSS17-97\"/>\r\n      <use transform=\"translate(174.482805 0)scale(0.996264)\" xlink:href=\"#CMSS17-116\"/>\r\n      <use transform=\"translate(208.314372 0)scale(0.996264)\" xlink:href=\"#CMSS17-105\"/>\r\n      <use transform=\"translate(230.495095 0)scale(0.996264)\" xlink:href=\"#CMSS17-111\"/>\r\n      <use transform=\"translate(277.338718 0)scale(0.996264)\" xlink:href=\"#CMSS17-110\"/>\r\n      <use transform=\"translate(356.772774 0)scale(0.996264)\" xlink:href=\"#CMSS17-110\"/>\r\n      <use transform=\"translate(404.977717 0)scale(0.996264)\" xlink:href=\"#CMSS17-117\"/>\r\n      <use transform=\"translate(453.18266 0)scale(0.996264)\" xlink:href=\"#CMSS17-109\"/>\r\n      <use transform=\"translate(527.411915 0)scale(0.996264)\" xlink:href=\"#CMSS17-98\"/>\r\n      <use transform=\"translate(578.219297 0)scale(0.996264)\" xlink:href=\"#CMSS17-101\"/>\r\n      <use transform=\"translate(619.858119 0)scale(0.996264)\" xlink:href=\"#CMSS17-114\"/>\r\n     </g>\r\n    </g>\r\n   </g>\r\n   <g id=\"matplotlib.axis_2\">\r\n    <g id=\"ytick_1\">\r\n     <g id=\"line2d_10\">\r\n      <defs>\r\n       <path d=\"M 0 0 \r\nL -3.5 0 \r\n\" id=\"m434dc77fcc\" style=\"stroke:#000000;stroke-width:0.8;\"/>\r\n      </defs>\r\n      <g>\r\n       <use style=\"stroke:#000000;stroke-width:0.8;\" x=\"59.711066\" xlink:href=\"#m434dc77fcc\" y=\"221.556509\"/>\r\n      </g>\r\n     </g>\r\n     <g id=\"text_11\">\r\n      <!-- $\\mathdefault{−1.200}$ -->\r\n      <g transform=\"translate(22.269573 225.015758)scale(0.1 -0.1)\">\r\n       <defs>\r\n        <path d=\"M 65.90625 23 \r\nC 67.59375 23 69.40625 23 69.40625 25 \r\nC 69.40625 27 67.59375 27 65.90625 27 \r\nL 11.796875 27 \r\nC 10.09375 27 8.296875 27 8.296875 25 \r\nC 8.296875 23 10.09375 23 11.796875 23 \r\nz\r\n\" id=\"CMSY10-0\"/>\r\n        <path d=\"M 18.40625 4.796875 \r\nC 18.40625 7.6875 16 9.6875 13.59375 9.6875 \r\nC 10.703125 9.6875 8.703125 7.296875 8.703125 4.890625 \r\nC 8.703125 2 11.09375 0 13.5 0 \r\nC 16.40625 0 18.40625 2.390625 18.40625 4.796875 \r\nz\r\n\" id=\"CMMI12-58\"/>\r\n       </defs>\r\n       <use transform=\"scale(0.996264)\" xlink:href=\"#CMSY10-0\"/>\r\n       <use transform=\"translate(77.487468 0)scale(0.996264)\" xlink:href=\"#CMR17-49\"/>\r\n       <use transform=\"translate(123.177945 0)scale(0.996264)\" xlink:href=\"#CMMI12-58\"/>\r\n       <use transform=\"translate(150.275122 0)scale(0.996264)\" xlink:href=\"#CMR17-50\"/>\r\n       <use transform=\"translate(195.965599 0)scale(0.996264)\" xlink:href=\"#CMR17-48\"/>\r\n       <use transform=\"translate(241.656076 0)scale(0.996264)\" xlink:href=\"#CMR17-48\"/>\r\n      </g>\r\n     </g>\r\n    </g>\r\n    <g id=\"ytick_2\">\r\n     <g id=\"line2d_11\">\r\n      <g>\r\n       <use style=\"stroke:#000000;stroke-width:0.8;\" x=\"59.711066\" xlink:href=\"#m434dc77fcc\" y=\"182.112514\"/>\r\n      </g>\r\n     </g>\r\n     <g id=\"text_12\">\r\n      <!-- $\\mathdefault{−1.195}$ -->\r\n      <g transform=\"translate(22.269573 185.571763)scale(0.1 -0.1)\">\r\n       <defs>\r\n        <path d=\"M 35.203125 29.234375 \r\nC 35.203125 7 26.09375 0.390625 18.59375 0.390625 \r\nC 16.296875 0.390625 10.703125 0.671875 8.40625 4.390625 \r\nC 11 4 12.90625 5.390625 12.90625 7.890625 \r\nC 12.90625 10.59375 10.703125 11.5 9.296875 11.5 \r\nC 8.40625 11.5 5.703125 11.09375 5.703125 7.6875 \r\nC 5.703125 1.0625 11.59375 -2 18.796875 -2 \r\nC 30.296875 -2 42 10.390625 42 32.65625 \r\nC 42 60.265625 30.796875 66 23.203125 66 \r\nC 13.296875 66 3.796875 57.25 3.796875 43.75 \r\nC 3.796875 31.25 11.90625 22 22.09375 22 \r\nC 30.5 22 34.203125 29.84375 35.203125 33.15625 \r\nz\r\nM 22.296875 23.59375 \r\nC 19.59375 23.59375 15.796875 24.09375 12.703125 30.140625 \r\nC 10.59375 34.078125 10.59375 38.703125 10.59375 43.640625 \r\nC 10.59375 49.59375 10.59375 53.71875 13.40625 58.15625 \r\nC 14.796875 60.265625 17.40625 63.6875 23.203125 63.6875 \r\nC 35 63.6875 35 45.453125 35 41.421875 \r\nC 35 34.265625 31.796875 23.59375 22.296875 23.59375 \r\nz\r\n\" id=\"CMR17-57\"/>\r\n       </defs>\r\n       <use transform=\"scale(0.996264)\" xlink:href=\"#CMSY10-0\"/>\r\n       <use transform=\"translate(77.487468 0)scale(0.996264)\" xlink:href=\"#CMR17-49\"/>\r\n       <use transform=\"translate(123.177945 0)scale(0.996264)\" xlink:href=\"#CMMI12-58\"/>\r\n       <use transform=\"translate(150.275122 0)scale(0.996264)\" xlink:href=\"#CMR17-49\"/>\r\n       <use transform=\"translate(195.965599 0)scale(0.996264)\" xlink:href=\"#CMR17-57\"/>\r\n       <use transform=\"translate(241.656076 0)scale(0.996264)\" xlink:href=\"#CMR17-53\"/>\r\n      </g>\r\n     </g>\r\n    </g>\r\n    <g id=\"ytick_3\">\r\n     <g id=\"line2d_12\">\r\n      <g>\r\n       <use style=\"stroke:#000000;stroke-width:0.8;\" x=\"59.711066\" xlink:href=\"#m434dc77fcc\" y=\"142.668519\"/>\r\n      </g>\r\n     </g>\r\n     <g id=\"text_13\">\r\n      <!-- $\\mathdefault{−1.190}$ -->\r\n      <g transform=\"translate(22.269573 146.127768)scale(0.1 -0.1)\">\r\n       <use transform=\"scale(0.996264)\" xlink:href=\"#CMSY10-0\"/>\r\n       <use transform=\"translate(77.487468 0)scale(0.996264)\" xlink:href=\"#CMR17-49\"/>\r\n       <use transform=\"translate(123.177945 0)scale(0.996264)\" xlink:href=\"#CMMI12-58\"/>\r\n       <use transform=\"translate(150.275122 0)scale(0.996264)\" xlink:href=\"#CMR17-49\"/>\r\n       <use transform=\"translate(195.965599 0)scale(0.996264)\" xlink:href=\"#CMR17-57\"/>\r\n       <use transform=\"translate(241.656076 0)scale(0.996264)\" xlink:href=\"#CMR17-48\"/>\r\n      </g>\r\n     </g>\r\n    </g>\r\n    <g id=\"ytick_4\">\r\n     <g id=\"line2d_13\">\r\n      <g>\r\n       <use style=\"stroke:#000000;stroke-width:0.8;\" x=\"59.711066\" xlink:href=\"#m434dc77fcc\" y=\"103.224524\"/>\r\n      </g>\r\n     </g>\r\n     <g id=\"text_14\">\r\n      <!-- $\\mathdefault{−1.185}$ -->\r\n      <g transform=\"translate(22.269573 106.683773)scale(0.1 -0.1)\">\r\n       <defs>\r\n        <path d=\"M 27.203125 35.765625 \r\nC 33.5 38.96875 39.90625 43.796875 39.90625 51.53125 \r\nC 39.90625 60.6875 31.09375 66 23 66 \r\nC 13.90625 66 5.90625 59.375 5.90625 50.234375 \r\nC 5.90625 47.71875 6.5 43.390625 10.40625 39.578125 \r\nC 11.40625 38.578125 15.59375 35.5625 18.296875 33.65625 \r\nC 13.796875 31.34375 3.296875 25.8125 3.296875 14.765625 \r\nC 3.296875 4.40625 13.09375 -2 22.796875 -2 \r\nC 33.5 -2 42.5 5.71875 42.5 15.96875 \r\nC 42.5 25.109375 36.40625 29.328125 32.40625 32.046875 \r\nz\r\nM 14.09375 44.609375 \r\nC 13.296875 45.109375 9.296875 48.21875 9.296875 52.9375 \r\nC 9.296875 59.078125 15.59375 63.6875 22.796875 63.6875 \r\nC 30.703125 63.6875 36.5 58.0625 36.5 51.53125 \r\nC 36.5 42.1875 26.09375 36.859375 25.59375 36.859375 \r\nC 25.5 36.859375 25.40625 36.859375 24.59375 37.46875 \r\nz\r\nM 32.5 24 \r\nC 34 22.90625 38.796875 19.578125 38.796875 13.453125 \r\nC 38.796875 6.015625 31.40625 0.390625 23 0.390625 \r\nC 13.90625 0.390625 7 6.921875 7 14.859375 \r\nC 7 22.796875 13.09375 29.4375 20 32.546875 \r\nz\r\n\" id=\"CMR17-56\"/>\r\n       </defs>\r\n       <use transform=\"scale(0.996264)\" xlink:href=\"#CMSY10-0\"/>\r\n       <use transform=\"translate(77.487468 0)scale(0.996264)\" xlink:href=\"#CMR17-49\"/>\r\n       <use transform=\"translate(123.177945 0)scale(0.996264)\" xlink:href=\"#CMMI12-58\"/>\r\n       <use transform=\"translate(150.275122 0)scale(0.996264)\" xlink:href=\"#CMR17-49\"/>\r\n       <use transform=\"translate(195.965599 0)scale(0.996264)\" xlink:href=\"#CMR17-56\"/>\r\n       <use transform=\"translate(241.656076 0)scale(0.996264)\" xlink:href=\"#CMR17-53\"/>\r\n      </g>\r\n     </g>\r\n    </g>\r\n    <g id=\"ytick_5\">\r\n     <g id=\"line2d_14\">\r\n      <g>\r\n       <use style=\"stroke:#000000;stroke-width:0.8;\" x=\"59.711066\" xlink:href=\"#m434dc77fcc\" y=\"63.780529\"/>\r\n      </g>\r\n     </g>\r\n     <g id=\"text_15\">\r\n      <!-- $\\mathdefault{−1.180}$ -->\r\n      <g transform=\"translate(22.269573 67.239779)scale(0.1 -0.1)\">\r\n       <use transform=\"scale(0.996264)\" xlink:href=\"#CMSY10-0\"/>\r\n       <use transform=\"translate(77.487468 0)scale(0.996264)\" xlink:href=\"#CMR17-49\"/>\r\n       <use transform=\"translate(123.177945 0)scale(0.996264)\" xlink:href=\"#CMMI12-58\"/>\r\n       <use transform=\"translate(150.275122 0)scale(0.996264)\" xlink:href=\"#CMR17-49\"/>\r\n       <use transform=\"translate(195.965599 0)scale(0.996264)\" xlink:href=\"#CMR17-56\"/>\r\n       <use transform=\"translate(241.656076 0)scale(0.996264)\" xlink:href=\"#CMR17-48\"/>\r\n      </g>\r\n     </g>\r\n    </g>\r\n    <g id=\"ytick_6\">\r\n     <g id=\"line2d_15\">\r\n      <g>\r\n       <use style=\"stroke:#000000;stroke-width:0.8;\" x=\"59.711066\" xlink:href=\"#m434dc77fcc\" y=\"24.336534\"/>\r\n      </g>\r\n     </g>\r\n     <g id=\"text_16\">\r\n      <!-- $\\mathdefault{−1.175}$ -->\r\n      <g transform=\"translate(22.269573 27.795784)scale(0.1 -0.1)\">\r\n       <defs>\r\n        <path d=\"M 45.09375 61.796875 \r\nL 45.09375 64 \r\nL 21.59375 64 \r\nC 9.90625 64 9.703125 65.09375 9.296875 67 \r\nL 7.5 67 \r\nL 4.59375 48.5 \r\nL 6.40625 48.5 \r\nC 6.703125 50.40625 7.40625 55.5 8.59375 57.390625 \r\nC 9.203125 58.1875 16.59375 58.1875 18.296875 58.1875 \r\nL 40.296875 58.1875 \r\nL 29.203125 41.71875 \r\nC 21.796875 30.640625 16.703125 15.671875 16.703125 2.59375 \r\nC 16.703125 1.390625 16.703125 -2 20.296875 -2 \r\nC 23.90625 -2 23.90625 1.390625 23.90625 2.6875 \r\nL 23.90625 7.28125 \r\nC 23.90625 23.65625 26.703125 34.4375 31.296875 41.3125 \r\nz\r\n\" id=\"CMR17-55\"/>\r\n       </defs>\r\n       <use transform=\"scale(0.996264)\" xlink:href=\"#CMSY10-0\"/>\r\n       <use transform=\"translate(77.487468 0)scale(0.996264)\" xlink:href=\"#CMR17-49\"/>\r\n       <use transform=\"translate(123.177945 0)scale(0.996264)\" xlink:href=\"#CMMI12-58\"/>\r\n       <use transform=\"translate(150.275122 0)scale(0.996264)\" xlink:href=\"#CMR17-49\"/>\r\n       <use transform=\"translate(195.965599 0)scale(0.996264)\" xlink:href=\"#CMR17-55\"/>\r\n       <use transform=\"translate(241.656076 0)scale(0.996264)\" xlink:href=\"#CMR17-53\"/>\r\n      </g>\r\n     </g>\r\n    </g>\r\n    <g id=\"text_17\">\r\n     <!-- $\\beta_C$ -->\r\n     <g transform=\"translate(15.848112 122.662561)rotate(-90)scale(0.125 -0.125)\">\r\n      <defs>\r\n       <path d=\"M 56.59375 58.421875 \r\nC 56.59375 64.546875 51.5 71 42.40625 71 \r\nC 29.5 71 21.296875 54.84375 18.703125 44.21875 \r\nL 2.90625 -18 \r\nC 2.703125 -18.8125 3.296875 -19 3.796875 -19 \r\nC 4.5 -19 5 -18.90625 5.09375 -18.40625 \r\nL 12.09375 9.25 \r\nC 13.09375 3.609375 18.59375 -1 24.5 -1 \r\nC 38.796875 -1 52.296875 10.265625 52.296875 25.28125 \r\nC 52.296875 29.109375 51.40625 32.9375 49.296875 36.15625 \r\nC 48.09375 38.078125 46.59375 39.484375 45 40.609375 \r\nC 52.203125 44.109375 56.59375 50.34375 56.59375 58.421875 \r\nz\r\nM 39.203125 40.703125 \r\nC 37.59375 40.171875 36 40 34.09375 40 \r\nC 32.703125 40 31.40625 39.890625 29.59375 40.4375 \r\nC 30.59375 41.046875 32.09375 41.234375 34.203125 41.234375 \r\nC 36 41.234375 37.796875 41.046875 39.203125 40.703125 \r\nz\r\nM 51.40625 59.34375 \r\nC 51.40625 53.71875 48.703125 45.546875 42.203125 41.9375 \r\nC 40.296875 42.546875 37.703125 43 35.5 43 \r\nC 33.40625 43 27.40625 43.203125 27.40625 40.34375 \r\nC 27.40625 37.671875 32.90625 37.96875 34.59375 37.96875 \r\nC 37.203125 37.96875 39.5 38.578125 41.90625 39.28125 \r\nC 45.09375 36.671875 46.5 33.234375 46.5 28.203125 \r\nC 46.5 22.359375 44.90625 17.625 43 13.28125 \r\nC 39.703125 5.828125 31.90625 1 25 1 \r\nC 17.703125 1 13.90625 6.84375 13.90625 13.6875 \r\nC 13.90625 14.59375 13.90625 15.90625 14.296875 17.421875 \r\nL 20.796875 43.5 \r\nC 24.09375 56.890625 32.5 68.953125 42.203125 68.953125 \r\nC 49.40625 68.953125 51.40625 63.84375 51.40625 59.34375 \r\nz\r\n\" id=\"CMMI12-12\"/>\r\n       <path d=\"M 74.703125 69.09375 \r\nC 74.703125 70 74 70 73.796875 70 \r\nC 73.59375 70 73.203125 70 72.40625 68.984375 \r\nL 65.5 60.640625 \r\nC 62 66.59375 56.5 70 49 70 \r\nC 27.40625 70 5 48.234375 5 24.90625 \r\nC 5 8.328125 16.703125 -2 31.296875 -2 \r\nC 39.296875 -2 46.296875 1.390625 52.09375 6.25 \r\nC 60.796875 13.5 63.40625 23.125 63.40625 23.921875 \r\nC 63.40625 24.8125 62.59375 24.8125 62.296875 24.8125 \r\nC 61.40625 24.8125 61.296875 24.21875 61.09375 23.8125 \r\nC 56.5 8.328125 43 0.890625 33 0.890625 \r\nC 22.40625 0.890625 13.203125 7.640625 13.203125 21.734375 \r\nC 13.203125 24.90625 14.203125 42.171875 25.5 55.171875 \r\nC 31 61.53125 40.40625 67.09375 49.90625 67.09375 \r\nC 60.90625 67.09375 65.796875 58.0625 65.796875 47.9375 \r\nC 65.796875 45.359375 65.5 43.171875 65.5 42.765625 \r\nC 65.5 41.875 66.5 41.875 66.796875 41.875 \r\nC 67.90625 41.875 68 41.984375 68.40625 43.765625 \r\nz\r\n\" id=\"CMMI12-67\"/>\r\n      </defs>\r\n      <use transform=\"scale(0.996264)\" xlink:href=\"#CMMI12-12\"/>\r\n      <use transform=\"translate(55.070737 -14.943915)scale(0.697382)\" xlink:href=\"#CMMI12-67\"/>\r\n     </g>\r\n    </g>\r\n   </g>\r\n   <g id=\"line2d_16\">\r\n    <path clip-path=\"url(#p96d360f9c0)\" d=\"M 74.929248 17.083636 \r\nL 82.733444 102.242759 \r\nL 90.53764 211.495476 \r\nL 98.341836 211.495476 \r\nL 106.146031 211.495476 \r\nL 113.950227 211.495476 \r\nL 121.754423 211.495476 \r\nL 129.558619 212.938781 \r\nL 137.362815 213.967368 \r\nL 145.16701 214.065325 \r\nL 152.971206 214.309024 \r\nL 160.775402 214.428986 \r\nL 168.579598 214.672565 \r\nL 176.383794 214.672565 \r\nL 184.187989 214.691474 \r\nL 191.992185 214.704399 \r\nL 199.796381 214.734467 \r\nL 207.600577 214.742997 \r\nL 215.404773 214.747383 \r\nL 223.208968 214.747754 \r\nL 231.013164 214.753334 \r\nL 238.81736 214.754031 \r\nL 246.621556 214.755272 \r\nL 254.425752 214.755272 \r\nL 262.229947 214.756027 \r\nL 270.034143 214.756027 \r\nL 277.838339 214.756139 \r\nL 285.642535 214.756185 \r\nL 293.446731 214.756295 \r\nL 301.250926 214.756308 \r\nL 309.055122 214.756335 \r\nL 316.859318 214.756335 \r\nL 324.663514 214.756356 \r\nL 332.46771 214.756356 \r\nL 340.271905 214.75636 \r\nL 348.076101 214.75636 \r\nL 355.880297 214.756363 \r\nL 363.684493 214.756363 \r\nL 371.488689 214.756364 \r\nL 379.292884 214.756364 \r\n\" style=\"fill:none;stroke:#1f77b4;stroke-linecap:square;stroke-width:1.5;\"/>\r\n   </g>\r\n   <g id=\"patch_3\">\r\n    <path d=\"M 59.711066 224.64 \r\nL 59.711066 7.2 \r\n\" style=\"fill:none;stroke:#000000;stroke-linecap:square;stroke-linejoin:miter;stroke-width:0.8;\"/>\r\n   </g>\r\n   <g id=\"patch_4\">\r\n    <path d=\"M 394.511066 224.64 \r\nL 394.511066 7.2 \r\n\" style=\"fill:none;stroke:#000000;stroke-linecap:square;stroke-linejoin:miter;stroke-width:0.8;\"/>\r\n   </g>\r\n   <g id=\"patch_5\">\r\n    <path d=\"M 59.711066 224.64 \r\nL 394.511066 224.64 \r\n\" style=\"fill:none;stroke:#000000;stroke-linecap:square;stroke-linejoin:miter;stroke-width:0.8;\"/>\r\n   </g>\r\n   <g id=\"patch_6\">\r\n    <path d=\"M 59.711066 7.2 \r\nL 394.511066 7.2 \r\n\" style=\"fill:none;stroke:#000000;stroke-linecap:square;stroke-linejoin:miter;stroke-width:0.8;\"/>\r\n   </g>\r\n  </g>\r\n </g>\r\n <defs>\r\n  <clipPath id=\"p96d360f9c0\">\r\n   <rect height=\"217.44\" width=\"334.8\" x=\"59.711066\" y=\"7.2\"/>\r\n  </clipPath>\r\n </defs>\r\n</svg>\r\n",
      "image/png": "[encoded data removed]"
     },
     "metadata": {
      "needs_background": "light"
     }
    }
   ],
   "metadata": {}
  },
  {
   "cell_type": "code",
   "execution_count": 12,
   "source": [
    "res\r\n"
   ],
   "outputs": [
    {
     "output_type": "execute_result",
     "data": {
      "text/plain": [
       "                        fun: -1.1991379999123355\n",
       " lowest_optimization_result:  final_simplex: (array([[0.96844229, 4.71235788, 0.65297411],\n",
       "       [0.96840161, 4.71242052, 0.65297436],\n",
       "       [0.96840882, 4.71234665, 0.65300155],\n",
       "       [0.96842385, 4.71243742, 0.65298617]]), array([-1.199138, -1.199138, -1.199138, -1.199138]))\n",
       "           fun: -1.1991379999123355\n",
       "       message: 'Optimization terminated successfully.'\n",
       "          nfev: 81\n",
       "           nit: 41\n",
       "        status: 0\n",
       "       success: True\n",
       "             x: array([0.96844229, 4.71235788, 0.65297411])\n",
       "                    message: ['requested number of basinhopping iterations completed successfully']\n",
       "      minimization_failures: 0\n",
       "                       nfev: 81\n",
       "                        nit: 1\n",
       "                          x: array([0.96844229, 4.71235788, 0.65297411])"
      ]
     },
     "metadata": {},
     "execution_count": 12
    }
   ],
   "metadata": {}
  }
 ],
 "metadata": {
  "orig_nbformat": 4,
  "language_info": {
   "name": "python",
   "version": "3.8.8",
   "mimetype": "text/x-python",
   "codemirror_mode": {
    "name": "ipython",
    "version": 3
   },
   "pygments_lexer": "ipython3",
   "nbconvert_exporter": "python",
   "file_extension": ".py"
  },
  "kernelspec": {
   "name": "python3",
   "display_name": "Python 3.8.8 64-bit (conda)"
  },
  "interpreter": {
   "hash": "1b723dd016906aac291855993aa72a6783f7b35f6642170f34231be1a212bf8d"
  }
 },
 "nbformat": 4,
 "nbformat_minor": 2
}