{
 "cells": [
  {
   "cell_type": "code",
   "execution_count": 1,
   "source": [
    "# Importing packages\n",
    "import numpy as np\n",
    "import numba as nb\n",
    "import matplotlib.pyplot as plt\n",
    "from scipy.optimize import basinhopping\n",
    "\n",
    "# Importing Pauli matrices\n",
    "from pauli_matrices.pauli_matrices import I, X, Y, Z\n",
    "\n",
    "# Importing figure properties\n",
    "from figures_report.figure_properties import *\n",
    "\n",
    "# Importing functions\n",
    "from Bell_operator.Bell_operator import calc_Bell_operator\n",
    "from classical_optimization.classical_bound import calc_classical_bound\n",
    "\n",
    "# Defining saving directory\n",
    "save_dir = '../data/figures/toy_model/'      # figures\n",
    "save_fdir = '../data/data_sets/toy_model/'   # Files"
   ],
   "outputs": [],
   "metadata": {}
  },
  {
   "cell_type": "code",
   "execution_count": 2,
   "source": [
    "# Defining the number of qubits\n",
    "N = 2\n",
    "\n",
    "# Defining the Hamiltonian\n",
    "H = np.sqrt(2)*(np.kron(Z, Z) + np.kron(X, X)) \n",
    "\n",
    "# Calculating the eigenvalues and eigenstates\n",
    "eig_vals, eig_vecs = np.linalg.eigh(H)\n",
    "\n",
    "# extracting the ground state energy and the respective eigenstate\n",
    "psi_G = np.zeros((2**N, 1))\n",
    "psi_G[:,0] = eig_vecs[:,0]\n",
    "rho = np.matmul(psi_G, np.transpose(psi_G))"
   ],
   "outputs": [],
   "metadata": {}
  },
  {
   "cell_type": "code",
   "execution_count": 13,
   "source": [
    "# Defining number of measurements and the angles of the N*m-1 measurements\n",
    "m = nb.typed.List(\n",
    "    [2, 2]\n",
    ")\n",
    "\n",
    "# Defining measurements\n",
    "theta = [np.pi/4]\n",
    "\n",
    "# Initializing basis and extra Z gate\n",
    "basis = 'XZ'\n",
    "extra_gate = False\n",
    "\n",
    "# Calculating the classical bound\n",
    "beta_C = calc_classical_bound(theta, H, N, m, basis, extra_gate)\n",
    "print('Classical bound: %.16f' %(beta_C))\n",
    "\n",
    "# Calculating eigenvalue of the Bell operator\n",
    "beta_Q= calc_Bell_operator(theta, H, rho, N, m, basis, extra_gate)\n",
    "print('Quantum bound: %.16f' %(beta_Q))\n"
   ],
   "outputs": [
    {
     "output_type": "stream",
     "name": "stdout",
     "text": [
      "Classical bound: -2.0000000000000004\n",
      "Quantum bound: -2.8284271247461894\n"
     ]
    }
   ],
   "metadata": {}
  },
  {
   "cell_type": "code",
   "execution_count": 20,
   "source": [
    "# Defining the number of measurements\n",
    "m = nb.typed.List(\n",
    "    [2, 2]\n",
    ")\n",
    "\n",
    "# Initializing empty list beta_C for call_back function\n",
    "beta_C = []\n",
    "stored_angles = []\n",
    "\n",
    "# Defining angles\n",
    "eps = 1e-2\n",
    "init_guess = np.random.rand(1)*(np.pi-2*eps)+eps\n",
    "\n",
    "# Defining arguments\n",
    "basis = 'XZ'\n",
    "extra_Z_gate = False\n",
    "args = (H, N, m, basis, extra_Z_gate)\n",
    "\n",
    "# Defining minimization options\n",
    "options = {\n",
    "        'maxiter'  : 2000,\n",
    "}\n",
    "\n",
    "# Defining a fitting function and a callback function\n",
    "def fitting_func(theta, H, N, m, basis, extra_Z_gate):\n",
    "\n",
    "    return -calc_classical_bound(theta, H, N, m, basis, extra_Z_gate)\n",
    "\n",
    "\n",
    "def callback_function(theta):\n",
    "\n",
    "    stored_angles.append( theta )\n",
    "    beta_C.append( calc_classical_bound(theta, H, N, m, basis, extra_Z_gate) )\n",
    "\n",
    "\n",
    "# Defining the minimizer keyword arguments\n",
    "minimizer_kwargs = {\n",
    "                'method'  : \"Nelder-Mead\",\n",
    "                'args'    : args,\n",
    "                'options' : options,\n",
    "                'callback': callback_function\n",
    "}\n",
    "\n",
    "res = basinhopping(fitting_func, init_guess,\n",
    "                minimizer_kwargs = minimizer_kwargs,\n",
    "                niter = 10,\n",
    "                # disp = True\n",
    ")\n",
    "\n",
    "np.save(save_fdir+'beta_C.npy', beta_C)\n",
    "np.save(save_fdir+'theta.npy', stored_angles)\n",
    "res"
   ],
   "outputs": [
    {
     "output_type": "execute_result",
     "data": {
      "text/plain": [
       "                        fun: 2.0000022231182717\n",
       " lowest_optimization_result:  final_simplex: (array([[0.78539705],\n",
       "       [0.78543326]]), array([2.00000222, 2.00007018]))\n",
       "           fun: 2.0000022231182717\n",
       "       message: 'Optimization terminated successfully.'\n",
       "          nfev: 22\n",
       "           nit: 11\n",
       "        status: 0\n",
       "       success: True\n",
       "             x: array([0.78539705])\n",
       "                    message: ['requested number of basinhopping iterations completed successfully']\n",
       "      minimization_failures: 0\n",
       "                       nfev: 288\n",
       "                        nit: 10\n",
       "                          x: array([0.78539705])"
      ]
     },
     "metadata": {},
     "execution_count": 20
    }
   ],
   "metadata": {}
  }
 ],
 "metadata": {
  "interpreter": {
   "hash": "916dbcbb3f70747c44a77c7bcd40155683ae19c65e1c03b4aa3499c5328201f1"
  },
  "kernelspec": {
   "name": "python3",
   "display_name": "Python 3.8.10 64-bit"
  },
  "language_info": {
   "name": "python",
   "version": "3.8.10",
   "mimetype": "text/x-python",
   "codemirror_mode": {
    "name": "ipython",
    "version": 3
   },
   "pygments_lexer": "ipython3",
   "nbconvert_exporter": "python",
   "file_extension": ".py"
  },
  "orig_nbformat": 4
 },
 "nbformat": 4,
 "nbformat_minor": 2
}