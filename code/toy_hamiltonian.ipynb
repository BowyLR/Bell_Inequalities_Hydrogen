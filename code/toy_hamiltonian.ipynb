{
 "cells": [
  {
   "cell_type": "code",
   "execution_count": 1,
   "source": [
    "# Importing packages\n",
    "import numpy as np\n",
    "from tqdm import tqdm\n",
    "import itertools\n",
    "import matplotlib.pyplot as plt\n",
    "from scipy.optimize import minimize, basinhopping\n",
    "\n",
    "# Importing Pauli matrices\n",
    "from pauli_matrices.pauli_matrices import I, X, Y, Z\n",
    "\n",
    "# Importing figure properties\n",
    "from figure_test_files.figure_properties import *\n",
    "\n",
    "# Importing functions\n",
    "from Bell_operator.Bell_operator import get_Bell_terms\n",
    "from Bell_operator.coefficients import get_coefficients\n",
    "from classical_optimization.classical_optimization import classical_optimization\n",
    "from correlation_matrix.correlation_matrix import get_correlation_matrix\n",
    "\n",
    "# Defining saving directory\n",
    "save_dir = '../data/figures/'\n"
   ],
   "outputs": [],
   "metadata": {}
  },
  {
   "cell_type": "code",
   "execution_count": 2,
   "source": [
    "def calc_classical_bound(theta, H, N, m, basis, extra_Z_gate):\n",
    "\n",
    "    # Obtaining the general correlation matrix\n",
    "    M = get_correlation_matrix(theta, N, m, basis=basis, extra_Z_gate=extra_Z_gate)\n",
    "\n",
    "    # Calcuating a list containing all the possible matrices from kronecker products of the observables in the correlation matrix\n",
    "    Bell_terms, indices = get_Bell_terms(M, N, m)\n",
    "\n",
    "    # Calculating the coefficients\n",
    "    coeffs = get_coefficients(Bell_terms, H, N)\n",
    "\n",
    "    # Calculating and returning the classical bound \n",
    "    return classical_optimization(coeffs, indices, N, m)\n"
   ],
   "outputs": [],
   "metadata": {}
  },
  {
   "cell_type": "code",
   "execution_count": 1,
   "source": [
    "# Importing packages\n",
    "import numpy as np\n",
    "from tqdm import tqdm\n",
    "import numba as nb\n",
    "import itertools\n",
    "import matplotlib.pyplot as plt\n",
    "from scipy.optimize import minimize, basinhopping\n",
    "\n",
    "# Importing Pauli matrices\n",
    "from pauli_matrices.pauli_matrices import I, X, Y, Z\n",
    "\n",
    "# Importing figure properties\n",
    "from figure_test_files.figure_properties import *\n",
    "\n",
    "# Importing functions\n",
    "from Bell_operator.Bell_operator import get_Bell_terms\n",
    "from Bell_operator.coefficients import get_coefficients\n",
    "from classical_optimization.classical_optimization import classical_optimization\n",
    "from classical_optimization.classical_bound import calc_classical_bound\n",
    "from correlation_matrix.correlation_matrix import get_correlation_matrix\n",
    "\n",
    "# Defining saving directory\n",
    "save_dir = '../data/figures/'"
   ],
   "outputs": [],
   "metadata": {}
  },
  {
   "cell_type": "code",
   "execution_count": 2,
   "source": [
    "# Defining the number of qubits\n",
    "N = 2\n",
    "\n",
    "# Defining the Hamiltonian\n",
    "H = np.sqrt(2)*(np.kron(Z, Z) + np.kron(X, X))\n",
    "\n",
    "# Calculating the eigenvalues and eigenstates\n",
    "eig_vals, eig_vecs = np.linalg.eigh(H)\n",
    "\n",
    "# extracting the ground state energy and the respective eigenstate\n",
    "psi_G = eig_vecs[:,0]\n",
    "psi_G_dagger = np.conjugate(np.transpose(psi_G))"
   ],
   "outputs": [],
   "metadata": {}
  },
  {
   "cell_type": "code",
   "execution_count": 13,
   "source": [
    "# Defining number of measurements and the angles of the N*m-1 measurements\n",
    "m = 2\n",
    "# theta = [np.pi/2, np.pi/4, 3*np.pi/4]\n",
    "theta = np.random.rand(N*m-1)\n",
    "\n",
    "# Initializing basis and extra Z gate\n",
    "basis = 'XZ'\n",
    "extra_Z_gate = False\n",
    "\n",
    "# Obtaining the general correlation matrix\n",
    "M = get_correlation_matrix(theta, N, m, basis=basis, extra_Z_gate=True)\n",
    "\n",
    "# Adding one to number of measurements to account for the extra z_gate\n",
    "if extra_Z_gate:\n",
    "    m += 1\n",
    "\n",
    "# Calcuating a list containing all the possible matrices from kronecker products of the observables in the correlation matrix\n",
    "Bell_terms, indices = get_Bell_terms(M, N, m)\n",
    "\n",
    "# Calculating the coefficients\n",
    "coeffs = get_coefficients(Bell_terms, H, N)\n",
    "\n",
    "# Obtaining all possible configurations of the correlation matrix\n",
    "possible_configurations = nb.typed.List(itertools.product([1, -1], repeat=m*N))\n",
    "\n",
    "# Calculating the classical bound\n",
    "beta_C = classical_optimization(coeffs, nb.typed.List(indices), possible_configurations, N, m)\n",
    "beta_C"
   ],
   "outputs": [
    {
     "output_type": "execute_result",
     "data": {
      "text/plain": [
       "-5620.960438386753"
      ]
     },
     "metadata": {},
     "execution_count": 13
    }
   ],
   "metadata": {}
  },
  {
   "cell_type": "code",
   "execution_count": 15,
   "source": [
    "# Initializing the Bell operator\n",
    "B = np.zeros((2**N, 2**N), dtype='complex128')\n",
    "\n",
    "# Adding terms to the Bell operator\n",
    "for j in range(len(coeffs)):\n",
    "    B += coeffs[j]*Bell_terms[j]\n",
    "\n",
    "# Calculating the difference between the Bell operator and the Hamiltonian\n",
    "# print(np.sum(np.abs(B-H), axis=(0,1)))\n",
    "\n",
    "# Calculting the quantum value\n",
    "beta_Q = np.matmul(psi_G_dagger, np.matmul(B, psi_G))\n",
    "np.real(beta_Q)"
   ],
   "outputs": [
    {
     "output_type": "execute_result",
     "data": {
      "text/plain": [
       "-2.8284271247454167"
      ]
     },
     "metadata": {},
     "execution_count": 15
    }
   ],
   "metadata": {}
  },
  {
   "cell_type": "code",
   "execution_count": 18,
   "source": [
    "# Defining the number of measurements\n",
    "m = 2\n",
    "\n",
    "# Initializing empty list beta_C for call_back function\n",
    "beta_C = []\n",
    "\n",
    "# Defining angles\n",
    "eps = 1e-2\n",
    "init_guess = np.random.rand(N*m-1)*(np.pi-2*eps)+eps\n",
    "\n",
    "# Defining arguments\n",
    "basis = 'XZ'\n",
    "extra_Z_gate = False\n",
    "args = (H, N, m, basis, extra_Z_gate)\n",
    "\n",
    "# Defining minimization options\n",
    "options = {\n",
    "        'maxiter'  : 2000,\n",
    "}\n",
    "\n",
    "# Defining a fitting function and a callback function\n",
    "def fitting_func(theta, H, N, m, basis, extra_Z_gate):\n",
    "\n",
    "    return -calc_classical_bound(theta, H, N, m, basis, extra_Z_gate)\n",
    "\n",
    "def callback_function(theta):\n",
    "\n",
    "    beta_C.append( calc_classical_bound(theta, H, N, m, basis, extra_Z_gate) )\n",
    "\n",
    "\n",
    "# Defining the minimizer keyword arguments\n",
    "minimizer_kwargs = {\n",
    "                'method'  : \"Nelder-Mead\",\n",
    "                'args'    : args,\n",
    "                'options' : options,\n",
    "                'callback': callback_function\n",
    "}\n",
    "\n",
    "res = basinhopping(fitting_func, init_guess,\n",
    "                minimizer_kwargs = minimizer_kwargs,\n",
    "                niter = 10,\n",
    "                # disp = True\n",
    ")\n",
    "\n"
   ],
   "outputs": [],
   "metadata": {}
  },
  {
   "cell_type": "code",
   "execution_count": 19,
   "source": [
    "fig, ax = plt.subplots()\n",
    "ax.plot( np.linspace(1, len(beta_C), len(beta_C)), np.array(beta_C) )\n",
    "ax.set_ylim((-5, -1.9));"
   ],
   "outputs": [
    {
     "output_type": "display_data",
     "data": {
      "text/plain": [
       "<Figure size 432x288 with 1 Axes>"
      ],
      "image/svg+xml": "<?xml version=\"1.0\" encoding=\"utf-8\" standalone=\"no\"?>\n<!DOCTYPE svg PUBLIC \"-//W3C//DTD SVG 1.1//EN\"\n  \"http://www.w3.org/Graphics/SVG/1.1/DTD/svg11.dtd\">\n<svg height=\"247.695677pt\" version=\"1.1\" viewBox=\"0 0 376.678823 247.695677\" width=\"376.678823pt\" xmlns=\"http://www.w3.org/2000/svg\" xmlns:xlink=\"http://www.w3.org/1999/xlink\">\n <metadata>\n  <rdf:RDF xmlns:cc=\"http://creativecommons.org/ns#\" xmlns:dc=\"http://purl.org/dc/elements/1.1/\" xmlns:rdf=\"http://www.w3.org/1999/02/22-rdf-syntax-ns#\">\n   <cc:Work>\n    <dc:type rdf:resource=\"http://purl.org/dc/dcmitype/StillImage\"/>\n    <dc:date>2021-08-19T16:28:06.454509</dc:date>\n    <dc:format>image/svg+xml</dc:format>\n    <dc:creator>\n     <cc:Agent>\n      <dc:title>Matplotlib v3.4.3, https://matplotlib.org/</dc:title>\n     </cc:Agent>\n    </dc:creator>\n   </cc:Work>\n  </rdf:RDF>\n </metadata>\n <defs>\n  <style type=\"text/css\">*{stroke-linecap:butt;stroke-linejoin:round;}</style>\n </defs>\n <g id=\"figure_1\">\n  <g id=\"patch_1\">\n   <path d=\"M 0 247.695677 \nL 376.678823 247.695677 \nL 376.678823 0 \nL 0 0 \nz\n\" style=\"fill:none;\"/>\n  </g>\n  <g id=\"axes_1\">\n   <g id=\"patch_2\">\n    <path d=\"M 34.678823 224.64 \nL 369.478823 224.64 \nL 369.478823 7.2 \nL 34.678823 7.2 \nz\n\" style=\"fill:#ffffff;\"/>\n   </g>\n   <g id=\"matplotlib.axis_1\">\n    <g id=\"xtick_1\">\n     <g id=\"line2d_1\">\n      <defs>\n       <path d=\"M 0 0 \nL 0 3.5 \n\" id=\"mbf4bbe5dfc\" style=\"stroke:#000000;stroke-width:0.8;\"/>\n      </defs>\n      <g>\n       <use style=\"stroke:#000000;stroke-width:0.8;\" x=\"49.573558\" xlink:href=\"#mbf4bbe5dfc\" y=\"224.64\"/>\n      </g>\n     </g>\n     <g id=\"text_1\">\n      <!-- $\\mathdefault{0}$ -->\n      <g transform=\"translate(47.08289 238.558498)scale(0.1 -0.1)\">\n       <defs>\n        <path d=\"M 2688 2025 \nC 2688 2416 2682 3080 2413 3591 \nC 2176 4039 1798 4198 1466 4198 \nC 1158 4198 768 4058 525 3597 \nC 269 3118 243 2524 243 2025 \nC 243 1661 250 1106 448 619 \nC 723 -39 1216 -128 1466 -128 \nC 1760 -128 2208 -7 2470 600 \nC 2662 1042 2688 1559 2688 2025 \nz\nM 1466 -26 \nC 1056 -26 813 325 723 812 \nC 653 1188 653 1738 653 2096 \nC 653 2588 653 2997 736 3387 \nC 858 3929 1216 4096 1466 4096 \nC 1728 4096 2067 3923 2189 3400 \nC 2272 3036 2278 2607 2278 2096 \nC 2278 1680 2278 1169 2202 792 \nC 2067 95 1690 -26 1466 -26 \nz\n\" id=\"CMR17-30\" transform=\"scale(0.015625)\"/>\n       </defs>\n       <use transform=\"scale(0.996264)\" xlink:href=\"#CMR17-30\"/>\n      </g>\n     </g>\n    </g>\n    <g id=\"xtick_2\">\n     <g id=\"line2d_2\">\n      <g>\n       <use style=\"stroke:#000000;stroke-width:0.8;\" x=\"114.262959\" xlink:href=\"#mbf4bbe5dfc\" y=\"224.64\"/>\n      </g>\n     </g>\n     <g id=\"text_2\">\n      <!-- $\\mathdefault{200}$ -->\n      <g transform=\"translate(106.790957 238.558498)scale(0.1 -0.1)\">\n       <defs>\n        <path d=\"M 2669 989 \nL 2554 989 \nC 2490 536 2438 459 2413 420 \nC 2381 369 1920 369 1830 369 \nL 602 369 \nC 832 619 1280 1072 1824 1597 \nC 2214 1967 2669 2402 2669 3035 \nC 2669 3790 2067 4224 1395 4224 \nC 691 4224 262 3604 262 3030 \nC 262 2780 448 2748 525 2748 \nC 589 2748 781 2787 781 3010 \nC 781 3207 614 3264 525 3264 \nC 486 3264 448 3258 422 3245 \nC 544 3790 915 4058 1306 4058 \nC 1862 4058 2227 3617 2227 3035 \nC 2227 2479 1901 2000 1536 1584 \nL 262 146 \nL 262 0 \nL 2515 0 \nL 2669 989 \nz\n\" id=\"CMR17-32\" transform=\"scale(0.015625)\"/>\n       </defs>\n       <use transform=\"scale(0.996264)\" xlink:href=\"#CMR17-32\"/>\n       <use transform=\"translate(45.690477 0)scale(0.996264)\" xlink:href=\"#CMR17-30\"/>\n       <use transform=\"translate(91.380954 0)scale(0.996264)\" xlink:href=\"#CMR17-30\"/>\n      </g>\n     </g>\n    </g>\n    <g id=\"xtick_3\">\n     <g id=\"line2d_3\">\n      <g>\n       <use style=\"stroke:#000000;stroke-width:0.8;\" x=\"178.952361\" xlink:href=\"#mbf4bbe5dfc\" y=\"224.64\"/>\n      </g>\n     </g>\n     <g id=\"text_3\">\n      <!-- $\\mathdefault{400}$ -->\n      <g transform=\"translate(171.480359 238.558498)scale(0.1 -0.1)\">\n       <defs>\n        <path d=\"M 2150 4122 \nC 2150 4256 2144 4256 2029 4256 \nL 128 1254 \nL 128 1088 \nL 1779 1088 \nL 1779 457 \nC 1779 224 1766 160 1318 160 \nL 1197 160 \nL 1197 0 \nC 1402 0 1747 0 1965 0 \nC 2182 0 2528 0 2733 0 \nL 2733 160 \nL 2611 160 \nC 2163 160 2150 224 2150 457 \nL 2150 1088 \nL 2803 1088 \nL 2803 1254 \nL 2150 1254 \nL 2150 4122 \nz\nM 1798 3703 \nL 1798 1254 \nL 256 1254 \nL 1798 3703 \nz\n\" id=\"CMR17-34\" transform=\"scale(0.015625)\"/>\n       </defs>\n       <use transform=\"scale(0.996264)\" xlink:href=\"#CMR17-34\"/>\n       <use transform=\"translate(45.690477 0)scale(0.996264)\" xlink:href=\"#CMR17-30\"/>\n       <use transform=\"translate(91.380954 0)scale(0.996264)\" xlink:href=\"#CMR17-30\"/>\n      </g>\n     </g>\n    </g>\n    <g id=\"xtick_4\">\n     <g id=\"line2d_4\">\n      <g>\n       <use style=\"stroke:#000000;stroke-width:0.8;\" x=\"243.641763\" xlink:href=\"#mbf4bbe5dfc\" y=\"224.64\"/>\n      </g>\n     </g>\n     <g id=\"text_4\">\n      <!-- $\\mathdefault{600}$ -->\n      <g transform=\"translate(236.169761 238.558498)scale(0.1 -0.1)\">\n       <defs>\n        <path d=\"M 678 2176 \nC 678 3690 1395 4032 1811 4032 \nC 1946 4032 2272 4009 2400 3776 \nC 2298 3776 2106 3776 2106 3553 \nC 2106 3381 2246 3323 2336 3323 \nC 2394 3323 2566 3348 2566 3560 \nC 2566 3954 2246 4179 1805 4179 \nC 1043 4179 243 3390 243 1984 \nC 243 253 966 -128 1478 -128 \nC 2099 -128 2688 427 2688 1283 \nC 2688 2081 2170 2662 1517 2662 \nC 1126 2662 838 2407 678 1960 \nL 678 2176 \nz\nM 1478 25 \nC 691 25 691 1200 691 1436 \nC 691 1896 909 2560 1504 2560 \nC 1613 2560 1926 2560 2138 2120 \nC 2253 1870 2253 1609 2253 1289 \nC 2253 944 2253 690 2118 434 \nC 1978 171 1773 25 1478 25 \nz\n\" id=\"CMR17-36\" transform=\"scale(0.015625)\"/>\n       </defs>\n       <use transform=\"scale(0.996264)\" xlink:href=\"#CMR17-36\"/>\n       <use transform=\"translate(45.690477 0)scale(0.996264)\" xlink:href=\"#CMR17-30\"/>\n       <use transform=\"translate(91.380954 0)scale(0.996264)\" xlink:href=\"#CMR17-30\"/>\n      </g>\n     </g>\n    </g>\n    <g id=\"xtick_5\">\n     <g id=\"line2d_5\">\n      <g>\n       <use style=\"stroke:#000000;stroke-width:0.8;\" x=\"308.331165\" xlink:href=\"#mbf4bbe5dfc\" y=\"224.64\"/>\n      </g>\n     </g>\n     <g id=\"text_5\">\n      <!-- $\\mathdefault{800}$ -->\n      <g transform=\"translate(300.859163 238.558498)scale(0.1 -0.1)\">\n       <defs>\n        <path d=\"M 1741 2264 \nC 2144 2467 2554 2773 2554 3263 \nC 2554 3841 1990 4179 1472 4179 \nC 890 4179 378 3759 378 3180 \nC 378 3021 416 2747 666 2505 \nC 730 2442 998 2251 1171 2130 \nC 883 1983 211 1634 211 934 \nC 211 279 838 -128 1459 -128 \nC 2144 -128 2720 362 2720 1010 \nC 2720 1590 2330 1857 2074 2029 \nL 1741 2264 \nz\nM 902 2822 \nC 851 2854 595 3051 595 3351 \nC 595 3739 998 4032 1459 4032 \nC 1965 4032 2336 3676 2336 3262 \nC 2336 2669 1670 2331 1638 2331 \nC 1632 2331 1626 2331 1574 2370 \nL 902 2822 \nz\nM 2080 1519 \nC 2176 1449 2483 1240 2483 851 \nC 2483 381 2010 25 1472 25 \nC 890 25 448 438 448 940 \nC 448 1443 838 1862 1280 2060 \nL 2080 1519 \nz\n\" id=\"CMR17-38\" transform=\"scale(0.015625)\"/>\n       </defs>\n       <use transform=\"scale(0.996264)\" xlink:href=\"#CMR17-38\"/>\n       <use transform=\"translate(45.690477 0)scale(0.996264)\" xlink:href=\"#CMR17-30\"/>\n       <use transform=\"translate(91.380954 0)scale(0.996264)\" xlink:href=\"#CMR17-30\"/>\n      </g>\n     </g>\n    </g>\n   </g>\n   <g id=\"matplotlib.axis_2\">\n    <g id=\"ytick_1\">\n     <g id=\"line2d_6\">\n      <defs>\n       <path d=\"M 0 0 \nL -3.5 0 \n\" id=\"mb7dc12f79d\" style=\"stroke:#000000;stroke-width:0.8;\"/>\n      </defs>\n      <g>\n       <use style=\"stroke:#000000;stroke-width:0.8;\" x=\"34.678823\" xlink:href=\"#mb7dc12f79d\" y=\"224.64\"/>\n      </g>\n     </g>\n     <g id=\"text_6\">\n      <!-- $\\mathdefault{−5.0}$ -->\n      <g transform=\"translate(7.2 228.099249)scale(0.1 -0.1)\">\n       <defs>\n        <path d=\"M 4218 1472 \nC 4326 1472 4442 1472 4442 1600 \nC 4442 1728 4326 1728 4218 1728 \nL 755 1728 \nC 646 1728 531 1728 531 1600 \nC 531 1472 646 1472 755 1472 \nL 4218 1472 \nz\n\" id=\"CMSY10-0\" transform=\"scale(0.015625)\"/>\n        <path d=\"M 730 3692 \nC 794 3666 1056 3584 1325 3584 \nC 1920 3584 2246 3911 2432 4100 \nC 2432 4157 2432 4192 2394 4192 \nC 2387 4192 2374 4192 2323 4163 \nC 2099 4058 1837 3973 1517 3973 \nC 1325 3973 1037 3999 723 4139 \nC 653 4171 640 4171 634 4171 \nC 602 4171 595 4164 595 4037 \nL 595 2203 \nC 595 2089 595 2057 659 2057 \nC 691 2057 704 2070 736 2114 \nC 941 2401 1222 2522 1542 2522 \nC 1766 2522 2246 2382 2246 1289 \nC 2246 1085 2246 715 2054 421 \nC 1894 159 1645 25 1370 25 \nC 947 25 518 320 403 814 \nC 429 807 480 795 506 795 \nC 589 795 749 840 749 1038 \nC 749 1210 627 1280 506 1280 \nC 358 1280 262 1190 262 1011 \nC 262 454 704 -128 1382 -128 \nC 2042 -128 2669 440 2669 1264 \nC 2669 2030 2170 2624 1549 2624 \nC 1222 2624 947 2503 730 2274 \nL 730 3692 \nz\n\" id=\"CMR17-35\" transform=\"scale(0.015625)\"/>\n        <path d=\"M 1178 307 \nC 1178 492 1024 619 870 619 \nC 685 619 557 466 557 313 \nC 557 128 710 0 864 0 \nC 1050 0 1178 153 1178 307 \nz\n\" id=\"CMMI12-3a\" transform=\"scale(0.015625)\"/>\n       </defs>\n       <use transform=\"scale(0.996264)\" xlink:href=\"#CMSY10-0\"/>\n       <use transform=\"translate(77.487468 0)scale(0.996264)\" xlink:href=\"#CMR17-35\"/>\n       <use transform=\"translate(123.177945 0)scale(0.996264)\" xlink:href=\"#CMMI12-3a\"/>\n       <use transform=\"translate(150.275122 0)scale(0.996264)\" xlink:href=\"#CMR17-30\"/>\n      </g>\n     </g>\n    </g>\n    <g id=\"ytick_2\">\n     <g id=\"line2d_7\">\n      <g>\n       <use style=\"stroke:#000000;stroke-width:0.8;\" x=\"34.678823\" xlink:href=\"#mb7dc12f79d\" y=\"189.569032\"/>\n      </g>\n     </g>\n     <g id=\"text_7\">\n      <!-- $\\mathdefault{−4.5}$ -->\n      <g transform=\"translate(7.2 193.028281)scale(0.1 -0.1)\">\n       <use transform=\"scale(0.996264)\" xlink:href=\"#CMSY10-0\"/>\n       <use transform=\"translate(77.487468 0)scale(0.996264)\" xlink:href=\"#CMR17-34\"/>\n       <use transform=\"translate(123.177945 0)scale(0.996264)\" xlink:href=\"#CMMI12-3a\"/>\n       <use transform=\"translate(150.275122 0)scale(0.996264)\" xlink:href=\"#CMR17-35\"/>\n      </g>\n     </g>\n    </g>\n    <g id=\"ytick_3\">\n     <g id=\"line2d_8\">\n      <g>\n       <use style=\"stroke:#000000;stroke-width:0.8;\" x=\"34.678823\" xlink:href=\"#mb7dc12f79d\" y=\"154.498065\"/>\n      </g>\n     </g>\n     <g id=\"text_8\">\n      <!-- $\\mathdefault{−4.0}$ -->\n      <g transform=\"translate(7.2 157.957314)scale(0.1 -0.1)\">\n       <use transform=\"scale(0.996264)\" xlink:href=\"#CMSY10-0\"/>\n       <use transform=\"translate(77.487468 0)scale(0.996264)\" xlink:href=\"#CMR17-34\"/>\n       <use transform=\"translate(123.177945 0)scale(0.996264)\" xlink:href=\"#CMMI12-3a\"/>\n       <use transform=\"translate(150.275122 0)scale(0.996264)\" xlink:href=\"#CMR17-30\"/>\n      </g>\n     </g>\n    </g>\n    <g id=\"ytick_4\">\n     <g id=\"line2d_9\">\n      <g>\n       <use style=\"stroke:#000000;stroke-width:0.8;\" x=\"34.678823\" xlink:href=\"#mb7dc12f79d\" y=\"119.427097\"/>\n      </g>\n     </g>\n     <g id=\"text_9\">\n      <!-- $\\mathdefault{−3.5}$ -->\n      <g transform=\"translate(7.2 122.886346)scale(0.1 -0.1)\">\n       <defs>\n        <path d=\"M 1414 2157 \nC 1984 2157 2234 1662 2234 1090 \nC 2234 320 1824 25 1453 25 \nC 1114 25 563 194 390 693 \nC 422 680 454 680 486 680 \nC 640 680 755 782 755 948 \nC 755 1133 614 1216 486 1216 \nC 378 1216 211 1165 211 926 \nC 211 335 787 -128 1466 -128 \nC 2176 -128 2720 430 2720 1085 \nC 2720 1707 2208 2157 1600 2227 \nC 2086 2328 2554 2756 2554 3329 \nC 2554 3820 2048 4179 1472 4179 \nC 890 4179 378 3829 378 3329 \nC 378 3110 544 3072 627 3072 \nC 762 3072 877 3155 877 3321 \nC 877 3486 762 3569 627 3569 \nC 602 3569 570 3569 544 3557 \nC 730 3959 1235 4032 1459 4032 \nC 1683 4032 2106 3925 2106 3320 \nC 2106 3143 2080 2828 1862 2550 \nC 1670 2304 1453 2304 1242 2284 \nC 1210 2284 1062 2269 1037 2269 \nC 992 2263 966 2257 966 2208 \nC 966 2163 973 2157 1101 2157 \nL 1414 2157 \nz\n\" id=\"CMR17-33\" transform=\"scale(0.015625)\"/>\n       </defs>\n       <use transform=\"scale(0.996264)\" xlink:href=\"#CMSY10-0\"/>\n       <use transform=\"translate(77.487468 0)scale(0.996264)\" xlink:href=\"#CMR17-33\"/>\n       <use transform=\"translate(123.177945 0)scale(0.996264)\" xlink:href=\"#CMMI12-3a\"/>\n       <use transform=\"translate(150.275122 0)scale(0.996264)\" xlink:href=\"#CMR17-35\"/>\n      </g>\n     </g>\n    </g>\n    <g id=\"ytick_5\">\n     <g id=\"line2d_10\">\n      <g>\n       <use style=\"stroke:#000000;stroke-width:0.8;\" x=\"34.678823\" xlink:href=\"#mb7dc12f79d\" y=\"84.356129\"/>\n      </g>\n     </g>\n     <g id=\"text_10\">\n      <!-- $\\mathdefault{−3.0}$ -->\n      <g transform=\"translate(7.2 87.815378)scale(0.1 -0.1)\">\n       <use transform=\"scale(0.996264)\" xlink:href=\"#CMSY10-0\"/>\n       <use transform=\"translate(77.487468 0)scale(0.996264)\" xlink:href=\"#CMR17-33\"/>\n       <use transform=\"translate(123.177945 0)scale(0.996264)\" xlink:href=\"#CMMI12-3a\"/>\n       <use transform=\"translate(150.275122 0)scale(0.996264)\" xlink:href=\"#CMR17-30\"/>\n      </g>\n     </g>\n    </g>\n    <g id=\"ytick_6\">\n     <g id=\"line2d_11\">\n      <g>\n       <use style=\"stroke:#000000;stroke-width:0.8;\" x=\"34.678823\" xlink:href=\"#mb7dc12f79d\" y=\"49.285161\"/>\n      </g>\n     </g>\n     <g id=\"text_11\">\n      <!-- $\\mathdefault{−2.5}$ -->\n      <g transform=\"translate(7.2 52.74441)scale(0.1 -0.1)\">\n       <use transform=\"scale(0.996264)\" xlink:href=\"#CMSY10-0\"/>\n       <use transform=\"translate(77.487468 0)scale(0.996264)\" xlink:href=\"#CMR17-32\"/>\n       <use transform=\"translate(123.177945 0)scale(0.996264)\" xlink:href=\"#CMMI12-3a\"/>\n       <use transform=\"translate(150.275122 0)scale(0.996264)\" xlink:href=\"#CMR17-35\"/>\n      </g>\n     </g>\n    </g>\n    <g id=\"ytick_7\">\n     <g id=\"line2d_12\">\n      <g>\n       <use style=\"stroke:#000000;stroke-width:0.8;\" x=\"34.678823\" xlink:href=\"#mb7dc12f79d\" y=\"14.214194\"/>\n      </g>\n     </g>\n     <g id=\"text_12\">\n      <!-- $\\mathdefault{−2.0}$ -->\n      <g transform=\"translate(7.2 17.673443)scale(0.1 -0.1)\">\n       <use transform=\"scale(0.996264)\" xlink:href=\"#CMSY10-0\"/>\n       <use transform=\"translate(77.487468 0)scale(0.996264)\" xlink:href=\"#CMR17-32\"/>\n       <use transform=\"translate(123.177945 0)scale(0.996264)\" xlink:href=\"#CMMI12-3a\"/>\n       <use transform=\"translate(150.275122 0)scale(0.996264)\" xlink:href=\"#CMR17-30\"/>\n      </g>\n     </g>\n    </g>\n   </g>\n   <g id=\"line2d_13\">\n    <path clip-path=\"url(#p62be75d18e)\" d=\"M 56.40172 248.695677 \nL 56.689392 223.775045 \nL 57.012839 160.18099 \nL 57.659733 93.594577 \nL 57.98318 77.860158 \nL 59.923862 77.860158 \nL 60.247309 77.506704 \nL 60.570756 75.177693 \nL 60.894203 75.177693 \nL 61.21765 74.95828 \nL 61.541097 74.95828 \nL 61.864544 73.916829 \nL 62.834885 73.87833 \nL 63.481779 73.619829 \nL 69.627272 73.349331 \nL 69.950719 74.702319 \nL 71.567954 74.702319 \nL 72.214848 74.376402 \nL 72.538295 72.229569 \nL 72.861742 71.24212 \nL 73.185189 71.24212 \nL 73.508636 65.069432 \nL 74.15553 65.069432 \nL 74.478977 60.475782 \nL 74.802424 60.475782 \nL 75.125871 59.694941 \nL 77.066553 59.65333 \nL 77.39 59.130922 \nL 78.683788 59.123594 \nL 79.007235 58.861256 \nL 79.330682 58.861256 \nL 79.654129 58.447718 \nL 79.977576 57.782994 \nL 80.62447 57.782994 \nL 81.271364 57.669763 \nL 82.8886 57.640612 \nL 84.182388 57.335304 \nL 84.505835 57.291903 \nL 84.829282 56.999325 \nL 85.152729 56.999325 \nL 85.799623 56.341096 \nL 86.12307 55.779753 \nL 86.446517 54.843611 \nL 87.093411 51.795939 \nL 87.740305 45.049481 \nL 88.063752 41.953073 \nL 88.387199 36.381794 \nL 88.710646 34.392412 \nL 89.680987 34.392412 \nL 90.004434 34.001554 \nL 90.327881 34.001554 \nL 90.651328 31.368507 \nL 90.974775 31.368507 \nL 91.298222 30.744804 \nL 91.945116 26.924457 \nL 92.268563 26.924457 \nL 92.59201 20.259108 \nL 94.209245 20.259108 \nL 94.532692 15.970669 \nL 98.090609 15.970669 \nL 98.414056 15.278009 \nL 102.942314 15.170199 \nL 104.559549 15.116774 \nL 107.470572 15.110601 \nL 107.794019 54.992286 \nL 108.117466 54.992286 \nL 108.440913 46.319103 \nL 108.76436 42.454667 \nL 109.411254 42.454667 \nL 109.734701 38.812655 \nL 110.705042 38.812655 \nL 111.028489 38.343648 \nL 111.675383 38.343648 \nL 112.322277 37.204213 \nL 113.292618 37.204213 \nL 113.616065 36.057306 \nL 115.233301 36.037159 \nL 115.880195 35.456261 \nL 116.850536 35.4031 \nL 117.173983 35.393099 \nL 117.49743 35.084216 \nL 118.144324 35.084216 \nL 118.467771 34.756672 \nL 119.438112 34.756672 \nL 119.761559 34.453393 \nL 120.408453 34.297516 \nL 120.7319 33.973733 \nL 121.378794 33.973733 \nL 121.702241 33.56382 \nL 122.349135 33.56382 \nL 122.996029 32.339606 \nL 123.319476 32.339606 \nL 123.642923 30.53117 \nL 123.96637 30.53117 \nL 124.289817 29.312541 \nL 124.613264 25.762421 \nL 124.936711 25.762421 \nL 125.260158 21.270466 \nL 127.524287 21.270466 \nL 127.847734 20.998779 \nL 128.171181 20.570995 \nL 129.788416 20.570995 \nL 130.43531 20.453629 \nL 136.257356 20.35895 \nL 137.227697 20.24618 \nL 138.198038 19.821199 \nL 138.844932 18.976615 \nL 139.168379 18.301675 \nL 139.815273 15.565689 \nL 141.109061 15.557737 \nL 141.432508 15.135146 \nL 147.578002 15.040313 \nL 150.165578 14.674862 \nL 154.370389 14.67075 \nL 154.693836 49.564021 \nL 155.017283 35.310929 \nL 156.634518 35.310929 \nL 156.957965 32.603786 \nL 157.281412 31.114302 \nL 158.5752 31.025745 \nL 159.222094 30.813137 \nL 159.545541 28.703234 \nL 159.868988 28.703234 \nL 160.515882 25.9168 \nL 160.839329 22.274827 \nL 161.162776 22.274827 \nL 161.486223 21.748428 \nL 161.80967 21.748428 \nL 162.133117 19.840466 \nL 163.750352 19.840466 \nL 164.073799 19.602309 \nL 166.014481 19.546835 \nL 167.955163 19.278607 \nL 172.483421 19.180808 \nL 173.777209 19.075181 \nL 174.100656 18.92234 \nL 183.48062 18.912073 \nL 183.804067 63.919671 \nL 184.450961 35.207109 \nL 185.097855 35.207109 \nL 185.421302 30.678955 \nL 186.71509 30.678955 \nL 187.038537 27.648231 \nL 188.008878 27.648231 \nL 188.332325 24.839796 \nL 188.655772 23.782877 \nL 188.979219 23.652899 \nL 189.302666 17.798911 \nL 189.626113 17.798911 \nL 189.94956 17.606955 \nL 190.919901 17.606955 \nL 191.243348 15.866352 \nL 192.213689 15.866352 \nL 192.860583 14.618424 \nL 195.124712 14.579433 \nL 195.771606 14.478881 \nL 197.065394 14.385981 \nL 197.712288 14.326532 \nL 203.534334 14.22035 \nL 203.857781 71.18045 \nL 204.181228 65.223794 \nL 205.151569 65.223794 \nL 205.475016 58.823785 \nL 206.12191 58.823785 \nL 206.445357 58.598336 \nL 206.768804 52.571458 \nL 207.739145 52.571458 \nL 208.062592 51.32429 \nL 208.386039 51.32429 \nL 208.709486 41.857434 \nL 209.35638 41.857434 \nL 209.679827 38.005317 \nL 210.003274 38.005317 \nL 210.326721 28.913368 \nL 210.650168 28.913368 \nL 210.973615 23.545105 \nL 212.590851 23.545105 \nL 212.914298 23.045124 \nL 213.561192 23.045124 \nL 213.884639 22.641518 \nL 214.208086 22.582518 \nL 214.531533 21.976755 \nL 214.85498 21.908846 \nL 215.178427 21.635869 \nL 216.795662 21.635869 \nL 217.119109 21.513075 \nL 219.059791 21.513075 \nL 219.383238 21.394065 \nL 219.706685 21.394065 \nL 220.677026 21.053836 \nL 221.647367 19.720046 \nL 222.294261 17.197679 \nL 222.617708 15.129611 \nL 224.234943 15.129611 \nL 224.881837 14.652677 \nL 226.822519 14.609136 \nL 228.116307 14.368348 \nL 231.350777 14.258931 \nL 233.614906 14.218251 \nL 235.232141 14.218251 \nL 235.555588 37.068654 \nL 236.202482 37.068654 \nL 236.525929 32.529206 \nL 236.849376 24.24144 \nL 237.172823 19.26395 \nL 239.436952 19.26395 \nL 239.760399 17.955609 \nL 240.73074 17.955609 \nL 241.054187 17.247336 \nL 242.347975 17.247336 \nL 242.671422 16.871 \nL 244.288657 16.819206 \nL 244.612105 16.0807 \nL 245.258999 16.0807 \nL 245.582446 15.749549 \nL 247.846575 15.676925 \nL 248.170022 15.535032 \nL 252.051386 15.434114 \nL 258.843773 15.171009 \nL 259.490667 14.881705 \nL 259.814114 14.612919 \nL 260.137561 14.53188 \nL 260.461008 14.300578 \nL 265.959607 14.260012 \nL 266.283054 93.467828 \nL 266.606501 93.467828 \nL 266.929948 55.120892 \nL 267.253395 40.903316 \nL 268.223736 40.903316 \nL 268.547183 36.765451 \nL 268.87063 36.225925 \nL 269.194077 36.225925 \nL 269.517524 26.523877 \nL 270.487865 26.523877 \nL 270.811312 25.019948 \nL 271.781653 25.019948 \nL 272.1051 24.577938 \nL 272.428547 24.577938 \nL 272.751994 22.20303 \nL 275.986464 22.128802 \nL 276.309911 21.76224 \nL 276.956806 21.76224 \nL 277.280253 20.972596 \nL 277.927147 20.972596 \nL 278.250594 20.454776 \nL 278.574041 20.454776 \nL 278.897488 20.089367 \nL 279.220935 20.089367 \nL 279.544382 19.598658 \nL 279.867829 19.598658 \nL 280.191276 19.166347 \nL 280.83817 16.934433 \nL 281.161617 16.655192 \nL 281.485064 15.46194 \nL 283.425746 15.46194 \nL 283.749193 14.971761 \nL 285.042981 14.884167 \nL 285.366428 14.750945 \nL 286.336769 14.67371 \nL 286.983663 14.373795 \nL 291.511921 14.277308 \nL 293.77605 14.229515 \nL 297.01052 14.222966 \nL 297.333967 60.774179 \nL 297.657414 60.774179 \nL 298.304308 41.018014 \nL 299.274649 41.018014 \nL 299.598096 35.575218 \nL 299.921543 34.770171 \nL 300.24499 27.655974 \nL 301.862225 27.655974 \nL 302.185672 24.934063 \nL 302.832566 24.934063 \nL 303.47946 17.879553 \nL 304.126354 17.879553 \nL 304.449801 17.079639 \nL 305.096695 17.079639 \nL 305.420142 16.140407 \nL 305.743589 15.756443 \nL 306.067036 15.756443 \nL 306.71393 14.968076 \nL 307.684271 14.935585 \nL 308.007718 14.719986 \nL 308.331165 14.653523 \nL 308.654612 14.429819 \nL 311.565636 14.351941 \nL 312.535977 14.296317 \nL 318.68147 14.220164 \nL 319.004917 24.267494 \nL 320.622152 24.267494 \nL 320.945599 23.255418 \nL 321.269046 23.255418 \nL 321.592493 21.96856 \nL 322.239387 21.96856 \nL 322.562834 21.720507 \nL 322.886281 21.720507 \nL 323.209728 20.318314 \nL 323.533175 19.703712 \nL 323.856622 19.703712 \nL 324.180069 19.0554 \nL 324.503516 16.679376 \nL 326.120751 16.679376 \nL 326.444198 15.497281 \nL 327.737986 15.497281 \nL 328.061433 14.72 \nL 329.678668 14.675596 \nL 330.972456 14.324335 \nL 340.999313 14.21699 \nL 341.32276 18.17748 \nL 343.910337 18.17748 \nL 344.880678 17.35274 \nL 345.204125 17.35274 \nL 345.851019 16.827652 \nL 346.174466 16.827652 \nL 346.497913 16.673644 \nL 346.82136 16.673644 \nL 347.468254 16.497481 \nL 348.438595 16.396909 \nL 352.643406 16.288118 \nL 354.260641 16.284333 \nL 354.260641 16.284333 \n\" style=\"fill:none;stroke:#1f77b4;stroke-linecap:square;stroke-width:1.5;\"/>\n   </g>\n   <g id=\"patch_3\">\n    <path d=\"M 34.678823 224.64 \nL 34.678823 7.2 \n\" style=\"fill:none;stroke:#000000;stroke-linecap:square;stroke-linejoin:miter;stroke-width:0.8;\"/>\n   </g>\n   <g id=\"patch_4\">\n    <path d=\"M 369.478823 224.64 \nL 369.478823 7.2 \n\" style=\"fill:none;stroke:#000000;stroke-linecap:square;stroke-linejoin:miter;stroke-width:0.8;\"/>\n   </g>\n   <g id=\"patch_5\">\n    <path d=\"M 34.678823 224.64 \nL 369.478823 224.64 \n\" style=\"fill:none;stroke:#000000;stroke-linecap:square;stroke-linejoin:miter;stroke-width:0.8;\"/>\n   </g>\n   <g id=\"patch_6\">\n    <path d=\"M 34.678823 7.2 \nL 369.478823 7.2 \n\" style=\"fill:none;stroke:#000000;stroke-linecap:square;stroke-linejoin:miter;stroke-width:0.8;\"/>\n   </g>\n  </g>\n </g>\n <defs>\n  <clipPath id=\"p62be75d18e\">\n   <rect height=\"217.44\" width=\"334.8\" x=\"34.678823\" y=\"7.2\"/>\n  </clipPath>\n </defs>\n</svg>\n",
      "image/png": "[encoded data removed]"
     },
     "metadata": {
      "needs_background": "light"
     }
    }
   ],
   "metadata": {}
  },
  {
   "cell_type": "code",
   "execution_count": 20,
   "source": [
    "res"
   ],
   "outputs": [
    {
     "output_type": "execute_result",
     "data": {
      "text/plain": [
       "                        fun: 2.000039864652144\n",
       " lowest_optimization_result:  final_simplex: (array([[1.57077774, 2.35617456, 0.78540447],\n",
       "       [1.57074347, 2.3561685 , 0.7853125 ],\n",
       "       [1.57080207, 2.35614033, 0.78541244],\n",
       "       [1.57078843, 2.35613924, 0.78545274]]), array([2.00003986, 2.00006562, 2.00010833, 2.00011051]))\n",
       "           fun: 2.000039864652144\n",
       "       message: 'Optimization terminated successfully.'\n",
       "          nfev: 128\n",
       "           nit: 70\n",
       "        status: 0\n",
       "       success: True\n",
       "             x: array([1.57077774, 2.35617456, 0.78540447])\n",
       "                    message: ['requested number of basinhopping iterations completed successfully']\n",
       "      minimization_failures: 0\n",
       "                       nfev: 1735\n",
       "                        nit: 10\n",
       "                          x: array([1.57077774, 2.35617456, 0.78540447])"
      ]
     },
     "metadata": {},
     "execution_count": 20
    }
   ],
   "metadata": {}
  },
  {
   "cell_type": "code",
   "execution_count": 20,
   "source": [
    "Bell_terms"
   ],
   "outputs": [
    {
     "output_type": "execute_result",
     "data": {
      "text/plain": [
       "[array([[1., 0., 0., 0.],\n",
       "        [0., 1., 0., 0.],\n",
       "        [0., 0., 1., 0.],\n",
       "        [0., 0., 0., 1.]]),\n",
       " array([[0., 1., 0., 0.],\n",
       "        [1., 0., 0., 0.],\n",
       "        [0., 0., 0., 1.],\n",
       "        [0., 0., 1., 0.]]),\n",
       " array([[ 1.000000e+00,  6.123234e-17,  0.000000e+00,  0.000000e+00],\n",
       "        [ 6.123234e-17, -1.000000e+00,  0.000000e+00, -0.000000e+00],\n",
       "        [ 0.000000e+00,  0.000000e+00,  1.000000e+00,  6.123234e-17],\n",
       "        [ 0.000000e+00, -0.000000e+00,  6.123234e-17, -1.000000e+00]]),\n",
       " array([[0., 0., 1., 0.],\n",
       "        [0., 0., 0., 1.],\n",
       "        [1., 0., 0., 0.],\n",
       "        [0., 1., 0., 0.]]),\n",
       " array([[0., 0., 0., 1.],\n",
       "        [0., 0., 1., 0.],\n",
       "        [0., 1., 0., 0.],\n",
       "        [1., 0., 0., 0.]]),\n",
       " array([[ 0.000000e+00,  0.000000e+00,  1.000000e+00,  6.123234e-17],\n",
       "        [ 0.000000e+00, -0.000000e+00,  6.123234e-17, -1.000000e+00],\n",
       "        [ 1.000000e+00,  6.123234e-17,  0.000000e+00,  0.000000e+00],\n",
       "        [ 6.123234e-17, -1.000000e+00,  0.000000e+00, -0.000000e+00]]),\n",
       " array([[ 1.000000e+00,  0.000000e+00,  6.123234e-17,  0.000000e+00],\n",
       "        [ 0.000000e+00,  1.000000e+00,  0.000000e+00,  6.123234e-17],\n",
       "        [ 6.123234e-17,  0.000000e+00, -1.000000e+00, -0.000000e+00],\n",
       "        [ 0.000000e+00,  6.123234e-17, -0.000000e+00, -1.000000e+00]]),\n",
       " array([[ 0.000000e+00,  1.000000e+00,  0.000000e+00,  6.123234e-17],\n",
       "        [ 1.000000e+00,  0.000000e+00,  6.123234e-17,  0.000000e+00],\n",
       "        [ 0.000000e+00,  6.123234e-17, -0.000000e+00, -1.000000e+00],\n",
       "        [ 6.123234e-17,  0.000000e+00, -1.000000e+00, -0.000000e+00]]),\n",
       " array([[ 1.00000000e+00,  6.12323400e-17,  6.12323400e-17,\n",
       "          3.74939946e-33],\n",
       "        [ 6.12323400e-17, -1.00000000e+00,  3.74939946e-33,\n",
       "         -6.12323400e-17],\n",
       "        [ 6.12323400e-17,  3.74939946e-33, -1.00000000e+00,\n",
       "         -6.12323400e-17],\n",
       "        [ 3.74939946e-33, -6.12323400e-17, -6.12323400e-17,\n",
       "          1.00000000e+00]])]"
      ]
     },
     "metadata": {},
     "execution_count": 20
    }
   ],
   "metadata": {}
  }
 ],
 "metadata": {
  "interpreter": {
   "hash": "916dbcbb3f70747c44a77c7bcd40155683ae19c65e1c03b4aa3499c5328201f1"
  },
  "kernelspec": {
   "name": "python3",
   "display_name": "Python 3.8.10 64-bit"
  },
  "language_info": {
   "name": "python",
   "version": "3.8.10",
   "mimetype": "text/x-python",
   "codemirror_mode": {
    "name": "ipython",
    "version": 3
   },
   "pygments_lexer": "ipython3",
   "nbconvert_exporter": "python",
   "file_extension": ".py"
  },
  "orig_nbformat": 4
 },
 "nbformat": 4,
 "nbformat_minor": 2
}